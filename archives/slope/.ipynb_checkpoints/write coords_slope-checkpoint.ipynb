{
 "cells": [
  {
   "cell_type": "markdown",
   "metadata": {},
   "source": [
    "### writes 'coords_slope'  -  coordinate file similar to 'coords'\n",
    "-  Differences:  regular grid, no wall\n",
    "\n",
    "file format:  \n",
    "-  npt, ne  (number of points, number of edges)\n",
    "-  for i in npt:  x(i), y(i), z(i)   \n",
    "-  loop over cells (j,k):  \n",
    "     write node numbers surrounding cell, counterclockwise from lower left"
   ]
  },
  {
   "cell_type": "code",
   "execution_count": 65,
   "metadata": {
    "collapsed": true,
    "scrolled": true
   },
   "outputs": [],
   "source": [
    "%matplotlib inline"
   ]
  },
  {
   "cell_type": "code",
   "execution_count": 66,
   "metadata": {
    "collapsed": true,
    "scrolled": true
   },
   "outputs": [],
   "source": [
    "import matplotlib.pylab as plt\n",
    "import numpy as np"
   ]
  },
  {
   "cell_type": "code",
   "execution_count": 67,
   "metadata": {
    "collapsed": false
   },
   "outputs": [],
   "source": [
    "ncol = 94\n",
    "nrow = 63"
   ]
  },
  {
   "cell_type": "code",
   "execution_count": 68,
   "metadata": {
    "collapsed": true
   },
   "outputs": [],
   "source": [
    "npt =(ncol+1)*(nrow+1)\n",
    "ne = nrow*ncol"
   ]
  },
  {
   "cell_type": "code",
   "execution_count": 69,
   "metadata": {
    "collapsed": false
   },
   "outputs": [],
   "source": [
    "nbcell = ncol*2+nrow*2 -4\n",
    "xdum = np.arange(10.125, 199.125, 2 )\n",
    "ydum = np.arange(9, 137, 2)\n",
    "ydum, xdum = np.meshgrid(ydum, xdum)\n",
    "\n",
    "# equivalent  \n",
    "# xdum = np.arange(10.125, 199.125, 2 )\n",
    "# xdum = xdum.repeat(nrow+1).reshape([ncol+1, nrow+1])\n",
    "# ydum = np.arange(9, 137, 2)\n",
    "# ydum = np.tile(ydum, [ncol+1]).reshape([ncol+1, nrow+1])\n",
    "\n",
    "\n",
    "zdum = np.linspace(0, .34, nrow+1)\n",
    "zdum = np.tile(zdum, [ncol+1]).reshape([ncol+1, nrow+1])\n",
    "\n",
    "x = np.zeros(npt + 1)\n",
    "y = np.zeros(npt + 1)\n",
    "z = np.zeros(npt + 1)\n",
    "x[1:] = xdum.ravel()\n",
    "y[1:] = ydum.ravel()\n",
    "z[1:] = zdum.ravel()"
   ]
  },
  {
   "cell_type": "code",
   "execution_count": 70,
   "metadata": {
    "collapsed": false
   },
   "outputs": [
    {
     "data": {
      "text/plain": [
       "0.25185185185185188"
      ]
     },
     "execution_count": 70,
     "metadata": {},
     "output_type": "execute_result"
    }
   ],
   "source": [
    "(max(z) - min(z))/(max(y) - min(y))*100"
   ]
  },
  {
   "cell_type": "code",
   "execution_count": 71,
   "metadata": {
    "collapsed": false
   },
   "outputs": [
    {
     "data": {
      "text/plain": [
       "<matplotlib.colorbar.Colorbar at 0x11366fe90>"
      ]
     },
     "execution_count": 71,
     "metadata": {},
     "output_type": "execute_result"
    },
    {
     "data": {
      "image/png": "[encoded data removed]",
      "text/plain": [
       "<matplotlib.figure.Figure at 0x112972790>"
      ]
     },
     "metadata": {},
     "output_type": "display_data"
    }
   ],
   "source": [
    "plt.pcolor(zdum.T)\n",
    "plt.colorbar()"
   ]
  },
  {
   "cell_type": "code",
   "execution_count": 72,
   "metadata": {
    "collapsed": false
   },
   "outputs": [],
   "source": [
    "nodes = np.arange(1, npt+1, dtype = int).reshape([ncol+1, nrow+1])\n",
    "# (ncol+1) by (nrow+1)  -  node numbers"
   ]
  },
  {
   "cell_type": "code",
   "execution_count": 73,
   "metadata": {
    "collapsed": true
   },
   "outputs": [],
   "source": [
    "nop = np.zeros([ncol+1, nrow+1, 4], dtype = int)\n",
    "for j in range(ncol):\n",
    "    for k in range(nrow):\n",
    "        nop[j+1, k+1] =  nodes[j,k], nodes[j+1, k], nodes[j+1,k+1], nodes[j,k+1]"
   ]
  },
  {
   "cell_type": "code",
   "execution_count": 74,
   "metadata": {
    "collapsed": true
   },
   "outputs": [],
   "source": [
    "# dry_py.f needs an input file.  this file creates it.\n",
    "f = open('coords_slope', 'w')\n",
    "f.write('{0:<13}   {1:<13}\\n'.format(npt, ne))\n",
    "\n",
    "# write x, y, z\n",
    "for n in range(1, npt+1):\n",
    "    f.write('{0:<13.6f} \\t {1:<13.6f} {2:<13.6f}\\n'.format(x[n],y[n],z[n])) \n",
    "    \n",
    "# write node numbers  \n",
    "for j in range(1, ncol+1):\n",
    "    for k in range(1, nrow+1):\n",
    "        n1 = nop[j, k, 0] \n",
    "        n2 = nop[j, k, 1]       \n",
    "        n3 = nop[j, k, 2]        \n",
    "        n4 = nop[j, k, 3] \n",
    "        f.write('{0:<10} {1:<10} {2:<10} {3:<10}\\n'.format(n1, n2, n3, n4)) \n",
    "f.close()\n"
   ]
  },
  {
   "cell_type": "code",
   "execution_count": 75,
   "metadata": {
    "collapsed": false,
    "scrolled": true
   },
   "outputs": [
    {
     "data": {
      "text/plain": [
       "<matplotlib.colorbar.Colorbar at 0x113999490>"
      ]
     },
     "execution_count": 75,
     "metadata": {},
     "output_type": "execute_result"
    },
    {
     "data": {
      "image/png": "[encoded data removed]",
      "text/plain": [
       "<matplotlib.figure.Figure at 0x11368ae90>"
      ]
     },
     "metadata": {},
     "output_type": "display_data"
    }
   ],
   "source": [
    "## get cell center values:\n",
    "xcc  = np.zeros([ncol+2, nrow+2])    \n",
    "ycc  = np.zeros([ncol+2, nrow+2])\n",
    "zcc  = np.zeros([ncol+2, nrow+2])\n",
    "\n",
    "for j in range(ncol+1):\n",
    "    for k in range( nrow+1):\n",
    "        n1 = nop[j, k, 0] \n",
    "        n2 = nop[j, k, 1]       \n",
    "        n3 = nop[j, k, 2]        \n",
    "        n4 = nop[j, k, 3]  \n",
    "        xcc[j,k] = 0.25*(x[n1] + x[n2] + x[n3] + x[n4])  \n",
    "        ycc[j,k] = 0.25*(y[n1] + y[n2] + y[n3] + y[n4])\n",
    "        zcc[j,k] = 0.25*(z[n1] + z[n2] + z[n3] + z[n4])\n",
    "\n",
    "        \n",
    "        \n",
    "plt.imshow(zcc[1:-1, 1:-1].T, cmap = \"Blues\", origin = \"lower\")\n",
    "plt.colorbar()\n"
   ]
  },
  {
   "cell_type": "markdown",
   "metadata": {},
   "source": [
    "## transform fxns would be used if we specified 2D cell center coordinates."
   ]
  },
  {
   "cell_type": "code",
   "execution_count": 139,
   "metadata": {
    "collapsed": false
   },
   "outputs": [],
   "source": [
    "def transform(x, y):\n",
    "    \"\"\"\n",
    "    To interpolate from a 2D to 1D arrays, we need a new transform function. \n",
    "    Output = j1, k1 : interpolation indices\n",
    "            w1, w2, w3, w4 = interpolation weights\n",
    "    \"\"\"\n",
    "    global j1, k1, w1, w2, w3, w4\n",
    "    file = open(\"weights_slope.out\", \"w\")\n",
    "    j1 = np.zeros(npt+1, dtype = int)\n",
    "    k1 = np.zeros(npt+1, dtype = int)\n",
    "    w1 = np.zeros(npt+1, dtype = float)\n",
    "    w2 = np.zeros(npt+1, dtype = float)\n",
    "    w3 = np.zeros(npt+1, dtype = float)\n",
    "    w4 = np.zeros(npt+1, dtype = float)\n",
    "    # bracket sampling location  \n",
    "    for i in  range(1, npt+1):\n",
    "        xdum = x[i] \n",
    "        ydum = y[i]     \n",
    "        for j in range(1, ncol+2):\n",
    "            for k in range(1,nrow+2):\n",
    "                if (xdum >= xc[j-1,k]) and (xdum < xc[j,k]):\n",
    "                    if (ydum >= yc[j,k-1]) and (ydum < yc[j,k]):\n",
    "                        j1[i] = j\n",
    "                        k1[i] = k\n",
    "                        break\n",
    "                elif (xdum >= xc[j,k]) and (xdum <= xc[j+1,k]):\n",
    "                    if (ydum >= yc[j,k-1]) and (ydum <= yc[j,k]):\n",
    "                        j1[i] = j+1\n",
    "                        k1[i] = k \n",
    "                        break                        \n",
    "        # Compute interpolation distances.      \n",
    "        d1 = np.sqrt((xdum - xc[j1[i],k1[i]])**2 +\n",
    "                     (ydum - yc[j1[i],k1[i]])**2)\n",
    "        d2 = np.sqrt((xdum - xc[j1[i]-1,k1[i]])**2 +\n",
    "                     (ydum - yc[j1[i]-1,k1[i]])**2)\n",
    "        d3 = np.sqrt((xdum - xc[j1[i]-1,k1[i]-1])**2 + \n",
    "                     (ydum - yc[j1[i]-1,k1[i]-1])**2)\n",
    "        d4 = np.sqrt((xdum - xc[j1[i],k1[i]-1])**2 + \n",
    "                     (ydum - yc[j1[i],k1[i]-1])**2)\n",
    "        # Compute weights as distance inverses.\n",
    "        if (d1 > 10) or (d2 > 10) or (d3 > 10) or (d4 > 10):\n",
    "            # make sure distances aren't too big\n",
    "            print i, xdum, ydum, d1, d2, d3, d4\n",
    "        if (d1 == 0.):\n",
    "            w1[i] = 1.\n",
    "            w2[i] = 0.\n",
    "            w3[i] = 0.\n",
    "            w4[i] = 0.\n",
    "        elif (d2 == 0.):\n",
    "            w1[i] = 0.\n",
    "            w2[i] = 1.\n",
    "            w3[i] = 0.\n",
    "            w4[i] = 0.\n",
    "        elif (d3 == 0.):\n",
    "            w1[i] = 0.\n",
    "            w2[i] = 0.\n",
    "            w3[i] = 1.\n",
    "            w4[i] = 0.  \n",
    "        elif (d4 == 0.):\n",
    "            w1[i] = 0.\n",
    "            w2[i] = 0.\n",
    "            w3[i] = 0.\n",
    "            w4[i] = 1.          \n",
    "        else:\n",
    "            w1[i] = d1**(-3.5)  \n",
    "            w2[i] = d2**(-3.5)\n",
    "            w3[i] = d3**(-3.5)\n",
    "            w4[i] = d4**(-3.5) \n",
    "        file.write('{0}, {1}, {2}, {3}, {4}, {5}, {6}\\n'.format( \n",
    "                i, j1[i], k1[i], w1[i], w2[i], w3[i], w4[i]))\n",
    "    file.close()"
   ]
  },
  {
   "cell_type": "code",
   "execution_count": 35,
   "metadata": {
    "collapsed": false
   },
   "outputs": [],
   "source": [
    "transform(x,y)"
   ]
  },
  {
   "cell_type": "code",
   "execution_count": 9,
   "metadata": {
    "code_folding": [],
    "collapsed": false
   },
   "outputs": [],
   "source": [
    "def get_weights():\n",
    "    \"\"\"\n",
    "    transform() saves to the file \"weights_square.out\"\n",
    "    \"\"\"\n",
    "    global j1, k1, w1, w2, w3, w4, weights\n",
    "    weights = [[0, 0, 0, 0, 0, 0, 0]]; \n",
    "    for line in open(\"weights_slope.out\", 'r'):\n",
    "        weights.append([x for x in line.strip().split(\", \")])\n",
    "    weights = np.asarray(weights)\n",
    "    j1 = weights[:, 1].astype(int)\n",
    "    k1 = weights[:, 2].astype(int)\n",
    "    w1 = weights[:, 3].astype(float)\n",
    "    w2 = weights[:, 4].astype(float)\n",
    "    w3 = weights[:, 5].astype(float)\n",
    "    w4 = weights[:, 6].astype(float)"
   ]
  },
  {
   "cell_type": "code",
   "execution_count": 10,
   "metadata": {
    "collapsed": false
   },
   "outputs": [],
   "source": [
    "get_weights()"
   ]
  },
  {
   "cell_type": "code",
   "execution_count": 52,
   "metadata": {
    "collapsed": false
   },
   "outputs": [],
   "source": [
    "def array2col():\n",
    "    \"\"\"\n",
    "    - transform 2D to 1D arrays using weights created in transform\n",
    "    - includes x and y to see how far off interpolation is.\n",
    "    \"\"\"\n",
    "    xn = np.zeros(npt+1)\n",
    "    yn = np.zeros(npt+1)\n",
    "    zn = np.zeros(npt+1)\n",
    "    \n",
    "    for i in  range(1, npt+1):\n",
    "        sumw = w1[i] + w2[i] + w3[i] + w4[i]  \n",
    "        xn[i] = (w1[i]*xc[j1[i],k1[i]] + w2[i]*xc[j1[i]-1,k1[i]] + \n",
    "                 w3[i]*xc[j1[i]-1,k1[i]-1] + w4[i]*xc[j1[i],k1[i]-1])/sumw\n",
    " \n",
    "        yn[i] = (w1[i]*yc[j1[i],k1[i]] + w2[i]*yc[j1[i]-1,k1[i]] + \n",
    "                 w3[i]*yc[j1[i]-1,k1[i]-1] + w4[i]*yc[j1[i],k1[i]-1])/sumw\n",
    "\n",
    "        zn[i] = (w1[i]*zc[j1[i],k1[i]] + w2[i]*zc[j1[i]-1,k1[i]] + \n",
    "                 w3[i]*zc[j1[i]-1,k1[i]-1] + w4[i]*zc[j1[i],k1[i]-1])/sumw\n",
    "        \n",
    "    return xn, yn, zn\n"
   ]
  },
  {
   "cell_type": "code",
   "execution_count": 53,
   "metadata": {
    "collapsed": false
   },
   "outputs": [],
   "source": [
    "xn, yn, z = array2col()"
   ]
  }
 ],
 "metadata": {
  "anaconda-cloud": {},
  "kernelspec": {
   "display_name": "Python [default]",
   "language": "python",
   "name": "python2"
  },
  "language_info": {
   "codemirror_mode": {
    "name": "ipython",
    "version": 2
   },
   "file_extension": ".py",
   "mimetype": "text/x-python",
   "name": "python",
   "nbconvert_exporter": "python",
   "pygments_lexer": "ipython2",
   "version": "2.7.12"
  }
 },
 "nbformat": 4,
 "nbformat_minor": 0
}
