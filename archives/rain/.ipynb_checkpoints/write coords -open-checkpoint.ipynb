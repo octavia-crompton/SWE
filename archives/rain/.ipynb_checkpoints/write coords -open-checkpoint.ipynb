{
 "cells": [
  {
   "cell_type": "markdown",
   "metadata": {},
   "source": [
    "### writes 'coords'  for open boundary case\n",
    "-  Differences:  regular grid, no wall\n",
    "\n",
    "file format:  \n",
    "-  npt, ne  (number of points, number of edges)\n",
    "-  for i in npt:  x(i), y(i), z(i)   \n",
    "-  loop over cells (j,k):  \n",
    "     write node numbers surrounding cell, counterclockwise from lower left"
   ]
  },
  {
   "cell_type": "code",
   "execution_count": 4,
   "metadata": {
    "collapsed": true,
    "scrolled": true
   },
   "outputs": [],
   "source": [
    "%matplotlib inline"
   ]
  },
  {
   "cell_type": "code",
   "execution_count": 5,
   "metadata": {
    "collapsed": true,
    "scrolled": true
   },
   "outputs": [],
   "source": [
    "import matplotlib.pylab as plt\n",
    "import numpy as np"
   ]
  },
  {
   "cell_type": "code",
   "execution_count": 6,
   "metadata": {
    "collapsed": false
   },
   "outputs": [],
   "source": [
    "ncol = 94\n",
    "nrow = 63"
   ]
  },
  {
   "cell_type": "code",
   "execution_count": 7,
   "metadata": {
    "collapsed": true
   },
   "outputs": [],
   "source": [
    "npt = (ncol+1)*(nrow+1)\n",
    "ne = nrow*ncol"
   ]
  },
  {
   "cell_type": "code",
   "execution_count": 8,
   "metadata": {
    "collapsed": false
   },
   "outputs": [],
   "source": [
    "nbcell = ncol*2+nrow*2 -4\n",
    "xdum = np.arange(10.125, 199.125, 2 )\n",
    "ydum = np.arange(9, 137, 2)\n",
    "ydum, xdum = np.meshgrid(ydum, xdum)\n",
    "\n",
    "# equivalent  \n",
    "# xdum = np.arange(10.125, 199.125, 2 )\n",
    "# xdum = xdum.repeat(nrow+1).reshape([ncol+1, nrow+1])\n",
    "# ydum = np.arange(9, 137, 2)\n",
    "# ydum = np.tile(ydum, [ncol+1]).reshape([ncol+1, nrow+1])\n",
    "\n",
    "\n",
    "zdum = np.linspace(0, 1, nrow+1)\n",
    "zdum = np.tile(zdum, [ncol+1]).reshape([ncol+1, nrow+1])\n",
    "\n",
    "x = np.zeros(npt + 1)\n",
    "y = np.zeros(npt + 1)\n",
    "z = np.zeros(npt + 1)\n",
    "x[1:] = xdum.ravel()\n",
    "y[1:] = ydum.ravel()\n",
    "z[1:] = zdum.ravel()"
   ]
  },
  {
   "cell_type": "code",
   "execution_count": 9,
   "metadata": {
    "collapsed": false
   },
   "outputs": [
    {
     "data": {
      "text/plain": [
       "0.74074074074074081"
      ]
     },
     "execution_count": 9,
     "metadata": {},
     "output_type": "execute_result"
    }
   ],
   "source": [
    "(max(z) - min(z))/(max(y) - min(y))*100"
   ]
  },
  {
   "cell_type": "code",
   "execution_count": 10,
   "metadata": {
    "collapsed": false
   },
   "outputs": [
    {
     "data": {
      "text/plain": [
       "<matplotlib.colorbar.Colorbar at 0x10faabcd0>"
      ]
     },
     "execution_count": 10,
     "metadata": {},
     "output_type": "execute_result"
    },
    {
     "data": {
      "image/png": "[encoded data removed]",
      "text/plain": [
       "<matplotlib.figure.Figure at 0x10cd60150>"
      ]
     },
     "metadata": {},
     "output_type": "display_data"
    }
   ],
   "source": [
    "plt.pcolor(zdum.T)\n",
    "plt.colorbar()"
   ]
  },
  {
   "cell_type": "code",
   "execution_count": 11,
   "metadata": {
    "collapsed": false
   },
   "outputs": [],
   "source": [
    "nodes = np.arange(1, npt+1, dtype = int).reshape([ncol+1, nrow+1])\n",
    "# (ncol+1) by (nrow+1)  -  node numbers"
   ]
  },
  {
   "cell_type": "code",
   "execution_count": 12,
   "metadata": {
    "collapsed": true
   },
   "outputs": [],
   "source": [
    "nop = np.zeros([ncol+1, nrow+1, 4], dtype = int)\n",
    "for j in range(ncol):\n",
    "    for k in range(nrow):\n",
    "        nop[j+1, k+1] =  nodes[j,k], nodes[j+1, k], nodes[j+1,k+1], nodes[j,k+1]"
   ]
  },
  {
   "cell_type": "code",
   "execution_count": 13,
   "metadata": {
    "collapsed": false
   },
   "outputs": [],
   "source": [
    "# dry_py.f needs an input file.  this file creates it.\n",
    "f = open('coords', 'w')\n",
    "f.write('{0:<13}   {1:<13}\\n'.format(npt, ne))\n",
    "\n",
    "# write x, y, z\n",
    "for n in range(1, npt+1):\n",
    "    f.write('{0:<13.6f} {1:<13.6f} {2:<13.6f}\\n'.format(x[n],y[n],z[n])) \n",
    "    \n",
    "# write node numbers  \n",
    "for j in range(1, ncol+1):\n",
    "    for k in range(1, nrow+1):\n",
    "        n1 = nop[j, k, 0] \n",
    "        n2 = nop[j, k, 1]       \n",
    "        n3 = nop[j, k, 2]        \n",
    "        n4 = nop[j, k, 3] \n",
    "        f.write('{0:<10} {1:<10}  {2:<10} {3:<10}\\n'.format(n1, n2, n3, n4)) \n",
    "f.close()\n"
   ]
  },
  {
   "cell_type": "code",
   "execution_count": 18,
   "metadata": {
    "collapsed": false,
    "scrolled": true
   },
   "outputs": [
    {
     "data": {
      "text/plain": [
       "<matplotlib.colorbar.Colorbar at 0x1106d56d0>"
      ]
     },
     "execution_count": 18,
     "metadata": {},
     "output_type": "execute_result"
    },
    {
     "data": {
      "image/png": "[encoded data removed]",
      "text/plain": [
       "<matplotlib.figure.Figure at 0x10ccfedd0>"
      ]
     },
     "metadata": {},
     "output_type": "display_data"
    }
   ],
   "source": [
    "## get cell center values:\n",
    "xcc  = np.zeros([ncol+2, nrow+2])    \n",
    "ycc  = np.zeros([ncol+2, nrow+2])\n",
    "zcc  = np.zeros([ncol+2, nrow+2])\n",
    "\n",
    "for j in range(ncol+1):\n",
    "    for k in range( nrow+1):\n",
    "        n1 = nop[j, k, 0] \n",
    "        n2 = nop[j, k, 1]       \n",
    "        n3 = nop[j, k, 2]        \n",
    "        n4 = nop[j, k, 3]  \n",
    "        xcc[j,k] = 0.25*(x[n1] + x[n2] + x[n3] + x[n4])  \n",
    "        ycc[j,k] = 0.25*(y[n1] + y[n2] + y[n3] + y[n4])\n",
    "        zcc[j,k] = 0.25*(z[n1] + z[n2] + z[n3] + z[n4])\n",
    "\n",
    "        \n",
    "        \n",
    "plt.imshow(zcc[1:-1, 1:-1].T, cmap = \"Blues\", origin = \"lower\")\n",
    "plt.colorbar()\n"
   ]
  },
  {
   "cell_type": "code",
   "execution_count": null,
   "metadata": {
    "collapsed": true
   },
   "outputs": [],
   "source": []
  }
 ],
 "metadata": {
  "anaconda-cloud": {},
  "kernelspec": {
   "display_name": "Python [default]",
   "language": "python",
   "name": "python2"
  },
  "language_info": {
   "codemirror_mode": {
    "name": "ipython",
    "version": 2
   },
   "file_extension": ".py",
   "mimetype": "text/x-python",
   "name": "python",
   "nbconvert_exporter": "python",
   "pygments_lexer": "ipython2",
   "version": "2.7.12"
  }
 },
 "nbformat": 4,
 "nbformat_minor": 0
}
