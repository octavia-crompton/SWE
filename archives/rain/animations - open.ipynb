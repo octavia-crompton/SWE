{
 "cells": [
  {
   "cell_type": "code",
   "execution_count": 1,
   "metadata": {
    "collapsed": true
   },
   "outputs": [],
   "source": [
    "%matplotlib inline"
   ]
  },
  {
   "cell_type": "code",
   "execution_count": 84,
   "metadata": {
    "code_folding": [],
    "collapsed": false
   },
   "outputs": [],
   "source": [
    "if True:\n",
    "    import matplotlib.pylab as plt\n",
    "    import numpy as np\n",
    "    import matplotlib as mpl\n",
    "    from matplotlib.pylab import plot, pcolor, imshow\n",
    "    from matplotlib import animation\n",
    "\n",
    "def _blit_draw(self, artists, bg_cache):\n",
    "    # Handles blitted drawing, which renders only the artists given instead\n",
    "    # of the entire figure.\n",
    "    updated_ax = []\n",
    "    for a in artists:\n",
    "        # If we haven't cached the background for this axes object, do\n",
    "        # so now. This might not always be reliable, but it's an attempt\n",
    "        # to automate the process.\n",
    "        if a.axes not in bg_cache:\n",
    "            # bg_cache[a.axes] = a.figure.canvas.copy_from_bbox(a.axes.bbox)\n",
    "            # change here\n",
    "            bg_cache[a.axes] = a.figure.canvas.copy_from_bbox(a.axes.figure.bbox)\n",
    "        a.axes.draw_artist(a)\n",
    "        updated_ax.append(a.axes)\n",
    "\n",
    "    # After rendering all the needed artists, blit each axes individually.\n",
    "    for ax in set(updated_ax):\n",
    "        # and here\n",
    "        # ax.figure.canvas.blit(ax.bbox)\n",
    "        ax.figure.canvas.blit(ax.figure.bbox)\n",
    "\n",
    "# MONKEY PATCH!!\n",
    "animation.Animation._blit_draw = _blit_draw\n"
   ]
  },
  {
   "cell_type": "code",
   "execution_count": 85,
   "metadata": {
    "collapsed": true
   },
   "outputs": [],
   "source": [
    "from tempfile import NamedTemporaryFile\n",
    "\n",
    "VIDEO_TAG = \"\"\"<video controls>\n",
    " <source src=\"data:video/x-m4v;base64,{0}\" type=\"video/mp4\">\n",
    " Your browser does not support the video tag.\n",
    "</video>\"\"\"\n",
    "\n",
    "def anim_to_html(anim):\n",
    "    if not hasattr(anim, '_encoded_video'):\n",
    "        with NamedTemporaryFile(suffix='.mp4') as f:\n",
    "            anim.save(f.name, fps=20, extra_args=['-vcodec', 'libx264'])\n",
    "            video = open(f.name, \"rb\").read()\n",
    "        anim._encoded_video = video.encode(\"base64\")\n",
    "    \n",
    "    return VIDEO_TAG.format(anim._encoded_video)\n",
    "\n",
    "from IPython.display import HTML\n",
    "\n",
    "def display_animation(anim):\n",
    "    plt.close(anim._fig)\n",
    "    return HTML(anim_to_html(anim))\n"
   ]
  },
  {
   "cell_type": "code",
   "execution_count": 86,
   "metadata": {
    "code_folding": [
     0
    ],
    "collapsed": true
   },
   "outputs": [],
   "source": [
    "def myfloat(b):\n",
    "    try: \n",
    "        b = float(b)\n",
    "    except ValueError:\n",
    "        b = float(b.split('-')[0])*10**(-float(b.split('-')[1]))\n",
    "    return b"
   ]
  },
  {
   "cell_type": "markdown",
   "metadata": {},
   "source": [
    "## Grid setup\n"
   ]
  },
  {
   "cell_type": "code",
   "execution_count": 87,
   "metadata": {
    "collapsed": false
   },
   "outputs": [],
   "source": [
    "dryin = []\n",
    "for line in open(\"dryin.dat\", 'r'):\n",
    "    dryin.append(line)\n",
    "    \n",
    "ncol = 94\n",
    "nrow = 63\n",
    "kbeg = [0]\n",
    "kend = [0]\n",
    "for line in range(324, 324+ncol):\n",
    "    a = dryin[line].strip().split(\" \")\n",
    "    a = [int(x) for x in\n",
    "         a if x]\n",
    "    kbeg.append(a[1])\n",
    "    kend.append(a[2])\n",
    "    \n",
    "kbeg.append(kbeg[-1])\n",
    "kend.append(kend[-1])"
   ]
  },
  {
   "cell_type": "code",
   "execution_count": 88,
   "metadata": {
    "collapsed": false
   },
   "outputs": [],
   "source": [
    "# from grid\n",
    "coords = []\n",
    "for line in open(\"coords\", 'r'):\n",
    "    item = line.rstrip()  # strip off newline and any other trailing whitespace\n",
    "    coords.append(line)\n",
    "    \n",
    "npt, ne = [int(j) for j in coords[0].split()]\n",
    "x = np.zeros(npt + 1)\n",
    "y = np.zeros(npt + 1)\n",
    "z = np.zeros(npt + 1)\n",
    "for i in range(1, npt + 1):\n",
    "    x[i], y[i], z[i] = [float(l) for l in coords[i].split()]\n",
    "\n",
    "global nop\n",
    "nop = np.zeros([ncol + 1, nrow + 1, 4], dtype=int)\n",
    "count = 0\n",
    "for j in range(1, ncol + 1):\n",
    "    for k in range(kbeg[j], kend[j] + 1):\n",
    "        nop[j, k, :] = [int(l) for l in coords[count + 1 + npt].split()]\n",
    "        count += 1\n",
    "        "
   ]
  },
  {
   "cell_type": "code",
   "execution_count": 89,
   "metadata": {
    "collapsed": true
   },
   "outputs": [],
   "source": [
    "xc = np.zeros([ncol + 2, nrow + 2])  # coordinates of cell centers\n",
    "yc = np.zeros([ncol + 2, nrow + 2])\n",
    "zc = np.zeros([ncol + 2, nrow + 2])\n",
    "\n",
    "for j   in range(1, ncol + 1):  # Compute grid metrics\n",
    "    for k in range(kbeg[j], kend[j] + 1):\n",
    "        n1 = nop[j, k, 0]\n",
    "        n2 = nop[j, k, 1]\n",
    "        n3 = nop[j, k, 2]\n",
    "        n4 = nop[j, k, 3]\n",
    "        xc[j, k] = 0.25 * (x[n1] + x[n2] + x[n3] + x[n4])\n",
    "        yc[j, k] = 0.25 * (y[n1] + y[n2] + y[n3] + y[n4])\n",
    "        zc[j, k] = 0.25 * (z[n1] + z[n2] + z[n3] + z[n4])"
   ]
  },
  {
   "cell_type": "code",
   "execution_count": 90,
   "metadata": {
    "collapsed": false
   },
   "outputs": [
    {
     "data": {
      "text/plain": [
       "0.74074074074074081"
      ]
     },
     "execution_count": 90,
     "metadata": {},
     "output_type": "execute_result"
    }
   ],
   "source": [
    "slope = (np.max(z) - np.min(z))/(np.max(y) - np.min(y))*100\n",
    "slope"
   ]
  },
  {
   "cell_type": "code",
   "execution_count": 94,
   "metadata": {
    "collapsed": false
   },
   "outputs": [
    {
     "name": "stdout",
     "output_type": "stream",
     "text": [
      "0\n"
     ]
    }
   ],
   "source": [
    "t = []\n",
    "itp = []  #  print step\n",
    "it = []   #  time step\n",
    "f =  open(\"output/time.out\", 'r')\n",
    "f.next()\n",
    "for line in f:\n",
    "        a = (line.strip().split(\" \"))\n",
    "        a = [b for b in a if b]\n",
    "        t.append(float(a[0]))\n",
    "        itp.append(int(a[1]))\n",
    "        it.append(int(a[2]))\n",
    "\n",
    "ntstep = len(itp)\n",
    "print ntstep"
   ]
  },
  {
   "cell_type": "code",
   "execution_count": 95,
   "metadata": {
    "collapsed": false
   },
   "outputs": [
    {
     "ename": "IndexError",
     "evalue": "list index out of range",
     "output_type": "error",
     "traceback": [
      "\u001b[0;31m---------------------------------------------------------------------------\u001b[0m",
      "\u001b[0;31mIndexError\u001b[0m                                Traceback (most recent call last)",
      "\u001b[0;32m<ipython-input-95-03def9318886>\u001b[0m in \u001b[0;36m<module>\u001b[0;34m()\u001b[0m\n\u001b[0;32m----> 1\u001b[0;31m \u001b[0mtmax\u001b[0m \u001b[0;34m=\u001b[0m \u001b[0mt\u001b[0m\u001b[0;34m[\u001b[0m\u001b[0;34m-\u001b[0m\u001b[0;36m1\u001b[0m\u001b[0;34m]\u001b[0m\u001b[0;34m\u001b[0m\u001b[0m\n\u001b[0m\u001b[1;32m      2\u001b[0m \u001b[0mdt\u001b[0m \u001b[0;34m=\u001b[0m \u001b[0;34m(\u001b[0m\u001b[0mt\u001b[0m\u001b[0;34m[\u001b[0m\u001b[0;34m-\u001b[0m\u001b[0;36m1\u001b[0m\u001b[0;34m]\u001b[0m \u001b[0;34m-\u001b[0m \u001b[0mt\u001b[0m\u001b[0;34m[\u001b[0m\u001b[0;34m-\u001b[0m\u001b[0;36m2\u001b[0m\u001b[0;34m]\u001b[0m\u001b[0;34m)\u001b[0m\u001b[0;34m/\u001b[0m\u001b[0;34m(\u001b[0m\u001b[0mit\u001b[0m\u001b[0;34m[\u001b[0m\u001b[0;34m-\u001b[0m\u001b[0;36m1\u001b[0m\u001b[0;34m]\u001b[0m \u001b[0;34m-\u001b[0m \u001b[0mit\u001b[0m\u001b[0;34m[\u001b[0m\u001b[0;34m-\u001b[0m\u001b[0;36m2\u001b[0m\u001b[0;34m]\u001b[0m\u001b[0;34m)\u001b[0m\u001b[0;34m\u001b[0m\u001b[0m\n\u001b[1;32m      3\u001b[0m \u001b[0mhnorm\u001b[0m \u001b[0;34m=\u001b[0m \u001b[0;36m0.4\u001b[0m\u001b[0;34m\u001b[0m\u001b[0m\n",
      "\u001b[0;31mIndexError\u001b[0m: list index out of range"
     ]
    }
   ],
   "source": [
    "tmax = t[-1]\n",
    "dt = (t[-1] - t[-2])/(it[-1] - it[-2])\n",
    "hnorm = 0.4"
   ]
  },
  {
   "cell_type": "code",
   "execution_count": 96,
   "metadata": {
    "collapsed": false
   },
   "outputs": [
    {
     "data": {
      "text/plain": [
       "0.4"
      ]
     },
     "execution_count": 96,
     "metadata": {},
     "output_type": "execute_result"
    }
   ],
   "source": [
    "hnorm"
   ]
  },
  {
   "cell_type": "code",
   "execution_count": 97,
   "metadata": {
    "collapsed": false
   },
   "outputs": [
    {
     "name": "stdout",
     "output_type": "stream",
     "text": [
      "wrong shape\n"
     ]
    }
   ],
   "source": [
    "h = []\n",
    "hdum =  np.zeros([ncol+2, nrow+2])\n",
    "\n",
    "for line in open(\"output/h.out\", 'r'):\n",
    "    a = (line.strip().split(\" \"))\n",
    "    a = [float(b) for b in a if b]\n",
    "    try:\n",
    "        j = int(a[0])\n",
    "        k = int(a[1])\n",
    "        hdum[j,k] = a[2] \n",
    "    except IndexError:\n",
    "        dumt = int(a[0])\n",
    "        h.append(hdum.copy())\n",
    "\n",
    "h = np.array(h)\n",
    "if len(h)!= ntstep:\n",
    "    print \"wrong shape\""
   ]
  },
  {
   "cell_type": "code",
   "execution_count": 98,
   "metadata": {
    "collapsed": false
   },
   "outputs": [
    {
     "data": {
      "text/plain": [
       "array([[   0.   ,    0.   ,    0.   , ...,    0.   ,    0.   ,    0.   ],\n",
       "       [   0.   ,   11.125,   11.125, ...,   11.125,   11.125,    0.   ],\n",
       "       [   0.   ,   13.125,   13.125, ...,   13.125,   13.125,    0.   ],\n",
       "       ..., \n",
       "       [   0.   ,  195.125,  195.125, ...,  195.125,  195.125,    0.   ],\n",
       "       [   0.   ,  197.125,  197.125, ...,  197.125,  197.125,    0.   ],\n",
       "       [   0.   ,    0.   ,    0.   , ...,    0.   ,    0.   ,    0.   ]])"
      ]
     },
     "execution_count": 98,
     "metadata": {},
     "output_type": "execute_result"
    }
   ],
   "source": [
    "xc"
   ]
  },
  {
   "cell_type": "code",
   "execution_count": 99,
   "metadata": {
    "code_folding": [],
    "collapsed": false
   },
   "outputs": [
    {
     "data": {
      "image/png": "[encoded data removed]",
      "text/plain": [
       "<matplotlib.figure.Figure at 0x12f1c5ed0>"
      ]
     },
     "metadata": {},
     "output_type": "display_data"
    }
   ],
   "source": [
    "if True:\n",
    "    plt.figure(figsize = (12, 4))\n",
    "    tdum = len(h)-2\n",
    "    plt.subplot(121)\n",
    "    plt.pcolor( h[tdum].T, cmap = 'Blues')\n",
    "    plt.xlim(0, 94); plt.ylim(0, 64)\n",
    "    plt.colorbar()\n",
    "    plt.subplot(122)\n",
    "    plt.pcolor( zc.T, cmap = 'Blues')\n",
    "    plt.xlim(0, 94); plt.ylim(0, 64)\n",
    "    plt.colorbar()\n"
   ]
  },
  {
   "cell_type": "code",
   "execution_count": 100,
   "metadata": {
    "code_folding": [],
    "collapsed": false,
    "scrolled": true
   },
   "outputs": [
    {
     "data": {
      "image/png": "[encoded data removed]",
      "text/plain": [
       "<matplotlib.figure.Figure at 0x13440cb90>"
      ]
     },
     "metadata": {},
     "output_type": "display_data"
    }
   ],
   "source": [
    "fig = plt.figure();\n",
    "ims = []\n",
    "\n",
    "plt.pcolor( h[-1, 1:-1, 1:-1].T, cmap = 'Blues', norm=plt.Normalize(0,  np.max(h)))\n",
    "plt.title('height', fontsize = 10 )\n",
    "for add in np.arange(len(h)):\n",
    "    ims.append((plt.pcolor( h[add, 1:-1, 1:-1].T, \n",
    "                           cmap = 'Blues', norm=plt.Normalize(0, np.max(h))), ))\n",
    "\n",
    "h_ani = animation.ArtistAnimation(fig, ims, interval=100, repeat_delay=3000,\n",
    "                                   blit=True)\n",
    "\n"
   ]
  },
  {
   "cell_type": "code",
   "execution_count": 103,
   "metadata": {
    "collapsed": false
   },
   "outputs": [],
   "source": [
    "h_ani.save('plots/h slope={0:.1f}% tmax={1:.0f}s.mp4'.format(slope,tmax))"
   ]
  },
  {
   "cell_type": "code",
   "execution_count": 104,
   "metadata": {
    "collapsed": false
   },
   "outputs": [
    {
     "data": {
      "text/html": [
       "<video controls>\n",
       " <source src=\"data:video/x-m4v;base64,AAAAIGZ0eXBpc29tAAACAGlzb21pc28yYXZjMW1wNDEAAAAIZnJlZQAAHe5tZGF0AAACrgYF//+q\n",
       "3EXpvebZSLeWLNgg2SPu73gyNjQgLSBjb3JlIDE0OCByMjY5OSBhNWUwNmI5IC0gSC4yNjQvTVBF\n",
       "Ry00IEFWQyBjb2RlYyAtIENvcHlsZWZ0IDIwMDMtMjAxNiAtIGh0dHA6Ly93d3cudmlkZW9sYW4u\n",
       "b3JnL3gyNjQuaHRtbCAtIG9wdGlvbnM6IGNhYmFjPTEgcmVmPTMgZGVibG9jaz0xOjA6MCBhbmFs\n",
       "eXNlPTB4MzoweDExMyBtZT1oZXggc3VibWU9NyBwc3k9MSBwc3lfcmQ9MS4wMDowLjAwIG1peGVk\n",
       "X3JlZj0xIG1lX3JhbmdlPTE2IGNocm9tYV9tZT0xIHRyZWxsaXM9MSA4eDhkY3Q9MSBjcW09MCBk\n",
       "ZWFkem9uZT0yMSwxMSBmYXN0X3Bza2lwPTEgY2hyb21hX3FwX29mZnNldD00IHRocmVhZHM9MTIg\n",
       "bG9va2FoZWFkX3RocmVhZHM9MiBzbGljZWRfdGhyZWFkcz0wIG5yPTAgZGVjaW1hdGU9MSBpbnRl\n",
       "cmxhY2VkPTAgYmx1cmF5X2NvbXBhdD0wIGNvbnN0cmFpbmVkX2ludHJhPTAgYmZyYW1lcz0zIGJf\n",
       "cHlyYW1pZD0yIGJfYWRhcHQ9MSBiX2JpYXM9MCBkaXJlY3Q9MSB3ZWlnaHRiPTEgb3Blbl9nb3A9\n",
       "MCB3ZWlnaHRwPTIga2V5aW50PTI1MCBrZXlpbnRfbWluPTIwIHNjZW5lY3V0PTQwIGludHJhX3Jl\n",
       "ZnJlc2g9MCByY19sb29rYWhlYWQ9NDAgcmM9Y3JmIG1idHJlZT0xIGNyZj0yMy4wIHFjb21wPTAu\n",
       "NjAgcXBtaW49MCBxcG1heD02OSBxcHN0ZXA9NCBpcF9yYXRpbz0xLjQwIGFxPTE6MS4wMACAAAAL\n",
       "gmWIhAAz//72hvgU1/aBr//8v9JhupQr+LAAAAMAANZAERgw/AKAL2GPm+lGn/FP/XhLTpkLHae0\n",
       "QJcKlBo/QQfAxfjxiqppzg7JB9Ha54ZBPNaU14m4VdXhGtEr9KU49Ffv9e3ZlAVyyBcyRag0dVU4\n",
       "5NPBgDEo0r2+JWabBS32xxIABnXvuse3ieEL/+zwKPnJ74SfToVcwqT5I+68x7efHVa+B1eD7dhJ\n",
       "zl0lLSyFta4Jti540ctTSvbm07vBuuELLnZCJcXGvER9L5EZzfGpS7G9qBDHYCD0v4M8mP8MAZI7\n",
       "j0mY9QaOWFt1QGkNwx5RuOAeaPBNfnDb090+B+B6wW/1OcP+w8ADMMH4fokYybMa4wQOOX7dHpWC\n",
       "OV2Zh8AAGPXeSJ/wOPQemldZuC86DYF0mSjxacfO53zA49EscqSsL7PbGK0Luz6l7p2Pdx5F4r3y\n",
       "koz+hH+rFE7ATjQ5wX8+zmpYE1h7l18JdMIG7cVh/P+sdEMLz6kLiT7Ft3LCeAxMVrAScsCgf8ep\n",
       "2ybOLbXtAh/WP/3C/2a/A215upI7s8lTgt9espqIZtXxArSDW+xZu9j2v4uNkscF0q2gBX37+6+D\n",
       "Uz99b2j4eZq6fyPLiqvm1eU7HaxG7wJ9GPR4sIqt0DCgwBeqwv/y7N2jGLI/KeZSw9q6HvHQEVhB\n",
       "ylvAPyf93IsqeWamy3NKJRb7U2CJJpjt9MxD4W6+wrxaBZQWyGXrDCtSkiDaHMh3PVwZNjsue7B2\n",
       "1Yr92Cfsvu+B0AvtKPsrXVWhgSnZQcz3xgEEWyzUffGpae32aBHHyEFaGk2hDfObKfe1FsbM2H6/\n",
       "5v2MiTcMG4MgACLLDve7IZHoEdftFsjUevi+BOlvC9PoaEQW+DIlwMDnrageriRgBh/p9LPIw1QJ\n",
       "Ub2caCeJ3lhZXrlaWr4JHyAoydZM8ca1JLAoCvJZrvjnlv9dIcJ8LuCla2OjmPWoukmjvo/gzkKX\n",
       "IWSTXwTpAAADABpYKZWN5vMgS6EXyVQNnqJN+b+8kMyltOtceuW50/JNZWWI0QRc64l2lUGNxokX\n",
       "bd/a8LNeNCE2uyWui7lD20j/i8HQak183D2JqyAjZbTjdXLuznP3JQOyspJAnluoZ8dvEyzVMHLN\n",
       "ZNicREYeU1cvn7b7ERadl+XU1CtNPY/uX+yzhbrs0X/jdBmifRX0vvPxaSdrCkzE7UqgBCmC1SvY\n",
       "V53m25nFLIwZYvye9XRlpDR10wZDbKYUQgTfhQ9rJgL68eDQhrx196jgzKIZemM5Qpurm/upiHpw\n",
       "0L99gjFDjq6f1/n/mvaGzb4Q4LgYzIXStDyvy1TrURFuOCDXejyZPhf3CWrrEHqAhtnWQpzrIqmF\n",
       "aAXuTSQ4QXH+w30Pc9H75T2qR08fsbJvy1g6jvsIfUyR6u5uEwiWlm9MUzJjfdL1EXqytIBD8M5n\n",
       "NyZYAtex1JFL52Gj+p46gwFt6DP8Y3tltyfeccMOYq/u9cWfjB1M73yHONKOYhG1SlOc1JnsWrkn\n",
       "GPf8hrsMs3fUMVPVQ+xptOy2uo9dRRTHrOvNx0fUKcUVclT8lb3gAB2Fmbwg/4/ffsvKXq1ptVE2\n",
       "7qlbD/PzGsMdsF/CxWV6e9LTooLdazEY1vcnOLwhEzzleha4XYe+PF3B7Yx6mHy7a3tPUHxXd4VP\n",
       "28UBgR8vmVn1IcbhzG87HKaO7/jyH4Ax0afC1rBlY5bhqNqU8jRNL/pF9jeqduauWTMUxMNw5cyI\n",
       "MC1vZmcFR4Ymxz87z49JCiD38nGiMnQZAzgDA3Ca9s0TQV7cJ8qyG22UxNvU+6FkoyXTeM4v65ej\n",
       "NM8Y8pltIFyNSHp7w4aFlzG5keu03puO2d1Nxl2L4D/uhoxRmcpzQtmiILLz2z+YHh9TFen/Ejnh\n",
       "rK4u2MJdpYlY9RB3ARaNnKRtA9MGBverpZhW+RLuWQaxzPrhuuClMA2+B5nuxL9Yvyh8GM4zQh9q\n",
       "YCH5AwAUTi5MpoT8B51h3YNWHusj7+ETHtrQoRJbQvOp/CqENcCMI9zEmG/TMFi4xjBCqXgKucRM\n",
       "X8HCw6miDM0xxQfpdk/Qx8ij6ir+TN+bt3F5Uc92hNuiFeL8v13AAHfA3ZEM7hMDXqOz1W0etxFy\n",
       "UKfFjeODHziG+PWv+9oPKpUN7wijVL1I4zwDcKkobEAOj3eyXF2g1TIqUrl50oXg91ogKwtmRMlB\n",
       "6/cLeQiCjmya4mvIVZhx4EtfZUCagC13a1f/NLONJKNSzu65zz1ucL14va+rAcPsKW6sl2V2sVF0\n",
       "xUnWFZhy23dreJgz1cIilV/lVJEfL3FG0VV6gBsvVro77c4Hg2bMYJREFMlO6+OJkKAdQlVYGKYi\n",
       "EWO0qcxr9E/vM+SZeYt31pYsXI7nybi1JI1T4rmIevWeMAXMYLpnIBSVwelBk0jvWyWoNXxG0o6j\n",
       "vIn0AAADABQUT6Tl1Lyl8LFa+XeLo9sf06V/Y7QwsaVlaOt/czJJOafMLzm2V6jtjqjAx2NPqArq\n",
       "WWUDlZb4uE3u89zdF5YUfwKljq+fcHT/UIQpqRcdGCqZWIAqbU9sehA2QSwrHpjcYwhvi+yy+JIh\n",
       "Z3axvJa4sPv56qtxcnjv+JIWy8qv2MHB3dztTuha8Dm6MxLtaPYX8a0ykf4nrW0Y6Zg0dKPGQAGA\n",
       "fAEsHwLc5lZobmKo/Z5VKzzE93wtoBLkajWx+Tt6Xg5DvcMUfNbtrtvn0rWrkE5paoq/GbGTq1c7\n",
       "5MfUd2kt9rymkoUlMwI9oGSzHZZW3KpsG9BZcmN/jWEPhNCkUsKxQ8EN6vq/LFRYPwsIREGOAvXT\n",
       "nkkfuts1aZQo7DRuwL5IFCrT9BLqizPoI9uRI1r7MsK7lrMUZKt4qS2z3DRSVHBwndYymEMg3H3Q\n",
       "FJbwClXzqGganJUjDSD1/FDbcZ+Ea+xWpZLa9shghAhvu+eagZ1/UXI1/vU3zzwXeSNk+x2oHUFp\n",
       "7xTI/Vs0UyVLdgbBeJweA57PfNYByF6TDXQ1IEfgcC9q9jcZxyaO70/h15dm3TQupo0MfbGxsi89\n",
       "MTh0CP/ZnFiqEp/hhKyHH0eqNBzXWzXfnxDda6yndk1rkECqYzlNYcj6dwUo3AeCjMloxAHgvCjG\n",
       "vG52VNhhK+wdHTlj5el5FAhGIdB/6ph+SIH76HFApmlzuAgeUtC+mE2oJOFk8/eOOzeeLt3GLLNk\n",
       "5i5aGBQSfWC4Qdz3YLxAmYbFfcpYlbbrt4jZQNDcZ5q+n4C1RvqQwfmGrwTI8q32pI6gxJ8Z233o\n",
       "43MSiFV5cvqZWtdPj6Bo+gtUEtgyp52GxlF8YEGhZPjt7YxhlQHPowQqt5FdCjiKY5PHPJ+nxN+S\n",
       "CXKxLfv7nh6k/+J0VofyHCZq+dzZkkiUdkHYzRL/eP6cvdUk5gYA/jUvtUOqEkAG8WFmkcplICXW\n",
       "NcAk21PenRtFnla/ABw3ekpLW7QzWUHODPg83NdlpS6mGgPEwuvVqlFfFc8/qN7lPE5x0PAmOZAp\n",
       "JVZA7QV+jwY0OY84JQYdTVJK8NzHdfjF6xWDD7DSfRKDtV2q52eyMERRikknSPwr4E2yxEU0oN3C\n",
       "y7lejJAHOqEe+0o7kKGm8F06T9k0kfxd6scLYPkN2FqbhYSzcZz34DORAZ3NOCrzEc03KA65o8md\n",
       "qZIwPw7FSwfGQ1Xbh48rs3eX7T4KSYoIR84hFrxWMUkHC6lb/VeGjw1YTSmKF7z0Qly7EXxpTSlk\n",
       "MBY7N8dg2YrSd5kyAvFzsvBotfaNlJY+3XQMNUvj79/DNyqMxq3hgvQeYx6c1RLbzPfpltdp3LlZ\n",
       "Z1B8LJZtbxVhajLJzRkQz0ohT74KLGZ7uSoYQ3NKOYS0A9gmH0aBRUQaXDz+dVfxaL2Gik4dOMDS\n",
       "G4Mht/ZcnkWpf4n8pNtknipyQwL5iHJY9u6OvGKW9O6DNZ3KAABlQQAAAWVBmiFsQz/+nhAAhw21\n",
       "6qACMS4YvtX0ufzv0886nCjs7QwfZZH0qgq7fMdrfeUp9S0Wh0fx3Wpyr29ZtBimAOV+j00jYb4V\n",
       "YDV/AuVyMFwxBY+AX/0QIggnkKCquLfhSfyX3Vf2ujIG8AbuH/bf++pzG7EGKbJSK372wO3Yfvbz\n",
       "mafX7fSOvbw07vRO6uE4xne5J+/OxjiMmOjivwNQRk+uriu9ulPf1BTfDoWPdE6Ghh1aaCD27cUU\n",
       "+j2hLAl/c4e89W8qK7b53TLOUZEhD1/AlY+ShKD/Wq6O9CWrfM3O7gSoHAi/GGmWScB4iUewjAYM\n",
       "VWIItUj7PXeRZbaf4NdEelF5NCZjC8vWUjLw5FfLp6SSzROj4DWDoFGRRAAG4eukhvyqEJBej3Rq\n",
       "dxH66dVu5hBzHBmnuxMlmXaFcYj8nxsnmfrIh6WXaTGzU4i9e/mqsGsgsvoP+lbfLjK9MLgHewph\n",
       "FLMAAAF6QZpCPCGTKYQr//44QAIKLuEAfKEKtnwbOpZ8qc+5ByEtB0nZOfjhsmSmlf+scIp8AXP2\n",
       "tyXa1dQv4vgx4Xhy4e4hKjQjnEl/7xO4vL9uLS6dWe0+aCkda4J+7KDWjO/7UPCyscSpNmNoDvgS\n",
       "th4JvxIIo851K/uuErDRC7N8AY0JpKbQwft3WrUnsQR+p5SpTXN2xA8ee0lWwzEDA45+IuEL2EzN\n",
       "DEUuHuhedsP6vT8weMeughzewybgbXCH0xkuZy/ulj1OOn8jt8OH/BUQs0qShEvH02H8uPp7RgeP\n",
       "XBt431HSbpLuUW9eadbZewIpymCC3BJjsJh4WB6uYcy8P2oZEaiP93i/635LeK6L5E8R6aJMMt9p\n",
       "//AQa/9ikm+v7xh0DnELSiKlxkAxdoxwTa9EKllnZ6D8ADt+pHkY1gDFyHxB0QvL04Rg94v45j/n\n",
       "21rvu9HQS4nNb0FRcWvBeEeE9c59+SQtgYtNOATQfBkJcw04J6oAAB/hAAABikGaY0nhDyZTAhX/\n",
       "/jhAAgou4QBZ/EBQmwSXeOcWu3UHIQpz/swVCiXh+vgerVrlKiiw3gilHAxsu8RpE3FvqXsWVJwR\n",
       "4hlU5lNTjs4fhEoSHCrrUOopgFpw//JnUtSV+WGVAALf8U3LYyInroC1dUAeWtbSX5Yxe2Z+6FX7\n",
       "Rmp7nupNLoP+xQSl9vu7q7us+hUowFmulv1b4R8ZGPPNSJwgUoMzo46r9Ujst1D2k+GSP/R8zOH5\n",
       "wSSrHtc1/WjBDsnQMxVx2dN8vA2s/+j+HH2351eNwkqequ0J16QOpL+bzuUjP+wbl6wNAWtXVTMo\n",
       "zgLNjIt45UoXq8n/WWoQ2erh5IQNktUohCXNKwKAiosWNclsFtYOACHvPvL62AUTGILSkkhKyqjG\n",
       "P6TqafmPEjc7mx+Oud5Ep4ck9bNsu3jrSAYSXJd6Nn7iStmMyloNCzOR7H2xQN9q1etArGK4qHxL\n",
       "n1RpJfHQKFD+DNZsh5uqE/hsaaVBiPHZnCjzSiTt2oPdEI3lMl9bgQcAAAGnQZqESeEPJlMCFf/+\n",
       "OEAB/dk5fAKkoXqRAwX1P/9TVfVIK6LOMraRROwReUDmh7LWaSy82hquV9trqb9Ih4Gno8m/wAAA\n",
       "AwAS22reIgZbsYSYd3bU8LQkdp/OfixviR/X7eN3Lzp5iLGqdxNd8ms6gAAALQKEDhD4Y8FEs6zk\n",
       "/UEd166grF75MmuKHIt0We1Hl/7dbVWZ6AAACSoaTg2jJo+oixaN5Dlvqqbhe09/TlWtp/Lr/89Y\n",
       "X2TQc8s6kFmHaz7erxRJ/kGy1ZXLH7dZxAgoIq1aBtVD10v6mDuOOZIk9F1HTOGK/6sjaMLgAAAK\n",
       "dIvKrgJZ0elCoOA5HWpdFYC240cCUGT2JBRF9ErYLOm1Vc4UanjoRlOfR3GJ53YSvbtpRFRkbZlM\n",
       "lmHh2X+3uW/25XmKzgbVymAnlUJztY/HuFf2SpS8CPg2hMP0wSmZ2/i9qwJCrHfomEme9FCygCCc\n",
       "snTbcSDbfHJJnDouw3HJ2cP2Gt5EXGp/72ohLjiM5Ou2pfauBsj3Oa76GiunhMgTH4tLN3p4TcKQ\n",
       "KwJJYsAAYKMsAB6xAAAB2kGapUnhDyZTAhX//jhAAMNzfW3rHNmhn3ySGteVc+cgBlrcE+bhIwAV\n",
       "7eRFImbrXB3WbeFCoqsdsvvcz8ADKNbYqeO0jZXXVtKmLLuaxS9nMsFRmf2Tt/enxvlSSW95bsDq\n",
       "hBuT86qLKmEH6M4Yik6NYQbBEang3fjUwn3KqUdB1+ovWf///3tqVR2+NDXxXs3+XbGhg8KJIELS\n",
       "Qkl2kh1n3rvqGwOWxVKPdKAT/iS1/sbc5V2l/G9uVt7RCLSri7DCnJXoOwsBT6nhJF7UbHtWilvt\n",
       "67TKjQnD/UaRyzTnoxvLf8OtupwYWnKKEyh3G9P7G0ZYqCxjydhOJldwGyxiVoZSrDXYwHB797/B\n",
       "Oxz1tgAPQJ4SqQeg59WG8n8XwB/9n2mWLSlf75qYs9Hl8oe1n1nxmsJGEI6sdxYDGuGnwUfDjqdE\n",
       "aQAiVUq6TZNKeeHWFeOhQJVGNjcqN20X7eacOahcQ2zOHDfzfmcOTlx6h4K1KdYImFv25eP4vsAg\n",
       "vpxUDpMUpvfl1tTta4PmRlyVE+fv2qCFCaGq9gAAIEFoUfdfN50Xiw7ttJokm/KoZEyRRrhQiaoT\n",
       "E+aMT8LT9HjxR6wceG4pZlmlFaVh0Fi3rXvdLepFTLAxYQAAAbVBmsZJ4Q8mUwIV//44QADIsbAA\n",
       "Rra+ZvmpYx7urJf5N6D9OAAAAwAExob9/yLPSF7tqmWp2E+Qxh7orlGznMM49oSH51wv6VeYM8fg\n",
       "j4B5gAAAAwLTh9siB8ebIF1sJtmsxUggyO5khBDr7R9VAwiPxnGqVRJ+9bIdj754lMEMrpJGJBhc\n",
       "WY0J62W06g8aqzRFOYu/eQAAAwN53YYkg99aUVEFUdVy8fzYGi6jUJD/UPN56AAIywQMI4MO0Pph\n",
       "5bFSsAajXAy96MZ23dI/jRRs5ihBblB876VRBG+6PPPUy9J/eUSarmkzeQMnDFzoL4A37tnj+09H\n",
       "0Y2LQHdacQBItrAAxAZ2w11IpXR7f2j6gZT3B7++1+FoxRu2xlkqcgWL7a/3dtln1Tgu8HxwjB6j\n",
       "WiyYKLrH9MkvdkBHlrzA0qJ8K+GPbirtEvECBWgdduZ6VTo6sVtst6AHOmG+PL1P6eKD108BMnGn\n",
       "41QAaotizpg42jwAAcOZ6xoRDRLNrzCTnYP/XwCJkLDkMFHlAodz8AABWCoEaEqCqBWcfruHicv6\n",
       "wP6xBpo+msAmHrMlv0FpgnsBowAAAfpBmudJ4Q8mUwIV//44QABkxgxbYN/NlJlCDppaEK2hW5HX\n",
       "El8Pa7D2ZjIha058N7ZKkA3SxPM+z0yZq3gH/86AGhruORaYsZteH9B93nzorRdspVCbiAANFOC9\n",
       "08t4O1zHj4VqieNuxFEJSZu9Z///rSsLakAAAeZVNknHg6Pu8nm3JsqaBJDw+rT439x+2b4RibGP\n",
       "pwYa1sPyPoGuRkxHG2oSZvGx9b/hxxSnMZiG0vl5FnbL7U8KCsqIbwZFio6V7WFHakQWIKldqJlC\n",
       "BisqMAu61f29hKFhzrYT6EAs+gLhe2zg9ttPJtMQ/CgYGM81NX2BNspYuWL9f/y0k+a7y7SMwse5\n",
       "jfp4RgcPfOIvJqnksGVygbQ4k3Q6LCYmckjKo3s9XXLy6/heoEGuQ+8uS2vAW08Jh6Vzk4ZEONPb\n",
       "8ccnCe5YWDrM0FHknKH8nvEvn+DohTe6bKABYnccN3CN39gc2C1KoyvVwjxGVMtmWAErG8mkfIUl\n",
       "Aof2NOdtvbaeh19XWNfGET7ct6ll1Crm8WoYaIFgSR1hKt8hf4qW/FoyzIXv2k4HyuO04s8O6rb+\n",
       "gclSHhGJFDfSCOpXyjtUiJpnsV1Rn64H9kH0J8iMycTrm1kTdyFW7PxCMFy8nH1g+ymjSHax0Cmd\n",
       "Umr5etkDU6SEnjuCVQDCgQAAAhhBmwhJ4Q8mUwIV//44QABJTff84Ajx2W7uMqGtAAADAAA0mhXo\n",
       "3PUAKjCVnLiJTjzDyvwnfpS8jW6xzQszssybhT/5pnuULSE2s0vICV/UKlaea6hnXGjtODPOqVHk\n",
       "614aMu1PTRQbmL+nv8znCDSEmMPcLqmWgXIfWhUxFETGbMZGeZllmEQlJm71n/ukIIgaXrp8jjC2\n",
       "QAAAAwBz86ejhDhkGSJDI5kX3IzjVMii3dbDBac6qYlTTm7g5SGosU9l5EqsPMv+7Iv3vvTWf+vz\n",
       "yZ+S3RpcYcOWg3Cc9UJb9lN/XFZPe1x9WtP9NOBsQSGjXEf/pHnAObvPCNwGkU0NI3i/vhnR89H1\n",
       "R/C1FPXskk9mrLHzB58x0oTgYkOlCbclL9gTmjRrkRiKTZ9GnYbStmxtZJnlkWLmosLOrBPZRp6A\n",
       "rJbCiExWAsqaNz4KRoqrFg655VCLXRtVOZZZRm/Y29jHNWxzooXSLJ39TgOREI0W5A/MY6zzeRO0\n",
       "KkPKiD/PHfIeEiJJtgELg0CdJyY5r5FXyQqUOs9LOczyoddhKLe1xjvXtGWmKvNd+tmLGx/raBNl\n",
       "GBgQjDnzZjpR9jWAb2aUL54ehw4Mfjqc5mLfjG8VUUWLT+j22fj5Wc1muiJmNGPoy9hWoLQ9h81Q\n",
       "fvM2gMlq5WCNfqPJGu/9ySDg1EwWSB+xJFPVj+5NTg64tgu7AKpVOvO63AAAAdlBmylJ4Q8mUwIV\n",
       "//44QABJTff9VBZ0C41rib41rpqlwAAAAwAAAwARD/4LGuOacgAJXkXoxMWIBh61rLr5oz08Yzdv\n",
       "JzdgtjrajaOY3L0Q/1WWYRCUmbvWf/3PcscCYIXZAAAS1ArSD3Yn5ods3BuY3u1TLdL9kiSNG8kq\n",
       "AerYLSV0wpmK2JWJd0ZgP6NaO/AAAAMCY1zCJKD6W6txJhpFnFweoeXT3gABWWnl+IUI6dYFpN50\n",
       "oSnroRPVKpnL3G4VsYo1TBHA/INATW9GRmABYH3LAgVWQMHf4AACJmRWBJuhf2Lxy9dypVHFshl6\n",
       "Vi4EvCLgCLiSOrKslTOvBfZxMqgj+cyFIcgVwKIKr2R8EVhgaXAAASUI3Wo8Asxas1vWp4TYbnZ6\n",
       "sNz2YUU8N+K4AB+0HmJu27Jd/k7prIQqaEaZjqVRrj21dUSzys4i7MKnJN6YxWm6fcyNTzwgAAAD\n",
       "AAADAAADAAADAAAI95lgvlL8kVLF0F9Pt4XL6/YtATqJQ5r4+3ePgHkLfULiBNRpWECyjZurRWev\n",
       "n5yCHyf9HWk7c3a15AV19s1VfXFl/hiMoOMyEhe3BE0YG2B+h2iSG12iyawXcHOpmgd4f92nFaOZ\n",
       "GyqEz5ZEQAAAA0Rtb292AAAAbG12aGQAAAAAAAAAAAAAAAAAAAPoAAAB9AABAAABAAAAAAAAAAAA\n",
       "AAAAAQAAAAAAAAAAAAAAAAAAAAEAAAAAAAAAAAAAAAAAAEAAAAAAAAAAAAAAAAAAAAAAAAAAAAAA\n",
       "AAAAAAAAAAACAAACbnRyYWsAAABcdGtoZAAAAAMAAAAAAAAAAAAAAAEAAAAAAAAB9AAAAAAAAAAA\n",
       "AAAAAAAAAAAAAQAAAAAAAAAAAAAAAAAAAAEAAAAAAAAAAAAAAAAAAEAAAAACWAAAAZAAAAAAACRl\n",
       "ZHRzAAAAHGVsc3QAAAAAAAAAAQAAAfQAAAQAAAEAAAAAAeZtZGlhAAAAIG1kaGQAAAAAAAAAAAAA\n",
       "AAAAACgAAAAUAFXEAAAAAAAtaGRscgAAAAAAAAAAdmlkZQAAAAAAAAAAAAAAAFZpZGVvSGFuZGxl\n",
       "cgAAAAGRbWluZgAAABR2bWhkAAAAAQAAAAAAAAAAAAAAJGRpbmYAAAAcZHJlZgAAAAAAAAABAAAA\n",
       "DHVybCAAAAABAAABUXN0YmwAAACZc3RzZAAAAAAAAAABAAAAiWF2YzEAAAAAAAAAAQAAAAAAAAAA\n",
       "AAAAAAAAAAACWAGQAEgAAABIAAAAAAAAAAEAAAAAAAAAAAAAAAAAAAAAAAAAAAAAAAAAAAAAAAAA\n",
       "AAAY//8AAAAzYXZjQwH0ABb/4QAaZ/QAFpGbKBMGfE8IAAADAAgAAAMBQHixbLABAAZo6+PESEQA\n",
       "AAAYc3R0cwAAAAAAAAABAAAACgAAAgAAAAAUc3RzcwAAAAAAAAABAAAAAQAAABhjdHRzAAAAAAAA\n",
       "AAEAAAAKAAAEAAAAABxzdHNjAAAAAAAAAAEAAAABAAAACgAAAAEAAAA8c3RzegAAAAAAAAAAAAAA\n",
       "CgAADjgAAAFpAAABfgAAAY4AAAGrAAAB3gAAAbkAAAH+AAACHAAAAd0AAAAUc3RjbwAAAAAAAAAB\n",
       "AAAAMAAAAGJ1ZHRhAAAAWm1ldGEAAAAAAAAAIWhkbHIAAAAAAAAAAG1kaXJhcHBsAAAAAAAAAAAA\n",
       "AAAALWlsc3QAAAAlqXRvbwAAAB1kYXRhAAAAAQAAAABMYXZmNTcuNDEuMTAw\n",
       "\" type=\"video/mp4\">\n",
       " Your browser does not support the video tag.\n",
       "</video>"
      ],
      "text/plain": [
       "<IPython.core.display.HTML object>"
      ]
     },
     "execution_count": 104,
     "metadata": {},
     "output_type": "execute_result"
    }
   ],
   "source": [
    "display_animation(h_ani)"
   ]
  },
  {
   "cell_type": "code",
   "execution_count": 105,
   "metadata": {
    "collapsed": false
   },
   "outputs": [],
   "source": [
    "f = []\n",
    "fdum = np.zeros([ncol+1 ]) \n",
    "\n",
    "for line in open(\"output/fluxes.out\", 'r'):\n",
    "    a = (line.strip().split(\" \"))\n",
    "    \n",
    "    try:\n",
    "        a = [str(b) for b in a if b]        \n",
    "        j = int(a[0])\n",
    "        k = int(a[1])\n",
    "        fdum[j] = a[2]   \n",
    "    except IndexError:\n",
    "        dumt = int(a[0])\n",
    "        f.append(fdum.copy())\n",
    "f = np.array(f)\n",
    "nfstep = len(f)      "
   ]
  },
  {
   "cell_type": "code",
   "execution_count": 107,
   "metadata": {
    "collapsed": false
   },
   "outputs": [
    {
     "data": {
      "text/plain": [
       "<matplotlib.text.Text at 0x12cff4390>"
      ]
     },
     "execution_count": 107,
     "metadata": {},
     "output_type": "execute_result"
    },
    {
     "data": {
      "image/png": "[encoded data removed]",
      "text/plain": [
       "<matplotlib.figure.Figure at 0x13653fc50>"
      ]
     },
     "metadata": {},
     "output_type": "display_data"
    }
   ],
   "source": [
    "plt.plot(f.sum(1))\n",
    "plt.suptitle('Input flux')\n",
    "plt.xlabel('time'); plt.ylabel('m')"
   ]
  },
  {
   "cell_type": "code",
   "execution_count": 82,
   "metadata": {
    "collapsed": false,
    "scrolled": true
   },
   "outputs": [
    {
     "data": {
      "text/html": [
       "<video controls>\n",
       " <source src=\"data:video/x-m4v;base64,AAAAIGZ0eXBpc29tAAACAGlzb21pc28yYXZjMW1wNDEAAAAIZnJlZQAAHbxtZGF0AAACrgYF//+q\n",
       "3EXpvebZSLeWLNgg2SPu73gyNjQgLSBjb3JlIDE0OCByMjY5OSBhNWUwNmI5IC0gSC4yNjQvTVBF\n",
       "Ry00IEFWQyBjb2RlYyAtIENvcHlsZWZ0IDIwMDMtMjAxNiAtIGh0dHA6Ly93d3cudmlkZW9sYW4u\n",
       "b3JnL3gyNjQuaHRtbCAtIG9wdGlvbnM6IGNhYmFjPTEgcmVmPTMgZGVibG9jaz0xOjA6MCBhbmFs\n",
       "eXNlPTB4MzoweDExMyBtZT1oZXggc3VibWU9NyBwc3k9MSBwc3lfcmQ9MS4wMDowLjAwIG1peGVk\n",
       "X3JlZj0xIG1lX3JhbmdlPTE2IGNocm9tYV9tZT0xIHRyZWxsaXM9MSA4eDhkY3Q9MSBjcW09MCBk\n",
       "ZWFkem9uZT0yMSwxMSBmYXN0X3Bza2lwPTEgY2hyb21hX3FwX29mZnNldD00IHRocmVhZHM9MTIg\n",
       "bG9va2FoZWFkX3RocmVhZHM9MiBzbGljZWRfdGhyZWFkcz0wIG5yPTAgZGVjaW1hdGU9MSBpbnRl\n",
       "cmxhY2VkPTAgYmx1cmF5X2NvbXBhdD0wIGNvbnN0cmFpbmVkX2ludHJhPTAgYmZyYW1lcz0zIGJf\n",
       "cHlyYW1pZD0yIGJfYWRhcHQ9MSBiX2JpYXM9MCBkaXJlY3Q9MSB3ZWlnaHRiPTEgb3Blbl9nb3A9\n",
       "MCB3ZWlnaHRwPTIga2V5aW50PTI1MCBrZXlpbnRfbWluPTIwIHNjZW5lY3V0PTQwIGludHJhX3Jl\n",
       "ZnJlc2g9MCByY19sb29rYWhlYWQ9NDAgcmM9Y3JmIG1idHJlZT0xIGNyZj0yMy4wIHFjb21wPTAu\n",
       "NjAgcXBtaW49MCBxcG1heD02OSBxcHN0ZXA9NCBpcF9yYXRpbz0xLjQwIGFxPTE6MS4wMACAAAAS\n",
       "7mWIhAA7//72/PwKbRZe3T//T/lcTdlCBNcwAAADAATpp81y/qwh1FnleAC170xvCTRJ1EuWtw9O\n",
       "YC8nlib1Lw9gA03M2DrurRiE+KEusk5O8Ct6jxR2v7nfo6Uxf6qTDncvc/UIQEeQf88t55W4Gbip\n",
       "e5RjqWpSJ6P7BsmO10n5wXQV6/ETmZl8PhOyHoNF8iQdqr+8ykoF1GXre2wWcXONAnU4LMAqCfjX\n",
       "dMmFel3IdGQIOFiN0YjV8KA8C88XCUKDgUKQEZyWND/b95s5c5JYBvlUG8/b9HCfASZJrn3987Q5\n",
       "WtvxddvnrN3CPj6jKkZWpbbfe1whoNexad6hSYQ6vz/cAnxLWkANk1JZBxf6k3mgTpme65tEpy2d\n",
       "06iAFGfNktfGXClN11Kg4q3tKlY/8ZhYWmSHZ1Zp7km99NSvyEC3gbQpxz8zWTK4+GHe3Et066Sk\n",
       "cu8A4vgHm13zNk2eU/dG6C0QWjsVLH8+lLEhavtbMHE2pPbsukwgGyXKOr9yAHTlKCeQdynYErQ2\n",
       "qN6PfTaUm5nWosouJciU9EzQVNvB1AeQ4nLGOWr0Br8liA452H0Mt5UU1Ths+OymUYgcQES2vJbh\n",
       "zMfYxKD8kPyB/202fRKP9L03TKQM5owcl36eAId4u2pK9CElNKMlBVtjVeawfbCXtda36x9lnOcn\n",
       "BUBTmPEcp3BFUKem2pJXNJBETbgxCRt6ZOqBlJkOIl1KjkpC9S+zhINL0+sCUkRK+J60oPRIlNMf\n",
       "dxzSVI+30n/uz/8VODhKjF4S01UqrJtA0jHZ9dTi10CQwbC+qXNQ1KnMwwnAHNT2Ag1NNSVyC9Tf\n",
       "daljkMLAOtNBIS4RVXZzwrxCJ9OvrbFDIlrGBxkKOXlAIaXAffeclu2Sjk3Z1R2gVtyhlsDAod9I\n",
       "7ki/f8x32Gr5ghrt4hIx8qfStlCReCrrvkIXlSM/Vov/iOFAnhC3jjapXKeKRmC1Qu1MAAEd0kbO\n",
       "gSNhj2xu17v/17riJfrxti+CN6P/irOZdgnImCfGSSutT/lTv79u77KOpkYm1UqxPKRCq+NzxZ8t\n",
       "lSDWPEMu2ByMpQqNXTMOPvxoRlNCUVVmzakt9lP4qzy/8lGl+YQHux+4fwvmi6hbRR2llOtujmYn\n",
       "seFAJEqJRLSTjT/IKWSdptF25v9jmEas5e5xRoFdWJxQCy7065Aqjd6qwjdffzueaYvNZYGssgtT\n",
       "S4XYe9TW7EAxMxtUZ7asYekgS5nVxrPbFATRQWKGUEVyEHxwzkqX7GePCiJsiF0HkeKiSFXgWyJR\n",
       "hPHB5n37sga3MPg7MuHshtNiY+hjhgGIHjmnm87NnY+xhhTnjP7HhbNYPn9AJPFyqS/74yy5UNXV\n",
       "hFcNGjOoEiq/3CT/GsjCBGI8yBNauq3R3jesOqRrz1d0u8+ctj/LsxfUNShdKiyusZKgiDEFE3vJ\n",
       "c14Pu8Ght0Bk4dm0eLaDXS5h/W+yKShC8bbD0sO96JSUMe0FN6y/rv6nhciljLvTtHQ5iXtrXg3h\n",
       "CbGUxRNSojZAQ9q91G+QQibqODyI/jDUNB1oiUVIejMOUJsSEXYEW2kBuaFhTr+lF9kPcV9geaK1\n",
       "EvPYwJFIShxAk/ah4YBSkBzl4A3ngFB3I183ZQ4GwefiW3DHCehUfyuhOiKoWLQrkXtjc64AY1q/\n",
       "p46x4d+uXXVxIo30gERmuEqQ/w1fxbqqK0LNAKhsm9BLk2TzTuKALpG7oEH44BPZOZb/ifEOVi+B\n",
       "D82wSALE/OOYV279jtczJiuLvHBbCtrshaZZ6R+YuBBXhYGMsj3wYpQjamwWkuLFUMaqaJ06X3a3\n",
       "J+y06HXOKK9BsM5w2QifENrHaJyDB9NCRRz823ftdDkvLzqv2lMgdG9U9AOMfjvC7ks6oqX++LuE\n",
       "ps/fXwqGI3hXswKxqdEMgpYfVLYk+c/t8/s1ps2wMguGmIi6TCEM03MARSk+bTDNFF2wGvU5PDsh\n",
       "PhtImvnC14zEF0b8nq6TxTpFhaojPUkcFjpTxXyC2wJsLes46+yKyZV46cwwPx7VozU/R7OkRG/g\n",
       "E0sj9rS6qK4x+s9DZ66itSafFXyqHg+TKHGDujQ5wCwY26IoWJfvfTWjADKhL7ng38v5GqHwGycx\n",
       "U1025UJYopayBhuvGNRwdL88/IM/diuHPc3Qn+Kf/qD/xqgO1Jgqpmj/2ZfbE6rk/RLB+qVSsLUm\n",
       "K5Oj1EaqT1l6n+Cq+Si8Vol092whakCRXhJZHFMJ/qWZvzBEgYqa66FGY9E8jEFLyWe1o1RPSltQ\n",
       "iNcTLeiyXpGanLecFKFflKzeY7DhRTbFDamqTG+6Nc4T6AbScBig2fpktOhqOwKR35gUUysHrQNZ\n",
       "g+g5nuEanayuAtprPy51q2XObfv6KUKr///+9LYuMBILMwx+CRz9scXmRnqRYKAiw6e002FSBbRW\n",
       "3rOiqVWyxNmXvteOWxeCobucV8Ql8c9sudHrTYAUo/4IqR2gwGm4MQiIYApr51Nutk9ec312YVAN\n",
       "jypWdqo9cS/j2Di/tLS425PNW+BDVuk3ZHqEzY3v/3Ny5tYTNVaNFME/tm4b2vMfd+WfUISxLaLH\n",
       "qpJ6jeqsQRFLNfjyZ4NlVYOQ5uBqCyasObmkP9Fo0XM+Tpdko6j4PSBEdDJYwQH1qtjgpX9wLHPe\n",
       "rFkt8i6ObNJO+RdJg/0JaoeOUNnBj6t+Ff/wIUhYVMG635c+ic/mIokPMmv0//XYPNqnMaRG2lJt\n",
       "t0YPL077+PSorSKcaZLypbe1i8kz/g+9mdSJJZq2ZerZtV6+4juqzE0lAOfsBVVTjpzK6WIaNUFM\n",
       "QL8+zx7B3WrpQcCsI4E2mIPM4z9hd6DAHNQa6EQtNKW/WjJiCay1GDVpuG2lAgUjH0KbWydpoBlf\n",
       "gxqnbyM02PypPCyizACTTplmOl9EUP0N0GvwFaNzWdGUBNR+9N5Jce4VpRJtKYhCJT2k3kuDRWWk\n",
       "7AOCTCt75rcevdjS6O/1EqISL8PDDDAqSF4bVlPF2o0/eVmM47SGXYtO5BWgoCXv+YaHKwYdAHfN\n",
       "f7jegRYuYhzEq5tjT5d2WIG6uHtfZ8XDrN0CHkSdClX7L/5ZtvDQkk3Qfx53X+VhSSHWZjcpj9FP\n",
       "mG7V8nuhraEZfTjAEFUBzx/EQPcaLs+v41ktSVHAAAADABnMios07Llrn9qR3310yx+9Bln8In6R\n",
       "Lxeuo2BKEjwxCgcsuGSEbnkcwe8XmitB9mCfJTVmjZZAeALXjuy+42SJqvT3ot10pMcj6y7oA2aC\n",
       "IeLi7lDEolyvmkOoPnsFBIT/R0aR/xNEscS49Qab+OQIYjYWbG5H91Iojr6/5Au/9Tol44VPvEpP\n",
       "0KusCm2MnhfMb9Ts3ay2uWByztOUpSXddlRd1BF7zwnYxGkOHnsKylrcFW0xi4MxVRcIIfKQVYl/\n",
       "ZZbYRQKIrRjhSyJIzPBIC2ykULQA4f7pprrpUtZgVIVMoP4YcyFhwEiQWZg9A0Dbe7U6CL7it+45\n",
       "gGk9VXgqOKGA2Ebl/1OvYj4dFAB6wFECuHEvwdDTlhIw401rm4KRDtqgX00y9NOONIHkKkVvpRw4\n",
       "imA5bO204exJyy/9Pai5HMB8X2Xz3AcpPykDd/CT1aFIOM2oCks4UsjC/b0HDmo6rMhrayZ0C7C9\n",
       "uDyo7kaY/Pt3eHJPq0AGpQhKXR0IDk6ewurB1F+mIQKT/UQHOzasGkUF7OwHkjBZdFLQY//QwX0K\n",
       "/pLTpC1vKGQ1alHK0pfB6g9V3Sxbicoxl0PSCL0fs8DmOom9H+b7XhI394qSlelAv8LsdANIenxZ\n",
       "FmGWKW6kaVgyL91dJ3NoftSfKnh/tAr8zn8EVFWfY58oN+HqplOG/FxJSpBH40K3RDsWEevL2Ku7\n",
       "P3Te7g3jroX2RzHpzIQVoaKvX2zCywBTSa6ldSmNNYWf+H0+vyUaBIvJamYADREwHaW1wTmJ8fRz\n",
       "yjht5WwQ6pVMYQgPWALtiDRm7tso0/Fk5/59l1RnAWPvAdvGDtXTEfz0QaSGtSW8rwRR+gGuPnvg\n",
       "YIj8z2etceLiUhCY7mqeyzS6rWKN/0aTtdYJCX2rEOo+RR+qNiDX7h9lfu0Hr5tcPVw696fOC9PC\n",
       "nSDuFhkH4Ebra72oD9GCVZPqKzLHlqGbNOzJ8C5UIDy910osD20OGbjpSWBSMjZKzTwN8fpxTk5z\n",
       "WNE7YmcdlrIMHIELiG8uFdkoS1XAeVygTr5lGvvRek5pHtYLr59OIt2KlxP0KqVEzhRVAGgcazv9\n",
       "tLoNrrj+6FSsRu/04d66vnRL7kMhIk0ruZKNkwjQiMIAyzv6gYJosA3TuWOrU2wAQZ1/nXyOr0Rw\n",
       "YCjHj7AgrtG8+HQ5MpoD2YLrM4UfBS5cQZXwMZTE7dBdJEbmwBuZIIuFeCD8/LBGOFkrh/t8c6wZ\n",
       "dqACNzBH8e0Ba5F7YV7ltSgo6+MmQBHrZ8iV2i850lSOaVQygCzdgoBixLt6ilrjR+f6LQb5o/ei\n",
       "xKfkBxitEAlOlFMe/vr8g678yQUho7gA9IhMNn3U2jS4+trD4/DxtYpuLxiFcxbW/6NJ2us57JrW\n",
       "a8ODl4V210qVpDIGYbJQazAc0r4l/9ND8B/P4SVOUHuJSE1uSS5HOwfxRmTkPpW0q2vSmat/esbw\n",
       "Vln/JWBtyirf8Jim2Y/qmfGvsP1zNUkzxjkLq/KE/urb4XeYMMJzJMO8N2zu5Vz6flDF0FTk1IJP\n",
       "NWvbUc/sbStQ1bwoM+AAXekG0Xkyru0O9IRey76cM7NbGkrGRl+g2EN7lKbOXDRM87TQeSrpxz7t\n",
       "0TcT9gfDAdGqfSAkPY6M5ijQgYG5+dU8kKCO6uwFV+YC2f0Lhn25a3obeb5hk46DXR5KsvqnK8nl\n",
       "5tJJFKHNRj/fAFmvCSVTrZBZOzVHV9gFeBswmvimF8AJhc87mSzV7virzemS4aiCLVPBhWSHYidy\n",
       "nZ7LxBhF29qnalgxIprV/96UvlAe4XmMWy4rXxpZTs5ooe+j9faqsY7QnJ8TP6i5CIKRuQLBaTua\n",
       "PNRz0nLwsaal1UipEzLXJfCP+HNF1rTjvoquvYnI6otjXcMymyMo77AAAAMBkCUmtiuOykI+axJ6\n",
       "5UFfuy/cRmzi3AqsC5NN701ooTORmp/7v0PmIwfkYylhqgfGNOcKClQheUVdvaSnbNQUvKspw+69\n",
       "kkFy8dQLmdpiv5pe46Q2GxqT1+WNOfakK2nQrVDjwT4ldq8uGo8ZDXK2hc/klg1ZV7s9qhVLak2C\n",
       "qQsnoea7xNsODrqNSlT7xRLtTBpJiYLfAxx8TqFqczmWROaVTo8SdBabPEKqsgGxLrjX7WGJM/4p\n",
       "B9HBjo9vmP72tXsT4Z7SPzM16c3gUor/rzitv5DFSQht4rMjf5zZF67NCRCjh68NMWPhyJA+HaxZ\n",
       "Y60djUCEaJ6YBL7dOXDzpw5uRC/al9ddrim2cVDQ79lvpy4SP9QQABnqkh9h9KGs8z/n+kKo7MqP\n",
       "gGSvZGQIwuaWfec8bLGE6ir6wTHq0BW2ihOKNqp6OuTjF+N0NI3eJyGpm14nYzB8zMdyHkdp+koQ\n",
       "ybVJatpd8QXQY1T/SXy15vB3GcipXsk8XBx5Z/vSBJmDzmwIKXxeKza9mJ3besHi9ffhK7fz4fXc\n",
       "8rnRiSEW4I9xTJeHx4d8ezbr7plLUWtv1tNTUTtKQdFPlzwhJl4qRuLBFZatcUM9jaRwKxS3Db3V\n",
       "xwTCtC4peWiNSeShanO/2PPp5TQobEenz+KEP+tl4jybqB9//Ovlx+a/+Gdaml8J2WC7q0AUD4Nu\n",
       "09M/uJkmCj61PhN6qjZZe8ILMu2Uztj0WI0DA/8KE0POFIMnXmwq7fCCYKWHtYguUcTWVVzNKtI8\n",
       "lz3i1tw6LEnHyHIy2PoY7Plk70NUQ1ODtSoAuJa7BBgnGZPUb50uuDjB/cZ5ETxXfAesij4ePizg\n",
       "yu+vb0dDmhgEI20R56tyNskIB0GLdrmwpg7TGx/j2UcJpp4LMerk8NCyNa7tBEXKiOIy0jNxLMDA\n",
       "R+GyEtQ2/25M/xGZZTEIOOQZXAkZvjMNSBzl0G+1f2trbdguh2jeBpFpEvRq2EOLoH/nyjh4U9mq\n",
       "zb8phB0zbNGnOpmtsRsD0HyyKBxjkbqxbxVdKB2vv//ZHxfvBG9QWAvWN24jvkYHwc3GAxXBXEjh\n",
       "+01iaJQcessyfAeIZU0suNlOrdnH+YGynmjn6a8E1CnRqub0bn2n4Luu0Iy36jDWP5niJyvYirh/\n",
       "W8TqiGx7FntaGrhs3/HBYfxCUmhEmXq7XLPLJCdp9WAw4LRqU5kCuavcUG/JeqmyS/uf/Ktd3oBp\n",
       "qZ1w390/WYDbGPmTQbmD6Yi0RKyJFilEghUaN6ReC4oPLBeHng6sEOPJVK3u/U4qPexvHaA0SG6A\n",
       "Wr6g3a7f8WrNDXRZF4xwyf6Mfijw7APTDfBLX8XbZdfqumWg/Tgn2ObAZRQ3V0B0C3nfzAExgAAA\n",
       "JiEAAAEdQZokbEN//qeEA9kVdpA2UFtYSVSMHxWrFL1gYkDTBDTCrjejxPU3ABzO9miQuDkT/aIH\n",
       "4XrG4wq3w3U8GFC2+uQggGV5k2i04s73ifejBQl68cBdK8v0G5/OF3Ue58wPf0ygcXCoi/RlTp+V\n",
       "ymo14RozjCDHUj1wCJIJqksJGkWA4MxbB4FORlouS0UhZy/+s1ZDptlswp0Q9tBbvY18XutkEUJc\n",
       "H/ZnPT0+lpv62+1GC3ec9Cn0nT73CkfRi6ksZIMi1UT1O0viidGi2j2F//4ebonv9jXqlOAHHQ7E\n",
       "SmkorNG7t1zLTY0qS0OAMDgskqvF4I15TSl3fqOxz/RO/OTkyGEAXi2dmB7WBgLJDIiMS0f1gY31\n",
       "eYVwAB0wAAAAzUGeQniGfxRj7tf5Tw/Wdw89+PEWAB2gcwsDYOJP+XY15PVazbVFJz+drAU99nHr\n",
       "WqUCAqcHyP5+FptsrXy24sUCEOh34umRPv2+TdXFohCnL5DATAANYnjC8D/P0EcqWJh+pH/pfH6o\n",
       "MLtP/tLuAnYTmIMYzj54rrehnVbX5usYK9l/by+kNFHhFgDG/4Cy+k2Fel+z0+i+eXTmgy7vUrbt\n",
       "xlKh5oIApqwuHeol96CfhFn211vKSes0/VtV58MFRE+CYJjT9vQZtPCAHBEAAABzAZ5hdEK/ASqR\n",
       "OPSRa8GwpoAIfLfwB/9D4u0xMDX1uiTk85toGd8ivDPZcS/b02YUCggcB+ildJldqatqsInAcF4C\n",
       "T1wHt5CiMwgeqOxo2CAaZ1t8cBhhRE7GGEgtYEMfSV2BKW9PQAAAAwAACgQplgBgQAAAAG8BnmNq\n",
       "Qr8B0h57UHE3arDSAAjWI+ij569/sQgA2lDvf1XBmyBjj3d/tnmGJEQgI/O1LIaA52Ug/uBAVe1M\n",
       "TZ65M77G3L4O/SpUxTABWhS4NtaM6OFUAzNV+d9AmCJYCmTAPAvjxXq4AAAPUTwgBJ0AAADZQZpl\n",
       "SahBaJlMCG///qkhZz+vAJhMn0F0ywEWAC+Z7Wh3YP8nRH4RAgDMb7zbOQOfuOko0XruqPLs0SyN\n",
       "Kz7zu/ezxjZj45xeGVclUUnVDbUBQiBbRt8kIDc4vNwGw3nBUgjajJFOMbBgd4Qoe0gT+05dsvvi\n",
       "SnfkkurTGR5FFxwhbCtt9nvDKStUj720TWEnApIaUvcJbo8xGHmXyrKs8mqgp2G67NCG4Xk5YU78\n",
       "Q2X8+2A2neKrUpjBzY+MXex0Ok2rZAZ+6hOxaiXeyaUq83X0oKnKlUAF3QAAAL5BmoZJ4QpSZTAh\n",
       "n/6eEAXF8APBPDoYqAD+P+N8QAMiw/O9TtOETKXSd6AqA1mdqIb4z/zNmtuej7bNFpzKQrWS7p6L\n",
       "G0o/W1pFbGb1Rx7kHXGn3PzJ1hu2CA2fHY3w9YZKDLJnrP/97Op0CN9MkucgfMVbBBvvhW6USEhU\n",
       "+5ccn8BkqIZBYkj7I7kVeFYZ1p2af2nsdh/o1CirOxAFfOZYWY5nqY3/CsaqgNhHtAAAAwAAAwAA\n",
       "AwAedWpVABzRAAABD0Gap0nhDomUwIZ//p4QBcYAOeI1ABtR2r9Obb0kfE5TtNEHZvYkpap/L6aP\n",
       "M9Zn9ZbbIZz5oNC6nTSMjAt0R7LJhtoDl6Yh9Wg+TmL8QQaFDXX28+VMOFQisyNs3TMPyZpQg6Yx\n",
       "wI/fZbaKkdiLaEPgNiZUYh7w9Pt/8CQHWRh00DMMefKH2nvhQ8HFreuGF15nMUMVpS1LgtlQfnl0\n",
       "uTl0lmLI0dcqqWyTcTApSuXZw0G1PxqRk3Vl/Mr/YW4OEJtfgHfaJhaTa8exdiL65nEs4rZerGYW\n",
       "AhjV+av5NkUWADtRh147d1YWbWjLIqOKfehSOo+g7LlVDPbTPHLwsL4HLP5I/q769veK02C4ScEA\n",
       "AAEaQZrISeEPJlMCGf/+nhAFytjKAA7Q+vpjBTOcYdkPs+c5ZYnZ3OY7DkuAZWnYIhh5D38nN7El\n",
       "1ZBjI7ntjpJafQkosMaYYwgBhwAbVe4c2viQMxjTlUE4zzeoGXicK8hJwwM7uSyl3eUaIM7+hP2e\n",
       "hJAC8NB0Nv44dDd09tma8+uQl1uv9GB1KWxbbNqXKqJ9HAhoSHIpFd9UCRjn+Jw7QV3BW8wX6o9G\n",
       "V2znsioy9w0c0RF+Gsz/Bl/EPi2iXKyBU0qqQ1zNBPn5MwDEvFwbcyxxmaeADVTdlQ7vvBpjULEY\n",
       "MgPgEUY1HinOizvl04Nqy946k+YYwWp6IaTdaC3IoQC05qafUXuc2eK2MgAAAwAAAwB0o0ZYAK+A\n",
       "AAABYEGa6UnhDyZTAhX//jhAFlaE27xqAAEPxQlMsCwpFXqHVK5XIwVQIPz9F4qNWjJ1oTvhKWyP\n",
       "QtPS3z3Me21LuXNJ4N7t+VWw2mSoBMAH4WbSEnjZ4NwHOkGUFd1+H/ymaWkC5QFJe1GPR51aDBas\n",
       "E193hzTdY+MraMVpr/xU0ACpc8QCYNQe9Vc4P5RwBiT8BAQBl2KUsKj2/rMb3JrjdMfqZ75o0WBm\n",
       "QGQk2CE9ysbg2pNJjeBsHxyZZiAQ1t5SaoBQ6JzpKoEZb79KP98DBK/Pgehuu/lyPf2rqNKJ+sVf\n",
       "TOv7CLuftmNSb/TnpLOWKOs+TVVUw4dGOEg+lQLe49Z5uL0WhbAIFOk7gJp2BKu+jTeswaXxIw+b\n",
       "22Yram2Jg9CBPwA0U1YqTeUuBluprchb7ZjWjsi8O4aymbAZ55EErfkbkV+4BLIC0gClANkwos+l\n",
       "sCbKh8EKHzolUywAIGAAAANsbW9vdgAAAGxtdmhkAAAAAAAAAAAAAAAAAAAD6AAAAfQAAQAAAQAA\n",
       "AAAAAAAAAAAAAAEAAAAAAAAAAAAAAAAAAAABAAAAAAAAAAAAAAAAAABAAAAAAAAAAAAAAAAAAAAA\n",
       "AAAAAAAAAAAAAAAAAAAAAgAAApZ0cmFrAAAAXHRraGQAAAADAAAAAAAAAAAAAAABAAAAAAAAAfQA\n",
       "AAAAAAAAAAAAAAAAAAAAAAEAAAAAAAAAAAAAAAAAAAABAAAAAAAAAAAAAAAAAABAAAAAAlgAAAGQ\n",
       "AAAAAAAkZWR0cwAAABxlbHN0AAAAAAAAAAEAAAH0AAAEAAABAAAAAAIObWRpYQAAACBtZGhkAAAA\n",
       "AAAAAAAAAAAAAAAoAAAAFABVxAAAAAAALWhkbHIAAAAAAAAAAHZpZGUAAAAAAAAAAAAAAABWaWRl\n",
       "b0hhbmRsZXIAAAABuW1pbmYAAAAUdm1oZAAAAAEAAAAAAAAAAAAAACRkaW5mAAAAHGRyZWYAAAAA\n",
       "AAAAAQAAAAx1cmwgAAAAAQAAAXlzdGJsAAAAmXN0c2QAAAAAAAAAAQAAAIlhdmMxAAAAAAAAAAEA\n",
       "AAAAAAAAAAAAAAAAAAAAAlgBkABIAAAASAAAAAAAAAABAAAAAAAAAAAAAAAAAAAAAAAAAAAAAAAA\n",
       "AAAAAAAAAAAAGP//AAAAM2F2Y0MB9AAW/+EAGmf0ABaRmygTBnxPCAAAAwAIAAADAUB4sWywAQAG\n",
       "aOvjxEhEAAAAGHN0dHMAAAAAAAAAAQAAAAoAAAIAAAAAFHN0c3MAAAAAAAAAAQAAAAEAAABAY3R0\n",
       "cwAAAAAAAAAGAAAAAQAABAAAAAABAAAKAAAAAAEAAAQAAAAAAQAAAAAAAAABAAACAAAAAAUAAAQA\n",
       "AAAAHHN0c2MAAAAAAAAAAQAAAAEAAAAKAAAAAQAAADxzdHN6AAAAAAAAAAAAAAAKAAAVpAAAASEA\n",
       "AADRAAAAdwAAAHMAAADdAAAAwgAAARMAAAEeAAABZAAAABRzdGNvAAAAAAAAAAEAAAAwAAAAYnVk\n",
       "dGEAAABabWV0YQAAAAAAAAAhaGRscgAAAAAAAAAAbWRpcmFwcGwAAAAAAAAAAAAAAAAtaWxzdAAA\n",
       "ACWpdG9vAAAAHWRhdGEAAAABAAAAAExhdmY1Ny40MS4xMDA=\n",
       "\" type=\"video/mp4\">\n",
       " Your browser does not support the video tag.\n",
       "</video>"
      ],
      "text/plain": [
       "<IPython.core.display.HTML object>"
      ]
     },
     "execution_count": 82,
     "metadata": {},
     "output_type": "execute_result"
    }
   ],
   "source": [
    "fig=plt.figure()\n",
    "xx = np.arange(95)\n",
    "ax = plt.axes(xlim=(0, 94), ylim=(np.min(f)-0.01, .01))\n",
    "img, = plt.plot(xx, f[0])\n",
    "ttl = ax.set_title('',animated=True)\n",
    "# ttl = ax.text(.25, 1.05, '', transform = ax.transAxes, va='center')\n",
    "\n",
    "ax.xaxis.set_animated(True)\n",
    "\n",
    "def init():\n",
    "    ttl.set_text('') \n",
    "    img.set_data([0],[0])\n",
    "    return img, ttl, ax.xaxis\n",
    "\n",
    "def func(n):\n",
    "    ttl.set_text('flux ($hv$) along top boundary;  t={0:.1f}s'.format(t[n]))    \n",
    "    img.set_data(xx, f[n])\n",
    "    ax.set_xlim(xx[0],xx[-1])\n",
    "    return img, ttl, ax.xaxis\n",
    "\n",
    "ani = animation.FuncAnimation(fig,func,init_func=init,frames=len(f),\n",
    "                              interval=100,blit=True)\n",
    "\n",
    "\n",
    "ani.save('plots/h slope={0:.1f}% tmax={1:.0f}s.mp4'.format(slope,tmax))\n",
    "display_animation(ani)"
   ]
  },
  {
   "cell_type": "code",
   "execution_count": 83,
   "metadata": {
    "collapsed": false
   },
   "outputs": [
    {
     "ename": "IOError",
     "evalue": "Error saving animation to file (cause: [Errno 32] Broken pipe) Stdout:  StdError: . It may help to re-run with --verbose-debug.",
     "output_type": "error",
     "traceback": [
      "\u001b[0;31m---------------------------------------------------------------------------\u001b[0m",
      "\u001b[0;31mIOError\u001b[0m                                   Traceback (most recent call last)",
      "\u001b[0;32m<ipython-input-83-c83e5e8ef8f0>\u001b[0m in \u001b[0;36m<module>\u001b[0;34m()\u001b[0m\n\u001b[0;32m----> 1\u001b[0;31m \u001b[0mani\u001b[0m\u001b[0;34m.\u001b[0m\u001b[0msave\u001b[0m\u001b[0;34m(\u001b[0m\u001b[0;34m'animations/flux slope={0:.1f}% tmax={1:.0f}s.mp4'\u001b[0m\u001b[0;34m.\u001b[0m\u001b[0mformat\u001b[0m\u001b[0;34m(\u001b[0m\u001b[0mslope\u001b[0m\u001b[0;34m,\u001b[0m\u001b[0mtmax\u001b[0m\u001b[0;34m)\u001b[0m\u001b[0;34m)\u001b[0m\u001b[0;34m\u001b[0m\u001b[0m\n\u001b[0m",
      "\u001b[0;32m//anaconda/lib/python2.7/site-packages/matplotlib/animation.pyc\u001b[0m in \u001b[0;36msave\u001b[0;34m(self, filename, writer, fps, dpi, codec, bitrate, extra_args, metadata, extra_anim, savefig_kwargs)\u001b[0m\n\u001b[1;32m    836\u001b[0m                         \u001b[0;31m# TODO: See if turning off blit is really necessary\u001b[0m\u001b[0;34m\u001b[0m\u001b[0;34m\u001b[0m\u001b[0m\n\u001b[1;32m    837\u001b[0m                         \u001b[0manim\u001b[0m\u001b[0;34m.\u001b[0m\u001b[0m_draw_next_frame\u001b[0m\u001b[0;34m(\u001b[0m\u001b[0md\u001b[0m\u001b[0;34m,\u001b[0m \u001b[0mblit\u001b[0m\u001b[0;34m=\u001b[0m\u001b[0mFalse\u001b[0m\u001b[0;34m)\u001b[0m\u001b[0;34m\u001b[0m\u001b[0m\n\u001b[0;32m--> 838\u001b[0;31m                     \u001b[0mwriter\u001b[0m\u001b[0;34m.\u001b[0m\u001b[0mgrab_frame\u001b[0m\u001b[0;34m(\u001b[0m\u001b[0;34m**\u001b[0m\u001b[0msavefig_kwargs\u001b[0m\u001b[0;34m)\u001b[0m\u001b[0;34m\u001b[0m\u001b[0m\n\u001b[0m\u001b[1;32m    839\u001b[0m \u001b[0;34m\u001b[0m\u001b[0m\n\u001b[1;32m    840\u001b[0m         \u001b[0;31m# Reconnect signal for first draw if necessary\u001b[0m\u001b[0;34m\u001b[0m\u001b[0;34m\u001b[0m\u001b[0m\n",
      "\u001b[0;32m//anaconda/lib/python2.7/site-packages/matplotlib/animation.pyc\u001b[0m in \u001b[0;36mgrab_frame\u001b[0;34m(self, **savefig_kwargs)\u001b[0m\n\u001b[1;32m    242\u001b[0m             raise IOError('Error saving animation to file (cause: {0}) '\n\u001b[1;32m    243\u001b[0m                           \u001b[0;34m'Stdout: {1} StdError: {2}. It may help to re-run '\u001b[0m\u001b[0;34m\u001b[0m\u001b[0m\n\u001b[0;32m--> 244\u001b[0;31m                           'with --verbose-debug.'.format(e, out, err))\n\u001b[0m\u001b[1;32m    245\u001b[0m \u001b[0;34m\u001b[0m\u001b[0m\n\u001b[1;32m    246\u001b[0m     \u001b[0;32mdef\u001b[0m \u001b[0m_frame_sink\u001b[0m\u001b[0;34m(\u001b[0m\u001b[0mself\u001b[0m\u001b[0;34m)\u001b[0m\u001b[0;34m:\u001b[0m\u001b[0;34m\u001b[0m\u001b[0m\n",
      "\u001b[0;31mIOError\u001b[0m: Error saving animation to file (cause: [Errno 32] Broken pipe) Stdout:  StdError: . It may help to re-run with --verbose-debug."
     ]
    }
   ],
   "source": [
    "ani.save('animations/flux slope={0:.1f}% tmax={1:.0f}s.mp4'.format(slope,tmax))"
   ]
  },
  {
   "cell_type": "code",
   "execution_count": null,
   "metadata": {
    "collapsed": true
   },
   "outputs": [],
   "source": []
  }
 ],
 "metadata": {
  "anaconda-cloud": {},
  "kernelspec": {
   "display_name": "Python [default]",
   "language": "python",
   "name": "python2"
  },
  "language_info": {
   "codemirror_mode": {
    "name": "ipython",
    "version": 2
   },
   "file_extension": ".py",
   "mimetype": "text/x-python",
   "name": "python",
   "nbconvert_exporter": "python",
   "pygments_lexer": "ipython2",
   "version": "2.7.12"
  }
 },
 "nbformat": 4,
 "nbformat_minor": 1
}
