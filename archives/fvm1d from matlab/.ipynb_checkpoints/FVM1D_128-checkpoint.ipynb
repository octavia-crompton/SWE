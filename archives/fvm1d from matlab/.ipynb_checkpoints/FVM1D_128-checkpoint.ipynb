{
 "cells": [
  {
   "cell_type": "code",
   "execution_count": 1,
   "metadata": {
    "collapsed": true
   },
   "outputs": [],
   "source": [
    "%matplotlib inline"
   ]
  },
  {
   "cell_type": "code",
   "execution_count": 57,
   "metadata": {
    "collapsed": false
   },
   "outputs": [],
   "source": [
    "import numpy as np\n",
    "import matplotlib.pyplot as plt\n",
    "\n",
    "\n",
    "class fvm1d:\n",
    "    def __init__(self, nc=100, L=1000., dt=0.5, nt=100., ntplot=10, beta=2.):\n",
    "        L = np.float128(L)\n",
    "        dx = np.float128(L / nc)\n",
    "        x = np.arange(0, L + dx, dx, dtype=np.float128)\n",
    "        xc = np.arange(dx/2, L+dx-dx/2, dx, dtype=np.float128)\n",
    "        self.beta = np.float128(beta)\n",
    "        self.nc = nc  # number of cells\n",
    "        self.nf = nc + 1  # number of edges\n",
    "        self.L = L  # length of channel\n",
    "        self.dx = dx  # length of cell\n",
    "        self.x = x  # array of edge coordinates\n",
    "        self.xc = xc\n",
    "\n",
    "        # Set up time marching and output interval\n",
    "        self.dt = dt  # time step (s)\n",
    "        self.nt = nt  # number of time steps\n",
    "        self.ntplot = ntplot  # plot interval (number of time steps)\n",
    "\n",
    "        # Define bed elevation at faces z=f(x)\n",
    "        self.z = np.zeros(x.shape, dtype=np.float128);  # flat bed - can enter own function here, z=f(x)\n",
    "        self.zc = np.zeros(x.shape[0] - 1,  dtype=np.float128)\n",
    "        self.dz = np.zeros(x.shape[0] - 1,  dtype=np.float128)\n",
    "        # Compute bed slope\n",
    "        for i in range(0, nc):\n",
    "            self.dz[i] = self.z[i + 1] - self.z[i];  # dimensions of length\n",
    "            self.zc[i] = 0.50 * (self.z[i + 1] + self.z[i]);  # elevation of cell center\n",
    "\n",
    "        self.grav = 9.806\n",
    "\n",
    "        #  initial conditions\n",
    "        xo = L / 2\n",
    "        etalo = 10\n",
    "        etaro = 1\n",
    "        ulo = 0\n",
    "        uro = 0\n",
    "\n",
    "        #self.eta = np.zeros_like(xc)\n",
    "        self.h = np.zeros_like(xc, dtype=np.float128)\n",
    "        self.u = np.zeros_like(xc, dtype=np.float128)\n",
    "        self.eta = 10 - np.arange( 0, 10.,  .10, dtype=np.float128);\n",
    "        for i in range(0, nc):\n",
    "            if xc[i] < xo:\n",
    "                # self.eta[i] = etalo\n",
    "                self.h[i] = self.eta[i] - self.zc[i]\n",
    "                self.u[i] = ulo\n",
    "            else:\n",
    "                # self.eta[i]=etaro;\n",
    "                self.h[i] = self.eta[i] - self.zc[i];\n",
    "                self.u[i] = uro\n",
    "\n",
    "        self.uh = self.h*self.u\n",
    "        self.deta = np.zeros_like(self.eta, dtype=np.float128)\n",
    "        self.du = np.zeros_like(self.u, dtype=np.float128)\n",
    "\n",
    "        self.t = 0\n",
    "        #print dt / dx\n",
    "        self.h_plot = np.zeros([nt/ntplot, nc], dtype=np.float128)\n",
    "\n",
    "        for n in range(nt):\n",
    "            \n",
    "            self.deta = self.limiter(self.eta)\n",
    "            self.du = self.limiter(self.u)\n",
    "            self.etap, self.up = self.predictor()\n",
    "            self.hp = self.etap - self.zc\n",
    "            self.S = 9.806*self.hp*self.dz/self.dx\n",
    "            self.F, self.amax = self.fluxes(n)\n",
    "            self.uh, self.h, self.u = self.corrector()\n",
    "            self.eta = self.h + self.zc\n",
    "            e = self.eta + 0.5*self.u** 2\n",
    "            self.t += self.dt\n",
    "            cr = self.amax * dt/dx\n",
    "            if cr > 1:\n",
    "                return\n",
    "\n",
    "            if (np.mod(n,ntplot) == 0):\n",
    "                self.h_plot[n/ntplot]  = self.h\n",
    "\n",
    "    def limiter(self, f):\n",
    "        df = np.zeros_like(f, dtype = np.float128)\n",
    "        for i in range(1, f.shape[0] - 1):\n",
    "            df1 = f[i+1] - f[i]\n",
    "            df2 = f[i] - f[i-1]\n",
    "            if (df1 * df2) < 0:\n",
    "                df[i] = 0\n",
    "            else:\n",
    "                s = np.sign(df1)\n",
    "                a = abs(df1)\n",
    "                b = abs(df2)\n",
    "                df[i] = s*np.min([np.max([a, b]), self.beta*min([a,b])])\n",
    "        return df\n",
    "\n",
    "    def predictor(self):\n",
    "        dh = self.deta - self.dz\n",
    "        etap = np.zeros_like(self.eta, dtype=np.float128)\n",
    "        up = np.zeros_like(self.u, dtype=np.float128)\n",
    "        for i in range(0, self.nc):\n",
    "            etap[i] = self.eta[i] - 0.5*self.dt/self.dx*(self.h[i]*self.du[i] + self.u[i]*dh[i])\n",
    "            up[i] = self.u[i] - 0.5*self.dt/self.dx*(self.u[i] * self.du[i] + 9.806 * self.deta[i])\n",
    "\n",
    "        return etap, up\n",
    "\n",
    "    def solver(self, hl, hr, ul, ur, vl, vr, sn, cn):\n",
    "        grav = 9.806\n",
    "        duml = hl**0.5\n",
    "        dumr = hr**0.5\n",
    "        cl = (grav*hl)**0.5\n",
    "        cr = (grav*hr)**0.5\n",
    "\n",
    "        hhat = duml*dumr\n",
    "        uhat = (duml*ul + dumr*ur)/(duml+dumr)\n",
    "        vhat = (duml*vl + dumr*vr)/(duml+dumr)\n",
    "\n",
    "        chat = (0.5*grav*(hl + hr))**0.5\n",
    "\n",
    "        uperp = uhat*cn + vhat*sn\n",
    "        dh = hr - hl\n",
    "        du = ur - ul\n",
    "        dv = vr - vl\n",
    "        dupar = -du*sn + dv*cn\n",
    "        duperp = du*cn + dv*sn\n",
    "        dW = np.array([0.5 * (dh - hhat * duperp / chat), hhat * dupar, 0.5 * (dh + hhat * duperp / chat)], dtype=np.float128)\n",
    "        dW = np.expand_dims(dW, 1)\n",
    "        uperpl = ul * cn + vl * sn\n",
    "        uperpr = ur * cn + vr * sn\n",
    "\n",
    "        al1 = uperpl - cl\n",
    "        al3 = uperpl + cl\n",
    "        ar1 = uperpr - cr\n",
    "        ar3 = uperpr + cr\n",
    "\n",
    "        R = np.array([1, 0, 1,\n",
    "                      uhat - chat * cn, -sn, uhat + chat * cn,\n",
    "                      vhat - chat * sn, cn, vhat + chat * sn], dtype=np.float128).reshape(3, 3);\n",
    "\n",
    "        da1 = np.max([0, 2 * (ar1 - al1)])\n",
    "        da3 = np.max([0, 2 * (ar3 - al3)])\n",
    "        a1 = np.abs(uperp - chat)\n",
    "        a2 = np.abs(uperp)\n",
    "        a3 = np.abs(uperp + chat)\n",
    "\n",
    "        # Critical flow fix\n",
    "        if a1 < da1:\n",
    "            a1 = 0.5 * (a1*a1 / da1 + da1)\n",
    "\n",
    "        if a3 < da3:\n",
    "            a3 = 0.5 * (a3*a3 / da3 + da3)\n",
    "\n",
    "        # Compute interface flux\n",
    "        A = np.diag([a1, a2, a3])\n",
    "        FL = np.array([uperpl*hl, ul * uperpl * hl + 0.5 * grav * hl * hl * cn, vl * uperpl * hl + 0.5 * grav * hl * hl * sn], dtype=np.float128);\n",
    "        FR = np.array([uperpr*hr, ur * uperpr * hr + 0.5 * grav * hr * hr * cn, vr * uperpr * hr + 0.5 * grav * hr * hr * sn],  dtype=np.float128);\n",
    "        F = 0.5 * (FL + FR - np.dot(R, np.dot(A, dW)).ravel())\n",
    "        amax = chat + abs(uperp)\n",
    "        return F[:2], amax\n",
    "        \n",
    "\n",
    "    def fluxes(self, n):\n",
    "        sn = 0.\n",
    "        cn = 1.\n",
    "        vl = 0.\n",
    "        vr = 0.\n",
    "        \n",
    "        F = np.zeros([self.nf, 2],  dtype=np.float128)\n",
    "        # Left Boundary : model as wall\n",
    "        hr = self.etap[0] - 0.5 * self.deta[0] - self.z[0]\n",
    "        ur = self.up[0] - 0.5 * self.du[0]\n",
    "        F[0, :], amax = self.solver(hr, hr, -ur, ur, vl, vr, sn, cn)\n",
    "\n",
    "\n",
    "        # Right Boundary : model as wall\n",
    "        hl = self.etap[-1] + 0.5*self.deta[-1]-self.z[-1]\n",
    "        ul = self.up[-1] + 0.5 * self.du[-1]\n",
    "        F[-1, :], amax = self.solver(hl, hl, ul, -ul, vl, vr, sn, cn)\n",
    "\n",
    "        amax0 = 0\n",
    "        for j in range(1, self.nf - 1):\n",
    "            # Variable reconstruction\n",
    "            hl = self.etap[j-1] + 0.5*self.deta[j-1] - self.z[j-1] # Left h(j-1/2, n+1/2)=eta(j-1, n+1/2)+0.5 d_eta(j-1, n)-z(j-1/2, n+1/2)\n",
    "            ul = self.up[j-1] + 0.5*self.du[j-1]  # u(j-1/2) = u(i-1) + 0.5*du(i-1)\n",
    "            hr = self.eta[j] -0.5*self.deta[j] - self.z[j-1]  # Right h(j-1/2)=eta(j)-0.5 d_eta(j)-z(j-1/2)\n",
    "            ur = self.up[j] - 0.5*self.du[j]\n",
    "            # Call solver\n",
    "            F[j, :], amax = self.solver(hl, hr, ul, ur, vl, vr, sn, cn);\n",
    "            amax0 = max([amax0, amax])  # Keep track of max wave speed to check CFL\n",
    "\n",
    "        return F, amax0\n",
    "\n",
    "    def corrector(self):\n",
    "        h = self.h.copy()\n",
    "        uh = self.uh.copy()\n",
    "        u = self.u.copy()\n",
    "\n",
    "        for j in range(self.nc):\n",
    "            h[j] = self.h[j] - self.dt/self.dx*(self.F[j+1, 0] - self.F[j, 0])\n",
    "            uh[j] = self.uh[j] - self.dt/self.dx*(self.F[j+1,1] - self.F[j,1]) - self.dt*self.S[j];\n",
    "            u[j] = uh[j]/h[j];  # update for dry bed cases\n",
    "            # Add vfr for dry bed cases to compute eta from h\n",
    "            \n",
    "        return uh, h, u\n",
    "\n",
    "\n"
   ]
  },
  {
   "cell_type": "code",
   "execution_count": 66,
   "metadata": {
    "collapsed": false
   },
   "outputs": [
    {
     "name": "stdout",
     "output_type": "stream",
     "text": [
      "18\n"
     ]
    }
   ],
   "source": [
    "f = fvm1d(nt = 1000, ntplot=10)"
   ]
  },
  {
   "cell_type": "code",
   "execution_count": 67,
   "metadata": {
    "collapsed": false
   },
   "outputs": [],
   "source": [
    "import numpy as np\n",
    "np.savetxt('data.csv', f.h)"
   ]
  },
  {
   "cell_type": "code",
   "execution_count": 71,
   "metadata": {
    "collapsed": false
   },
   "outputs": [],
   "source": [
    "d = np.loadtxt('d.csv')"
   ]
  },
  {
   "cell_type": "code",
   "execution_count": 72,
   "metadata": {
    "collapsed": false
   },
   "outputs": [
    {
     "data": {
      "text/plain": [
       "[<matplotlib.lines.Line2D at 0x110ad76d0>]"
      ]
     },
     "execution_count": 72,
     "metadata": {},
     "output_type": "execute_result"
    },
    {
     "data": {
      "image/png": "[encoded data removed]",
      "text/plain": [
       "<matplotlib.figure.Figure at 0x110680bd0>"
      ]
     },
     "metadata": {},
     "output_type": "display_data"
    }
   ],
   "source": [
    "plt.plot(d - f.h)"
   ]
  },
  {
   "cell_type": "code",
   "execution_count": 54,
   "metadata": {
    "collapsed": true
   },
   "outputs": [],
   "source": [
    "import scipy.io as sio\n",
    "\n",
    "sio.savemat(\"../fvm1d_wetbed/h_py.mat\", {\"h_py\": f.h})\n"
   ]
  },
  {
   "cell_type": "code",
   "execution_count": 9,
   "metadata": {
    "collapsed": false
   },
   "outputs": [],
   "source": [
    "from tempfile import NamedTemporaryFile\n",
    "\n",
    "VIDEO_TAG = \"\"\"<video controls>\n",
    " <source src=\"data:video/x-m4v;base64,{0}\" type=\"video/mp4\">\n",
    " Your browser does not support the video tag.\n",
    "</video>\"\"\"\n",
    "\n",
    "def anim_to_html(anim):\n",
    "    if not hasattr(anim, '_encoded_video'):\n",
    "        with NamedTemporaryFile(suffix='.mp4') as f:\n",
    "            anim.save(f.name, fps=20, extra_args=['-vcodec', 'libx264'])\n",
    "            video = open(f.name, \"rb\").read()\n",
    "        anim._encoded_video = video.encode(\"base64\")\n",
    "    \n",
    "    return VIDEO_TAG.format(anim._encoded_video)"
   ]
  },
  {
   "cell_type": "code",
   "execution_count": 10,
   "metadata": {
    "collapsed": true
   },
   "outputs": [],
   "source": [
    "from IPython.display import HTML\n",
    "\n",
    "def display_animation(anim):\n",
    "    plt.close(anim._fig)\n",
    "    return HTML(anim_to_html(anim))"
   ]
  },
  {
   "cell_type": "code",
   "execution_count": 11,
   "metadata": {
    "collapsed": false
   },
   "outputs": [],
   "source": [
    "# for i in range(len(f.h_plot)):\n",
    "#     plt.plot(f.h_plot[i])"
   ]
  },
  {
   "cell_type": "code",
   "execution_count": 15,
   "metadata": {
    "collapsed": false,
    "scrolled": false
   },
   "outputs": [],
   "source": [
    "from matplotlib import animation\n",
    "\n",
    "# First set up the figure, the axis, and the plot element we want to animate\n",
    "fig = plt.figure()\n",
    "ax = plt.axes(xlim=(0, 1000), ylim=(0, 10))\n",
    "line, = ax.plot([], [], lw=1)\n",
    "\n",
    "# initialization function: plot the background of each frame\n",
    "def init():\n",
    "    line.set_data([], [])\n",
    "    return line,\n",
    "\n",
    "# animation function.  This is called sequentially\n",
    "def animate(i):\n",
    "    x = f.xc\n",
    "    y = f.h_plot[i]\n",
    "    line.set_data(x, y)\n",
    "    return line,\n",
    "\n",
    "# call the animator.  blit=True means only re-draw the parts that have changed.\n",
    "anim = animation.FuncAnimation(fig, animate, init_func=init,\n",
    "                               frames=f.nt/f.ntplot, interval= 50, blit=False)\n",
    "\n",
    "# call our new function to display the animation\n",
    "display_animation(anim)\n",
    "anim.save('FVM1D.mp4')"
   ]
  },
  {
   "cell_type": "code",
   "execution_count": 28,
   "metadata": {
    "collapsed": false
   },
   "outputs": [
    {
     "data": {
      "image/png": "[encoded data removed]",
      "text/plain": [
       "<matplotlib.figure.Figure at 0x11043c990>"
      ]
     },
     "metadata": {},
     "output_type": "display_data"
    }
   ],
   "source": [
    "fig2 = plt.figure()\n",
    "\n",
    "ax = plt.axes(xlim=(0, 1000), ylim=(0, 10))\n",
    "plots = []\n",
    "for i in np.arange(f.nt/f.ntplot):\n",
    "    plots.append((ax.plot(f.xc, f.h_plot[i], 'b-')))\n",
    "\n",
    "im_ani = animation.ArtistAnimation(fig2, plots, interval=50, repeat_delay=3000,\n",
    "                                   blit=False)\n",
    "im_ani.save('im.mp4')\n"
   ]
  },
  {
   "cell_type": "code",
   "execution_count": null,
   "metadata": {
    "collapsed": true
   },
   "outputs": [],
   "source": []
  },
  {
   "cell_type": "code",
   "execution_count": null,
   "metadata": {
    "collapsed": true
   },
   "outputs": [],
   "source": []
  }
 ],
 "metadata": {
  "kernelspec": {
   "display_name": "Python [default]",
   "language": "python",
   "name": "python2"
  },
  "language_info": {
   "codemirror_mode": {
    "name": "ipython",
    "version": 2
   },
   "file_extension": ".py",
   "mimetype": "text/x-python",
   "name": "python",
   "nbconvert_exporter": "python",
   "pygments_lexer": "ipython2",
   "version": "2.7.12"
  }
 },
 "nbformat": 4,
 "nbformat_minor": 0
}
