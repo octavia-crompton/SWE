{
 "cells": [
  {
   "cell_type": "markdown",
   "metadata": {},
   "source": [
    "### writes 'coords'  for open boundary case\n",
    "\n",
    "    for i in npt: \n",
    "        write x(i), y(i), z(i)   \n",
    "    loop over cells (j,k):  \n",
    "         write node numbers surrounding cell,  counterclockwise from lower left"
   ]
  },
  {
   "cell_type": "code",
   "execution_count": 19,
   "metadata": {
    "collapsed": true,
    "scrolled": true
   },
   "outputs": [],
   "source": [
    "%matplotlib inline"
   ]
  },
  {
   "cell_type": "code",
   "execution_count": 20,
   "metadata": {
    "collapsed": true,
    "scrolled": true
   },
   "outputs": [],
   "source": [
    "import matplotlib.pylab as plt\n",
    "import numpy as np"
   ]
  },
  {
   "cell_type": "code",
   "execution_count": 21,
   "metadata": {
    "collapsed": false
   },
   "outputs": [],
   "source": [
    "ncol = 94\n",
    "nrow = 63\n",
    "dx = 2\n",
    "\n",
    "npt = (ncol+1)*(nrow+1)  # number of points\n",
    "ne = nrow*ncol  # number of edges\n",
    "nbcell = 2*ncol + 2*nrow - 4  # number of boundary cells"
   ]
  },
  {
   "cell_type": "code",
   "execution_count": 37,
   "metadata": {
    "collapsed": false
   },
   "outputs": [
    {
     "data": {
      "text/plain": [
       "0.40000000000000002"
      ]
     },
     "execution_count": 37,
     "metadata": {},
     "output_type": "execute_result"
    }
   ],
   "source": [
    "xdum = np.arange(1, (ncol*dx+2), dx )\n",
    "ydum = np.arange(1, (nrow*dx+2), dx )\n",
    "# xdum = np.arange(10.125, 199.125, 2 )\n",
    "# ydum = np.arange(9, 137, 2)\n",
    "ydum, xdum = np.meshgrid(ydum, xdum)\n",
    "\n",
    "zdum = np.linspace(0, 0.504, nrow+1)\n",
    "zdum = np.tile(zdum, [ncol+1]).reshape([ncol+1, nrow+1])\n",
    "\n",
    "x = np.zeros(npt + 1)\n",
    "y = np.zeros(npt + 1)\n",
    "z = np.zeros(npt + 1)\n",
    "x[1:] = xdum.ravel()\n",
    "y[1:] = ydum.ravel()\n",
    "z[1:] = zdum.ravel()\n",
    "\n",
    "# slope\n",
    "(np.max(zdum) - np.min(zdum))/(np.max(ydum) - np.min(ydum))*100"
   ]
  },
  {
   "cell_type": "code",
   "execution_count": 38,
   "metadata": {
    "collapsed": true
   },
   "outputs": [],
   "source": [
    "# (ncol+1) by (nrow+1)  -  node numbers\n",
    "nodes = np.arange(1, npt+1, dtype = int).reshape([ncol+1, nrow+1])\n",
    "\n",
    "nop = np.zeros([ncol+1, nrow+1, 4], dtype = int)\n",
    "for j in range(ncol):\n",
    "    for k in range(nrow):\n",
    "        nop[j+1, k+1] =  nodes[j,k], nodes[j+1, k], nodes[j+1,k+1], nodes[j,k+1]"
   ]
  },
  {
   "cell_type": "code",
   "execution_count": 39,
   "metadata": {
    "collapsed": false
   },
   "outputs": [],
   "source": [
    "# dry_py.f needs an input file.  this file creates it.\n",
    "f = open('coords', 'w')\n",
    "f.write('{0:<13}   {1:<13}\\n'.format(npt, ne))\n",
    "\n",
    "# write x, y, z\n",
    "for n in range(1, npt+1):\n",
    "    f.write('{0:<13.6f} {1:<13.6f} {2:<13.6f}\\n'.format(x[n],y[n],z[n])) \n",
    "    \n",
    "# write node numbers  \n",
    "for j in range(1, ncol+1):\n",
    "    for k in range(1, nrow+1):\n",
    "        n1 = nop[j, k, 0] \n",
    "        n2 = nop[j, k, 1]       \n",
    "        n3 = nop[j, k, 2]        \n",
    "        n4 = nop[j, k, 3] \n",
    "        f.write('{0:<10} {1:<10}  {2:<10} {3:<10}\\n'.format(n1, n2, n3, n4)) \n",
    "f.close()"
   ]
  },
  {
   "cell_type": "code",
   "execution_count": 40,
   "metadata": {
    "collapsed": false,
    "scrolled": true
   },
   "outputs": [
    {
     "data": {
      "text/plain": [
       "<matplotlib.colorbar.Colorbar at 0x10fe03450>"
      ]
     },
     "execution_count": 40,
     "metadata": {},
     "output_type": "execute_result"
    },
    {
     "data": {
      "image/png": "[encoded data removed]",
      "text/plain": [
       "<matplotlib.figure.Figure at 0x10cd80950>"
      ]
     },
     "metadata": {},
     "output_type": "display_data"
    }
   ],
   "source": [
    "## get cell center values:\n",
    "xcc  = np.zeros([ncol+2, nrow+2])    \n",
    "ycc  = np.zeros([ncol+2, nrow+2])\n",
    "zcc  = np.zeros([ncol+2, nrow+2])\n",
    "\n",
    "for j in range(ncol+1):\n",
    "    for k in range( nrow+1):\n",
    "        n1 = nop[j, k, 0] \n",
    "        n2 = nop[j, k, 1]       \n",
    "        n3 = nop[j, k, 2]        \n",
    "        n4 = nop[j, k, 3]  \n",
    "        xcc[j,k] = 0.25*(x[n1] + x[n2] + x[n3] + x[n4])  \n",
    "        ycc[j,k] = 0.25*(y[n1] + y[n2] + y[n3] + y[n4])\n",
    "        zcc[j,k] = 0.25*(z[n1] + z[n2] + z[n3] + z[n4])        \n",
    "        \n",
    "plt.imshow(zcc[1:-1, 1:-1].T, cmap = \"Blues\", origin = \"lower\")\n",
    "plt.colorbar()\n"
   ]
  },
  {
   "cell_type": "code",
   "execution_count": 41,
   "metadata": {
    "collapsed": true
   },
   "outputs": [],
   "source": [
    "inum = np.zeros([ncol+1, nrow+1], dtype = int)\n",
    "inum[1:, 1] = 1\n",
    "inum[1:, -1]= 1\n",
    "inum[1, 1:] = 1\n",
    "inum[-1, 1:] = 1\n",
    "inum[1, 1] = 2\n",
    "inum[1, -1] = 2\n",
    "inum[-1, -1] = 2\n",
    "inum[-1, 1] = 2"
   ]
  },
  {
   "cell_type": "code",
   "execution_count": 42,
   "metadata": {
    "collapsed": true
   },
   "outputs": [],
   "source": [
    "ipos = np.zeros( [ncol+1, nrow+1, 2], dtype = int)\n",
    "# bottom boundary\n",
    "ipos[2:-1, 1,0] = 1\n",
    "ipos[1, 1,1] = 1\n",
    "ipos[-1, 1,1] = 1\n",
    "\n",
    "# right boundary\n",
    "ipos[-1, 1:-1, 0] = 2\n",
    "ipos[-1, -1,1] = 2\n",
    "\n",
    "# left boundary\n",
    "ipos[1, 1:, 0] = 4\n",
    "\n",
    "# top boundary\n",
    "ipos[2:, -1,0] = 3\n",
    "ipos[1, -1,1] = 3"
   ]
  },
  {
   "cell_type": "code",
   "execution_count": 43,
   "metadata": {
    "collapsed": true
   },
   "outputs": [],
   "source": [
    "itype = np.zeros([ncol+1, nrow+1, 2], dtype = int)\n",
    "# bottom boundary\n",
    "itype[2:-1, 1,0] = 0\n",
    "itype[1, 1,1] = 0\n",
    "itype[-1, 1,1] = 0\n",
    "\n",
    "# right boundary\n",
    "itype[-1, 1:-1, 0] = 1\n",
    "itype[-1, -1,1] = 1\n",
    "\n",
    "# left boundary\n",
    "itype[1, 1:,0] = 1\n",
    "\n",
    "# top boundary\n",
    "itype[2:, -1,0] = 1\n",
    "itype[1, -1,1] = 1\n",
    "# itype[43:46,-1,0] = 4"
   ]
  },
  {
   "cell_type": "code",
   "execution_count": 44,
   "metadata": {
    "collapsed": false
   },
   "outputs": [],
   "source": [
    "# Bottom boundary is open\n",
    "# plt.imshow(itype[:, :, 0].T, cmap = 'Blues', \n",
    "#            origin = 'lower', interpolation = 'none')"
   ]
  },
  {
   "cell_type": "code",
   "execution_count": 45,
   "metadata": {
    "collapsed": true
   },
   "outputs": [],
   "source": [
    "f = open('dryin.dat', 'w')\n",
    "f.write('gravity     dt        tmax      xsplit      Manning n    \\n')\n",
    "f.write('9.806d0    0.02       2000.     100.d0       0.05d0      \\n')\n",
    "f.write(' epsh       beta   prate \\n')  \n",
    "f.write('0.0025d0    2.d0   0.07d0 \\n')\n",
    "f.write('xk          ainflt       binflt           tc           cappa \\n')\n",
    "f.write('3.9217d-4    0.5d0       2.65d-7         0.d0        0.99d0 \\n')\n",
    "f.write('istart     imass      ifront         print interval  \\n')\n",
    "f.write(' 0         1          1               100 \\n')\n",
    "f.write('number of boundary cell \\n') \n",
    "f.write('  {0} \\n'.format(nbcell))\n",
    "f.write(' j    k          inum    itype             ipos \\n')\n",
    "# f.write(' j \\t k \\tinum    itype \\t\\t ipos')\n",
    "j = 1\n",
    "for k in range(1, nrow+1):\n",
    "    if inum[j, k] == 2:\n",
    "        f.write( '{0:<5} {1:<13} {2:<7} {3:<8} {4:<9} {5:<8} {6:<6} \\n'.format(\n",
    "                    j, k, inum[j, k], itype[j, k, 0], itype[j, k, 1], \n",
    "                     ipos[j, k, 0], ipos[j, k, 1]))\n",
    "    else:\n",
    "        f.write( '{0:<5} {1:<13} {2:<7} {3:<18} {4:<10}   \\n'.format(\n",
    "                     j, k, inum[j, k],  itype[j, k, 0],  ipos[j, k, 0], ))\n",
    "f.close()"
   ]
  },
  {
   "cell_type": "code",
   "execution_count": 46,
   "metadata": {
    "collapsed": true
   },
   "outputs": [],
   "source": [
    "f = open('dryin.dat', 'a')\n",
    "for j in range(2, ncol+1):\n",
    "    if inum[j, k] == 2:\n",
    "        f.write( '{0:<5} {1:<13} {2:<7} {3:<8} {4:<9} {5:<8} {6:<6} \\n'.format(\n",
    "                    j, k, inum[j, k], itype[j, k, 0], itype[j, k, 1], \n",
    "                     ipos[j, k, 0], ipos[j, k, 1]))\n",
    "    else:\n",
    "        f.write( '{0:<5} {1:<13} {2:<7} {3:<18} {4:<10}   \\n'.format(\n",
    "                     j, k, inum[j, k],  itype[j, k, 0],  ipos[j, k, 0], ))\n",
    "f.close()"
   ]
  },
  {
   "cell_type": "code",
   "execution_count": 47,
   "metadata": {
    "collapsed": true
   },
   "outputs": [],
   "source": [
    "f = open('dryin.dat', 'a')\n",
    "for k in range(nrow-1,0,-1):\n",
    "    if inum[j, k] == 2:\n",
    "        f.write( '{0:<5} {1:<13} {2:<7} {3:<8} {4:<9} {5:<8} {6:<6} \\n'.format(\n",
    "                    j, k, inum[j, k], itype[j, k, 0], itype[j, k, 1], \n",
    "                     ipos[j, k, 0], ipos[j, k, 1]))\n",
    "    else:\n",
    "        f.write( '{0:<5} {1:<13} {2:<7} {3:<18} {4:<10}   \\n'.format(\n",
    "                     j, k, inum[j, k],  itype[j, k, 0],  ipos[j, k, 0], ))\n",
    "\n",
    "f.close()"
   ]
  },
  {
   "cell_type": "code",
   "execution_count": 48,
   "metadata": {
    "collapsed": true
   },
   "outputs": [],
   "source": [
    "f = open('dryin.dat', 'a')\n",
    "for j in range(ncol-1,1,-1):\n",
    "    if inum[j, k] == 2:\n",
    "        f.write( '{0:<5} {1:<13} {2:<7} {3:<8} {4:<9} {5:<8} {6:<6} \\n'.format(\n",
    "                    j, k, inum[j, k], itype[j, k, 0], itype[j, k, 1], \n",
    "                     ipos[j, k, 0], ipos[j, k, 1]))\n",
    "    else:\n",
    "        f.write( '{0:<5} {1:<13} {2:<7} {3:<18} {4:<10}   \\n'.format(\n",
    "                     j, k, inum[j, k],  itype[j, k, 0],  ipos[j, k, 0], ))\n",
    "f.close()\n",
    "\n"
   ]
  },
  {
   "cell_type": "code",
   "execution_count": 49,
   "metadata": {
    "collapsed": true
   },
   "outputs": [],
   "source": [
    "kbeg = np.ones(ncol+1, dtype = int)\n",
    "kend = np.ones(ncol+1, dtype = int)*nrow"
   ]
  },
  {
   "cell_type": "code",
   "execution_count": 50,
   "metadata": {
    "collapsed": true
   },
   "outputs": [],
   "source": [
    "f = open('dryin.dat', 'a')\n",
    "f.write('ncol\\n')\n",
    "f.write(\"{0}\\n\".format(ncol))\n",
    "f.write('j     kbeg          kend \\n')\n",
    "for j in range(1, ncol+1):\n",
    "    f.write( '{0:>5}  {1:>5} {2:>13}   \\n'.format(\n",
    "                j, kbeg[j],kend[k] ))\n",
    "f.close()"
   ]
  },
  {
   "cell_type": "code",
   "execution_count": 51,
   "metadata": {
    "collapsed": true
   },
   "outputs": [],
   "source": [
    "f = open('dryin.dat', 'a')\n",
    "f.write('h0l      u0l    v0l   \\n ')\n",
    "f.write('0.d0     0.0    0.0  \\n ')\n",
    "f.write('h0r      u0r    v0r  \\n ')\n",
    "f.write('0.d0     0.0    0.0  \\n ')\n",
    "f.close()"
   ]
  },
  {
   "cell_type": "code",
   "execution_count": null,
   "metadata": {
    "collapsed": true
   },
   "outputs": [],
   "source": []
  },
  {
   "cell_type": "code",
   "execution_count": null,
   "metadata": {
    "collapsed": true
   },
   "outputs": [],
   "source": [
    "    "
   ]
  }
 ],
 "metadata": {
  "anaconda-cloud": {},
  "kernelspec": {
   "display_name": "Python [default]",
   "language": "python",
   "name": "python2"
  },
  "language_info": {
   "codemirror_mode": {
    "name": "ipython",
    "version": 2
   },
   "file_extension": ".py",
   "mimetype": "text/x-python",
   "name": "python",
   "nbconvert_exporter": "python",
   "pygments_lexer": "ipython2",
   "version": "2.7.12"
  }
 },
 "nbformat": 4,
 "nbformat_minor": 0
}
