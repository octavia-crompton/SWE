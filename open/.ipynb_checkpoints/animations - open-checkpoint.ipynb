{
 "cells": [
  {
   "cell_type": "code",
   "execution_count": 34,
   "metadata": {
    "collapsed": false
   },
   "outputs": [],
   "source": [
    "%matplotlib inline"
   ]
  },
  {
   "cell_type": "code",
   "execution_count": 35,
   "metadata": {
    "code_folding": [
     0
    ],
    "collapsed": true
   },
   "outputs": [],
   "source": [
    "# import python packages and inline animation functions \n",
    "import matplotlib.pylab as plt\n",
    "import numpy as np\n",
    "import matplotlib as mpl\n",
    "from matplotlib.pylab import plot, pcolor, imshow\n",
    "from matplotlib import animation\n",
    "\n",
    "def _blit_draw(self, artists, bg_cache):\n",
    "    # Handles blitted drawing, which renders only the artists given instead\n",
    "    # of the entire figure.\n",
    "    updated_ax = []\n",
    "    for a in artists:\n",
    "        # If we haven't cached the background for this axes object, do\n",
    "        # so now. This might not always be reliable, but it's an attempt\n",
    "        # to automate the process.\n",
    "        if a.axes not in bg_cache:\n",
    "            # bg_cache[a.axes] = a.figure.canvas.copy_from_bbox(a.axes.bbox)\n",
    "            # change here\n",
    "            bg_cache[a.axes] = a.figure.canvas.copy_from_bbox(a.axes.figure.bbox)\n",
    "        a.axes.draw_artist(a)\n",
    "        updated_ax.append(a.axes)\n",
    "\n",
    "    # After rendering all the needed artists, blit each axes individually.\n",
    "    for ax in set(updated_ax):\n",
    "        # and here\n",
    "        # ax.figure.canvas.blit(ax.bbox)\n",
    "        ax.figure.canvas.blit(ax.figure.bbox)\n",
    "\n",
    "# MONKEY PATCH!!\n",
    "animation.Animation._blit_draw = _blit_draw\n",
    "from tempfile import NamedTemporaryFile\n",
    "\n",
    "\n",
    "\n",
    "VIDEO_TAG = \"\"\"<video controls>\n",
    " <source src=\"data:video/x-m4v;base64,{0}\" type=\"video/mp4\">\n",
    " Your browser does not support the video tag.\n",
    "</video>\"\"\"\n",
    "\n",
    "def anim_to_html(anim):\n",
    "    if not hasattr(anim, '_encoded_video'):\n",
    "        with NamedTemporaryFile(suffix='.mp4') as f:\n",
    "            anim.save(f.name, fps=20, extra_args=['-vcodec', 'libx264'])\n",
    "            video = open(f.name, \"rb\").read()\n",
    "        anim._encoded_video = video.encode(\"base64\")\n",
    "\n",
    "    return VIDEO_TAG.format(anim._encoded_video)\n",
    "\n",
    "from IPython.display import HTML\n",
    "\n",
    "def display_animation(anim):\n",
    "    plt.close(anim._fig)\n",
    "    return HTML(anim_to_html(anim))\n",
    "\n",
    "def myfloat(b):\n",
    "    try: \n",
    "        b = float(b)\n",
    "    except ValueError:\n",
    "        b = float(b.split('-')[0])*10**(-float(b.split('-')[1]))\n",
    "    return b"
   ]
  },
  {
   "cell_type": "markdown",
   "metadata": {},
   "source": [
    "## Grid setup\n"
   ]
  },
  {
   "cell_type": "code",
   "execution_count": 36,
   "metadata": {
    "code_folding": [
     0
    ],
    "collapsed": false
   },
   "outputs": [],
   "source": [
    "for i, line  in enumerate(dryin):\n",
    "    if (line[0] == 'j') :\n",
    "        ldum = i\n",
    "        break"
   ]
  },
  {
   "cell_type": "code",
   "execution_count": 37,
   "metadata": {
    "collapsed": false
   },
   "outputs": [],
   "source": [
    "dryin = []\n",
    "for line in open(\"dryin.dat\", 'r'):\n",
    "    dryin.append(line)\n",
    "    \n",
    "ncol = 94\n",
    "nrow = 63\n",
    "\n",
    "kbeg = [0]\n",
    "kend = [0]\n",
    "\n",
    "for line in range(ldum + 1, ldum + ncol):\n",
    "    a = dryin[line].strip().split(\" \")\n",
    "    a = [int(x) for x in a if x]\n",
    "    kbeg.append(a[1])\n",
    "    kend.append(a[2])\n",
    "kbeg.append(kbeg[-1])\n",
    "kend.append(kend[-1])"
   ]
  },
  {
   "cell_type": "code",
   "execution_count": 38,
   "metadata": {
    "collapsed": false
   },
   "outputs": [],
   "source": [
    "# from grid.  \n",
    "coords = []\n",
    "for line in open(\"coords\", 'r'):\n",
    "    item = line.rstrip()  \n",
    "    coords.append(line)\n",
    "    \n",
    "npt, ne = [int(j) for j in coords[0].split()]\n",
    "x = np.zeros(npt + 1)\n",
    "y = np.zeros(npt + 1)\n",
    "z = np.zeros(npt + 1)\n",
    "for i in range(1, npt + 1):\n",
    "    x[i], y[i], z[i] = [float(l) for l in coords[i].split()]\n",
    "\n",
    "global nop\n",
    "nop = np.zeros([ncol + 1, nrow + 1, 4], dtype=int)\n",
    "count = 0\n",
    "for j in range(1, ncol + 1):\n",
    "    for k in range(kbeg[j], kend[j] + 1):\n",
    "        nop[j, k, :] = [int(l) for l in coords[count + 1 + npt].split()]\n",
    "        count += 1\n",
    "        "
   ]
  },
  {
   "cell_type": "code",
   "execution_count": 39,
   "metadata": {
    "collapsed": true
   },
   "outputs": [],
   "source": [
    "#  cell center coordinates\n",
    "xc = np.zeros([ncol + 2, nrow + 2])  # coordinates of cell centers\n",
    "yc = np.zeros([ncol + 2, nrow + 2])\n",
    "zc = np.zeros([ncol + 2, nrow + 2])\n",
    "\n",
    "for j   in range(1, ncol + 1):  # Compute grid metrics\n",
    "    for k in range(kbeg[j], kend[j] + 1):\n",
    "        n1 = nop[j, k, 0]\n",
    "        n2 = nop[j, k, 1]\n",
    "        n3 = nop[j, k, 2]\n",
    "        n4 = nop[j, k, 3]\n",
    "        xc[j, k] = 0.25 * (x[n1] + x[n2] + x[n3] + x[n4])\n",
    "        yc[j, k] = 0.25 * (y[n1] + y[n2] + y[n3] + y[n4])\n",
    "        zc[j, k] = 0.25 * (z[n1] + z[n2] + z[n3] + z[n4])"
   ]
  },
  {
   "cell_type": "code",
   "execution_count": 40,
   "metadata": {
    "collapsed": false
   },
   "outputs": [
    {
     "name": "stdout",
     "output_type": "stream",
     "text": [
      "127\n"
     ]
    }
   ],
   "source": [
    "t = []\n",
    "itp = []  #  print step\n",
    "it = []   #  time step\n",
    "f =  open(\"output/time.out\", 'r')\n",
    "f.next()\n",
    "for line in f:\n",
    "        a = (line.strip().split(\" \"))\n",
    "        a = [b for b in a if b]\n",
    "        t.append(float(a[0]))\n",
    "        itp.append(int(a[1]))\n",
    "        it.append(int(a[2]))\n",
    "\n",
    "ntstep = len(itp)\n",
    "print ntstep"
   ]
  },
  {
   "cell_type": "code",
   "execution_count": 41,
   "metadata": {
    "collapsed": false
   },
   "outputs": [
    {
     "name": "stdout",
     "output_type": "stream",
     "text": [
      "h0=0.15; dt=0.2; slope=0.20 \th0=0.15_dt=0.2_slope=0.20\n"
     ]
    }
   ],
   "source": [
    "f =  open(\"output/meta.out\", 'r')\n",
    "\n",
    "slope = float(f.next().strip().split(\" \")[-1])\n",
    "h0 = 0.\n",
    "for l in range(3):\n",
    "    line = f.next()\n",
    "    a = line.strip().split(\" \")\n",
    "    a = [b for b in a if b]\n",
    "    h0 += float(a[-1])\n",
    "    \n",
    "prate = float(f.next().strip().split(\" \")[-1])    \n",
    "dt = float(f.next().strip().split(\" \")[-1])\n",
    "\n",
    "tmax = t[-1]\n",
    "h0 = h0/3.\n",
    "fmtstr = \"h0={0:.2f}; dt={1:.1f}; slope={2:.2f}\".format(h0, dt, slope)\n",
    "prntstr = \"_\".join(fmtstr.strip().split(\"; \"))\n",
    "print fmtstr, \"\\t\", prntstr\n"
   ]
  },
  {
   "cell_type": "code",
   "execution_count": null,
   "metadata": {
    "collapsed": false
   },
   "outputs": [],
   "source": [
    "h = []\n",
    "\n",
    "\n",
    "hdum =  np.zeros([ncol+2, nrow+2])\n",
    "\n",
    "for line in open(\"output/h.out\", 'r'):\n",
    "    a = (line.strip().split(\" \"))\n",
    "    a = [float(b) for b in a if b]\n",
    "    try:\n",
    "        j = int(a[0])\n",
    "        k = int(a[1])\n",
    "        hdum[j,k] = a[2]\n",
    "\n",
    "    except IndexError:\n",
    "        dumt = int(a[0])\n",
    "        h.append(hdum.copy())\n",
    "\n",
    "h = np.array(h)\n",
    "\n",
    "if len(h)!= ntstep:\n",
    "    print \"wrong shape\""
   ]
  },
  {
   "cell_type": "code",
   "execution_count": null,
   "metadata": {
    "code_folding": [],
    "collapsed": false
   },
   "outputs": [],
   "source": [
    "# final snapshot\n",
    "fig = plt.figure(figsize = (12, 4))\n",
    "tdum = ntstep - 1\n",
    "plt.subplot(121)\n",
    "plt.pcolor( h[tdum].T, cmap = 'Blues')\n",
    "#           norm =  mpl.colors.Normalize(vmin=0.01,vmax=0.12))\n",
    "plt.xlim(0, 94); plt.ylim(0, 64)\n",
    "plt.colorbar()\n",
    "plt.title(\"Surface height at t = {0}s\".format(t[tdum]))\n",
    "plt.subplot(122)\n",
    "plt.title('Basin topography')\n",
    "plt.pcolor( zc.T, cmap = 'Blues' ,\n",
    "           norm =  mpl.colors.Normalize(vmin=29.8,vmax=29.85))\n",
    "plt.xlim(0, 94); plt.ylim(0, 64)\n",
    "plt.colorbar()\n",
    "fig.savefig('plots/basin_h({0:.0f}s).pdf'.format( tmax))"
   ]
  },
  {
   "cell_type": "code",
   "execution_count": null,
   "metadata": {
    "code_folding": [],
    "collapsed": false
   },
   "outputs": [],
   "source": [
    "fig2 = plt.figure()\n",
    "ims = []\n",
    "\n",
    "plt.pcolor(h[-1, 1:-1, 1:-1].T, cmap = 'Blues', norm=plt.Normalize(0, .1))\n",
    "plt.title('height; {0}'.format(fmtstr), fontsize = 10 )\n",
    "\n",
    "for add in np.arange(ntstep):\n",
    "    ims.append((plt.pcolor( h[add, 1:-1, 1:-1].T, \n",
    "                           cmap = 'Blues', norm=plt.Normalize(0, .1), label = \"1\"), ))\n",
    "\n",
    "h_ani = animation.ArtistAnimation(fig2, ims, interval=100, repeat_delay=3000,\n",
    "                                   blit=True)\n",
    "\n",
    "h_ani.save('plots/h_{0}.mp4'.format(prntstr))"
   ]
  },
  {
   "cell_type": "code",
   "execution_count": null,
   "metadata": {
    "collapsed": false
   },
   "outputs": [],
   "source": [
    "display_animation(h_ani)"
   ]
  },
  {
   "cell_type": "code",
   "execution_count": null,
   "metadata": {
    "collapsed": false
   },
   "outputs": [],
   "source": [
    "fig=plt.figure()\n",
    "xx = np.arange(94)\n",
    "\n",
    "zmin =  np.unique(h[:, 1:-1, 62]+zc[1:-1, 62])[1] - 0.01\n",
    "zmax = np.unique(h[:, 1:-1, 62]+zc[1:-1, 62])[-1] + 0.01\n",
    "\n",
    "ax = plt.axes(xlim=(0, 94), ylim=(zmin, zmax))\n",
    "plt.plot(xx,  zc[1:-1, 62], 'k')\n",
    "img, = plt.plot(xx,  (zc + h[1])[1:-1, 62])\n",
    "ttl = ax.set_title('',animated=True)\n",
    "\n",
    "ax.xaxis.set_animated(True)\n",
    "\n",
    "def init():\n",
    "    ttl.set_text('') \n",
    "    img.set_data([0],[0])\n",
    "    return img, ttl, ax.xaxis\n",
    "\n",
    "def func(n):\n",
    "    ttl.set_text('h(j=62);  t={0:.1f}s'.format(t[n]))    \n",
    "    img.set_data(xx, (zc + h[n])[ 1:-1, 62])\n",
    "    ax.set_xlim(xx[0],yy[-1])\n",
    "    return img, ttl, ax.xaxis\n",
    "\n",
    "ani = animation.FuncAnimation(fig,func,init_func=init,frames=len(h),\n",
    "                               interval=100,blit=True)\n",
    "\n",
    "ani.save('plots/h_j62_{0}.mp4'.format(prntstr))\n",
    "display_animation(ani)\n"
   ]
  },
  {
   "cell_type": "code",
   "execution_count": null,
   "metadata": {
    "collapsed": false,
    "scrolled": true
   },
   "outputs": [],
   "source": [
    "fig=plt.figure()\n",
    "yy = np.arange(63)\n",
    "\n",
    "zmin =  np.unique(h+zc)[1] - 0.01\n",
    "zmax = np.unique(h+zc)[-1] + 0.01\n",
    "\n",
    "ax = plt.axes(xlim=(0, 63), ylim=(zmin, zmax))\n",
    "plt.plot(yy,  zc[42, 1:-1], 'k')\n",
    "img, = plt.plot(yy,  (zc + h[1])[42, 1:-1])\n",
    "ttl = ax.set_title('',animated=True)\n",
    "\n",
    "ax.xaxis.set_animated(True)\n",
    "\n",
    "def init():\n",
    "    ttl.set_text('') \n",
    "    img.set_data([0],[0])\n",
    "    return img, ttl, ax.xaxis\n",
    "\n",
    "def func(n):\n",
    "    ttl.set_text('h(k=42);  t={0:.1f}s'.format(t[n]))    \n",
    "    img.set_data(yy, (zc + h[n])[42, 1:-1])\n",
    "    ax.set_xlim(yy[0],yy[-1])\n",
    "    return img, ttl, ax.xaxis\n",
    "\n",
    "ani = animation.FuncAnimation(fig,func,init_func=init,frames=len(h),\n",
    "                               interval=100,blit=True)\n",
    "\n",
    "ani.save('plots/h_k42_{0}.mp4'.format(prntstr))\n",
    "display_animation(ani)\n"
   ]
  },
  {
   "cell_type": "code",
   "execution_count": null,
   "metadata": {
    "collapsed": false
   },
   "outputs": [],
   "source": [
    "f = []\n",
    "ts = []\n",
    "fdum = np.zeros([ncol+1 ]) \n",
    "\n",
    "for line in open(\"output/fluxes.out\", 'r'):\n",
    "    a = (line.strip().split(\" \"))\n",
    "    try:\n",
    "        a = [str(b) for b in a if b]        \n",
    "        j = int(a[0])\n",
    "        k = int(a[1])\n",
    "        fdum[j] = a[2]   \n",
    "    except ValueError:\n",
    "        dumt = int(a[0])\n",
    "        ts.append(float(a[1]))\n",
    "        f.append(fdum.copy())\n",
    "f = np.array(f)\n",
    "ts = np.array(ts)\n",
    "nfstep = len(f)      "
   ]
  },
  {
   "cell_type": "code",
   "execution_count": null,
   "metadata": {
    "code_folding": [
     0
    ],
    "collapsed": false
   },
   "outputs": [],
   "source": [
    "## Input flux  - e\n",
    "fig=plt.figure()\n",
    "xx = np.arange(95)\n",
    "ax = plt.axes(xlim=(0, 94), ylim=(np.min(f)-0.01, .01))\n",
    "img, = plt.plot(xx, f[0])\n",
    "ttl = ax.set_title('',animated=True)\n",
    "# ttl = ax.text(.25, 1.05, '', transform = ax.transAxes, va='center')\n",
    "\n",
    "ax.xaxis.set_animated(True)\n",
    "\n",
    "def init():\n",
    "    ttl.set_text('') \n",
    "    img.set_data([0],[0])\n",
    "    return img, ttl, ax.xaxis\n",
    "\n",
    "def func(n):\n",
    "    ttl.set_text('flux ($hv$) along top boundary;  t={0:.1f}s'.format(t[n]))    \n",
    "    img.set_data(xx, f[n])\n",
    "    ax.set_xlim(xx[0],xx[-1])\n",
    "    return img, ttl, ax.xaxis\n",
    "\n",
    "ani = animation.FuncAnimation(fig,func,init_func=init,frames=len(f),\n",
    "                              interval=100,blit=True)\n",
    "\n",
    "ani.save('plots/f_{0}.mp4'.format(prntstr))\n",
    "display_animation(ani)\n"
   ]
  },
  {
   "cell_type": "code",
   "execution_count": null,
   "metadata": {
    "collapsed": false
   },
   "outputs": [],
   "source": [
    "def get_slope():\n",
    "    sx =  (zc[1:,] - zc[:-1])[1:-1, 1:-1]\n",
    "    dx =  (xc[1:,] - xc[:-1])[1:-1, 1:-1]\n",
    "    dx[dx ==0] = 2\n",
    "    sx = sx/dx\n",
    "    sx[abs(sx) > .2] = 0\n",
    "\n",
    "\n",
    "    sy =  (zc[:,1:] - zc[:, :-1])[1:-1, 1:-1]\n",
    "    dy =  (yc[:,1:] - yc[:, :-1])[1:-1, 1:-1]\n",
    "    dy[dy ==0] = 2\n",
    "    sy = sy/dy\n",
    "    sy[abs(sy) > .2] = 0\n",
    "    slope = np.sqrt(sx[:, 1:]**2 + sy[1:, :]**2)*100\n",
    "    return slope\n",
    "\n",
    "slope = get_slope()\n",
    "print np.max(slope)"
   ]
  },
  {
   "cell_type": "code",
   "execution_count": null,
   "metadata": {
    "collapsed": false
   },
   "outputs": [],
   "source": [
    "plt.imshow(slope.T)\n",
    "plt.colorbar()\n",
    "plt.title('slope')"
   ]
  },
  {
   "cell_type": "code",
   "execution_count": null,
   "metadata": {
    "collapsed": true
   },
   "outputs": [],
   "source": []
  }
 ],
 "metadata": {
  "anaconda-cloud": {},
  "kernelspec": {
   "display_name": "Python [default]",
   "language": "python",
   "name": "python2"
  },
  "language_info": {
   "codemirror_mode": {
    "name": "ipython",
    "version": 2
   },
   "file_extension": ".py",
   "mimetype": "text/x-python",
   "name": "python",
   "nbconvert_exporter": "python",
   "pygments_lexer": "ipython2",
   "version": "2.7.12"
  }
 },
 "nbformat": 4,
 "nbformat_minor": 1
}
