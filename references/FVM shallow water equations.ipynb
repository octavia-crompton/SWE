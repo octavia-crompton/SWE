{
 "cells": [
  {
   "cell_type": "markdown",
   "metadata": {},
   "source": [
    "$$ \\int _R \\int \\frac{\\partial U}{\\partial t } + \\oint_S \\underline{H} \\cdot \\underline{n} ds = 0$$\n",
    " \n",
    " $$ A \\frac{\\partial \\bar{U}}{\\partial t } + \\oint_S \\underline{H} \\cdot \\underline{n} ds = 0$$\n",
    " \n",
    "  $$  \\frac{\\partial \\bar{U}}{\\partial t }  = - \\frac{1}{A} \\oint_S \\underline{H} \\cdot \\underline{n} ds $$\n",
    "\n",
    "A FVS is created by discretizing equation (1.5) over each cell in the computational mesh.  \n",
    "Cells are indexed by subscript $k$.  Let \n",
    "- $A_k$ be the area of cell k\n",
    "- $U_k^n$  be the approximation to the mean value of $U$ over cell k at time level n.\n",
    "- $s_k$ be the unique outward pointing normal vector to a side of cell k whose magniture is the length of the side \n",
    "\n",
    "  $$ \\frac{1}{A} \\oint_S \\underline{H} \\cdot \\underline{ds}  = \\sum_{sides} \\underline{H}^n \\cdot \\underline{s} $$\n",
    "  $$  \\frac{\\partial \\bar{U}}{\\partial t }  = - \\frac{1}{A} \\sum_{sides} \\underline{H} \\cdot \\underline{s}  $$"
   ]
  },
  {
   "cell_type": "markdown",
   "metadata": {},
   "source": [
    "$$ U_k^{n+1} = u_k^n - \\frac{\\Delta t}{A_k} \\sum_{sides} \\underline{H}^n \\cdot \\underline{s}$$\n",
    "\n",
    "$$ U_{i, j}^{n+1} = u_{i, j}^n - \\frac{\\Delta t}{A_{i, j}} ( \n",
    "    \\underline{H}_{i + 1/2, j}^n \\cdot \\underline{S}_{i+1/2, j}  +  \n",
    "     \\underline{H}_{i , j + 1/2}^n \\cdot \\underline{S}_{i, j+ 1/2} + \n",
    "     \\underline{H}_{i - 1/2, j}^n \\cdot \\underline{S}_{i-1/2, j} +\n",
    "     \\underline{H}_{i , j-  1/2}^n \\cdot \\underline{S}_{i, j- 1/2}\n",
    ")$$\n",
    "\n"
   ]
  },
  {
   "cell_type": "markdown",
   "metadata": {},
   "source": [
    "FVM applies to PDEs writtien in the form:\n",
    "    \n",
    "$$ \\frac{\\partial U}{\\partial t} + \\nabla \\cdot \\underline{H} = Q $$\n",
    "\n",
    "$\\overline{H} = \\overline{H} (U)  $ is the flux density of vector and Q is a source term.  \n",
    "\n",
    "For simplicity we will focus our attention on 2D PDEs.  \n",
    "Integrating over a region R of area A with perimeter C and using a version of Green's theorem gives:\n",
    "\n",
    "$$ A \\frac{\\partial \\bar{U}}{\\partial t} + \\oint_C \\underline{H} \\cdot \\underline{n} ds  = A \\ \\overline{Q}$$\n",
    "\n"
   ]
  },
  {
   "cell_type": "markdown",
   "metadata": {},
   "source": [
    "$$  \\frac{\\partial \\bar{U}}{\\partial t}  = - \\frac{1}{A} \\oint_C \\underline{H} \\cdot \\underline{n} ds  + Q $$\n"
   ]
  },
  {
   "cell_type": "markdown",
   "metadata": {},
   "source": [
    "Discretizing over cell k  using a first order forward difference in time gives:\n",
    "$$ \\frac{u_k^{n+1} u_k^{n}}{\\Delta t} = - \\frac{1}{A_k} \\bigg( \\sum_{sides} \\underline{H}^n \\cdot \\underline{s} \\bigg) + q_k^n $$"
   ]
  },
  {
   "cell_type": "markdown",
   "metadata": {},
   "source": [
    "\n",
    "\n",
    "Description:  Finite volume solvers for the 2D PDE:\n",
    "$$ \\frac{\\partial U}{\\partial t} + \\nabla \\cdot \\underline{H} = 0$$ \n",
    "\n",
    "- Solvers are all first order in time.\n",
    "-  This equation corresponds to the finite volume form:\n",
    "%\n",
    "$$ \\iint \\frac{ \\partial U}{ \\partial t} dA + \\oint\\underline{H} \\cdot \\underline{n} ds= 0 $$"
   ]
  },
  {
   "cell_type": "markdown",
   "metadata": {},
   "source": [
    "The equation is the (homogeneous) shallow water equation so:\n",
    "$ h=h(t,x,y)$ is water depth. "
   ]
  },
  {
   "cell_type": "markdown",
   "metadata": {},
   "source": [
    "\n",
    "- $g$ is acceleration due to gravity.\n",
    "- $f_i=h\\cdot g$  is the geopotential.\n",
    "\n",
    "$ v = v(t,x,y) = v_x i + v_y j = <v_x,v_y> $ is water velocity.\n",
    "\n",
    "$ U = \\begin{pmatrix}\n",
    "\\phi \\\\\n",
    "\\phi \\cdot v_x \\\\\n",
    "\\phi \\cdot v_y\n",
    "\\end{pmatrix}$\n",
    "   \n",
    "is the matrix of conserved variables.        \n"
   ]
  },
  {
   "cell_type": "markdown",
   "metadata": {},
   "source": [
    "\n",
    "$H=Fi+Gj$ is the flux density where i and j are the usual Cartesian \n",
    "basis vectors and,\n",
    "\n",
    "$ F = \\begin{pmatrix}\n",
    " \\phi \\cdot v_x  \\\\\n",
    "\\phi \\cdot v_x^2 + \\phi^2/2 \\\\\n",
    "\\phi \\cdot v_y \\cdot v_y\n",
    "\\end{pmatrix}$\n",
    "\n",
    "\n",
    "$ G = \\begin{pmatrix}\n",
    " \\phi \\cdot v_y  \\\\\n",
    "\\phi \\cdot v_x \\cdot v_y  \\\\\n",
    "\\phi \\cdot v_y^2 + \\phi^2/2 \n",
    "\\end{pmatrix}$\n",
    "   \n"
   ]
  }
 ],
 "metadata": {
  "anaconda-cloud": {},
  "kernelspec": {
   "display_name": "Python [default]",
   "language": "python",
   "name": "python2"
  },
  "language_info": {
   "codemirror_mode": {
    "name": "ipython",
    "version": 2
   },
   "file_extension": ".py",
   "mimetype": "text/x-python",
   "name": "python",
   "nbconvert_exporter": "python",
   "pygments_lexer": "ipython2",
   "version": "2.7.12"
  }
 },
 "nbformat": 4,
 "nbformat_minor": 0
}
