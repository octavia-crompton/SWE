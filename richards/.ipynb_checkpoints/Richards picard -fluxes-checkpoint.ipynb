{
 "cells": [
  {
   "cell_type": "markdown",
   "metadata": {},
   "source": [
    "### 1-D Richards equation solver code\n",
    "- formulation based on a backward Euler implementation of the mixed theta-head formulation of the 1-D Richards equation, with a modified Picard iteration finite differencing solution scheme, with a modified Picard iteration finite differencing solution scheme.\n",
    "\n",
    "- The soil water retention parameterization used is that of van Genuchten \n",
    " [1980], and this code requires the corresponding MATLAB function        \n",
    " vanGenuchten.m.  \n",
    " \n",
    " - coordinate axis:  positive  downward\n",
    "         z[0] = 0  (top)\n",
    "         z[-1] = 100  (bottom)"
   ]
  },
  {
   "cell_type": "code",
   "execution_count": 1,
   "metadata": {
    "collapsed": true
   },
   "outputs": [],
   "source": [
    "import numpy as np\n",
    "import matplotlib.pylab as plt\n",
    "plt.style.use('ggplot')\n",
    "import time"
   ]
  },
  {
   "cell_type": "code",
   "execution_count": 2,
   "metadata": {
    "collapsed": true
   },
   "outputs": [],
   "source": [
    "%matplotlib inline"
   ]
  },
  {
   "cell_type": "code",
   "execution_count": 3,
   "metadata": {
    "code_folding": [],
    "collapsed": true
   },
   "outputs": [],
   "source": [
    "def vanGenuchten(h,phi) :\n",
    "    alpha   = phi[0]\n",
    "    theta_S = phi[1]\n",
    "    theta_R = phi[2]\n",
    "    n       = phi[3]\n",
    "    m       = phi[4]\n",
    "    Ksat    = phi[5] \n",
    "    # Compute the volumetric moisture content\n",
    "    theta = (theta_S - theta_R)/(1 + (alpha*abs(h))**n)**m + theta_R; \n",
    "    ## Compute the effective saturation\n",
    "    Se = ((theta - theta_R)/(theta_S - theta_R)); \n",
    "    # Compute the hydraulic conductivity\n",
    "    K = Ksat*Se**(1./2)*(1 - (1 - Se**(1./m))**m)**2; \n",
    "    # Compute the specific moisture storage\n",
    "    C =  -alpha*n*np.sign(h)*(1./n - 1)*(alpha*abs(h))**(n - 1)*(theta_R - \n",
    "         theta_S)*((alpha*abs(h))**n + 1)**(1/n - 2);\n",
    "    return [C,K,theta]"
   ]
  },
  {
   "cell_type": "code",
   "execution_count": 4,
   "metadata": {
    "code_folding": [],
    "collapsed": true
   },
   "outputs": [],
   "source": [
    "# Define van Genuchten parameters\n",
    "alpha   = 0.0335\n",
    "theta_S = 0.368;\n",
    "theta_R = 0.102;\n",
    "lambdA  = 0.25\n",
    "n       = lambdA + 1\n",
    "m       = lambdA/n\n",
    "Ksat    = 0.09\n",
    "### add second layer parameters"
   ]
  },
  {
   "cell_type": "code",
   "execution_count": 5,
   "metadata": {
    "code_folding": [],
    "collapsed": false
   },
   "outputs": [],
   "source": [
    "# Store van Genuchten parameters in array\n",
    "phi = np.zeros(6)\n",
    "phi[0] = alpha\n",
    "phi[1] = theta_S\n",
    "phi[2] = theta_R\n",
    "phi[3] = n\n",
    "phi[4] = m\n",
    "phi[5] = Ksat"
   ]
  },
  {
   "cell_type": "code",
   "execution_count": 174,
   "metadata": {
    "code_folding": [],
    "collapsed": false
   },
   "outputs": [],
   "source": [
    "# make mesh variables\n",
    "dz = 1.; # [cm]\n",
    "zmin = 0.; # [cm]\n",
    "zmax = 100.; # [cm]\n",
    "z = np.arange(zmin, zmax+1, dz)\n",
    "nz   =  z.shape[0]\n",
    "\n",
    "# Define boundary conditions at top and bottom\n",
    "hinit = np.arange(nz)*-5\n",
    "htop = hinit[0]\n",
    "\n",
    "# htop = -30\n",
    "# hinit = -1000*np.ones(nz)\n",
    "# hinit[0] = htop\n",
    "hbottom = hinit[-1]\n"
   ]
  },
  {
   "cell_type": "code",
   "execution_count": 175,
   "metadata": {
    "collapsed": false
   },
   "outputs": [
    {
     "data": {
      "text/plain": [
       "array([   0,   -5,  -10,  -15,  -20,  -25,  -30,  -35,  -40,  -45,  -50,\n",
       "        -55,  -60,  -65,  -70,  -75,  -80,  -85,  -90,  -95, -100, -105,\n",
       "       -110, -115, -120, -125, -130, -135, -140, -145, -150, -155, -160,\n",
       "       -165, -170, -175, -180, -185, -190, -195, -200, -205, -210, -215,\n",
       "       -220, -225, -230, -235, -240, -245, -250, -255, -260, -265, -270,\n",
       "       -275, -280, -285, -290, -295, -300, -305, -310, -315, -320, -325,\n",
       "       -330, -335, -340, -345, -350, -355, -360, -365, -370, -375, -380,\n",
       "       -385, -390, -395, -400, -405, -410, -415, -420, -425, -430, -435,\n",
       "       -440, -445, -450, -455, -460, -465, -470, -475, -480, -485, -490,\n",
       "       -495, -500])"
      ]
     },
     "execution_count": 175,
     "metadata": {},
     "output_type": "execute_result"
    }
   ],
   "source": [
    "hinit"
   ]
  },
  {
   "cell_type": "code",
   "execution_count": 176,
   "metadata": {
    "code_folding": [],
    "collapsed": false
   },
   "outputs": [],
   "source": [
    "# Define matrices that we'll need in solution\n",
    "BottomBoundCon = 1  # 0 = constant head, 1 = free drainage\n",
    "DeltaPlus  = np.diag(-np.ones(nz)) + np.diag(np.ones(nz-1), 1)\n",
    "DeltaPlus[0,:] = 0\n",
    "DeltaPlus[nz-1,:] = 0\n",
    "\n",
    "DeltaMinus = np.diag(np.ones(nz)) + np.diag(-np.ones(nz-1),-1);\n",
    "DeltaMinus[0,:] = 0\n",
    "DeltaMinus[nz-1,:] = 0\n",
    "\n",
    "MPlus = np.diag(np.ones(nz))+np.diag(np.ones(nz-1),1)\n",
    "MPlus[0,0] = 2\n",
    "MPlus[0,1:nz-1] = 0\n",
    "MPlus[nz-1,nz-1] = 2\n",
    "MPlus[nz-1,:nz-1] = 0  # not needed\n",
    "\n",
    "MMinus = np.diag(np.ones(nz)) + np.diag(np.ones(nz-1),-1)\n",
    "MMinus[0,0] = 2\n",
    "MMinus[0,1:nz-1] = 0  # not needed\n",
    "MMinus[nz-1,nz-1] = 2\n",
    "MMinus[nz-1,:nz-1] = 0 "
   ]
  },
  {
   "cell_type": "code",
   "execution_count": null,
   "metadata": {
    "collapsed": true
   },
   "outputs": [],
   "source": [
    "\n"
   ]
  },
  {
   "cell_type": "code",
   "execution_count": 177,
   "metadata": {
    "code_folding": [],
    "collapsed": false
   },
   "outputs": [],
   "source": [
    "# Define time variables\n",
    "stop_tol = 1e-10  # Stopping tolerance [cm]\n",
    "dt = 1 # [s]\n",
    "tmin = 0. # [s]\n",
    "nt = 100\n",
    "tmax = dt*(nt - 1.) # [s]\n",
    "t = np.arange(tmin, tmax+1, dt)[:nt]  #(tmin:dt:tmax);\n",
    "\n",
    "\n",
    "# Define a storage container to store the pressure heads and soil moistures\n",
    "[Ctop,Ktop,thetatop] = vanGenuchten(htop,phi)\n",
    "[Cbottom,Kbottom,thetabottom] = vanGenuchten(hbottom,phi)\n",
    "[Cinit,Kinit,thetainit] = vanGenuchten(hinit,phi) \n",
    "H = np.zeros([nz,nt])\n",
    "K = np.zeros([nz,nt])\n",
    "C = np.zeros([nz,nt])\n",
    "H[:,0] = hinit\n",
    "K[:, 0] = Kinit\n",
    "C[:, 0] = Cinit\n",
    "\n",
    "THETA = np.zeros([nz,nt])\n",
    "THETA[:,0] = thetainit\n",
    "ktop = np.zeros([ nt])\n",
    "kbot = np.zeros([ nt])\n",
    "error = np.zeros([nt])"
   ]
  },
  {
   "cell_type": "code",
   "execution_count": null,
   "metadata": {
    "code_folding": [],
    "collapsed": false
   },
   "outputs": [
    {
     "name": "stdout",
     "output_type": "stream",
     "text": [
      "10 20 30 40"
     ]
    }
   ],
   "source": [
    "# Figures\n",
    "plt.figure(1, figsize = (4,4)); \n",
    "plt.plot(hinit,z);\n",
    "plt.xlabel('Pressure head [cm]',fontsize=  11)\n",
    "plt.ylabel('Depth [cm]',fontsize=  11)\n",
    "plt.xlim( -1010, 0)\n",
    "plt.gca().invert_yaxis()\n",
    "plt.title('Pressure head vs. depth', fontsize=  11)\n",
    "plt.figure(2, figsize = (4,4))\n",
    "plt.plot(thetainit,z)\n",
    "plt.xlabel('Soil moisture $cm^3/cm^3$',fontsize=  11)\n",
    "plt.ylabel('Depth [cm]',fontsize=  11)\n",
    "plt.gca().invert_yaxis()\n",
    "plt.title('Soil moisture vs. depth',fontsize=  11)\n",
    "\n",
    "start_time = time.time()\n",
    "\n",
    "\n",
    "# #Define the container for an iteration counter\n",
    "iterations = np.zeros([nt-1,1]);\n",
    "\n",
    "# # Initialize the Picard iteration solver\n",
    "for i in range(1, nt): \n",
    "    hnp1m =  H[:,i-1]  \n",
    "    #Enter the iteration step\n",
    "    thetan = THETA[:,i-1]   \n",
    "    #Define a dummy stopping variable\n",
    "    stop_flag = 0\n",
    "    # Define an iteration counter\n",
    "    niter = 0\n",
    "    while(stop_flag==0): # Get C,K,theta\n",
    "        [cnp1m,knp1m,thetanp1m] = vanGenuchten(hnp1m,phi); \n",
    "        #  Compute the individual elements of the A matrix for LHS\n",
    "        Cdiag = np.diag(cnp1m); \n",
    "        kbarplus = (1/2.)*MPlus.dot(knp1m);\n",
    "        Kbarplus = np.diag(kbarplus); \n",
    "        kbarminus = (1/2.)*MMinus.dot(knp1m);\n",
    "        Kbarminus = np.diag(kbarminus); \n",
    "        A = (1./dt)*Cdiag - 1./((dz)**2)*(Kbarplus.dot(DeltaPlus) - Kbarminus.dot(DeltaMinus)); \n",
    "        #  Compute the residual of MPFD (RHS)\n",
    "        R_MPFD = (1./(dz**2))*(Kbarplus.dot(DeltaPlus).dot(hnp1m) - Kbarminus.dot(DeltaMinus).dot(hnp1m)) + \\\n",
    "            (1./dz)*(kbarplus - kbarminus) - (1./dt)*(thetanp1m - thetan); \n",
    "        # Compute deltam for iteration level m+1\n",
    "\n",
    "        deltam = np.linalg.pinv(A).dot(R_MPFD)\n",
    "        # Increment iteration counter and display number of iterations\n",
    "        niter = niter + 1;\n",
    "        if max(abs(deltam[1:(nz-1)]))<stop_tol:\n",
    "            stop_flag = 1\n",
    "            hnp1mp1 = hnp1m + deltam # Force boundary conditions       \n",
    "            hnp1mp1[0] = htop;\n",
    "            if BottomBoundCon==0:\n",
    "                hnp1mp1[nz-1] = hbottom;\n",
    "            elif (BottomBoundCon==1):\n",
    "                hnp1mp1[nz-1] = hnp1m[nz-2];\n",
    "            [cnp1m,knp1m,thetanp1m] = vanGenuchten(hnp1mp1,phi);\n",
    "            thetanp1mp1 = thetanp1m;\n",
    "            knp1mp1 = knp1m\n",
    "            cnp1mp1 = cnp1m            \n",
    "            hnp1m = hnp1mp1; \n",
    "        else:\n",
    "            hnp1mp1 = hnp1m + deltam;\n",
    "            hnp1m = hnp1mp1; # Force boundary conditions\n",
    "            hnp1m[0] = htop;\n",
    "            if BottomBoundCon==0:\n",
    "                hnp1m[nz-1] = hbottom;\n",
    "            elif BottomBoundCon==1:\n",
    "                hnp1m[nz-1] = hnp1m[nz-2];\n",
    "    # Closes while(stop_flag==0) H(:,i) = hnp1mp1;\n",
    "    THETA[:,i] = thetanp1mp1; \n",
    "    H[:,i] = hnp1mp1;\n",
    "    K[:, i]= knp1mp1;\n",
    "    C[:, i] = cnp1mp1;\n",
    "    ktop[i] =  (K[0, i] + K[1, i])/2.  \n",
    "    kbot[i] =  (K[-1, i] + K[-2, i])/2.   #(knp1mp1[-1] + knp1mp1[-2])/2.  \n",
    "    error[i] = dz*np.sum(C[1:-1,i]*deltam[1:-1]) -  kbot[i]*(deltam[-1] - deltam[-2])*dt/dz \\\n",
    "         + ktop[i]*(deltam[1] - deltam[0])*dt/dz\n",
    "    if (np.mod(i,10)==0):\n",
    "        print i,\n",
    "        plt.figure(1, figsize= (6,5))\n",
    "        plt.plot(hnp1mp1,z)\n",
    "        plt.xlabel('Pressure head [cm]')\n",
    "        plt.ylabel('Depth [cm]')\n",
    "        plt.ylim(100, 0)\n",
    "        plt.figure(2, figsize= (6,5))\n",
    "        plt.plot(thetanp1mp1,z)\n",
    "        plt.xlabel('Soil moisture [cm$^3/$cm$^3$]')\n",
    "        plt.ylabel('Depth [cm]')\n",
    "        plt.ylim(100, 0)\n",
    "    #    save number of iterations\n",
    "    iterations[i-1] = niter;\n",
    "print(\"--- %s seconds ---\" % (time.time() - start_time))"
   ]
  },
  {
   "cell_type": "code",
   "execution_count": null,
   "metadata": {
    "code_folding": [],
    "collapsed": true
   },
   "outputs": [],
   "source": [
    "# plt.imshow(THETA[:, 1:2000:10])"
   ]
  },
  {
   "cell_type": "code",
   "execution_count": null,
   "metadata": {
    "collapsed": false
   },
   "outputs": [],
   "source": [
    "#  Celia 12a.\n",
    "# Kp5 : K_{1/2}  ,  Kn5 : K_{N-1/2}\n",
    "Kp5 = (K[1] + K[0])/2.\n",
    "Kn5 = (K[-1] + K[-2])/2."
   ]
  },
  {
   "cell_type": "code",
   "execution_count": null,
   "metadata": {
    "collapsed": false
   },
   "outputs": [],
   "source": [
    "# plt.plot(Kp5)\n",
    "# kbot - Kn5"
   ]
  },
  {
   "cell_type": "code",
   "execution_count": null,
   "metadata": {
    "collapsed": false
   },
   "outputs": [],
   "source": [
    "fluxin =  -  ktop*((H[1] - H[0])/dz + 1.)*dt   # top flux"
   ]
  },
  {
   "cell_type": "code",
   "execution_count": null,
   "metadata": {
    "collapsed": false
   },
   "outputs": [],
   "source": [
    "fluxout =  kbot*((H[-1] - H[-2])/dz + 1. )*dt # bottom flux\n",
    "# fluxout =  kbot*((H[-1] - H[-2])/dz )*dt # bottom flux\n"
   ]
  },
  {
   "cell_type": "code",
   "execution_count": null,
   "metadata": {
    "collapsed": false
   },
   "outputs": [],
   "source": [
    "THETAbar = (MPlus.dot(THETA) + MMinus.dot(THETA))/2.\n",
    "newmass = (THETA[:-1, 1:] - THETA[:-1, :-1]).sum(0)   #  change in mass \n",
    "# newmass = (THETA[:, 1:] - THETA[:, :-1]).sum(0)   #  change in mass \n",
    "# newmass = (THETAbar[:, 1:] - THETAbar[:, :-1]).sum(0)/2.   #  change in mass "
   ]
  },
  {
   "cell_type": "code",
   "execution_count": null,
   "metadata": {
    "collapsed": false
   },
   "outputs": [],
   "source": [
    "#  plot mass balance terms\n",
    "plt.figure(1, figsize = (10,3))\n",
    "ax = plt.subplot(121)\n",
    "plt.title('Mass balance', fontsize = 10)\n",
    "plt.plot(fluxout[1:], label = 'flux out')\n",
    "plt.plot(fluxin[1:], label = 'flux in')\n",
    "plt.plot(newmass, label = 'new mass')\n",
    "plt.legend(fontsize = 10)\n",
    "ax = plt.subplot(122)\n",
    "plt.title('Mass balance', fontsize = 10)\n",
    "plt.plot(t[1:], fluxin[1:] - newmass + fluxout[1:] - error[1:] ,  label = 'time step')\n",
    "plt.plot(t[1:], np.cumsum(fluxin[1:] - newmass + fluxout[1:] - error[1:] ), label =  'error')\n",
    "# plt.plot(t[1:], np.cumsum(fluxin[1:] - newmass + fluxout[1:]  ), label =  'cumulative')\n",
    "# plt.plot(t[1:], np.cumsum(fluxin[1:] - newmass), label =  'cumulative')\n",
    "plt.legend(fontsize = 10)\n",
    "# (fluxin[1:] - newmass  + fluxout[1:] +error[1:])"
   ]
  },
  {
   "cell_type": "code",
   "execution_count": 158,
   "metadata": {
    "collapsed": false
   },
   "outputs": [
    {
     "data": {
      "image/png": "[encoded data removed]",
      "text/plain": [
       "<matplotlib.figure.Figure at 0x117848090>"
      ]
     },
     "metadata": {},
     "output_type": "display_data"
    }
   ],
   "source": [
    "plt.figure(5);\n",
    "plt.plot(t[1:nt],iterations,'o-');\n",
    "plt.xlabel('Time [s]');\n",
    "plt.ylabel('Number of iterations');"
   ]
  },
  {
   "cell_type": "code",
   "execution_count": 146,
   "metadata": {
    "collapsed": false
   },
   "outputs": [
    {
     "data": {
      "text/plain": [
       "<matplotlib.legend.Legend at 0x117886550>"
      ]
     },
     "execution_count": 146,
     "metadata": {},
     "output_type": "execute_result"
    },
    {
     "data": {
      "image/png": "[encoded data removed]",
      "text/plain": [
       "<matplotlib.figure.Figure at 0x117d9b510>"
      ]
     },
     "metadata": {},
     "output_type": "display_data"
    }
   ],
   "source": [
    "#  plot mass balance terms\n",
    "plt.figure(1, figsize = (10,3))\n",
    "ax = plt.subplot(121)\n",
    "plt.title('Mass balance', fontsize = 10)\n",
    "plt.plot(fluxout[1:], label = 'flux out')\n",
    "plt.plot(fluxin[1:], label = 'flux in')\n",
    "plt.plot(newmass, label = 'new mass')\n",
    "plt.legend(fontsize = 10)\n",
    "ax = plt.subplot(122)\n",
    "plt.title('Mass balance', fontsize = 10)\n",
    "plt.plot(t[1:], fluxin[1:] - newmass + fluxout[1:],  label = 'each time step')\n",
    "plt.plot(t[1:], np.cumsum(fluxin[1:] - newmass+ fluxout[1:]), label =  'cumulative')\n",
    "plt.legend(fontsize = 10)"
   ]
  },
  {
   "cell_type": "code",
   "execution_count": null,
   "metadata": {
    "collapsed": true
   },
   "outputs": [],
   "source": []
  },
  {
   "cell_type": "code",
   "execution_count": null,
   "metadata": {
    "collapsed": true
   },
   "outputs": [],
   "source": []
  }
 ],
 "metadata": {
  "anaconda-cloud": {},
  "kernelspec": {
   "display_name": "Python [default]",
   "language": "python",
   "name": "python2"
  },
  "language_info": {
   "codemirror_mode": {
    "name": "ipython",
    "version": 2
   },
   "file_extension": ".py",
   "mimetype": "text/x-python",
   "name": "python",
   "nbconvert_exporter": "python",
   "pygments_lexer": "ipython2",
   "version": "2.7.12"
  }
 },
 "nbformat": 4,
 "nbformat_minor": 0
}
