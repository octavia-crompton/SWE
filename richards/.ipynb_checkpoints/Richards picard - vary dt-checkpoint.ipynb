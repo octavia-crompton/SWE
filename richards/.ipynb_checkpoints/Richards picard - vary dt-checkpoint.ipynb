{
 "cells": [
  {
   "cell_type": "markdown",
   "metadata": {},
   "source": [
    "### 1-D Richards equation solver code\n",
    "- formulation based on a backward Euler implementation of the mixed theta-head formulation of the 1-D Richards equation, with a modified Picard iteration finite differencing solution scheme, with a modified Picard iteration finite differencing solution scheme.\n",
    "\n",
    "- The soil water retention parameterization used is that of van Genuchten \n",
    " [1980], and this code requires the corresponding MATLAB function        \n",
    " vanGenuchten.m.  \n",
    " \n",
    " - coordinate axis:  positive  downward\n",
    "         z[0] = 0  (top)\n",
    "         z[-1] = 100  (bottom)"
   ]
  },
  {
   "cell_type": "code",
   "execution_count": 1,
   "metadata": {
    "collapsed": false
   },
   "outputs": [],
   "source": [
    "import numpy as np\n",
    "import matplotlib.pylab as plt\n",
    "# plt.style.use('ggplot')\n",
    "import time"
   ]
  },
  {
   "cell_type": "code",
   "execution_count": 2,
   "metadata": {
    "collapsed": true
   },
   "outputs": [],
   "source": [
    "%matplotlib inline"
   ]
  },
  {
   "cell_type": "code",
   "execution_count": 3,
   "metadata": {
    "code_folding": [],
    "collapsed": true
   },
   "outputs": [],
   "source": [
    "def vanGenuchten(h,phi) :\n",
    "    alpha   = phi[0]\n",
    "    theta_S = phi[1]\n",
    "    theta_R = phi[2]\n",
    "    n       = phi[3]\n",
    "    m       = phi[4]\n",
    "    Ksat    = phi[5] \n",
    "    # Compute the volumetric moisture content\n",
    "    theta = (theta_S - theta_R)/(1 + (alpha*abs(h))**n)**m + theta_R; \n",
    "    ## Compute the effective saturation\n",
    "    Se = ((theta - theta_R)/(theta_S - theta_R)); \n",
    "    # Compute the hydraulic conductivity\n",
    "    K = Ksat*Se**(1./2)*(1 - (1 - Se**(1./m))**m)**2; \n",
    "    # Compute the specific moisture storage\n",
    "    C =  -alpha*n*np.sign(h)*(1./n - 1)*(alpha*abs(h))**(n - 1)*(theta_R - \n",
    "         theta_S)*((alpha*abs(h))**n + 1)**(1/n - 2);\n",
    "    try:\n",
    "        for i in range(len(h)):\n",
    "            if h[i] > 0:\n",
    "                K[i] = Ksat\n",
    "                C[i] = 0.\n",
    "                theta[i] = theta_S\n",
    "    except TypeError:\n",
    "        if h > 0:\n",
    "            K = Ksat\n",
    "            C = 0.\n",
    "            theta = theta_S\n",
    "    return [C,K,theta]"
   ]
  },
  {
   "cell_type": "code",
   "execution_count": 4,
   "metadata": {
    "code_folding": [],
    "collapsed": true
   },
   "outputs": [],
   "source": [
    "# Define van Genuchten parameters\n",
    "alpha   = 0.0335\n",
    "theta_S = 0.368;\n",
    "theta_R = 0.102;\n",
    "lambdA  = 0.25\n",
    "n       = lambdA + 1\n",
    "m       = lambdA/n\n",
    "Ksat    = 0.09\n",
    "\n",
    "# Store van Genuchten parameters in array\n",
    "phi = np.zeros(6)\n",
    "phi[0] = alpha\n",
    "phi[1] = theta_S\n",
    "phi[2] = theta_R\n",
    "phi[3] = n\n",
    "phi[4] = m\n",
    "phi[5] = Ksat"
   ]
  },
  {
   "cell_type": "code",
   "execution_count": 6,
   "metadata": {
    "code_folding": [],
    "collapsed": false
   },
   "outputs": [],
   "source": [
    "# set up vertical grid \n",
    "dz = 1.; # [cm]\n",
    "zmin = 0.; # [cm]\n",
    "zmax = 100.; # [cm]\n",
    "z = np.arange(zmin, zmax+1, dz)\n",
    "nz   =  z.shape[0]\n"
   ]
  },
  {
   "cell_type": "code",
   "execution_count": 7,
   "metadata": {
    "code_folding": [],
    "collapsed": false
   },
   "outputs": [],
   "source": [
    "# Define matrices that we'll need in solution\n",
    "BottomBoundCon = 1  # 0 = constant head, 1 = free drainage\n",
    "DeltaPlus  = np.diag(-np.ones(nz)) + np.diag(np.ones(nz-1), 1)\n",
    "DeltaPlus[0,:] = 0\n",
    "DeltaPlus[nz-1,:] = 0\n",
    "\n",
    "DeltaMinus = np.diag(np.ones(nz)) + np.diag(-np.ones(nz-1),-1);\n",
    "DeltaMinus[0,:] = 0\n",
    "DeltaMinus[nz-1,:] = 0\n",
    "\n",
    "MPlus = np.diag(np.ones(nz))+np.diag(np.ones(nz-1),1)\n",
    "MPlus[0,0] = 2\n",
    "MPlus[0,1:nz-1] = 0\n",
    "MPlus[nz-1,nz-1] = 2\n",
    "MPlus[nz-1,:nz-1] = 0  # not needed\n",
    "\n",
    "MMinus = np.diag(np.ones(nz)) + np.diag(np.ones(nz-1),-1)\n",
    "MMinus[0,0] = 2\n",
    "MMinus[0,1:nz-1] = 0  # not needed\n",
    "MMinus[nz-1,nz-1] = 2\n",
    "MMinus[nz-1,:nz-1] = 0 "
   ]
  },
  {
   "cell_type": "code",
   "execution_count": 10,
   "metadata": {
    "collapsed": true
   },
   "outputs": [],
   "source": [
    "# Define ICs boundary conditions at top and bottom\n",
    "hinit = np.arange(nz)*-5\n",
    "hinit = -1000*np.ones(nz)\n",
    "hinit[0] = 0.\n",
    "\n",
    "htop = hinit[0]\n",
    "hbottom = hinit[-1]"
   ]
  },
  {
   "cell_type": "code",
   "execution_count": 11,
   "metadata": {
    "code_folding": [],
    "collapsed": false
   },
   "outputs": [],
   "source": [
    "# Define time variables\n",
    "stop_tol = 1e-5  # Stopping tolerance [cm]\n",
    "dt = 10 # [s]\n",
    "\n",
    "tmin = 0. # [s]\n",
    "nt = 1000\n",
    "# tmax = 200\n",
    "# times = np.arange(tmin, tmax, dt)[:nt]  #(tmin:dt:tmax);\n",
    "\n",
    "# Define a storage container to store the pressure heads and soil moistures\n",
    "[Ctop,Ktop,thetatop] = vanGenuchten(htop,phi)\n",
    "[Cbottom,Kbottom,thetabottom] = vanGenuchten(hbottom,phi)\n",
    "[Cinit,Kinit,thetainit] = vanGenuchten(hinit,phi) \n",
    "H = np.zeros([nz,nt])\n",
    "K = np.zeros([nz,nt])\n",
    "C = np.zeros([nz,nt])\n",
    "H[:,0] = hinit\n",
    "K[:, 0] = Kinit\n",
    "C[:, 0] = Cinit\n",
    "\n",
    "THETA = np.zeros([nz,nt])\n",
    "THETA[:,0] = thetainit\n",
    "ktop = np.zeros([ nt])\n",
    "kbot = np.zeros([ nt])\n",
    "error = np.zeros([nt])\n",
    "t_array = np.zeros([nt])\n",
    "dt_array = np.zeros([nt])"
   ]
  },
  {
   "cell_type": "code",
   "execution_count": null,
   "metadata": {
    "code_folding": [],
    "collapsed": false
   },
   "outputs": [],
   "source": [
    "# Figures\n",
    "plt.figure(1, figsize = (4,4)); \n",
    "plt.plot(hinit,z);\n",
    "plt.xlabel('Pressure head [cm]',fontsize=  11)\n",
    "plt.ylabel('Depth [cm]',fontsize=  11)\n",
    "plt.xlim( -1010, 0)\n",
    "plt.gca().invert_yaxis()\n",
    "plt.title('Pressure head vs. depth', fontsize=  11)\n",
    "plt.figure(2, figsize = (4,4))\n",
    "plt.plot(thetainit,z)\n",
    "plt.xlabel('Soil moisture $cm^3/cm^3$',fontsize=  11)\n",
    "plt.ylabel('Depth [cm]',fontsize=  11)\n",
    "plt.gca().invert_yaxis()\n",
    "plt.title('Soil moisture vs. depth',fontsize=  11)\n",
    "\n",
    "start_time = time.time()\n",
    "iterations = np.zeros([nt-1,1]);  # Define array for iteration counter\n",
    "t = 0\n",
    "niter = 0\n",
    "dtdum = dt\n",
    "for i in range(1, nt):   # Initialize the Picard iteration solver\n",
    "    dtdum = dt\n",
    "    hnp1m =  H[:,i-1]  \n",
    "    thetan = THETA[:,i-1]   \n",
    "    stop_flag = 0  #Define a dummy stopping variable\n",
    "    while(stop_flag==0):\n",
    "        if niter > 10:\n",
    "            hnp1m =  H[:,i-1]  \n",
    "            thetan = THETA[:,i-1]   \n",
    "            dtdum = dtdum/10.\n",
    "            niter = 0\n",
    "        [cnp1m,knp1m,thetanp1m] = vanGenuchten(hnp1m,phi); \n",
    "        #  Compute the individual elements of the A matrix for LHS\n",
    "        Cdiag = np.diag(cnp1m); \n",
    "        kbarplus = (1/2.)*MPlus.dot(knp1m);\n",
    "        Kbarplus = np.diag(kbarplus); \n",
    "        kbarminus = (1/2.)*MMinus.dot(knp1m);\n",
    "        Kbarminus = np.diag(kbarminus); \n",
    "        A = (1./dtdum)*Cdiag - 1./((dz)**2)*(Kbarplus.dot(DeltaPlus) - Kbarminus.dot(DeltaMinus)); \n",
    "        #  Compute the residual of MPFD (RHS)\n",
    "        R_MPFD = (1./(dz**2))*(Kbarplus.dot(DeltaPlus).dot(hnp1m) - Kbarminus.dot(DeltaMinus).dot(hnp1m)) + \\\n",
    "            (1./dz)*(kbarplus - kbarminus) - (1./dtdum)*(thetanp1m - thetan); \n",
    "        # Compute deltam for iteration level m+1\n",
    "\n",
    "        deltam = np.linalg.pinv(A).dot(R_MPFD)\n",
    "        # Increment iteration counter and display number of iterations\n",
    "        niter = niter + 1;\n",
    "        if max(abs(deltam[1:(nz-1)]))<stop_tol:\n",
    "            stop_flag = 1\n",
    "            hnp1mp1 = hnp1m + deltam # Force boundary conditions       \n",
    "            hnp1mp1[0] = htop;\n",
    "            if BottomBoundCon==0:\n",
    "                hnp1mp1[nz-1] = hbottom;\n",
    "            elif (BottomBoundCon==1):\n",
    "                hnp1mp1[nz-1] = hnp1m[nz-2];\n",
    "            [cnp1m,knp1m,thetanp1m] = vanGenuchten(hnp1mp1,phi);\n",
    "            thetanp1mp1 = thetanp1m;\n",
    "            knp1mp1 = knp1m\n",
    "            cnp1mp1 = cnp1m            \n",
    "            hnp1m = hnp1mp1; \n",
    "            t = t + dtdum\n",
    "        else:\n",
    "            hnp1mp1 = hnp1m + deltam;\n",
    "            hnp1m = hnp1mp1; # Force boundary conditions\n",
    "            hnp1m[0] = htop;\n",
    "            if BottomBoundCon==0:\n",
    "                hnp1m[nz-1] = hbottom;\n",
    "            elif BottomBoundCon==1:\n",
    "                hnp1m[nz-1] = hnp1m[nz-2];\n",
    "    # Closes while(stop_flag==0) H(:,i) = hnp1mp1;\n",
    "    t_array[i] = t\n",
    "    dt_array[i] = dtdum\n",
    "    THETA[:,i] = thetanp1mp1; \n",
    "    H[:,i] = hnp1mp1;\n",
    "    K[:, i]= knp1mp1;\n",
    "    C[:,i] = cnp1mp1;\n",
    "    ktop[i] =  (K[0, i] + K[1, i])/2.  \n",
    "    kbot[i] =  (K[-1, i] + K[-2, i])/2.  \n",
    "    error[i] = np.sum(A.dot(deltam))*dtdum\n",
    "#     error[i] = dz*np.sum(C[1:-1,i]*deltam[1:-1]) -  kbot[i]*(deltam[-1] - deltam[-2])*dt/dz \\\n",
    "#          + ktop[i]*(deltam[1] - deltam[0])*dt/dz\n",
    "    if (np.mod(i,100)==0):\n",
    "        print i,\n",
    "        plt.figure(1, figsize= (6,5))\n",
    "        plt.plot(hnp1mp1,z)\n",
    "        plt.xlabel('Pressure head [cm]')\n",
    "        plt.ylabel('Depth [cm]')\n",
    "        plt.ylim(100, 0)\n",
    "        plt.figure(2, figsize= (6,5))\n",
    "        plt.plot(thetanp1mp1,z)\n",
    "        plt.xlabel('Soil moisture [cm$^3/$cm$^3$]')\n",
    "        plt.ylabel('Depth [cm]')\n",
    "        plt.ylim(100, 0)\n",
    "    #    save number of iterations\n",
    "    iterations[i-1] = niter;\n",
    "print(\"--- %s seconds ---\" % (time.time() - start_time))"
   ]
  },
  {
   "cell_type": "code",
   "execution_count": null,
   "metadata": {
    "collapsed": false
   },
   "outputs": [],
   "source": [
    "    plt.figure(1, figsize= (6,5))\n",
    "    plt.plot(hnp1mp1,z)\n",
    "    plt.xlabel('Pressure head [cm]')\n",
    "    plt.ylabel('Depth [cm]')\n",
    "    plt.ylim(100, 0)\n",
    "    plt.figure(2, figsize= (6,5))\n",
    "    plt.plot(thetanp1mp1,z)\n",
    "    plt.xlabel('Soil moisture [cm$^3/$cm$^3$]')\n",
    "    plt.ylabel('Depth [cm]')\n",
    "    plt.ylim(100, 0)"
   ]
  },
  {
   "cell_type": "code",
   "execution_count": 47,
   "metadata": {
    "collapsed": false
   },
   "outputs": [
    {
     "data": {
      "text/plain": [
       "[<matplotlib.lines.Line2D at 0x1134d21d0>]"
      ]
     },
     "execution_count": 47,
     "metadata": {},
     "output_type": "execute_result"
    },
    {
     "data": {
      "image/png": "[encoded data removed]",
      "text/plain": [
       "<matplotlib.figure.Figure at 0x111f6b0d0>"
      ]
     },
     "metadata": {},
     "output_type": "display_data"
    }
   ],
   "source": [
    "plt.plot(THETA[: , -1])"
   ]
  },
  {
   "cell_type": "code",
   "execution_count": 48,
   "metadata": {
    "code_folding": [],
    "collapsed": true
   },
   "outputs": [],
   "source": [
    "# plt.imshow(THETA[:, 1:2000:10])"
   ]
  },
  {
   "cell_type": "code",
   "execution_count": 49,
   "metadata": {
    "collapsed": false
   },
   "outputs": [
    {
     "data": {
      "text/plain": [
       "0.0018392541417594317"
      ]
     },
     "execution_count": 49,
     "metadata": {},
     "output_type": "execute_result"
    }
   ],
   "source": [
    "deltam[1]"
   ]
  },
  {
   "cell_type": "code",
   "execution_count": 50,
   "metadata": {
    "collapsed": false
   },
   "outputs": [],
   "source": [
    "fluxin =  -  ktop*((H[1] - H[0])/dz + 1.)*dt   # top flux"
   ]
  },
  {
   "cell_type": "code",
   "execution_count": 51,
   "metadata": {
    "collapsed": false
   },
   "outputs": [
    {
     "data": {
      "text/plain": [
       "array([ 0.        ,  6.46302218,  3.02258073,  1.91337848,  1.40855445,\n",
       "        1.13612805,  0.96975506,  0.85723249,  0.77457941,  0.70999038,\n",
       "        0.65704654,  0.61220273,  0.57351509,  0.38520372,  0.29322724,\n",
       "        0.2846834 ,  0.23778807,  0.20661059,  0.1846039 ,  0.16723745,\n",
       "        0.1534151 ,  0.14203554,  0.13283207,  0.12514931,  0.12432358,\n",
       "        0.11804432,  0.1126216 ,  0.108186  ,  0.10395991,  0.10009037,\n",
       "        0.09654155,  0.09327181,  0.09025144,  0.08764225,  0.08509289,\n",
       "        0.08271538,  0.08051589,  0.07848357,  0.07660368,  0.07486029,\n",
       "        0.073512  ,  0.07203218,  0.07170649,  0.0704276 ,  0.06909728,\n",
       "        0.06781472,  0.06658808,  0.06541364,  0.0642869 ,  0.06320417,\n",
       "        0.06216267,  0.06116041,  0.06050419,  0.05963391,  0.05875322,\n",
       "        0.05789574,  0.0570679 ,  0.05627097,  0.05550484,  0.05476876,\n",
       "        0.05406161,  0.05338198,  0.0527283 ,  0.0520989 ,  0.05149205,\n",
       "        0.05090604,  0.05033921,  0.04979001,  0.04925698,  0.04873883,\n",
       "        0.04823439,  0.04774269,  0.04726286,  0.04711349,  0.04672774,\n",
       "        0.04628489,  0.04584117,  0.04540515,  0.04497816,  0.04456041,\n",
       "        0.04415189,  0.04375254,  0.04336233,  0.04298119,  0.04260907,\n",
       "        0.04224587,  0.04189146,  0.04154571,  0.04120841,  0.04087935,\n",
       "        0.04055828,  0.04024492,  0.03993898,  0.03964012,  0.03934803,\n",
       "        0.03906237,  0.0387828 ,  0.038509  ,  0.03824065,  0.03797744])"
      ]
     },
     "execution_count": 51,
     "metadata": {},
     "output_type": "execute_result"
    }
   ],
   "source": [
    "fluxin/dt"
   ]
  },
  {
   "cell_type": "code",
   "execution_count": 52,
   "metadata": {
    "collapsed": false
   },
   "outputs": [],
   "source": [
    "fluxout =  kbot*((H[-1] - H[-2])/dz + 1. )*dt # bottom flux\n",
    "# fluxout =  kbot*((H[-1] - H[-2])/dz )*dt # bottom flux\n"
   ]
  },
  {
   "cell_type": "code",
   "execution_count": 53,
   "metadata": {
    "collapsed": false
   },
   "outputs": [],
   "source": [
    "newmass = (THETA[:, 1:] - THETA[:, :-1]).sum(0)   #  change in mass "
   ]
  },
  {
   "cell_type": "code",
   "execution_count": 54,
   "metadata": {
    "collapsed": false
   },
   "outputs": [],
   "source": [
    "#  plt.plot(error[1:])\n",
    "# Hydrus 1D \n",
    "# specify depth, "
   ]
  },
  {
   "cell_type": "code",
   "execution_count": 55,
   "metadata": {
    "collapsed": false
   },
   "outputs": [
    {
     "ename": "TypeError",
     "evalue": "'float' object has no attribute '__getitem__'",
     "output_type": "error",
     "traceback": [
      "\u001b[0;31m---------------------------------------------------------------------------\u001b[0m",
      "\u001b[0;31mTypeError\u001b[0m                                 Traceback (most recent call last)",
      "\u001b[0;32m<ipython-input-55-4ffa75d0e624>\u001b[0m in \u001b[0;36m<module>\u001b[0;34m()\u001b[0m\n\u001b[1;32m      9\u001b[0m \u001b[0max\u001b[0m \u001b[0;34m=\u001b[0m \u001b[0mplt\u001b[0m\u001b[0;34m.\u001b[0m\u001b[0msubplot\u001b[0m\u001b[0;34m(\u001b[0m\u001b[0;36m122\u001b[0m\u001b[0;34m)\u001b[0m\u001b[0;34m\u001b[0m\u001b[0m\n\u001b[1;32m     10\u001b[0m \u001b[0mplt\u001b[0m\u001b[0;34m.\u001b[0m\u001b[0mtitle\u001b[0m\u001b[0;34m(\u001b[0m\u001b[0;34m'Mass balance'\u001b[0m\u001b[0;34m,\u001b[0m \u001b[0mfontsize\u001b[0m \u001b[0;34m=\u001b[0m \u001b[0;36m10\u001b[0m\u001b[0;34m)\u001b[0m\u001b[0;34m\u001b[0m\u001b[0m\n\u001b[0;32m---> 11\u001b[0;31m \u001b[0mplt\u001b[0m\u001b[0;34m.\u001b[0m\u001b[0mplot\u001b[0m\u001b[0;34m(\u001b[0m\u001b[0mt\u001b[0m\u001b[0;34m[\u001b[0m\u001b[0;36m1\u001b[0m\u001b[0;34m:\u001b[0m\u001b[0;34m]\u001b[0m\u001b[0;34m,\u001b[0m \u001b[0mfluxin\u001b[0m\u001b[0;34m[\u001b[0m\u001b[0;36m1\u001b[0m\u001b[0;34m:\u001b[0m\u001b[0;34m]\u001b[0m \u001b[0;34m-\u001b[0m \u001b[0mnewmass\u001b[0m \u001b[0;34m+\u001b[0m \u001b[0mfluxout\u001b[0m\u001b[0;34m[\u001b[0m\u001b[0;36m1\u001b[0m\u001b[0;34m:\u001b[0m\u001b[0;34m]\u001b[0m \u001b[0;34m-\u001b[0m \u001b[0merror\u001b[0m\u001b[0;34m[\u001b[0m\u001b[0;36m1\u001b[0m\u001b[0;34m:\u001b[0m\u001b[0;34m]\u001b[0m \u001b[0;34m,\u001b[0m  \u001b[0mlabel\u001b[0m \u001b[0;34m=\u001b[0m \u001b[0;34m'time step'\u001b[0m\u001b[0;34m)\u001b[0m\u001b[0;34m\u001b[0m\u001b[0m\n\u001b[0m\u001b[1;32m     12\u001b[0m \u001b[0mplt\u001b[0m\u001b[0;34m.\u001b[0m\u001b[0mplot\u001b[0m\u001b[0;34m(\u001b[0m\u001b[0mt\u001b[0m\u001b[0;34m[\u001b[0m\u001b[0;36m1\u001b[0m\u001b[0;34m:\u001b[0m\u001b[0;34m]\u001b[0m\u001b[0;34m,\u001b[0m \u001b[0mnp\u001b[0m\u001b[0;34m.\u001b[0m\u001b[0mcumsum\u001b[0m\u001b[0;34m(\u001b[0m\u001b[0mfluxin\u001b[0m\u001b[0;34m[\u001b[0m\u001b[0;36m1\u001b[0m\u001b[0;34m:\u001b[0m\u001b[0;34m]\u001b[0m \u001b[0;34m-\u001b[0m \u001b[0mnewmass\u001b[0m \u001b[0;34m+\u001b[0m \u001b[0mfluxout\u001b[0m\u001b[0;34m[\u001b[0m\u001b[0;36m1\u001b[0m\u001b[0;34m:\u001b[0m\u001b[0;34m]\u001b[0m \u001b[0;34m-\u001b[0m \u001b[0merror\u001b[0m\u001b[0;34m[\u001b[0m\u001b[0;36m1\u001b[0m\u001b[0;34m:\u001b[0m\u001b[0;34m]\u001b[0m \u001b[0;34m)\u001b[0m\u001b[0;34m,\u001b[0m \u001b[0mlabel\u001b[0m \u001b[0;34m=\u001b[0m  \u001b[0;34m'cumulative'\u001b[0m\u001b[0;34m)\u001b[0m\u001b[0;34m\u001b[0m\u001b[0m\n\u001b[1;32m     13\u001b[0m \u001b[0;31m# plt.plot(t[1:], np.cumsum(fluxin[1:] - newmass + fluxout[1:]  ), '--', label =  'unclosed')\u001b[0m\u001b[0;34m\u001b[0m\u001b[0;34m\u001b[0m\u001b[0m\n",
      "\u001b[0;31mTypeError\u001b[0m: 'float' object has no attribute '__getitem__'"
     ]
    },
    {
     "data": {
      "image/png": "[encoded data removed]",
      "text/plain": [
       "<matplotlib.figure.Figure at 0x1134e0110>"
      ]
     },
     "metadata": {},
     "output_type": "display_data"
    }
   ],
   "source": [
    "#  plot mass balance terms\n",
    "plt.figure(1, figsize = (10,3))\n",
    "ax = plt.subplot(121)\n",
    "plt.title('Mass balance', fontsize = 10)\n",
    "plt.plot(fluxout[1:], label = 'flux out')\n",
    "plt.plot(fluxin[1:], label = 'flux in')\n",
    "plt.plot(newmass, label = 'new mass')\n",
    "plt.legend(fontsize = 10)\n",
    "ax = plt.subplot(122)\n",
    "plt.title('Mass balance', fontsize = 10)\n",
    "plt.plot(t[1:], fluxin[1:] - newmass + fluxout[1:] - error[1:] ,  label = 'time step')\n",
    "plt.plot(t[1:], np.cumsum(fluxin[1:] - newmass + fluxout[1:] - error[1:] ), label =  'cumulative')\n",
    "# plt.plot(t[1:], np.cumsum(fluxin[1:] - newmass + fluxout[1:]  ), '--', label =  'unclosed')\n",
    "# plt.plot(t[1:], np.cumsum(fluxin[1:] - newmass), label =  'cumulative')\n",
    "plt.legend(fontsize = 10)\n",
    "# (fluxin[1:] - newmass  + fluxout[1:] +error[1:])"
   ]
  },
  {
   "cell_type": "code",
   "execution_count": 56,
   "metadata": {
    "collapsed": false
   },
   "outputs": [
    {
     "ename": "TypeError",
     "evalue": "'float' object has no attribute '__getitem__'",
     "output_type": "error",
     "traceback": [
      "\u001b[0;31m---------------------------------------------------------------------------\u001b[0m",
      "\u001b[0;31mTypeError\u001b[0m                                 Traceback (most recent call last)",
      "\u001b[0;32m<ipython-input-56-72d635840fd9>\u001b[0m in \u001b[0;36m<module>\u001b[0;34m()\u001b[0m\n\u001b[1;32m      1\u001b[0m \u001b[0mplt\u001b[0m\u001b[0;34m.\u001b[0m\u001b[0mfigure\u001b[0m\u001b[0;34m(\u001b[0m\u001b[0;36m5\u001b[0m\u001b[0;34m)\u001b[0m\u001b[0;34m;\u001b[0m\u001b[0;34m\u001b[0m\u001b[0m\n\u001b[0;32m----> 2\u001b[0;31m \u001b[0mplt\u001b[0m\u001b[0;34m.\u001b[0m\u001b[0mplot\u001b[0m\u001b[0;34m(\u001b[0m\u001b[0mt\u001b[0m\u001b[0;34m[\u001b[0m\u001b[0;36m1\u001b[0m\u001b[0;34m:\u001b[0m\u001b[0mnt\u001b[0m\u001b[0;34m]\u001b[0m\u001b[0;34m,\u001b[0m\u001b[0miterations\u001b[0m\u001b[0;34m,\u001b[0m\u001b[0;34m'o-'\u001b[0m\u001b[0;34m)\u001b[0m\u001b[0;34m;\u001b[0m\u001b[0;34m\u001b[0m\u001b[0m\n\u001b[0m\u001b[1;32m      3\u001b[0m \u001b[0mplt\u001b[0m\u001b[0;34m.\u001b[0m\u001b[0mxlabel\u001b[0m\u001b[0;34m(\u001b[0m\u001b[0;34m'Time [s]'\u001b[0m\u001b[0;34m)\u001b[0m\u001b[0;34m;\u001b[0m\u001b[0;34m\u001b[0m\u001b[0m\n\u001b[1;32m      4\u001b[0m \u001b[0mplt\u001b[0m\u001b[0;34m.\u001b[0m\u001b[0mylabel\u001b[0m\u001b[0;34m(\u001b[0m\u001b[0;34m'Number of iterations'\u001b[0m\u001b[0;34m)\u001b[0m\u001b[0;34m;\u001b[0m\u001b[0;34m\u001b[0m\u001b[0m\n",
      "\u001b[0;31mTypeError\u001b[0m: 'float' object has no attribute '__getitem__'"
     ]
    },
    {
     "data": {
      "text/plain": [
       "<matplotlib.figure.Figure at 0x1133da290>"
      ]
     },
     "metadata": {},
     "output_type": "display_data"
    }
   ],
   "source": [
    "plt.figure(5);\n",
    "plt.plot(t[1:nt],iterations,'o-');\n",
    "plt.xlabel('Time [s]');\n",
    "plt.ylabel('Number of iterations');"
   ]
  },
  {
   "cell_type": "code",
   "execution_count": 18,
   "metadata": {
    "collapsed": false
   },
   "outputs": [
    {
     "data": {
      "text/plain": [
       "<matplotlib.legend.Legend at 0x1123203d0>"
      ]
     },
     "execution_count": 18,
     "metadata": {},
     "output_type": "execute_result"
    },
    {
     "data": {
      "image/png": "[encoded data removed]",
      "text/plain": [
       "<matplotlib.figure.Figure at 0x111a24c50>"
      ]
     },
     "metadata": {},
     "output_type": "display_data"
    }
   ],
   "source": [
    "#  plot mass balance terms\n",
    "plt.figure(1, figsize = (10,3))\n",
    "ax = plt.subplot(121)\n",
    "plt.title('Mass balance', fontsize = 10)\n",
    "plt.plot(fluxout[1:], label = 'flux out')\n",
    "plt.plot(fluxin[1:], label = 'flux in')\n",
    "plt.plot(newmass, label = 'new mass')\n",
    "plt.legend(fontsize = 10)\n",
    "ax = plt.subplot(122)\n",
    "plt.title('Mass balance', fontsize = 10)\n",
    "plt.plot(t[1:], fluxin[1:] - newmass + fluxout[1:],  label = 'each time step')\n",
    "plt.plot(t[1:], np.cumsum(fluxin[1:] - newmass+ fluxout[1:]), label =  'cumulative')\n",
    "plt.legend(fontsize = 10)"
   ]
  },
  {
   "cell_type": "code",
   "execution_count": null,
   "metadata": {
    "collapsed": true
   },
   "outputs": [],
   "source": []
  },
  {
   "cell_type": "code",
   "execution_count": null,
   "metadata": {
    "collapsed": true
   },
   "outputs": [],
   "source": []
  }
 ],
 "metadata": {
  "anaconda-cloud": {},
  "kernelspec": {
   "display_name": "Python [default]",
   "language": "python",
   "name": "python2"
  },
  "language_info": {
   "codemirror_mode": {
    "name": "ipython",
    "version": 2
   },
   "file_extension": ".py",
   "mimetype": "text/x-python",
   "name": "python",
   "nbconvert_exporter": "python",
   "pygments_lexer": "ipython2",
   "version": "2.7.12"
  }
 },
 "nbformat": 4,
 "nbformat_minor": 0
}
