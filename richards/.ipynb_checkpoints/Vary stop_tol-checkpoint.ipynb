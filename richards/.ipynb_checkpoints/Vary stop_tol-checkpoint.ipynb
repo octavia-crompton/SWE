{
 "cells": [
  {
   "cell_type": "markdown",
   "metadata": {},
   "source": [
    "### 1-D Richards equation solver code\n",
    "- formulation based on a backward Euler implementation of the mixed theta-head formulation of the 1-D Richards equation, with a modified Picard iteration finite differencing solution scheme, with a modified Picard iteration finite differencing solution scheme.\n",
    "\n",
    "- The soil water retention parameterization used is that of van Genuchten \n",
    " [1980], and this code requires the corresponding MATLAB function        \n",
    " vanGenuchten.m.  \n",
    " \n",
    " - coordinate axis:  positive  downward\n",
    "         z[0] = 0  (top)\n",
    "         z[-1] = 100  (bottom)"
   ]
  },
  {
   "cell_type": "code",
   "execution_count": 73,
   "metadata": {
    "collapsed": true
   },
   "outputs": [],
   "source": [
    "import numpy as np\n",
    "import matplotlib.pylab as plt\n",
    "plt.style.use('ggplot')\n",
    "import time"
   ]
  },
  {
   "cell_type": "code",
   "execution_count": 2,
   "metadata": {
    "collapsed": true
   },
   "outputs": [],
   "source": [
    "%matplotlib inline"
   ]
  },
  {
   "cell_type": "code",
   "execution_count": 3,
   "metadata": {
    "code_folding": [],
    "collapsed": true
   },
   "outputs": [],
   "source": [
    "def vanGenuchten(h,phi) :\n",
    "    alpha   = phi[0]\n",
    "    theta_S = phi[1]\n",
    "    theta_R = phi[2]\n",
    "    n       = phi[3]\n",
    "    m       = phi[4]\n",
    "    Ksat    = phi[5] \n",
    "    # Compute the volumetric moisture content\n",
    "    theta = (theta_S - theta_R)/(1 + (alpha*abs(h))**n)**m + theta_R; \n",
    "    ## Compute the effective saturation\n",
    "    Se = ((theta - theta_R)/(theta_S - theta_R)); \n",
    "    # Compute the hydraulic conductivity\n",
    "    K = Ksat*Se**(1./2)*(1 - (1 - Se**(1./m))**m)**2; \n",
    "    # Compute the specific moisture storage\n",
    "    C =  -alpha*n*np.sign(h)*(1./n - 1)*(alpha*abs(h))**(n - 1)*(theta_R - \n",
    "         theta_S)*((alpha*abs(h))**n + 1)**(1/n - 2);\n",
    "    return [C,K,theta]"
   ]
  },
  {
   "cell_type": "code",
   "execution_count": 4,
   "metadata": {
    "code_folding": [],
    "collapsed": true
   },
   "outputs": [],
   "source": [
    "# Define van Genuchten parameters\n",
    "alpha   = 0.0335\n",
    "theta_S = 0.368;\n",
    "theta_R = 0.102;\n",
    "lambdA  = 0.25\n",
    "n       = lambdA + 1\n",
    "m       = lambdA/n\n",
    "Ksat    = 0.09\n",
    "### add second layer parameters"
   ]
  },
  {
   "cell_type": "code",
   "execution_count": 5,
   "metadata": {
    "code_folding": [],
    "collapsed": false
   },
   "outputs": [],
   "source": [
    "# Store van Genuchten parameters in array\n",
    "phi = np.zeros(6)\n",
    "phi[0] = alpha\n",
    "phi[1] = theta_S\n",
    "phi[2] = theta_R\n",
    "phi[3] = n\n",
    "phi[4] = m\n",
    "phi[5] = Ksat"
   ]
  },
  {
   "cell_type": "code",
   "execution_count": 233,
   "metadata": {
    "collapsed": true
   },
   "outputs": [],
   "source": [
    "# make mesh variables\n",
    "dz = 1.; # [cm]\n",
    "zmin = 0.; # [cm]\n",
    "zmax = 100.; # [cm]\n",
    "z = np.arange(zmin, zmax+1, dz)\n",
    "nz   =  z.shape[0]\n",
    "\n",
    "# Define ICs\n",
    "case = 'vertical'\n",
    "if case == 'vertical':\n",
    "    htop = -1\n",
    "    hinit = -1000*np.ones(nz)\n",
    "    hinit[0] = htop\n",
    "elif case == 'slope':\n",
    "    hinit = np.arange(nz)*-5\n",
    "    \n",
    "    \n",
    "noflux = 0\n",
    "if noflux == 1:\n",
    "    hinit[:10] = htop\n",
    "    hinit[0] = hinit[1] + dz\n",
    "\n",
    "htop = hinit[0]\n",
    "hbottom = hinit[-1]"
   ]
  },
  {
   "cell_type": "code",
   "execution_count": 234,
   "metadata": {
    "code_folding": [],
    "collapsed": false
   },
   "outputs": [],
   "source": [
    "# Define matrices that we'll need in solution\n",
    "BottomBoundCon = 1  # 0 = constant head, 1 = free drainage\n",
    "DeltaPlus  = np.diag(-np.ones(nz)) + np.diag(np.ones(nz-1), 1)\n",
    "DeltaPlus[0,:] = 0\n",
    "DeltaPlus[nz-1,:] = 0\n",
    "\n",
    "DeltaMinus = np.diag(np.ones(nz)) + np.diag(-np.ones(nz-1),-1);\n",
    "DeltaMinus[0,:] = 0\n",
    "DeltaMinus[nz-1,:] = 0\n",
    "\n",
    "MPlus = np.diag(np.ones(nz))+np.diag(np.ones(nz-1),1)\n",
    "MPlus[0,0] = 2\n",
    "MPlus[0,1:nz-1] = 0\n",
    "MPlus[nz-1,nz-1] = 2\n",
    "MPlus[nz-1,:nz-1] = 0  # not needed\n",
    "\n",
    "MMinus = np.diag(np.ones(nz)) + np.diag(np.ones(nz-1),-1)\n",
    "MMinus[0,0] = 2\n",
    "MMinus[0,1:nz-1] = 0  # not needed\n",
    "MMinus[nz-1,nz-1] = 2\n",
    "MMinus[nz-1,:nz-1] = 0 "
   ]
  },
  {
   "cell_type": "code",
   "execution_count": 235,
   "metadata": {
    "code_folding": [],
    "collapsed": false
   },
   "outputs": [],
   "source": [
    "# Define time variables\n",
    "stop_tol = 1e-5  # Stopping tolerance [cm]\n",
    "\n",
    "tmin = 0. # [s]\n",
    "nt = 101\n",
    "\n",
    "dt = 10. # [s]\n",
    "t = np.arange(tmin, nt*dt, dt)  # (tmin:dt:tmax);\n",
    "tmax = t[-1]\n",
    "\n",
    "# Define a storage container to store the pressure heads and soil moistures\n",
    "[Ctop,Ktop,thetatop] = vanGenuchten(htop,phi)\n",
    "[Cbottom,Kbottom,thetabottom] = vanGenuchten(hbottom,phi)\n",
    "[Cinit,Kinit,thetainit] = vanGenuchten(hinit,phi) \n",
    "H = np.zeros([nz,nt])\n",
    "K = np.zeros([nz,nt])\n",
    "C = np.zeros([nz,nt])\n",
    "H[:,0] = hinit\n",
    "K[:, 0] = Kinit\n",
    "C[:, 0] = Cinit\n",
    "\n",
    "THETA = np.zeros([nz,nt])\n",
    "THETA[:,0] = thetainit\n",
    "ktop = np.zeros([ nt])\n",
    "kbot = np.zeros([ nt])\n",
    "error = np.zeros([nt]) \n",
    "error2 = np.zeros([nt]) \n",
    "\n",
    "ktop[0] =  (K[0, 0] + K[1, 0])/2.  \n",
    "kbot[0] =  (K[-1, 0] + K[-2, 0])/2. "
   ]
  },
  {
   "cell_type": "code",
   "execution_count": 236,
   "metadata": {
    "collapsed": false
   },
   "outputs": [
    {
     "name": "stdout",
     "output_type": "stream",
     "text": [
      "h0=-1.0, dt=10.0 IC=vertical\n"
     ]
    }
   ],
   "source": [
    "fmtstr = 'h0={0}, dt={1} IC={2}'.format(htop, dt, case)  #add flux or no flux\n",
    "printstr = 'h0={0} dt={1} IC={2}'.format(htop, dt, case)\n",
    "\n",
    "if noflux == 1:\n",
    "    fmtstr = 'no flux, dt={0} IC={1}'.format( dt, case)  #add flux or no flux\n",
    "    printstr = 'no flux dt={0} IC={1}'.format(dt, case)\n",
    "print fmtstr"
   ]
  },
  {
   "cell_type": "code",
   "execution_count": null,
   "metadata": {
    "code_folding": [],
    "collapsed": false
   },
   "outputs": [],
   "source": [
    "stop_tols = [10**-x for x in range(2,10)]\n",
    "time_elapse = []\n",
    "mass_balance = []\n",
    "balance_w_err = []\n",
    "total_fluxin = []\n",
    "total_fluxout = []\n",
    "total_newmass = []\n",
    "total_error = []\n",
    "total_iter = []\n",
    "\n",
    "for  stop_tol in stop_tols:\n",
    "\n",
    "    start_time = time.time()\n",
    "    iterations = np.zeros([nt-1,1])\n",
    "    for i in range(1, nt):      # Initialize the Picard iteration solver\n",
    "        hnp1m =  H[:,i-1]  \n",
    "        thetan = THETA[:,i-1]   \n",
    "        stop_flag = 0\n",
    "        niter = 0\n",
    "        while(stop_flag==0): # Get C,K,theta\n",
    "            [cnp1m,knp1m,thetanp1m] = vanGenuchten(hnp1m,phi)\n",
    "            Cdiag = np.diag(cnp1m)\n",
    "            kbarplus = (1/2.)*MPlus.dot(knp1m)\n",
    "            Kbarplus = np.diag(kbarplus)\n",
    "            kbarminus = (1/2.)*MMinus.dot(knp1m)\n",
    "            Kbarminus = np.diag(kbarminus)\n",
    "            A = (1./dt)*Cdiag - 1./((dz)**2)*(Kbarplus.dot(DeltaPlus) - \\\n",
    "                                              Kbarminus.dot(DeltaMinus))\n",
    "            R_MPFD = (1./(dz**2))*(Kbarplus.dot(DeltaPlus).dot(hnp1m) - \\\n",
    "                                   Kbarminus.dot(DeltaMinus).dot(hnp1m)) + \\\n",
    "                (1./dz)*(kbarplus - kbarminus) - (1./dt)*(thetanp1m - thetan) \n",
    "            # Compute deltam for iteration level m+1\n",
    "            deltam = np.linalg.pinv(A).dot(R_MPFD)\n",
    "            # Increment iteration counter and display number of iterations\n",
    "            niter = niter + 1\n",
    "            if max(abs(deltam[1:(nz-1)]))<stop_tol:\n",
    "                stop_flag = 1\n",
    "                hnp1mp1 = hnp1m + deltam # Force boundary conditions       \n",
    "                if noflux == 1:\n",
    "                    hnp1mp1[0] = hnp1mp1[1] + dz\n",
    "                else:\n",
    "                    hnp1mp1[0] = htop  # boundary conditions    \n",
    "                hnp1mp1[nz-1] = hnp1m[nz-2]\n",
    "                [cnp1m,knp1m,thetanp1m] = vanGenuchten(hnp1mp1,phi)\n",
    "                thetanp1mp1 = thetanp1m\n",
    "                knp1mp1 = knp1m\n",
    "                cnp1mp1 = cnp1m            \n",
    "                hnp1m = hnp1mp1\n",
    "            else:\n",
    "                hnp1mp1 = hnp1m + deltam\n",
    "                hnp1m = hnp1mp1; # Force boundary conditions\n",
    "                if noflux == 1:\n",
    "                    hnp1m[0] = hnp1m[1] + dz\n",
    "                else:\n",
    "                    hnp1m[0] = htop\n",
    "                hnp1m[nz-1] = hnp1m[nz-2]\n",
    "        # Closes while(stop_flag==0) H(:,i) = hnp1mp1;\n",
    "        THETA[:,i] = thetanp1mp1\n",
    "        H[:,i] = hnp1mp1\n",
    "        K[:, i]= knp1mp1\n",
    "        C[:, i] = cnp1mp1\n",
    "        ktop[i] =  (K[0, i] + K[1, i])/2.  \n",
    "        kbot[i] =  (K[-1, i] + K[-2, i])/2.   #(knp1mp1[-1] + knp1mp1[-2])/2.  \n",
    "        error[i] = np.sum(A.dot(deltam))*dt\n",
    "        error2[i] = dz*np.sum(C[:,i]*deltam[:]) -  kbot[i]*(deltam[-1] - \\\n",
    "                    deltam[-2])*dt/dz + ktop[i]*(deltam[1] - deltam[0])*dt/dz\n",
    "        iterations[i-1] = niter\n",
    "    fluxin =  -  ktop*((H[1] - H[0])/dz + 1.)*dt   # top flux\n",
    "    fluxout =  kbot*((H[-1] - H[-2])/dz + 1. )*dt  # bottom flux\n",
    "    newmass = (THETA[:, 1:] - THETA[:, :-1]).sum(0)   #  change in mass \n",
    "    \n",
    "    time_elapse.append(time.time() - start_time)\n",
    "    mass_balance.append(np.cumsum(fluxin[1:] - newmass + fluxout[1:])[-1])\n",
    "    balance_w_err.append(np.cumsum(fluxin[1:] - newmass + fluxout[1:] - \\\n",
    "                                   error[1:])[-1])\n",
    "    total_fluxin.append(np.cumsum(fluxin[1:] )[-1])\n",
    "    total_newmass.append(np.cumsum(newmass )[-1])\n",
    "    total_fluxout.append(np.cumsum(fluxout[1:] )[-1])\n",
    "    total_error.append(np.cumsum(error[1:])[-1])\n",
    "    total_iter.append(iterations)"
   ]
  },
  {
   "cell_type": "code",
   "execution_count": null,
   "metadata": {
    "collapsed": false
   },
   "outputs": [],
   "source": [
    "fig = plt.figure(1, figsize = (11,4)); \n",
    "ax = plt.subplot(121)\n",
    "plt.plot(hinit,z);\n",
    "plt.xlabel('Pressure head [cm]',fontsize=  11)\n",
    "plt.ylabel('Depth [cm]',fontsize=  11)\n",
    "plt.xlim( np.min(H)-20,  np.max(H)+20)\n",
    "plt.ylim(100, 0)\n",
    "plt.gca().invert_yaxis()\n",
    "plt.title('Pressure head vs. depth', fontsize=  11)\n",
    "plt.ylim(100, 0)\n",
    "ax = plt.subplot(122)\n",
    "plt.plot(thetainit,z)\n",
    "plt.xlabel('Soil moisture $cm^3/cm^3$',fontsize=  11)\n",
    "plt.ylabel('Depth [cm]',fontsize=  11)\n",
    "plt.gca().invert_yaxis()\n",
    "plt.title('Soil moisture vs. depth',fontsize=  11)\n",
    "\n",
    "for i in  range(10):\n",
    "    ax = plt.subplot(121)\n",
    "    plt.plot(H[:, i],z)\n",
    "    ax = plt.subplot(122)\n",
    "    plt.plot(THETA[:, i],z)\n",
    "fig.savefig('vary_stop_tol/profile {0}.pdf'.format(printstr))"
   ]
  },
  {
   "cell_type": "code",
   "execution_count": null,
   "metadata": {
    "collapsed": false
   },
   "outputs": [],
   "source": [
    "fig  = plt.figure(1, figsize = (10,4)); \n",
    "ax = plt.subplot(121)\n",
    "plt.title('Surface h',  fontsize = 11)\n",
    "plt.plot(t[1:], H[0, 1:], label = 'z={}'.format(z[0]))\n",
    "plt.plot(t[1:], H[1, 1:], label = 'z={}'.format(z[1]))\n",
    "plt.xlabel('t [s]'); plt.ylabel('h [cm]')\n",
    "plt.legend(loc = 'best', fontsize = 10)\n",
    "ax = plt.subplot(122)\n",
    "plt.title('Surface $\\Theta$',  fontsize = 11)\n",
    "plt.plot(t[1:], THETA[0, 1:], '.', label = 'z={}'.format(z[0]))\n",
    "plt.plot(t[1:], THETA[1, 1:], '.', label = 'z={}'.format(z[1]))\n",
    "plt.legend(loc = 'best', fontsize = 10)\n",
    "plt.xlabel('t [s]'); plt.ylabel('$\\Theta$ []')\n",
    "plt.suptitle('{}'.format(fmtstr))\n",
    "# fig.savefig('fluxplots/surface_{0}.pdf'.format(printstr))"
   ]
  },
  {
   "cell_type": "code",
   "execution_count": null,
   "metadata": {
    "collapsed": false
   },
   "outputs": [],
   "source": [
    "fig = plt.figure(figsize= (8,7))\n",
    "\n",
    "plt.subplot(211)\n",
    "plt.loglog(stop_tols[:], np.abs(np.array(mass_balance)), 'o--')\n",
    "plt.ylabel(\"mass balance\")\n",
    "plt.title('Uncorrected mass error at t={1:.0f}s ({0})'.format(fmtstr, (tmax)), fontsize = 11)\n",
    "\n",
    "plt.subplot(212)\n",
    "plt.loglog(stop_tols[:], np.abs(np.array(balance_w_err)), 'o--')\n",
    "plt.ylabel(\"mass balance\")\n",
    "plt.title('Corrected mass error at t={1:.0f}s ({0})'.format(fmtstr, (tmax)), fontsize = 11)\n",
    "fig.savefig('vary_stop_tol/mass error {0}.pdf'.format(printstr))"
   ]
  },
  {
   "cell_type": "code",
   "execution_count": null,
   "metadata": {
    "collapsed": false
   },
   "outputs": [],
   "source": [
    "fig = plt.figure(figsize= (8,4))\n",
    "\n",
    "# plt.subplot(211)\n",
    "plt.semilogx(stop_tols, time_elapse, 'o--')\n",
    "plt.xlabel(\"stop tolerance\")\n",
    "plt.ylabel(\"computation time \")\n",
    "plt.title('Time to simulate {1}s ({0})'.format(fmtstr, int(tmax)), fontsize = 11)\n",
    "# fig.savefig('vary_stop_tol/time elapse {0}.pdf'.format(printstr))"
   ]
  },
  {
   "cell_type": "code",
   "execution_count": null,
   "metadata": {
    "collapsed": true
   },
   "outputs": [],
   "source": []
  }
 ],
 "metadata": {
  "anaconda-cloud": {},
  "kernelspec": {
   "display_name": "Python [default]",
   "language": "python",
   "name": "python2"
  },
  "language_info": {
   "codemirror_mode": {
    "name": "ipython",
    "version": 2
   },
   "file_extension": ".py",
   "mimetype": "text/x-python",
   "name": "python",
   "nbconvert_exporter": "python",
   "pygments_lexer": "ipython2",
   "version": "2.7.12"
  }
 },
 "nbformat": 4,
 "nbformat_minor": 0
}
