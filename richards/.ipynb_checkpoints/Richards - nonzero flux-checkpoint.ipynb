{
 "cells": [
  {
   "cell_type": "markdown",
   "metadata": {},
   "source": [
    "### 1-D Richards equation solver code\n",
    "- formulation based on a backward Euler implementation of the mixed theta-head formulation of the 1-D Richards equation, with a modified Picard iteration finite differencing solution scheme, with a modified Picard iteration finite differencing solution scheme.\n",
    "\n",
    "- The soil water retention parameterization used is that of van Genuchten \n",
    " [1980], and this code requires the corresponding MATLAB function        \n",
    " vanGenuchten.m.  \n",
    " \n",
    " - coordinate axis:  positive  downward\n",
    "         z[0] = 0  (top)\n",
    "         z[-1] = 100  (bottom)"
   ]
  },
  {
   "cell_type": "code",
   "execution_count": 1,
   "metadata": {
    "collapsed": true
   },
   "outputs": [],
   "source": [
    "import numpy as np\n",
    "import matplotlib.pylab as plt\n",
    "plt.style.use('ggplot')\n",
    "import time"
   ]
  },
  {
   "cell_type": "code",
   "execution_count": 2,
   "metadata": {
    "collapsed": true
   },
   "outputs": [],
   "source": [
    "%matplotlib inline"
   ]
  },
  {
   "cell_type": "code",
   "execution_count": 3,
   "metadata": {
    "code_folding": [],
    "collapsed": true
   },
   "outputs": [],
   "source": [
    "def vanGenuchten(h,phi) :\n",
    "    alpha   = phi[0]\n",
    "    theta_S = phi[1]\n",
    "    theta_R = phi[2]\n",
    "    n       = phi[3]\n",
    "    m       = phi[4]\n",
    "    Ksat    = phi[5] \n",
    "    # Compute the volumetric moisture content\n",
    "    theta = (theta_S - theta_R)/(1 + (alpha*abs(h))**n)**m + theta_R; \n",
    "    ## Compute the effective saturation\n",
    "    Se = ((theta - theta_R)/(theta_S - theta_R)); \n",
    "    # Compute the hydraulic conductivity\n",
    "    K = Ksat*Se**(1./2)*(1 - (1 - Se**(1./m))**m)**2; \n",
    "    # Compute the specific moisture storage\n",
    "    C =  -alpha*n*np.sign(h)*(1./n - 1)*(alpha*abs(h))**(n - 1)*(theta_R - \n",
    "         theta_S)*((alpha*abs(h))**n + 1)**(1/n - 2);\n",
    "    try:\n",
    "        for i in range(len(h)):\n",
    "            if h[i] > 0:\n",
    "                K[i] = Ksat\n",
    "                C[i] = 0.\n",
    "                theta[i] = theta_S\n",
    "    except TypeError:\n",
    "        if h > 0:\n",
    "            K = Ksat\n",
    "            C = 0.\n",
    "            theta = theta_S\n",
    "    return [C,K,theta]"
   ]
  },
  {
   "cell_type": "code",
   "execution_count": 4,
   "metadata": {
    "code_folding": [],
    "collapsed": true
   },
   "outputs": [],
   "source": [
    "# Define van Genuchten parameters\n",
    "alpha   = 0.0335\n",
    "theta_S = 0.368;\n",
    "theta_R = 0.102;\n",
    "lambdA  = 0.25\n",
    "n       = lambdA + 1\n",
    "m       = lambdA/n\n",
    "Ksat    = 0.09  # cm/s\n",
    "\n",
    "# Store van Genuchten parameters in array\n",
    "phi = np.zeros(6)\n",
    "phi[0] = alpha\n",
    "phi[1] = theta_S\n",
    "phi[2] = theta_R\n",
    "phi[3] = n\n",
    "phi[4] = m\n",
    "phi[5] = Ksat"
   ]
  },
  {
   "cell_type": "code",
   "execution_count": 5,
   "metadata": {
    "collapsed": true
   },
   "outputs": [],
   "source": [
    "# make mesh variables\n",
    "dz = 1.; # [cm]\n",
    "zmin = 0.; # [cm]\n",
    "zmax = 100.; # [cm]\n",
    "z = np.arange(zmin, zmax+1, dz)\n",
    "nz   =  z.shape[0]"
   ]
  },
  {
   "cell_type": "code",
   "execution_count": 6,
   "metadata": {
    "collapsed": true
   },
   "outputs": [],
   "source": [
    "# Define matrices that we'll need in solution\n",
    "BottomBoundCon = 1  # 0 = constant head, 1 = free drainage\n",
    "DeltaPlus  = np.diag(-np.ones(nz)) + np.diag(np.ones(nz-1), 1)\n",
    "DeltaPlus[0,:] = 0\n",
    "DeltaPlus[nz-1,:] = 0\n",
    "\n",
    "DeltaMinus = np.diag(np.ones(nz)) + np.diag(-np.ones(nz-1),-1);\n",
    "DeltaMinus[0,:] = 0\n",
    "DeltaMinus[nz-1,:] = 0\n",
    "\n",
    "MPlus = np.diag(np.ones(nz))+np.diag(np.ones(nz-1),1)\n",
    "MPlus[0,0] = 2\n",
    "MPlus[0,1:nz-1] = 0\n",
    "MPlus[nz-1,nz-1] = 2\n",
    "MPlus[nz-1,:nz-1] = 0  # not needed\n",
    "\n",
    "MMinus = np.diag(np.ones(nz)) + np.diag(np.ones(nz-1),-1)\n",
    "MMinus[0,0] = 2\n",
    "MMinus[0,1:nz-1] = 0  # not needed\n",
    "MMinus[nz-1,nz-1] = 2\n",
    "MMinus[nz-1,:nz-1] = 0 "
   ]
  },
  {
   "cell_type": "code",
   "execution_count": 98,
   "metadata": {
    "collapsed": true
   },
   "outputs": [],
   "source": [
    "# Define time variables\n",
    "stop_tol = 1e-5  # Stopping tolerance [cm]\n",
    "dt = 0.1 # [s]\n",
    "tmin = 0. # [s]\n",
    "tmax = dt*1000. # [s]\n",
    "t = np.arange(tmin, tmax + dt, dt)  #(tmin:dt:tmax); \n",
    "nt = len(t)"
   ]
  },
  {
   "cell_type": "code",
   "execution_count": 99,
   "metadata": {
    "code_folding": [],
    "collapsed": false
   },
   "outputs": [],
   "source": [
    "# Define ICs\n",
    "case = 'vertical'\n",
    "if case == 'vertical':\n",
    "    htop = -30\n",
    "    hinit = -1000*np.ones(nz)\n",
    "    hinit[:10] = htop\n",
    "elif case == 'slope':\n",
    "    hinit = np.arange(nz)*-5\n",
    "     \n",
    "setflux = 1\n",
    "flux =  .002  # cm/s\n",
    "\n",
    "htop = hinit[0]\n",
    "hbottom = hinit[-1]\n",
    "\n",
    "\n",
    "# Define a storage container to store the pressure heads and soil moistures\n",
    "[Cinit,Kinit,thetainit] = vanGenuchten(hinit,phi) \n",
    "\n",
    "if setflux == 1:\n",
    "    kt =  (Kinit[1] + Kinit[0])/2.\n",
    "    hinit[0] = hinit[1] + dz + dz*flux/kt\n",
    "    [Cinit,Kinit,thetainit] = vanGenuchten(hinit,phi) \n",
    "\n",
    "    \n",
    "H = np.zeros([nz,nt])\n",
    "K = np.zeros([nz,nt])\n",
    "C = np.zeros([nz,nt])\n",
    "H[:,0] = hinit\n",
    "K[:, 0] = Kinit\n",
    "C[:, 0] = Cinit\n",
    "\n",
    "THETA = np.zeros([nz,nt])\n",
    "THETA[:,0] = thetainit\n",
    "ktop = np.zeros([ nt])\n",
    "kbot = np.zeros([ nt])\n",
    "error = np.zeros([nt])"
   ]
  },
  {
   "cell_type": "code",
   "execution_count": 100,
   "metadata": {
    "collapsed": false
   },
   "outputs": [],
   "source": [
    "fmtstr = 'flux={2}, dt={0}, tol={1}'.format(dt, stop_tol, flux)\n",
    "# printstr = 'flux={2}_dt={0}_tol={1}'.format(dt, stop_tol, flux)"
   ]
  },
  {
   "cell_type": "code",
   "execution_count": null,
   "metadata": {
    "code_folding": [],
    "collapsed": false
   },
   "outputs": [
    {
     "name": "stdout",
     "output_type": "stream",
     "text": [
      "200 400"
     ]
    }
   ],
   "source": [
    "start_time = time.time()\n",
    "iterations = np.zeros([nt-1,1]);\n",
    "\n",
    "for i in range(1, nt): # Initialize the Picard iteration solver\n",
    "    hnp1m =  H[:,i-1]  \n",
    "    thetan = THETA[:,i-1]   \n",
    "    stop_flag = 0  # Define a dummy stopping variable\n",
    "    niter = 0  # Define an iteration counter\n",
    "    while(stop_flag==0): \n",
    "        [cnp1m,knp1m,thetanp1m] = vanGenuchten(hnp1m,phi)  # Get C,K,theta   \n",
    "        Cdiag = np.diag(cnp1m) #  Compute the individual elements of the A matrix for LHS\n",
    "        kbarplus = (1/2.)*MPlus.dot(knp1m)\n",
    "        Kbarplus = np.diag(kbarplus)\n",
    "        kbarminus = (1/2.)*MMinus.dot(knp1m)\n",
    "        Kbarminus = np.diag(kbarminus)\n",
    "        A = (1./dt)*Cdiag - 1./((dz)**2)*(Kbarplus.dot(DeltaPlus) - \\\n",
    "                                          Kbarminus.dot(DeltaMinus)) \n",
    "        R_MPFD = (1./(dz**2))*(Kbarplus.dot(DeltaPlus).dot(hnp1m) - \\\n",
    "                               Kbarminus.dot(DeltaMinus).dot(hnp1m)) + \\\n",
    "                                (1./dz)*(kbarplus - kbarminus) - \\\n",
    "                                (1./dt)*(thetanp1m - thetan)       \n",
    "        deltam = np.linalg.pinv(A).dot(R_MPFD)  # Compute deltam for iteration level m+1\n",
    "        niter = niter + 1   # Increment iteration counter and display number of iterations\n",
    "        if max(abs(deltam[1:(nz-1)]))<stop_tol:\n",
    "            stop_flag = 1\n",
    "            hnp1mp1 = hnp1m + deltam # Force boundary conditions       \n",
    "            if setflux == 1:\n",
    "                kt =  (knp1m[1] + knp1m[0])/2.\n",
    "                hnp1mp1[0] = hnp1mp1[1] + dz + dz*flux/kt\n",
    "            else:\n",
    "                hnp1mp1[0] = htop\n",
    "            if BottomBoundCon==0:\n",
    "                hnp1mp1[nz-1] = hbottom;\n",
    "            elif (BottomBoundCon==1):\n",
    "                hnp1mp1[nz-1] = hnp1m[nz-2]\n",
    "            [cnp1m,knp1m,thetanp1m] = vanGenuchten(hnp1mp1,phi)\n",
    "            thetanp1mp1 = thetanp1m\n",
    "            knp1mp1 = knp1m\n",
    "            cnp1mp1 = cnp1m            \n",
    "            hnp1m = hnp1mp1\n",
    "        else:\n",
    "            hnp1mp1 = hnp1m + deltam;\n",
    "            hnp1m = hnp1mp1; # Force boundary conditions\n",
    "            if setflux == 1:\n",
    "                kt = (knp1m[1] + knp1m[0])/2.\n",
    "                hnp1m[0] = hnp1m[1] + dz + dz*flux/kt\n",
    "            else:\n",
    "                hnp1m[0] = htop\n",
    "            if BottomBoundCon==0:\n",
    "                hnp1m[nz-1] = hbottom\n",
    "            elif BottomBoundCon==1:\n",
    "                hnp1m[nz-1] = hnp1m[nz-2]\n",
    "    \n",
    "    THETA[:,i] = thetanp1mp1; \n",
    "    H[:,i] = hnp1mp1\n",
    "    K[:, i]= knp1mp1\n",
    "    C[:,i] = cnp1mp1\n",
    "    ktop[i] =  (K[0, i] + K[1, i])/2.  \n",
    "    kbot[i] =  (K[-1, i] + K[-2, i])/2.  \n",
    "    error[i] = np.sum(A.dot(deltam))*dt*dz\n",
    "#     error[i] = dz*np.sum(C[:,i]*deltam) -  kbot[i]*(deltam[-1] - deltam[-2])*dt/dz \\\n",
    "#          + ktop[i]*(deltam[1] - deltam[0])*dt/dz\n",
    "    if (np.mod(i,nt/5)==0):\n",
    "        print i,\n",
    "    iterations[i-1] = niter  # save number of iterations\n",
    "    fluxin =  - ktop*((H[1] - H[0])/dz + 1.)*dt   # top flux\n",
    "    fluxout =  kbot*((H[-1] - H[-2])/dz + 1. )*dt # bottom flux\n",
    "    newmass = (THETA[:, 1:] - THETA[:, :-1]).sum(0)   #  change in mass \n",
    "\n",
    "print(\"--- %s seconds ---\" % (time.time() - start_time))"
   ]
  },
  {
   "cell_type": "code",
   "execution_count": null,
   "metadata": {
    "collapsed": false
   },
   "outputs": [],
   "source": [
    "fig = plt.figure(1, figsize = (11,4)); \n",
    "ax = plt.subplot(121)\n",
    "plt.plot(hinit,z);\n",
    "plt.xlabel('Pressure head [cm]',fontsize=  11)\n",
    "plt.ylabel('Depth [cm]',fontsize=  11)\n",
    "plt.xlim( np.min(H)-20,  np.max(H)+20)\n",
    "plt.ylim(100, 0)\n",
    "plt.gca().invert_yaxis()\n",
    "plt.title('Pressure head vs. depth', fontsize=  11)\n",
    "plt.ylim(100, 0)\n",
    "ax = plt.subplot(122)\n",
    "plt.plot(thetainit,z)\n",
    "plt.xlabel('Soil moisture $cm^3/cm^3$',fontsize=  11)\n",
    "plt.ylabel('Depth [cm]',fontsize=  11)\n",
    "plt.gca().invert_yaxis()\n",
    "plt.title('Soil moisture vs. depth',fontsize=  11)\n",
    "\n",
    "for i in  range(10):\n",
    "    ax = plt.subplot(121)\n",
    "    plt.plot(H[:, i],z)\n",
    "    ax = plt.subplot(122)\n",
    "    plt.plot(THETA[:, i],z)\n",
    "fig.savefig('plots_nonzero_flux/profile {0}.pdf'.format(fmtstr))"
   ]
  },
  {
   "cell_type": "code",
   "execution_count": null,
   "metadata": {
    "collapsed": false
   },
   "outputs": [],
   "source": [
    "fig  = plt.figure(1, figsize = (10,4)); \n",
    "ax = plt.subplot(121)\n",
    "plt.title('Surface h',  fontsize = 11)\n",
    "plt.plot(t[1:], H[0, 1:], label = 'z={}'.format(z[0]))\n",
    "plt.plot(t[1:], H[1, 1:], label = 'z={}'.format(z[1]))\n",
    "plt.xlabel('t [s]'); plt.ylabel('h [cm]')\n",
    "plt.legend(loc = 'best', fontsize = 10)\n",
    "ax = plt.subplot(122)\n",
    "plt.title('Surface $\\Theta$',  fontsize = 11)\n",
    "plt.plot(t[1:], THETA[0, 1:], '.', label = 'z={}'.format(z[0]))\n",
    "plt.plot(t[1:], THETA[1, 1:], '.', label = 'z={}'.format(z[1]))\n",
    "plt.legend(loc = 'best', fontsize = 10)\n",
    "plt.xlabel('t [s]'); plt.ylabel('$\\Theta$')\n",
    "plt.suptitle('{}'.format(fmtstr))\n",
    "fig.savefig('plots_nonzero_flux/surface_{0}.pdf'.format(fmtstr))"
   ]
  },
  {
   "cell_type": "code",
   "execution_count": null,
   "metadata": {
    "collapsed": false
   },
   "outputs": [],
   "source": [
    "#  cumulative error\n",
    "fig = plt.figure(1, figsize = (6,3.7))\n",
    "plt.title('Cumulative error  ({0})'.format(fmtstr), fontsize = 11)\n",
    "plt.plot(t[1:], np.cumsum(fluxin[1:] - newmass + fluxout[1:] - error[1:] ), \n",
    "         '.-', label =  'corrected')\n",
    "plt.plot(t[1:], np.cumsum(fluxin[1:] - newmass + fluxout[1:]  ), '-',label= 'uncorrected')\n",
    "plt.legend(loc= 'best', fontsize = 10)\n",
    "plt.xlabel('time', fontsize = 10)\n",
    "plt.ylabel('error [cm]', fontsize = 10)\n",
    "fig.savefig('plots_nonzero_flux/error {0}.pdf'.format(fmtstr))"
   ]
  },
  {
   "cell_type": "code",
   "execution_count": null,
   "metadata": {
    "collapsed": false
   },
   "outputs": [],
   "source": [
    "#  plot mass balance terms\n",
    "fig = plt.figure(1, figsize = (11,4.5))\n",
    "ax = plt.subplot(121)\n",
    "plt.title('Mass budget / timestep', fontsize = 11)\n",
    "plt.plot(t[1:], fluxout[1:], label = 'flux out')\n",
    "plt.plot(t[1:], fluxin[1:], '.-', ms = 4, label = 'flux in')\n",
    "plt.plot(t[1:], error[1:], label = 'error')\n",
    "plt.plot(t[1:], newmass, label = 'mass change')\n",
    "plt.legend(loc = 'best', fontsize = 10)\n",
    "plt.xlabel('time [s]'); plt.ylabel('cm')\n",
    "\n",
    "ax = plt.subplot(122)\n",
    "plt.title('Cumulative mass budget', fontsize = 11)\n",
    "plt.plot(t[1:], np.cumsum(fluxout[1:]), label = 'flux out')\n",
    "plt.plot(t[1:], np.cumsum(fluxin[1:]), '.-', ms = 4, label = 'flux in')\n",
    "plt.plot(t[1:], np.cumsum(error[1:]),  '.-', ms = 4, label = 'error')\n",
    "plt.plot(t[1:], np.cumsum(newmass), label = 'mass change')\n",
    "# plt.legend(loc = 'best', fontsize = 10)\n",
    "plt.xlabel('time [s]'); plt.ylabel('cm')\n",
    "plt.suptitle(fmtstr)\n",
    "fig.savefig('plots_nonzero_flux/fluxes {0}.pdf'.format(fmtstr))"
   ]
  },
  {
   "cell_type": "code",
   "execution_count": null,
   "metadata": {
    "collapsed": false
   },
   "outputs": [],
   "source": [
    "plt.figure(5);\n",
    "plt.plot(iterations,'.-');\n",
    "plt.xlabel('Time [s]');\n",
    "plt.ylabel('Number of iterations');"
   ]
  },
  {
   "cell_type": "code",
   "execution_count": null,
   "metadata": {
    "collapsed": true
   },
   "outputs": [],
   "source": []
  }
 ],
 "metadata": {
  "anaconda-cloud": {},
  "kernelspec": {
   "display_name": "Python [default]",
   "language": "python",
   "name": "python2"
  },
  "language_info": {
   "codemirror_mode": {
    "name": "ipython",
    "version": 2
   },
   "file_extension": ".py",
   "mimetype": "text/x-python",
   "name": "python",
   "nbconvert_exporter": "python",
   "pygments_lexer": "ipython2",
   "version": "2.7.12"
  }
 },
 "nbformat": 4,
 "nbformat_minor": 0
}
