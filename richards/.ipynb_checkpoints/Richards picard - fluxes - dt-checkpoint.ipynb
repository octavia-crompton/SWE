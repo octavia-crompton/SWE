{
 "cells": [
  {
   "cell_type": "markdown",
   "metadata": {},
   "source": [
    "### 1-D Richards equation solver code\n",
    "- formulation based on a backward Euler implementation of the mixed theta-head formulation of the 1-D Richards equation, with a modified Picard iteration finite differencing solution scheme, with a modified Picard iteration finite differencing solution scheme.\n",
    "\n",
    "- The soil water retention parameterization used is that of van Genuchten \n",
    " [1980], and this code requires the corresponding MATLAB function        \n",
    " vanGenuchten.m.  \n",
    " \n",
    " - coordinate axis:  positive  downward\n",
    "         z[0] = 0  (top)\n",
    "         z[-1] = 100  (bottom)"
   ]
  },
  {
   "cell_type": "code",
   "execution_count": 1,
   "metadata": {
    "collapsed": true
   },
   "outputs": [],
   "source": [
    "import numpy as np\n",
    "import matplotlib.pylab as plt\n",
    "plt.style.use('ggplot')\n",
    "import time"
   ]
  },
  {
   "cell_type": "code",
   "execution_count": 2,
   "metadata": {
    "collapsed": true
   },
   "outputs": [],
   "source": [
    "%matplotlib inline"
   ]
  },
  {
   "cell_type": "code",
   "execution_count": 3,
   "metadata": {
    "code_folding": [],
    "collapsed": true
   },
   "outputs": [],
   "source": [
    "def vanGenuchten(h,phi) :\n",
    "    alpha   = phi[0]\n",
    "    theta_S = phi[1]\n",
    "    theta_R = phi[2]\n",
    "    n       = phi[3]\n",
    "    m       = phi[4]\n",
    "    Ksat    = phi[5] \n",
    "    # Compute the volumetric moisture content\n",
    "    theta = (theta_S - theta_R)/(1 + (alpha*abs(h))**n)**m + theta_R; \n",
    "    ## Compute the effective saturation\n",
    "    Se = ((theta - theta_R)/(theta_S - theta_R)); \n",
    "    # Compute the hydraulic conductivity\n",
    "    K = Ksat*Se**(1./2)*(1 - (1 - Se**(1./m))**m)**2; \n",
    "    # Compute the specific moisture storage\n",
    "    C =  -alpha*n*np.sign(h)*(1./n - 1)*(alpha*abs(h))**(n - 1)*(theta_R - \n",
    "         theta_S)*((alpha*abs(h))**n + 1)**(1/n - 2);\n",
    "    return [C,K,theta]"
   ]
  },
  {
   "cell_type": "code",
   "execution_count": 4,
   "metadata": {
    "code_folding": [],
    "collapsed": true
   },
   "outputs": [],
   "source": [
    "# Define van Genuchten parameters\n",
    "alpha   = 0.0335\n",
    "theta_S = 0.368;\n",
    "theta_R = 0.102;\n",
    "lambdA  = 0.25\n",
    "n       = lambdA + 1\n",
    "m       = lambdA/n\n",
    "Ksat    = 0.09\n",
    "### add second layer parameters"
   ]
  },
  {
   "cell_type": "code",
   "execution_count": 5,
   "metadata": {
    "code_folding": [],
    "collapsed": false
   },
   "outputs": [],
   "source": [
    "# Store van Genuchten parameters in array\n",
    "phi = np.zeros(6)\n",
    "phi[0] = alpha\n",
    "phi[1] = theta_S\n",
    "phi[2] = theta_R\n",
    "phi[3] = n\n",
    "phi[4] = m\n",
    "phi[5] = Ksat"
   ]
  },
  {
   "cell_type": "code",
   "execution_count": 6,
   "metadata": {
    "code_folding": [],
    "collapsed": false
   },
   "outputs": [],
   "source": [
    "# make mesh variables\n",
    "dz = 1.; # [cm]\n",
    "zmin = 0.; # [cm]\n",
    "zmax = 100.; # [cm]\n",
    "z = np.arange(zmin, zmax+1, dz)\n",
    "nz   =  z.shape[0]\n",
    "\n",
    "# Define boundary conditions at top and bottom\n",
    "hinit = np.arange(nz)*-5\n",
    "htop = hinit[0]\n",
    "\n",
    "# htop = -30\n",
    "# hinit = -1000*np.ones(nz)\n",
    "# hinit[0] = htop\n",
    "\n",
    "hbottom = hinit[-1]\n"
   ]
  },
  {
   "cell_type": "code",
   "execution_count": 7,
   "metadata": {
    "code_folding": [],
    "collapsed": false
   },
   "outputs": [],
   "source": [
    "\n",
    "# Define matrices that we'll need in solution\n",
    "BottomBoundCon = 1  # 0 = constant head, 1 = free drainage\n",
    "DeltaPlus  = np.diag(-np.ones(nz)) + np.diag(np.ones(nz-1), 1)\n",
    "DeltaPlus[0,:] = 0\n",
    "DeltaPlus[nz-1,:] = 0\n",
    "\n",
    "DeltaMinus = np.diag(np.ones(nz)) + np.diag(-np.ones(nz-1),-1);\n",
    "DeltaMinus[0,:] = 0\n",
    "DeltaMinus[nz-1,:] = 0\n",
    "\n",
    "MPlus = np.diag(np.ones(nz))+np.diag(np.ones(nz-1),1)\n",
    "MPlus[0,0] = 2\n",
    "MPlus[0,1:nz-1] = 0\n",
    "MPlus[nz-1,nz-1] = 2\n",
    "MPlus[nz-1,:nz-1] = 0  # not needed\n",
    "\n",
    "MMinus = np.diag(np.ones(nz)) + np.diag(np.ones(nz-1),-1)\n",
    "MMinus[0,0] = 2\n",
    "MMinus[0,1:nz-1] = 0  # not needed\n",
    "MMinus[nz-1,nz-1] = 2\n",
    "MMinus[nz-1,:nz-1] = 0 "
   ]
  },
  {
   "cell_type": "code",
   "execution_count": 8,
   "metadata": {
    "code_folding": [],
    "collapsed": false
   },
   "outputs": [],
   "source": [
    "# Define time variables\n",
    "stop_tol = 1e-5  # Stopping tolerance [cm]\n",
    "tmin = 0. # [s]\n",
    "\n",
    "\n",
    "# Define a storage container to store the pressure heads and soil moistures\n",
    "[Ctop,Ktop,thetatop] = vanGenuchten(htop,phi)\n",
    "[Cbottom,Kbottom,thetabottom] = vanGenuchten(hbottom,phi)\n",
    "[Cinit,Kinit,thetainit] = vanGenuchten(hinit,phi) \n"
   ]
  },
  {
   "cell_type": "code",
   "execution_count": 31,
   "metadata": {
    "code_folding": [],
    "collapsed": false
   },
   "outputs": [
    {
     "ename": "KeyboardInterrupt",
     "evalue": "",
     "output_type": "error",
     "traceback": [
      "\u001b[0;31m---------------------------------------------------------------------------\u001b[0m",
      "\u001b[0;31mKeyboardInterrupt\u001b[0m                         Traceback (most recent call last)",
      "\u001b[0;32m<ipython-input-31-50748e51a3db>\u001b[0m in \u001b[0;36m<module>\u001b[0;34m()\u001b[0m\n\u001b[1;32m     53\u001b[0m             \u001b[0;31m# Compute deltam for iteration level m+1\u001b[0m\u001b[0;34m\u001b[0m\u001b[0;34m\u001b[0m\u001b[0m\n\u001b[1;32m     54\u001b[0m \u001b[0;34m\u001b[0m\u001b[0m\n\u001b[0;32m---> 55\u001b[0;31m             \u001b[0mdeltam\u001b[0m \u001b[0;34m=\u001b[0m \u001b[0mnp\u001b[0m\u001b[0;34m.\u001b[0m\u001b[0mlinalg\u001b[0m\u001b[0;34m.\u001b[0m\u001b[0mpinv\u001b[0m\u001b[0;34m(\u001b[0m\u001b[0mA\u001b[0m\u001b[0;34m)\u001b[0m\u001b[0;34m.\u001b[0m\u001b[0mdot\u001b[0m\u001b[0;34m(\u001b[0m\u001b[0mR_MPFD\u001b[0m\u001b[0;34m)\u001b[0m\u001b[0;34m\u001b[0m\u001b[0m\n\u001b[0m\u001b[1;32m     56\u001b[0m             \u001b[0;31m# Increment iteration counter and display number of iterations\u001b[0m\u001b[0;34m\u001b[0m\u001b[0;34m\u001b[0m\u001b[0m\n\u001b[1;32m     57\u001b[0m             \u001b[0mniter\u001b[0m \u001b[0;34m=\u001b[0m \u001b[0mniter\u001b[0m \u001b[0;34m+\u001b[0m \u001b[0;36m1\u001b[0m\u001b[0;34m;\u001b[0m\u001b[0;34m\u001b[0m\u001b[0m\n",
      "\u001b[0;32m//anaconda/lib/python2.7/site-packages/numpy/linalg/linalg.pyc\u001b[0m in \u001b[0;36mpinv\u001b[0;34m(a, rcond)\u001b[0m\n\u001b[1;32m   1615\u001b[0m     \u001b[0m_assertNoEmpty2d\u001b[0m\u001b[0;34m(\u001b[0m\u001b[0ma\u001b[0m\u001b[0;34m)\u001b[0m\u001b[0;34m\u001b[0m\u001b[0m\n\u001b[1;32m   1616\u001b[0m     \u001b[0ma\u001b[0m \u001b[0;34m=\u001b[0m \u001b[0ma\u001b[0m\u001b[0;34m.\u001b[0m\u001b[0mconjugate\u001b[0m\u001b[0;34m(\u001b[0m\u001b[0;34m)\u001b[0m\u001b[0;34m\u001b[0m\u001b[0m\n\u001b[0;32m-> 1617\u001b[0;31m     \u001b[0mu\u001b[0m\u001b[0;34m,\u001b[0m \u001b[0ms\u001b[0m\u001b[0;34m,\u001b[0m \u001b[0mvt\u001b[0m \u001b[0;34m=\u001b[0m \u001b[0msvd\u001b[0m\u001b[0;34m(\u001b[0m\u001b[0ma\u001b[0m\u001b[0;34m,\u001b[0m \u001b[0;36m0\u001b[0m\u001b[0;34m)\u001b[0m\u001b[0;34m\u001b[0m\u001b[0m\n\u001b[0m\u001b[1;32m   1618\u001b[0m     \u001b[0mm\u001b[0m \u001b[0;34m=\u001b[0m \u001b[0mu\u001b[0m\u001b[0;34m.\u001b[0m\u001b[0mshape\u001b[0m\u001b[0;34m[\u001b[0m\u001b[0;36m0\u001b[0m\u001b[0;34m]\u001b[0m\u001b[0;34m\u001b[0m\u001b[0m\n\u001b[1;32m   1619\u001b[0m     \u001b[0mn\u001b[0m \u001b[0;34m=\u001b[0m \u001b[0mvt\u001b[0m\u001b[0;34m.\u001b[0m\u001b[0mshape\u001b[0m\u001b[0;34m[\u001b[0m\u001b[0;36m1\u001b[0m\u001b[0;34m]\u001b[0m\u001b[0;34m\u001b[0m\u001b[0m\n",
      "\u001b[0;32m//anaconda/lib/python2.7/site-packages/numpy/linalg/linalg.pyc\u001b[0m in \u001b[0;36msvd\u001b[0;34m(a, full_matrices, compute_uv)\u001b[0m\n\u001b[1;32m   1357\u001b[0m \u001b[0;34m\u001b[0m\u001b[0m\n\u001b[1;32m   1358\u001b[0m         \u001b[0msignature\u001b[0m \u001b[0;34m=\u001b[0m \u001b[0;34m'D->DdD'\u001b[0m \u001b[0;32mif\u001b[0m \u001b[0misComplexType\u001b[0m\u001b[0;34m(\u001b[0m\u001b[0mt\u001b[0m\u001b[0;34m)\u001b[0m \u001b[0;32melse\u001b[0m \u001b[0;34m'd->ddd'\u001b[0m\u001b[0;34m\u001b[0m\u001b[0m\n\u001b[0;32m-> 1359\u001b[0;31m         \u001b[0mu\u001b[0m\u001b[0;34m,\u001b[0m \u001b[0ms\u001b[0m\u001b[0;34m,\u001b[0m \u001b[0mvt\u001b[0m \u001b[0;34m=\u001b[0m \u001b[0mgufunc\u001b[0m\u001b[0;34m(\u001b[0m\u001b[0ma\u001b[0m\u001b[0;34m,\u001b[0m \u001b[0msignature\u001b[0m\u001b[0;34m=\u001b[0m\u001b[0msignature\u001b[0m\u001b[0;34m,\u001b[0m \u001b[0mextobj\u001b[0m\u001b[0;34m=\u001b[0m\u001b[0mextobj\u001b[0m\u001b[0;34m)\u001b[0m\u001b[0;34m\u001b[0m\u001b[0m\n\u001b[0m\u001b[1;32m   1360\u001b[0m         \u001b[0mu\u001b[0m \u001b[0;34m=\u001b[0m \u001b[0mu\u001b[0m\u001b[0;34m.\u001b[0m\u001b[0mastype\u001b[0m\u001b[0;34m(\u001b[0m\u001b[0mresult_t\u001b[0m\u001b[0;34m,\u001b[0m \u001b[0mcopy\u001b[0m\u001b[0;34m=\u001b[0m\u001b[0mFalse\u001b[0m\u001b[0;34m)\u001b[0m\u001b[0;34m\u001b[0m\u001b[0m\n\u001b[1;32m   1361\u001b[0m         \u001b[0ms\u001b[0m \u001b[0;34m=\u001b[0m \u001b[0ms\u001b[0m\u001b[0;34m.\u001b[0m\u001b[0mastype\u001b[0m\u001b[0;34m(\u001b[0m\u001b[0m_realType\u001b[0m\u001b[0;34m(\u001b[0m\u001b[0mresult_t\u001b[0m\u001b[0;34m)\u001b[0m\u001b[0;34m,\u001b[0m \u001b[0mcopy\u001b[0m\u001b[0;34m=\u001b[0m\u001b[0mFalse\u001b[0m\u001b[0;34m)\u001b[0m\u001b[0;34m\u001b[0m\u001b[0m\n",
      "\u001b[0;31mKeyboardInterrupt\u001b[0m: "
     ]
    }
   ],
   "source": [
    "time_elapse = []\n",
    "mass_balance = []\n",
    "total_fluxin = []\n",
    "dts= [10**x for x in range(-1,3)]\n",
    "stop_tol = 1e-5\n",
    "for dt in dts:\n",
    "    \n",
    "    tmax = 1000.\n",
    "    t = np.arange(tmin, tmax + dt, dt)  #(tmin:dt:tmax);\n",
    "    nt = len(t)\n",
    "    \n",
    "    H = np.zeros([nz,nt])\n",
    "    K = np.zeros([nz,nt])\n",
    "    C = np.zeros([nz,nt])\n",
    "    H[:,0] = hinit; K[:, 0] = Kinit; C[:, 0] = Cinit\n",
    "\n",
    "    THETA = np.zeros([nz,nt])\n",
    "    THETA[:,0] = thetainit\n",
    "    ktop = np.zeros([ nt])\n",
    "    kbot = np.zeros([ nt])\n",
    "    error = np.zeros([nt]) \n",
    "    error2 = np.zeros([nt]) \n",
    "\n",
    "\n",
    "    ktop[0] =  (K[0, 0] + K[1, 0])/2.  \n",
    "    kbot[0] =  (K[-1, 0] + K[-2, 0])/2. \n",
    "\n",
    "    start_time = time.time()\n",
    "\n",
    "#   #Define the container for an iteration counter\n",
    "    iterations = np.zeros([nt-1,1]);\n",
    "\n",
    "    # # Initialize the Picard iteration solver\n",
    "    for i in range(1, nt): \n",
    "        hnp1m =  H[:,i-1]  \n",
    "        #Enter the iteration step\n",
    "        thetan = THETA[:,i-1]   \n",
    "        #Define a dummy stopping variable\n",
    "        stop_flag = 0\n",
    "        # Define an iteration counter\n",
    "        niter = 0\n",
    "        while(stop_flag==0): # Get C,K,theta\n",
    "            [cnp1m,knp1m,thetanp1m] = vanGenuchten(hnp1m,phi); \n",
    "            #  Compute the individual elements of the A matrix for LHS\n",
    "            Cdiag = np.diag(cnp1m); \n",
    "            kbarplus = (1/2.)*MPlus.dot(knp1m);\n",
    "            Kbarplus = np.diag(kbarplus); \n",
    "            kbarminus = (1/2.)*MMinus.dot(knp1m);\n",
    "            Kbarminus = np.diag(kbarminus); \n",
    "            A = (1./dt)*Cdiag - 1./((dz)**2)*(Kbarplus.dot(DeltaPlus) - Kbarminus.dot(DeltaMinus)); \n",
    "            #  Compute the residual of MPFD (RHS)\n",
    "            R_MPFD = (1./(dz**2))*(Kbarplus.dot(DeltaPlus).dot(hnp1m) - Kbarminus.dot(DeltaMinus).dot(hnp1m)) + \\\n",
    "                (1./dz)*(kbarplus - kbarminus) - (1./dt)*(thetanp1m - thetan); \n",
    "            # Compute deltam for iteration level m+1\n",
    "\n",
    "            deltam = np.linalg.pinv(A).dot(R_MPFD)\n",
    "            # Increment iteration counter and display number of iterations\n",
    "            niter = niter + 1;\n",
    "            if max(abs(deltam[1:(nz-1)]))<stop_tol:\n",
    "                stop_flag = 1\n",
    "                hnp1mp1 = hnp1m + deltam # Force boundary conditions       \n",
    "                hnp1mp1[0] = htop;\n",
    "                if BottomBoundCon==0:\n",
    "                    hnp1mp1[nz-1] = hbottom;\n",
    "                elif (BottomBoundCon==1):\n",
    "                    hnp1mp1[nz-1] = hnp1m[nz-2];\n",
    "                [cnp1m,knp1m,thetanp1m] = vanGenuchten(hnp1mp1,phi);\n",
    "                thetanp1mp1 = thetanp1m;\n",
    "                knp1mp1 = knp1m\n",
    "                cnp1mp1 = cnp1m            \n",
    "                hnp1m = hnp1mp1; \n",
    "            else:\n",
    "                hnp1mp1 = hnp1m + deltam;\n",
    "                hnp1m = hnp1mp1; # Force boundary conditions\n",
    "                hnp1m[0] = htop;\n",
    "                if BottomBoundCon==0:\n",
    "                    hnp1m[nz-1] = hbottom;\n",
    "                elif BottomBoundCon==1:\n",
    "                    hnp1m[nz-1] = hnp1m[nz-2];\n",
    "        # Closes while(stop_flag==0) H(:,i) = hnp1mp1;\n",
    "        THETA[:,i] = thetanp1mp1; \n",
    "        H[:,i] = hnp1mp1;\n",
    "        K[:, i]= knp1mp1;\n",
    "        C[:, i] = cnp1mp1;\n",
    "        ktop[i] =  (K[0, i] + K[1, i])/2.  \n",
    "        kbot[i] =  (K[-1, i] + K[-2, i])/2.   #(knp1mp1[-1] + knp1mp1[-2])/2.  \n",
    "        error[i] = np.sum(A.dot(deltam))*dt\n",
    "        error2[i] = dz*np.sum(C[:,i]*deltam[:]) -  kbot[i]*(deltam[-1] - deltam[-2])*dt/dz \\\n",
    "                 + ktop[i]*(deltam[1] - deltam[0])*dt/dz\n",
    "\n",
    "    iterations[i-1] = niter;\n",
    "    fluxin =  -  ktop*((H[1] - H[0])/dz + 1.)*dt   # top flux\n",
    "    fluxout =  kbot*((H[-1] - H[-2])/dz + 1. )*dt # bottom flux\n",
    "    newmass = (THETA[:, 1:] - THETA[:, :-1]).sum(0)   #  change in mass \n",
    "    time_elapse.append(time.time() - start_time)\n",
    "    mass_balance.append(np.cumsum(fluxin[1:] - newmass + fluxout[1:] - error[1:] )[-1])\n",
    "    total_fluxin.append(np.cumsum(fluxin[1:] )[-1])"
   ]
  },
  {
   "cell_type": "code",
   "execution_count": 30,
   "metadata": {
    "collapsed": false
   },
   "outputs": [
    {
     "data": {
      "text/plain": [
       "array([ 26.99536438,  27.67639606,  28.01028731,  28.24804221,\n",
       "        28.4381129 ,  28.59881919,  28.73928167,  28.86478276,\n",
       "        28.9786906 ,  29.08330184,  29.18026146])"
      ]
     },
     "execution_count": 30,
     "metadata": {},
     "output_type": "execute_result"
    }
   ],
   "source": [
    "THETA.sum(0)"
   ]
  },
  {
   "cell_type": "code",
   "execution_count": 29,
   "metadata": {
    "collapsed": false
   },
   "outputs": [
    {
     "data": {
      "text/plain": [
       "<matplotlib.text.Text at 0x1196114d0>"
      ]
     },
     "execution_count": 29,
     "metadata": {},
     "output_type": "execute_result"
    },
    {
     "data": {
      "image/png": "[encoded data removed]",
      "text/plain": [
       "<matplotlib.figure.Figure at 0x1193a3a90>"
      ]
     },
     "metadata": {},
     "output_type": "display_data"
    }
   ],
   "source": [
    "fig = plt.figure(figsize= (8,6))\n",
    "plt.subplot(211)\n",
    "plt.semilogx(dts[:], -np.array(mass_balance[:]), 'o--')\n",
    "plt.xlabel(\"dt\")\n",
    "plt.ylabel(\"mass balance\")\n",
    "plt.title('Total mass error at t=1000s', fontsize = 12)\n",
    "\n",
    "plt.subplot(212)\n",
    "plt.semilogx(dts[:], -np.array(mass_balance[:]), 'o--')\n",
    "\n",
    "# plt.loglog(dts, time_elapse, 'o--')\n",
    "plt.xlabel(\"dt\")\n",
    "plt.ylabel(\"computing time \")\n"
   ]
  },
  {
   "cell_type": "code",
   "execution_count": 12,
   "metadata": {
    "code_folding": [],
    "collapsed": true
   },
   "outputs": [],
   "source": [
    "# plt.imshow(THETA[:, 1:2000:10])"
   ]
  },
  {
   "cell_type": "code",
   "execution_count": 13,
   "metadata": {
    "collapsed": false
   },
   "outputs": [],
   "source": [
    "# plt.plot(Kp5)\n",
    "# kbot - Kn5"
   ]
  },
  {
   "cell_type": "code",
   "execution_count": 14,
   "metadata": {
    "collapsed": false
   },
   "outputs": [],
   "source": [
    "fluxin =  -  ktop*((H[1] - H[0])/dz + 1.)*dt   # top flux"
   ]
  },
  {
   "cell_type": "code",
   "execution_count": 15,
   "metadata": {
    "collapsed": false
   },
   "outputs": [],
   "source": [
    "fluxout =  kbot*((H[-1] - H[-2])/dz + 1. )*dt # bottom flux\n",
    "# fluxout =  kbot*((H[-1] - H[-2])/dz )*dt # bottom flux\n"
   ]
  },
  {
   "cell_type": "code",
   "execution_count": 16,
   "metadata": {
    "collapsed": false
   },
   "outputs": [],
   "source": [
    "newmass = (THETA[:, 1:] - THETA[:, :-1]).sum(0)   #  change in mass "
   ]
  },
  {
   "cell_type": "code",
   "execution_count": 17,
   "metadata": {
    "collapsed": false
   },
   "outputs": [
    {
     "data": {
      "text/plain": [
       "array([-0.34717704, -0.44336698, -0.49110792, -0.52053051, -0.54083351,\n",
       "       -0.55585297, -0.56750468, -0.57686035, -0.58457099])"
      ]
     },
     "execution_count": 17,
     "metadata": {},
     "output_type": "execute_result"
    }
   ],
   "source": [
    "np.cumsum(fluxin[2:] - newmass[:-1] + fluxout[2:] - error[2:] )"
   ]
  },
  {
   "cell_type": "code",
   "execution_count": 18,
   "metadata": {
    "collapsed": false
   },
   "outputs": [
    {
     "data": {
      "text/plain": [
       "<matplotlib.legend.Legend at 0x113e31350>"
      ]
     },
     "execution_count": 18,
     "metadata": {},
     "output_type": "execute_result"
    },
    {
     "data": {
      "image/png": "[encoded data removed]",
      "text/plain": [
       "<matplotlib.figure.Figure at 0x113be6e10>"
      ]
     },
     "metadata": {},
     "output_type": "display_data"
    }
   ],
   "source": [
    "#  plot mass balance terms\n",
    "plt.figure(1, figsize = (10,3))\n",
    "ax = plt.subplot(121)\n",
    "plt.title('Mass balance', fontsize = 10)\n",
    "plt.plot(fluxout[1:], label = 'flux out')\n",
    "plt.plot(fluxin[1:], label = 'flux in')\n",
    "plt.plot(newmass, label = 'new mass')\n",
    "plt.legend(fontsize = 10)\n",
    "ax = plt.subplot(122)\n",
    "plt.title('Mass balance', fontsize = 10)\n",
    "plt.plot(t[1:], fluxin[1:] - newmass + fluxout[1:] - error[1:],  label = 'time step')\n",
    "plt.plot(t[1:], np.cumsum(fluxin[1:] - newmass + fluxout[1:] - error[1:] ), label =  'cumulative')\n",
    "# plt.plot(t[1:], np.cumsum(fluxin[1:] - newmass + fluxout[1:] - error2[1:]), '--', label =  'unclosed')\n",
    "# plt.plot(t[1:], np.cumsum(fluxin[1:] - newmass + fluxout[1:]), label =  'cumulative')\n",
    "plt.legend(fontsize = 10)\n",
    "# (fluxin[1:] - newmass  + fluxout[1:] +error[1:])"
   ]
  },
  {
   "cell_type": "code",
   "execution_count": 19,
   "metadata": {
    "collapsed": false
   },
   "outputs": [
    {
     "ename": "NameError",
     "evalue": "name 'iterations' is not defined",
     "output_type": "error",
     "traceback": [
      "\u001b[0;31m---------------------------------------------------------------------------\u001b[0m",
      "\u001b[0;31mNameError\u001b[0m                                 Traceback (most recent call last)",
      "\u001b[0;32m<ipython-input-19-72d635840fd9>\u001b[0m in \u001b[0;36m<module>\u001b[0;34m()\u001b[0m\n\u001b[1;32m      1\u001b[0m \u001b[0mplt\u001b[0m\u001b[0;34m.\u001b[0m\u001b[0mfigure\u001b[0m\u001b[0;34m(\u001b[0m\u001b[0;36m5\u001b[0m\u001b[0;34m)\u001b[0m\u001b[0;34m;\u001b[0m\u001b[0;34m\u001b[0m\u001b[0m\n\u001b[0;32m----> 2\u001b[0;31m \u001b[0mplt\u001b[0m\u001b[0;34m.\u001b[0m\u001b[0mplot\u001b[0m\u001b[0;34m(\u001b[0m\u001b[0mt\u001b[0m\u001b[0;34m[\u001b[0m\u001b[0;36m1\u001b[0m\u001b[0;34m:\u001b[0m\u001b[0mnt\u001b[0m\u001b[0;34m]\u001b[0m\u001b[0;34m,\u001b[0m\u001b[0miterations\u001b[0m\u001b[0;34m,\u001b[0m\u001b[0;34m'o-'\u001b[0m\u001b[0;34m)\u001b[0m\u001b[0;34m;\u001b[0m\u001b[0;34m\u001b[0m\u001b[0m\n\u001b[0m\u001b[1;32m      3\u001b[0m \u001b[0mplt\u001b[0m\u001b[0;34m.\u001b[0m\u001b[0mxlabel\u001b[0m\u001b[0;34m(\u001b[0m\u001b[0;34m'Time [s]'\u001b[0m\u001b[0;34m)\u001b[0m\u001b[0;34m;\u001b[0m\u001b[0;34m\u001b[0m\u001b[0m\n\u001b[1;32m      4\u001b[0m \u001b[0mplt\u001b[0m\u001b[0;34m.\u001b[0m\u001b[0mylabel\u001b[0m\u001b[0;34m(\u001b[0m\u001b[0;34m'Number of iterations'\u001b[0m\u001b[0;34m)\u001b[0m\u001b[0;34m;\u001b[0m\u001b[0;34m\u001b[0m\u001b[0m\n",
      "\u001b[0;31mNameError\u001b[0m: name 'iterations' is not defined"
     ]
    },
    {
     "data": {
      "text/plain": [
       "<matplotlib.figure.Figure at 0x113b1edd0>"
      ]
     },
     "metadata": {},
     "output_type": "display_data"
    }
   ],
   "source": [
    "plt.figure(5);\n",
    "plt.plot(t[1:nt],iterations,'o-');\n",
    "plt.xlabel('Time [s]');\n",
    "plt.ylabel('Number of iterations');"
   ]
  },
  {
   "cell_type": "code",
   "execution_count": null,
   "metadata": {
    "collapsed": false
   },
   "outputs": [],
   "source": [
    "#  plot mass balance terms\n",
    "plt.figure(1, figsize = (10,3))\n",
    "ax = plt.subplot(121)\n",
    "plt.title('Mass balance', fontsize = 10)\n",
    "plt.plot(fluxout[1:], label = 'flux out')\n",
    "plt.plot(fluxin[1:], label = 'flux in')\n",
    "plt.plot(newmass, label = 'new mass')\n",
    "plt.legend(fontsize = 10)\n",
    "ax = plt.subplot(122)\n",
    "plt.title('Mass balance', fontsize = 10)\n",
    "plt.plot(t[1:], fluxin[1:] - newmass + fluxout[1:],  label = 'each time step')\n",
    "plt.plot(t[1:], np.cumsum(fluxin[1:] - newmass+ fluxout[1:]), label =  'cumulative')\n",
    "plt.legend(fontsize = 10)"
   ]
  },
  {
   "cell_type": "code",
   "execution_count": null,
   "metadata": {
    "collapsed": true
   },
   "outputs": [],
   "source": []
  },
  {
   "cell_type": "code",
   "execution_count": null,
   "metadata": {
    "collapsed": false
   },
   "outputs": [],
   "source": [
    "for dt in dts:    \n",
    "    tmax = 1000.\n",
    "#   tmax = dt*(nt - 1.) # [s]\n",
    "    t = np.arange(tmin, tmax + dt, dt)  #(tmin:dt:tmax);\n",
    "    print t[-1]"
   ]
  },
  {
   "cell_type": "code",
   "execution_count": null,
   "metadata": {
    "collapsed": true
   },
   "outputs": [],
   "source": []
  }
 ],
 "metadata": {
  "anaconda-cloud": {},
  "kernelspec": {
   "display_name": "Python [default]",
   "language": "python",
   "name": "python2"
  },
  "language_info": {
   "codemirror_mode": {
    "name": "ipython",
    "version": 2
   },
   "file_extension": ".py",
   "mimetype": "text/x-python",
   "name": "python",
   "nbconvert_exporter": "python",
   "pygments_lexer": "ipython2",
   "version": "2.7.12"
  }
 },
 "nbformat": 4,
 "nbformat_minor": 0
}
