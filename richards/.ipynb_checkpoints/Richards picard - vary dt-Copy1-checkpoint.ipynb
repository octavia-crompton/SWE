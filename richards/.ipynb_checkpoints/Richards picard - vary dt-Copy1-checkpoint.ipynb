{
 "cells": [
  {
   "cell_type": "markdown",
   "metadata": {},
   "source": [
    "### 1-D Richards equation solver code\n",
    "- formulation based on a backward Euler implementation of the mixed theta-head formulation of the 1-D Richards equation, with a modified Picard iteration finite differencing solution scheme, with a modified Picard iteration finite differencing solution scheme.\n",
    "\n",
    "- The soil water retention parameterization used is that of van Genuchten \n",
    " [1980], and this code requires the corresponding MATLAB function        \n",
    " vanGenuchten.m.  \n",
    " \n",
    " - coordinate axis:  positive  downward\n",
    "         z[0] = 0  (top)\n",
    "         z[-1] = 100  (bottom)"
   ]
  },
  {
   "cell_type": "code",
   "execution_count": 8,
   "metadata": {
    "collapsed": false
   },
   "outputs": [],
   "source": [
    "import numpy as np\n",
    "import matplotlib.pylab as plt\n",
    "# plt.style.use('ggplot')\n",
    "import time"
   ]
  },
  {
   "cell_type": "code",
   "execution_count": 9,
   "metadata": {
    "collapsed": true
   },
   "outputs": [],
   "source": [
    "%matplotlib inline"
   ]
  },
  {
   "cell_type": "code",
   "execution_count": 99,
   "metadata": {
    "code_folding": [],
    "collapsed": true
   },
   "outputs": [],
   "source": [
    "def vanGenuchten(h,phi) :\n",
    "    alpha   = phi[0]\n",
    "    theta_S = phi[1]\n",
    "    theta_R = phi[2]\n",
    "    n       = phi[3]\n",
    "    m       = phi[4]\n",
    "    Ksat    = phi[5] \n",
    "    # Compute the volumetric moisture content\n",
    "    theta = (theta_S - theta_R)/(1 + (alpha*abs(h))**n)**m + theta_R; \n",
    "    ## Compute the effective saturation\n",
    "    Se = ((theta - theta_R)/(theta_S - theta_R)); \n",
    "    # Compute the hydraulic conductivity\n",
    "    K = Ksat*Se**(1./2)*(1 - (1 - Se**(1./m))**m)**2; \n",
    "    # Compute the specific moisture storage\n",
    "    C =  -alpha*n*np.sign(h)*(1./n - 1)*(alpha*abs(h))**(n - 1)*(theta_R - \n",
    "         theta_S)*((alpha*abs(h))**n + 1)**(1/n - 2);\n",
    "    try:\n",
    "        for i in range(len(h)):\n",
    "            if h[i] > 0:\n",
    "                K[i] = Ksat\n",
    "                C[i] = 0.\n",
    "                theta[i] = theta_S\n",
    "    except TypeError:\n",
    "        if h > 0:\n",
    "            K = Ksat\n",
    "            C = 0.\n",
    "            theta = theta_S\n",
    "    return [C,K,theta]"
   ]
  },
  {
   "cell_type": "code",
   "execution_count": 100,
   "metadata": {
    "code_folding": [],
    "collapsed": true
   },
   "outputs": [],
   "source": [
    "# Define van Genuchten parameters\n",
    "alpha   = 0.0335\n",
    "theta_S = 0.368;\n",
    "theta_R = 0.102;\n",
    "lambdA  = 0.25\n",
    "n       = lambdA + 1\n",
    "m       = lambdA/n\n",
    "Ksat    = 0.09\n",
    "\n",
    "# Store van Genuchten parameters in array\n",
    "phi = np.zeros(6)\n",
    "phi[0] = alpha\n",
    "phi[1] = theta_S\n",
    "phi[2] = theta_R\n",
    "phi[3] = n\n",
    "phi[4] = m\n",
    "phi[5] = Ksat"
   ]
  },
  {
   "cell_type": "code",
   "execution_count": 101,
   "metadata": {
    "code_folding": [],
    "collapsed": false
   },
   "outputs": [],
   "source": [
    "# set up vertical grid \n",
    "dz = 1.; # [cm]\n",
    "zmin = 0.; # [cm]\n",
    "zmax = 100.; # [cm]\n",
    "z = np.arange(zmin, zmax+1, dz)\n",
    "nz   =  z.shape[0]"
   ]
  },
  {
   "cell_type": "code",
   "execution_count": 102,
   "metadata": {
    "code_folding": [],
    "collapsed": false
   },
   "outputs": [],
   "source": [
    "# Define matrices that we'll need in solution\n",
    "BottomBoundCon = 1  # 0 = constant head, 1 = free drainage\n",
    "DeltaPlus  = np.diag(-np.ones(nz)) + np.diag(np.ones(nz-1), 1)\n",
    "DeltaPlus[0,:] = 0\n",
    "DeltaPlus[nz-1,:] = 0\n",
    "\n",
    "DeltaMinus = np.diag(np.ones(nz)) + np.diag(-np.ones(nz-1),-1);\n",
    "DeltaMinus[0,:] = 0\n",
    "DeltaMinus[nz-1,:] = 0\n",
    "\n",
    "MPlus = np.diag(np.ones(nz))+np.diag(np.ones(nz-1),1)\n",
    "MPlus[0,0] = 2\n",
    "MPlus[0,1:nz-1] = 0\n",
    "MPlus[nz-1,nz-1] = 2\n",
    "MPlus[nz-1,:nz-1] = 0  # not needed\n",
    "\n",
    "MMinus = np.diag(np.ones(nz)) + np.diag(np.ones(nz-1),-1)\n",
    "MMinus[0,0] = 2\n",
    "MMinus[0,1:nz-1] = 0  # not needed\n",
    "MMinus[nz-1,nz-1] = 2\n",
    "MMinus[nz-1,:nz-1] = 0 "
   ]
  },
  {
   "cell_type": "code",
   "execution_count": 103,
   "metadata": {
    "collapsed": true
   },
   "outputs": [],
   "source": [
    "# Define ICs boundary conditions at top and bottom\n",
    "hinit = np.arange(nz)*-5\n",
    "hinit = -1000*np.ones(nz)\n",
    "hinit[0] = 0.\n",
    "\n",
    "htop = hinit[0]\n",
    "hbottom = hinit[-1]"
   ]
  },
  {
   "cell_type": "code",
   "execution_count": 104,
   "metadata": {
    "code_folding": [],
    "collapsed": false
   },
   "outputs": [],
   "source": [
    "# Define time variables\n",
    "stop_tol = 1e-5  # Stopping tolerance [cm]\n",
    "dt = .01 # [s]\n",
    "\n",
    "tmin = 0. # [s]\n",
    "# nt = 1000\n",
    "tmax = 1\n",
    "# times = np.arange(tmin, tmax, dt)[:nt]  #(tmin:dt:tmax);\n",
    "\n",
    "# Define a storage container to store the pressure heads and soil moistures\n",
    "[Ctop,Ktop,thetatop] = vanGenuchten(htop,phi)\n",
    "[Cbottom,Kbottom,thetabottom] = vanGenuchten(hbottom,phi)\n",
    "[Cinit,Kinit,thetainit] = vanGenuchten(hinit,phi) \n",
    "H = [] # np.zeros([nz,nt])\n",
    "K =[] # np.zeros([nz,nt])\n",
    "C = [] # np.zeros([nz,nt])\n",
    "# H[:,0] = hinit\n",
    "# K[:,0] = Kinit\n",
    "# C[:,0] = Cinit\n",
    "H.append(hinit)\n",
    "K.append(Kinit)\n",
    "C.append(Cinit)\n",
    "\n",
    "THETA = []# np.zeros([nz,nt])\n",
    "# THETA[:,0] = thetainit\n",
    "THETA.append(thetainit)\n",
    "ktop = [] # np.zeros([ nt])\n",
    "ktop.append(Ktop)\n",
    "kbot = [] # np.zeros([ nt])\n",
    "kbot.append(Kbottom)\n",
    "error = [] # np.zeros([nt])\n",
    "t = [] # np.zeros([nt])\n",
    "dt_array = [] # np.zeros([nt])\n",
    "fluxin = []\n",
    "fluxout= []\n",
    "newmass = []"
   ]
  },
  {
   "cell_type": "code",
   "execution_count": 110,
   "metadata": {
    "code_folding": [],
    "collapsed": false
   },
   "outputs": [
    {
     "name": "stdout",
     "output_type": "stream",
     "text": [
      "0.1 0.2 0.3 0.4 0.5 0.6 0.7 0.8 0.9 1.0 0.009 0.028 0.083 0.138 0.193 0.248 0.303 0.358 0.413 0.468 0.487 0.506 --- 3.90688705444 seconds ---\n"
     ]
    },
    {
     "data": {
      "image/png": "[encoded data removed]",
      "text/plain": [
       "<matplotlib.figure.Figure at 0x10fad9110>"
      ]
     },
     "metadata": {},
     "output_type": "display_data"
    }
   ],
   "source": [
    "# Figures\n",
    "fig = plt.figure(1, figsize = (10,4)); \n",
    "ax = plt.subplot(121)\n",
    "plt.plot(hinit,z);\n",
    "plt.xlabel('Pressure head [cm]',fontsize=  11)\n",
    "plt.ylabel('Depth [cm]',fontsize=  11)\n",
    "plt.xlim( -1010, 0)\n",
    "plt.gca().invert_yaxis()\n",
    "plt.title('Pressure head vs. depth', fontsize=  11)\n",
    "ax = plt.subplot(122)\n",
    "plt.plot(thetainit,z)\n",
    "plt.xlabel('Soil moisture $cm^3/cm^3$',fontsize=  11)\n",
    "plt.ylabel('Depth [cm]',fontsize=  11)\n",
    "plt.gca().invert_yaxis()\n",
    "plt.title('Soil moisture vs. depth',fontsize=  11)\n",
    "\n",
    "start_time = time.time()\n",
    "iterations = [] # np.zeros([nt-1,1]);  # Define array for iteration counter\n",
    "tc = 0\n",
    "t.append(tc)\n",
    "niter = 0\n",
    "dtc = dt\n",
    "i = 0\n",
    "# for i in range(1, nt):   # Initialize the Picard iteration solver\n",
    "while tc < tmax:\n",
    "    i += 1\n",
    "    dtc = dt\n",
    "    hnp1m =  H[i-1]  \n",
    "    thetan = THETA[i-1]   \n",
    "    stop_flag = 0  #Define a dummy stopping variable\n",
    "    while stop_flag==0:\n",
    "        if niter > 10:\n",
    "            hnp1m =  H[i-1]  \n",
    "            thetan = THETA[i-1]   \n",
    "            dtc = dtc/10.\n",
    "#             print dtc,\n",
    "            niter = 0\n",
    "            if tc + dtc > tmax:\n",
    "                dtc = tmax - tc\n",
    "                print dtc\n",
    "        [cnp1m,knp1m,thetanp1m] = vanGenuchten(hnp1m,phi); \n",
    "        Cdiag = np.diag(cnp1m) # Compute the individual elements of the A matrix for LHS\n",
    "        kbarplus = (1/2.)*MPlus.dot(knp1m)\n",
    "        Kbarplus = np.diag(kbarplus)\n",
    "        kbarminus = (1/2.)*MMinus.dot(knp1m)\n",
    "        Kbarminus = np.diag(kbarminus)\n",
    "        A = (1./dtc)*Cdiag - 1./((dz)**2)*(Kbarplus.dot(DeltaPlus) - Kbarminus.dot(DeltaMinus)) \n",
    "        #  Compute the residual of MPFD (RHS)\n",
    "        R_MPFD = (1./(dz**2))*(Kbarplus.dot(DeltaPlus).dot(hnp1m) - Kbarminus.dot(DeltaMinus).dot(hnp1m)) + \\\n",
    "            (1./dz)*(kbarplus - kbarminus) - (1./dtc)*(thetanp1m - thetan) \n",
    "        deltam = np.linalg.pinv(A).dot(R_MPFD)    #  Compute deltam for iteration level m+1\n",
    "        niter = niter + 1      # Increment iteration counter \n",
    "        if max(abs(deltam[1:(nz-1)]))<stop_tol:\n",
    "            stop_flag = 1\n",
    "            hnp1mp1 = hnp1m + deltam # Force boundary conditions       \n",
    "            hnp1mp1[0] = htop;\n",
    "            if BottomBoundCon==0:\n",
    "                hnp1mp1[nz-1] = hbottom;\n",
    "            elif (BottomBoundCon==1):\n",
    "                hnp1mp1[nz-1] = hnp1m[nz-2];\n",
    "            [cnp1m,knp1m,thetanp1m] = vanGenuchten(hnp1mp1,phi);\n",
    "            thetanp1mp1 = thetanp1m;\n",
    "            knp1mp1 = knp1m\n",
    "            cnp1mp1 = cnp1m            \n",
    "            hnp1m = hnp1mp1; \n",
    "            tc = tc + dtc\n",
    "        else:\n",
    "            hnp1mp1 = hnp1m + deltam;\n",
    "            hnp1m = hnp1mp1; # Force boundary conditions\n",
    "            hnp1m[0] = htop;\n",
    "            if BottomBoundCon==0:\n",
    "                hnp1m[nz-1] = hbottom;\n",
    "            elif BottomBoundCon==1:\n",
    "                hnp1m[nz-1] = hnp1m[nz-2];\n",
    "    # Closes while(stop_flag==0) H(:,i) = hnp1mp1;\n",
    "    t.append(tc)\n",
    "    dt_array.append(dtc)\n",
    "    THETA.append(thetanp1mp1)\n",
    "    H.append(hnp1mp1)\n",
    "    K.append(knp1mp1)\n",
    "    C.append(cnp1mp1)\n",
    "    ktop.append((K[i][0] + K[i][1])/2.) \n",
    "    kbot.append((K[i][-1] + K[i][-2])/2.)\n",
    "    error.append(np.sum(A.dot(deltam))*dtc)\n",
    "    fluxin.append( -ktop[i]*((H[i][1] - H[i][0])/dz + 1.)*dtc )  # top flux (cm)\n",
    "    fluxout.append(kbot[i]*((H[i][-1] - H[i][-2])/dz + 1. )*dtc) # bottom flux (cm)\n",
    "    newmass.append((THETA[i] - THETA[i-1]).sum(0) )  #  change in mass \n",
    "\n",
    "    \n",
    "#     error[i] = dz*np.sum(C[1:-1,i]*deltam[1:-1]) -  kbot[i]*(deltam[-1] - deltam[-2])*dt/dz \\\n",
    "#         + ktop[i]*(deltam[1] - deltam[0])*dt/dz\n",
    "    if (np.mod(i,10)==0):\n",
    "        print t[i],\n",
    "        ax = plt.subplot(121)\n",
    "        plt.plot(H[i],z)\n",
    "        plt.xlabel('Pressure head [cm]')\n",
    "        plt.ylabel('Depth [cm]')\n",
    "        plt.ylim(100, 0)\n",
    "        ax = plt.subplot(122)\n",
    "        plt.plot(THETA[i],z)\n",
    "        plt.xlabel('Soil moisture [cm$^3/$cm$^3$]')\n",
    "        plt.ylabel('Depth [cm]')\n",
    "        plt.ylim(100, 0)\n",
    "    #    save number of iterations\n",
    "    iterations.append(niter)\n",
    "print(\"--- %s seconds ---\" % (time.time() - start_time))"
   ]
  },
  {
   "cell_type": "code",
   "execution_count": 111,
   "metadata": {
    "collapsed": false
   },
   "outputs": [
    {
     "data": {
      "text/plain": [
       "[0.01,\n",
       " 0.01,\n",
       " 0.01,\n",
       " 0.01,\n",
       " 0.01,\n",
       " 0.01,\n",
       " 0.01,\n",
       " 0.01,\n",
       " 0.01,\n",
       " 0.01,\n",
       " 0.01,\n",
       " 0.01,\n",
       " 0.01,\n",
       " 0.01,\n",
       " 0.01,\n",
       " 0.01,\n",
       " 0.01,\n",
       " 0.01,\n",
       " 0.01,\n",
       " 0.01,\n",
       " 0.01,\n",
       " 0.01,\n",
       " 0.01,\n",
       " 0.01,\n",
       " 0.01,\n",
       " 0.01,\n",
       " 0.01,\n",
       " 0.01,\n",
       " 0.01,\n",
       " 0.01,\n",
       " 0.01,\n",
       " 0.01,\n",
       " 0.01,\n",
       " 0.01,\n",
       " 0.01,\n",
       " 0.01,\n",
       " 0.01,\n",
       " 0.01,\n",
       " 0.01,\n",
       " 0.01,\n",
       " 0.01,\n",
       " 0.01,\n",
       " 0.01,\n",
       " 0.01,\n",
       " 0.01,\n",
       " 0.01,\n",
       " 0.01,\n",
       " 0.01,\n",
       " 0.01,\n",
       " 0.01,\n",
       " 0.01,\n",
       " 0.01,\n",
       " 0.01,\n",
       " 0.01,\n",
       " 0.01,\n",
       " 0.01,\n",
       " 0.01,\n",
       " 0.01,\n",
       " 0.01,\n",
       " 0.01,\n",
       " 0.01,\n",
       " 0.01,\n",
       " 0.01,\n",
       " 0.01,\n",
       " 0.01,\n",
       " 0.01,\n",
       " 0.01,\n",
       " 0.01,\n",
       " 0.01,\n",
       " 0.01,\n",
       " 0.01,\n",
       " 0.01,\n",
       " 0.01,\n",
       " 0.01,\n",
       " 0.01,\n",
       " 0.01,\n",
       " 0.01,\n",
       " 0.01,\n",
       " 0.01,\n",
       " 0.01,\n",
       " 0.01,\n",
       " 0.01,\n",
       " 0.01,\n",
       " 0.01,\n",
       " 0.01,\n",
       " 0.01,\n",
       " 0.01,\n",
       " 0.01,\n",
       " 0.01,\n",
       " 0.01,\n",
       " 0.01,\n",
       " 0.01,\n",
       " 0.01,\n",
       " 0.01,\n",
       " 0.01,\n",
       " 0.01,\n",
       " 0.01,\n",
       " 0.01,\n",
       " 0.01,\n",
       " 0.01,\n",
       " 0.001,\n",
       " 0.001,\n",
       " 0.001,\n",
       " 0.001,\n",
       " 0.001,\n",
       " 0.001,\n",
       " 0.001,\n",
       " 0.001,\n",
       " 0.001,\n",
       " 0.001,\n",
       " 0.001,\n",
       " 0.001,\n",
       " 0.001,\n",
       " 0.001,\n",
       " 0.001,\n",
       " 0.001,\n",
       " 0.001,\n",
       " 0.01,\n",
       " 0.001,\n",
       " 0.01,\n",
       " 0.001,\n",
       " 0.01,\n",
       " 0.001,\n",
       " 0.01,\n",
       " 0.001,\n",
       " 0.01,\n",
       " 0.001,\n",
       " 0.01,\n",
       " 0.001,\n",
       " 0.01,\n",
       " 0.001,\n",
       " 0.01,\n",
       " 0.001,\n",
       " 0.01,\n",
       " 0.001,\n",
       " 0.01,\n",
       " 0.001,\n",
       " 0.01,\n",
       " 0.001,\n",
       " 0.01,\n",
       " 0.001,\n",
       " 0.01,\n",
       " 0.001,\n",
       " 0.01,\n",
       " 0.001,\n",
       " 0.01,\n",
       " 0.001,\n",
       " 0.01,\n",
       " 0.001,\n",
       " 0.01,\n",
       " 0.001,\n",
       " 0.01,\n",
       " 0.001,\n",
       " 0.01,\n",
       " 0.001,\n",
       " 0.01,\n",
       " 0.001,\n",
       " 0.01,\n",
       " 0.001,\n",
       " 0.01,\n",
       " 0.001,\n",
       " 0.01,\n",
       " 0.001,\n",
       " 0.01,\n",
       " 0.001,\n",
       " 0.01,\n",
       " 0.001,\n",
       " 0.01,\n",
       " 0.001,\n",
       " 0.01,\n",
       " 0.001,\n",
       " 0.01,\n",
       " 0.001,\n",
       " 0.01,\n",
       " 0.001,\n",
       " 0.01,\n",
       " 0.001,\n",
       " 0.01,\n",
       " 0.001,\n",
       " 0.01,\n",
       " 0.001,\n",
       " 0.01,\n",
       " 0.001,\n",
       " 0.01,\n",
       " 0.001,\n",
       " 0.01,\n",
       " 0.001,\n",
       " 0.01,\n",
       " 0.001,\n",
       " 0.01,\n",
       " 0.001,\n",
       " 0.01,\n",
       " 0.001,\n",
       " 0.01,\n",
       " 0.001,\n",
       " 0.01,\n",
       " 0.001,\n",
       " 0.01,\n",
       " 0.001,\n",
       " 0.01,\n",
       " 0.001,\n",
       " 0.001,\n",
       " 0.001,\n",
       " 0.001,\n",
       " 0.001,\n",
       " 0.001,\n",
       " 0.001,\n",
       " 0.001,\n",
       " 0.001,\n",
       " 0.001,\n",
       " 0.001,\n",
       " 0.001,\n",
       " 0.001,\n",
       " 0.001,\n",
       " 0.001,\n",
       " 0.001,\n",
       " 0.001,\n",
       " 0.001,\n",
       " 0.01,\n",
       " 0.001,\n",
       " 0.01,\n",
       " 0.001,\n",
       " 0.01,\n",
       " 0.001,\n",
       " 0.01,\n",
       " 0.001,\n",
       " 0.01,\n",
       " 0.001,\n",
       " 0.01,\n",
       " 0.001,\n",
       " 0.01,\n",
       " 0.001,\n",
       " 0.01,\n",
       " 0.001,\n",
       " 0.01,\n",
       " 0.001,\n",
       " 0.01,\n",
       " 0.001,\n",
       " 0.01,\n",
       " 0.001,\n",
       " 0.01,\n",
       " 0.001,\n",
       " 0.01,\n",
       " 0.001,\n",
       " 0.01,\n",
       " 0.001,\n",
       " 0.01,\n",
       " 0.001,\n",
       " 0.01,\n",
       " 0.001,\n",
       " 0.01,\n",
       " 0.001,\n",
       " 0.01,\n",
       " 0.001,\n",
       " 0.01,\n",
       " 0.001,\n",
       " 0.01,\n",
       " 0.001,\n",
       " 0.01,\n",
       " 0.001,\n",
       " 0.01,\n",
       " 0.001,\n",
       " 0.01,\n",
       " 0.001,\n",
       " 0.01,\n",
       " 0.001,\n",
       " 0.01,\n",
       " 0.001,\n",
       " 0.01,\n",
       " 0.001,\n",
       " 0.01,\n",
       " 0.001,\n",
       " 0.01,\n",
       " 0.001,\n",
       " 0.01,\n",
       " 0.001,\n",
       " 0.01,\n",
       " 0.001,\n",
       " 0.01,\n",
       " 0.001,\n",
       " 0.01,\n",
       " 0.001,\n",
       " 0.01,\n",
       " 0.001,\n",
       " 0.01,\n",
       " 0.001,\n",
       " 0.01,\n",
       " 0.001,\n",
       " 0.01,\n",
       " 0.001,\n",
       " 0.01,\n",
       " 0.001,\n",
       " 0.01,\n",
       " 0.001,\n",
       " 0.01,\n",
       " 0.001,\n",
       " 0.01,\n",
       " 0.001,\n",
       " 0.01,\n",
       " 0.001,\n",
       " 0.01,\n",
       " 0.001,\n",
       " 0.001,\n",
       " 0.001,\n",
       " 0.001,\n",
       " 0.001,\n",
       " 0.001,\n",
       " 0.001,\n",
       " 0.001,\n",
       " 0.001,\n",
       " 0.001,\n",
       " 0.001,\n",
       " 0.001,\n",
       " 0.001,\n",
       " 0.001,\n",
       " 0.001,\n",
       " 0.001,\n",
       " 0.001,\n",
       " 0.001,\n",
       " 0.01,\n",
       " 0.001,\n",
       " 0.01,\n",
       " 0.001,\n",
       " 0.01]"
      ]
     },
     "execution_count": 111,
     "metadata": {},
     "output_type": "execute_result"
    }
   ],
   "source": [
    "dt_array"
   ]
  },
  {
   "cell_type": "code",
   "execution_count": 107,
   "metadata": {
    "collapsed": false
   },
   "outputs": [
    {
     "ename": "TypeError",
     "evalue": "bad operand type for unary -: 'list'",
     "output_type": "error",
     "traceback": [
      "\u001b[0;31m---------------------------------------------------------------------------\u001b[0m",
      "\u001b[0;31mTypeError\u001b[0m                                 Traceback (most recent call last)",
      "\u001b[0;32m<ipython-input-107-29c91e86d723>\u001b[0m in \u001b[0;36m<module>\u001b[0;34m()\u001b[0m\n\u001b[0;32m----> 1\u001b[0;31m \u001b[0;34m-\u001b[0m  \u001b[0mktop\u001b[0m\u001b[0;34m*\u001b[0m\u001b[0;34m(\u001b[0m\u001b[0;34m(\u001b[0m\u001b[0mH\u001b[0m\u001b[0;34m[\u001b[0m\u001b[0mi\u001b[0m\u001b[0;34m]\u001b[0m\u001b[0;34m[\u001b[0m\u001b[0;36m1\u001b[0m\u001b[0;34m]\u001b[0m \u001b[0;34m-\u001b[0m \u001b[0mH\u001b[0m\u001b[0;34m[\u001b[0m\u001b[0mi\u001b[0m\u001b[0;34m]\u001b[0m\u001b[0;34m[\u001b[0m\u001b[0;36m0\u001b[0m\u001b[0;34m]\u001b[0m\u001b[0;34m)\u001b[0m\u001b[0;34m/\u001b[0m\u001b[0mdz\u001b[0m \u001b[0;34m+\u001b[0m \u001b[0;36m1.\u001b[0m\u001b[0;34m)\u001b[0m\u001b[0;34m*\u001b[0m\u001b[0mdt\u001b[0m\u001b[0;34m\u001b[0m\u001b[0m\n\u001b[0m",
      "\u001b[0;31mTypeError\u001b[0m: bad operand type for unary -: 'list'"
     ]
    }
   ],
   "source": [
    "-  ktop*((H[i][1] - H[i][0])/dz + 1.)*dt"
   ]
  },
  {
   "cell_type": "code",
   "execution_count": 108,
   "metadata": {
    "collapsed": false
   },
   "outputs": [
    {
     "data": {
      "text/plain": [
       "[<matplotlib.lines.Line2D at 0x10cbede90>]"
      ]
     },
     "execution_count": 108,
     "metadata": {},
     "output_type": "execute_result"
    },
    {
     "data": {
      "image/png": "[encoded data removed]",
      "text/plain": [
       "<matplotlib.figure.Figure at 0x110935990>"
      ]
     },
     "metadata": {},
     "output_type": "display_data"
    }
   ],
   "source": [
    "plt.plot(iterations)\n"
   ]
  },
  {
   "cell_type": "code",
   "execution_count": 43,
   "metadata": {
    "collapsed": false
   },
   "outputs": [
    {
     "data": {
      "text/plain": [
       "(100, 0)"
      ]
     },
     "execution_count": 43,
     "metadata": {},
     "output_type": "execute_result"
    },
    {
     "data": {
      "image/png": "[encoded data removed]",
      "text/plain": [
       "<matplotlib.figure.Figure at 0x110765ad0>"
      ]
     },
     "metadata": {},
     "output_type": "display_data"
    },
    {
     "data": {
      "image/png": "[encoded data removed]",
      "text/plain": [
       "<matplotlib.figure.Figure at 0x10fabb810>"
      ]
     },
     "metadata": {},
     "output_type": "display_data"
    }
   ],
   "source": [
    "plt.figure(1, figsize= (6,5))\n",
    "plt.plot(hnp1mp1,z)\n",
    "plt.xlabel('Pressure head [cm]')\n",
    "plt.ylabel('Depth [cm]')\n",
    "plt.ylim(100, 0)\n",
    "plt.figure(2, figsize= (6,5))\n",
    "plt.plot(thetanp1mp1,z)\n",
    "plt.xlabel('Soil moisture [cm$^3/$cm$^3$]')\n",
    "plt.ylabel('Depth [cm]')\n",
    "plt.ylim(100, 0)"
   ]
  },
  {
   "cell_type": "code",
   "execution_count": 44,
   "metadata": {
    "collapsed": false
   },
   "outputs": [
    {
     "ename": "TypeError",
     "evalue": "list indices must be integers, not tuple",
     "output_type": "error",
     "traceback": [
      "\u001b[0;31m---------------------------------------------------------------------------\u001b[0m",
      "\u001b[0;31mTypeError\u001b[0m                                 Traceback (most recent call last)",
      "\u001b[0;32m<ipython-input-44-80cd8589ca33>\u001b[0m in \u001b[0;36m<module>\u001b[0;34m()\u001b[0m\n\u001b[0;32m----> 1\u001b[0;31m \u001b[0mplt\u001b[0m\u001b[0;34m.\u001b[0m\u001b[0mplot\u001b[0m\u001b[0;34m(\u001b[0m\u001b[0mTHETA\u001b[0m\u001b[0;34m[\u001b[0m\u001b[0;34m:\u001b[0m \u001b[0;34m,\u001b[0m \u001b[0;34m-\u001b[0m\u001b[0;36m1\u001b[0m\u001b[0;34m]\u001b[0m\u001b[0;34m)\u001b[0m\u001b[0;34m\u001b[0m\u001b[0m\n\u001b[0m",
      "\u001b[0;31mTypeError\u001b[0m: list indices must be integers, not tuple"
     ]
    }
   ],
   "source": [
    "plt.plot(THETA[: , -1])"
   ]
  },
  {
   "cell_type": "code",
   "execution_count": 45,
   "metadata": {
    "code_folding": [],
    "collapsed": true
   },
   "outputs": [],
   "source": [
    "# plt.imshow(THETA[:, 1:2000:10])"
   ]
  },
  {
   "cell_type": "code",
   "execution_count": 46,
   "metadata": {
    "collapsed": false
   },
   "outputs": [
    {
     "data": {
      "text/plain": [
       "9.2575466791028437e-07"
      ]
     },
     "execution_count": 46,
     "metadata": {},
     "output_type": "execute_result"
    }
   ],
   "source": [
    "deltam[1]"
   ]
  },
  {
   "cell_type": "code",
   "execution_count": 47,
   "metadata": {
    "collapsed": false
   },
   "outputs": [
    {
     "ename": "TypeError",
     "evalue": "bad operand type for unary -: 'list'",
     "output_type": "error",
     "traceback": [
      "\u001b[0;31m---------------------------------------------------------------------------\u001b[0m",
      "\u001b[0;31mTypeError\u001b[0m                                 Traceback (most recent call last)",
      "\u001b[0;32m<ipython-input-47-bdd1c64b1363>\u001b[0m in \u001b[0;36m<module>\u001b[0;34m()\u001b[0m\n\u001b[0;32m----> 1\u001b[0;31m \u001b[0mfluxin\u001b[0m \u001b[0;34m=\u001b[0m  \u001b[0;34m-\u001b[0m  \u001b[0mktop\u001b[0m\u001b[0;34m*\u001b[0m\u001b[0;34m(\u001b[0m\u001b[0;34m(\u001b[0m\u001b[0mH\u001b[0m\u001b[0;34m[\u001b[0m\u001b[0;36m1\u001b[0m\u001b[0;34m]\u001b[0m \u001b[0;34m-\u001b[0m \u001b[0mH\u001b[0m\u001b[0;34m[\u001b[0m\u001b[0;36m0\u001b[0m\u001b[0;34m]\u001b[0m\u001b[0;34m)\u001b[0m\u001b[0;34m/\u001b[0m\u001b[0mdz\u001b[0m \u001b[0;34m+\u001b[0m \u001b[0;36m1.\u001b[0m\u001b[0;34m)\u001b[0m\u001b[0;34m*\u001b[0m\u001b[0mdt\u001b[0m   \u001b[0;31m# top flux\u001b[0m\u001b[0;34m\u001b[0m\u001b[0m\n\u001b[0m",
      "\u001b[0;31mTypeError\u001b[0m: bad operand type for unary -: 'list'"
     ]
    }
   ],
   "source": [
    "fluxin =  -  ktop*((H[1] - H[0])/dz + 1.)*dt   # top flux"
   ]
  },
  {
   "cell_type": "code",
   "execution_count": 48,
   "metadata": {
    "collapsed": false
   },
   "outputs": [
    {
     "data": {
      "text/plain": [
       "array([    0., -1000., -1000., -1000., -1000., -1000., -1000., -1000.,\n",
       "       -1000., -1000., -1000., -1000., -1000., -1000., -1000., -1000.,\n",
       "       -1000., -1000., -1000., -1000., -1000., -1000., -1000., -1000.,\n",
       "       -1000., -1000., -1000., -1000., -1000., -1000., -1000., -1000.,\n",
       "       -1000., -1000., -1000., -1000., -1000., -1000., -1000., -1000.,\n",
       "       -1000., -1000., -1000., -1000., -1000., -1000., -1000., -1000.,\n",
       "       -1000., -1000., -1000., -1000., -1000., -1000., -1000., -1000.,\n",
       "       -1000., -1000., -1000., -1000., -1000., -1000., -1000., -1000.,\n",
       "       -1000., -1000., -1000., -1000., -1000., -1000., -1000., -1000.,\n",
       "       -1000., -1000., -1000., -1000., -1000., -1000., -1000., -1000.,\n",
       "       -1000., -1000., -1000., -1000., -1000., -1000., -1000., -1000.,\n",
       "       -1000., -1000., -1000., -1000., -1000., -1000., -1000., -1000.,\n",
       "       -1000., -1000., -1000., -1000., -1000.])"
      ]
     },
     "execution_count": 48,
     "metadata": {},
     "output_type": "execute_result"
    }
   ],
   "source": [
    "H[0]"
   ]
  },
  {
   "cell_type": "code",
   "execution_count": 52,
   "metadata": {
    "collapsed": false
   },
   "outputs": [],
   "source": [
    "fluxout =  kbot*((H[-1] - H[-2])/dz + 1. )*dt # bottom flux\n",
    "# fluxout =  kbot*((H[-1] - H[-2])/dz )*dt # bottom flux\n"
   ]
  },
  {
   "cell_type": "code",
   "execution_count": 53,
   "metadata": {
    "collapsed": false
   },
   "outputs": [],
   "source": [
    "newmass = (THETA[:, 1:] - THETA[:, :-1]).sum(0)   #  change in mass "
   ]
  },
  {
   "cell_type": "code",
   "execution_count": 54,
   "metadata": {
    "collapsed": false
   },
   "outputs": [],
   "source": [
    "#  plt.plot(error[1:])\n",
    "# Hydrus 1D \n",
    "# specify depth, "
   ]
  },
  {
   "cell_type": "code",
   "execution_count": 55,
   "metadata": {
    "collapsed": false
   },
   "outputs": [
    {
     "ename": "TypeError",
     "evalue": "'float' object has no attribute '__getitem__'",
     "output_type": "error",
     "traceback": [
      "\u001b[0;31m---------------------------------------------------------------------------\u001b[0m",
      "\u001b[0;31mTypeError\u001b[0m                                 Traceback (most recent call last)",
      "\u001b[0;32m<ipython-input-55-4ffa75d0e624>\u001b[0m in \u001b[0;36m<module>\u001b[0;34m()\u001b[0m\n\u001b[1;32m      9\u001b[0m \u001b[0max\u001b[0m \u001b[0;34m=\u001b[0m \u001b[0mplt\u001b[0m\u001b[0;34m.\u001b[0m\u001b[0msubplot\u001b[0m\u001b[0;34m(\u001b[0m\u001b[0;36m122\u001b[0m\u001b[0;34m)\u001b[0m\u001b[0;34m\u001b[0m\u001b[0m\n\u001b[1;32m     10\u001b[0m \u001b[0mplt\u001b[0m\u001b[0;34m.\u001b[0m\u001b[0mtitle\u001b[0m\u001b[0;34m(\u001b[0m\u001b[0;34m'Mass balance'\u001b[0m\u001b[0;34m,\u001b[0m \u001b[0mfontsize\u001b[0m \u001b[0;34m=\u001b[0m \u001b[0;36m10\u001b[0m\u001b[0;34m)\u001b[0m\u001b[0;34m\u001b[0m\u001b[0m\n\u001b[0;32m---> 11\u001b[0;31m \u001b[0mplt\u001b[0m\u001b[0;34m.\u001b[0m\u001b[0mplot\u001b[0m\u001b[0;34m(\u001b[0m\u001b[0mt\u001b[0m\u001b[0;34m[\u001b[0m\u001b[0;36m1\u001b[0m\u001b[0;34m:\u001b[0m\u001b[0;34m]\u001b[0m\u001b[0;34m,\u001b[0m \u001b[0mfluxin\u001b[0m\u001b[0;34m[\u001b[0m\u001b[0;36m1\u001b[0m\u001b[0;34m:\u001b[0m\u001b[0;34m]\u001b[0m \u001b[0;34m-\u001b[0m \u001b[0mnewmass\u001b[0m \u001b[0;34m+\u001b[0m \u001b[0mfluxout\u001b[0m\u001b[0;34m[\u001b[0m\u001b[0;36m1\u001b[0m\u001b[0;34m:\u001b[0m\u001b[0;34m]\u001b[0m \u001b[0;34m-\u001b[0m \u001b[0merror\u001b[0m\u001b[0;34m[\u001b[0m\u001b[0;36m1\u001b[0m\u001b[0;34m:\u001b[0m\u001b[0;34m]\u001b[0m \u001b[0;34m,\u001b[0m  \u001b[0mlabel\u001b[0m \u001b[0;34m=\u001b[0m \u001b[0;34m'time step'\u001b[0m\u001b[0;34m)\u001b[0m\u001b[0;34m\u001b[0m\u001b[0m\n\u001b[0m\u001b[1;32m     12\u001b[0m \u001b[0mplt\u001b[0m\u001b[0;34m.\u001b[0m\u001b[0mplot\u001b[0m\u001b[0;34m(\u001b[0m\u001b[0mt\u001b[0m\u001b[0;34m[\u001b[0m\u001b[0;36m1\u001b[0m\u001b[0;34m:\u001b[0m\u001b[0;34m]\u001b[0m\u001b[0;34m,\u001b[0m \u001b[0mnp\u001b[0m\u001b[0;34m.\u001b[0m\u001b[0mcumsum\u001b[0m\u001b[0;34m(\u001b[0m\u001b[0mfluxin\u001b[0m\u001b[0;34m[\u001b[0m\u001b[0;36m1\u001b[0m\u001b[0;34m:\u001b[0m\u001b[0;34m]\u001b[0m \u001b[0;34m-\u001b[0m \u001b[0mnewmass\u001b[0m \u001b[0;34m+\u001b[0m \u001b[0mfluxout\u001b[0m\u001b[0;34m[\u001b[0m\u001b[0;36m1\u001b[0m\u001b[0;34m:\u001b[0m\u001b[0;34m]\u001b[0m \u001b[0;34m-\u001b[0m \u001b[0merror\u001b[0m\u001b[0;34m[\u001b[0m\u001b[0;36m1\u001b[0m\u001b[0;34m:\u001b[0m\u001b[0;34m]\u001b[0m \u001b[0;34m)\u001b[0m\u001b[0;34m,\u001b[0m \u001b[0mlabel\u001b[0m \u001b[0;34m=\u001b[0m  \u001b[0;34m'cumulative'\u001b[0m\u001b[0;34m)\u001b[0m\u001b[0;34m\u001b[0m\u001b[0m\n\u001b[1;32m     13\u001b[0m \u001b[0;31m# plt.plot(t[1:], np.cumsum(fluxin[1:] - newmass + fluxout[1:]  ), '--', label =  'unclosed')\u001b[0m\u001b[0;34m\u001b[0m\u001b[0;34m\u001b[0m\u001b[0m\n",
      "\u001b[0;31mTypeError\u001b[0m: 'float' object has no attribute '__getitem__'"
     ]
    },
    {
     "data": {
      "image/png": "[encoded data removed]",
      "text/plain": [
       "<matplotlib.figure.Figure at 0x1134e0110>"
      ]
     },
     "metadata": {},
     "output_type": "display_data"
    }
   ],
   "source": [
    "#  plot mass balance terms\n",
    "plt.figure(1, figsize = (10,3))\n",
    "ax = plt.subplot(121)\n",
    "plt.title('Mass balance', fontsize = 10)\n",
    "plt.plot(fluxout[1:], label = 'flux out')\n",
    "plt.plot(fluxin[1:], label = 'flux in')\n",
    "plt.plot(newmass, label = 'new mass')\n",
    "plt.legend(fontsize = 10)\n",
    "ax = plt.subplot(122)\n",
    "plt.title('Mass balance', fontsize = 10)\n",
    "plt.plot(t[1:], fluxin[1:] - newmass + fluxout[1:] - error[1:] ,  label = 'time step')\n",
    "plt.plot(t[1:], np.cumsum(fluxin[1:] - newmass + fluxout[1:] - error[1:] ), label =  'cumulative')\n",
    "# plt.plot(t[1:], np.cumsum(fluxin[1:] - newmass + fluxout[1:]  ), '--', label =  'unclosed')\n",
    "# plt.plot(t[1:], np.cumsum(fluxin[1:] - newmass), label =  'cumulative')\n",
    "plt.legend(fontsize = 10)\n",
    "# (fluxin[1:] - newmass  + fluxout[1:] +error[1:])"
   ]
  },
  {
   "cell_type": "code",
   "execution_count": 56,
   "metadata": {
    "collapsed": false
   },
   "outputs": [
    {
     "ename": "TypeError",
     "evalue": "'float' object has no attribute '__getitem__'",
     "output_type": "error",
     "traceback": [
      "\u001b[0;31m---------------------------------------------------------------------------\u001b[0m",
      "\u001b[0;31mTypeError\u001b[0m                                 Traceback (most recent call last)",
      "\u001b[0;32m<ipython-input-56-72d635840fd9>\u001b[0m in \u001b[0;36m<module>\u001b[0;34m()\u001b[0m\n\u001b[1;32m      1\u001b[0m \u001b[0mplt\u001b[0m\u001b[0;34m.\u001b[0m\u001b[0mfigure\u001b[0m\u001b[0;34m(\u001b[0m\u001b[0;36m5\u001b[0m\u001b[0;34m)\u001b[0m\u001b[0;34m;\u001b[0m\u001b[0;34m\u001b[0m\u001b[0m\n\u001b[0;32m----> 2\u001b[0;31m \u001b[0mplt\u001b[0m\u001b[0;34m.\u001b[0m\u001b[0mplot\u001b[0m\u001b[0;34m(\u001b[0m\u001b[0mt\u001b[0m\u001b[0;34m[\u001b[0m\u001b[0;36m1\u001b[0m\u001b[0;34m:\u001b[0m\u001b[0mnt\u001b[0m\u001b[0;34m]\u001b[0m\u001b[0;34m,\u001b[0m\u001b[0miterations\u001b[0m\u001b[0;34m,\u001b[0m\u001b[0;34m'o-'\u001b[0m\u001b[0;34m)\u001b[0m\u001b[0;34m;\u001b[0m\u001b[0;34m\u001b[0m\u001b[0m\n\u001b[0m\u001b[1;32m      3\u001b[0m \u001b[0mplt\u001b[0m\u001b[0;34m.\u001b[0m\u001b[0mxlabel\u001b[0m\u001b[0;34m(\u001b[0m\u001b[0;34m'Time [s]'\u001b[0m\u001b[0;34m)\u001b[0m\u001b[0;34m;\u001b[0m\u001b[0;34m\u001b[0m\u001b[0m\n\u001b[1;32m      4\u001b[0m \u001b[0mplt\u001b[0m\u001b[0;34m.\u001b[0m\u001b[0mylabel\u001b[0m\u001b[0;34m(\u001b[0m\u001b[0;34m'Number of iterations'\u001b[0m\u001b[0;34m)\u001b[0m\u001b[0;34m;\u001b[0m\u001b[0;34m\u001b[0m\u001b[0m\n",
      "\u001b[0;31mTypeError\u001b[0m: 'float' object has no attribute '__getitem__'"
     ]
    },
    {
     "data": {
      "text/plain": [
       "<matplotlib.figure.Figure at 0x1133da290>"
      ]
     },
     "metadata": {},
     "output_type": "display_data"
    }
   ],
   "source": [
    "plt.figure(5);\n",
    "plt.plot(t[1:nt],iterations,'o-');\n",
    "plt.xlabel('Time [s]');\n",
    "plt.ylabel('Number of iterations');"
   ]
  },
  {
   "cell_type": "code",
   "execution_count": 18,
   "metadata": {
    "collapsed": false
   },
   "outputs": [
    {
     "data": {
      "text/plain": [
       "<matplotlib.legend.Legend at 0x1123203d0>"
      ]
     },
     "execution_count": 18,
     "metadata": {},
     "output_type": "execute_result"
    },
    {
     "data": {
      "image/png": "[encoded data removed]",
      "text/plain": [
       "<matplotlib.figure.Figure at 0x111a24c50>"
      ]
     },
     "metadata": {},
     "output_type": "display_data"
    }
   ],
   "source": [
    "#  plot mass balance terms\n",
    "plt.figure(1, figsize = (10,3))\n",
    "ax = plt.subplot(121)\n",
    "plt.title('Mass balance', fontsize = 10)\n",
    "plt.plot(fluxout[1:], label = 'flux out')\n",
    "plt.plot(fluxin[1:], label = 'flux in')\n",
    "plt.plot(newmass, label = 'new mass')\n",
    "plt.legend(fontsize = 10)\n",
    "ax = plt.subplot(122)\n",
    "plt.title('Mass balance', fontsize = 10)\n",
    "plt.plot(t[1:], fluxin[1:] - newmass + fluxout[1:],  label = 'each time step')\n",
    "plt.plot(t[1:], np.cumsum(fluxin[1:] - newmass+ fluxout[1:]), label =  'cumulative')\n",
    "plt.legend(fontsize = 10)"
   ]
  },
  {
   "cell_type": "code",
   "execution_count": null,
   "metadata": {
    "collapsed": true
   },
   "outputs": [],
   "source": []
  },
  {
   "cell_type": "code",
   "execution_count": null,
   "metadata": {
    "collapsed": true
   },
   "outputs": [],
   "source": []
  }
 ],
 "metadata": {
  "anaconda-cloud": {},
  "kernelspec": {
   "display_name": "Python [default]",
   "language": "python",
   "name": "python2"
  },
  "language_info": {
   "codemirror_mode": {
    "name": "ipython",
    "version": 2
   },
   "file_extension": ".py",
   "mimetype": "text/x-python",
   "name": "python",
   "nbconvert_exporter": "python",
   "pygments_lexer": "ipython2",
   "version": "2.7.12"
  }
 },
 "nbformat": 4,
 "nbformat_minor": 0
}
