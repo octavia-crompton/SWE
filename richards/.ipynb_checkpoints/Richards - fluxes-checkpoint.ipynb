{
 "cells": [
  {
   "cell_type": "markdown",
   "metadata": {},
   "source": [
    "### 1-D Richards equation solver code\n",
    "- formulation based on a backward Euler implementation of the mixed theta-head formulation of the 1-D Richards equation, with a modified Picard iteration finite differencing solution scheme, with a modified Picard iteration finite differencing solution scheme.\n",
    "\n",
    "- The soil water retention parameterization used is that of van Genuchten \n",
    " [1980], and this code requires the corresponding MATLAB function        \n",
    " vanGenuchten.m.  \n",
    " \n",
    " - coordinate axis:  positive  downward\n",
    "         z[-1] = 0  (top)\n",
    "         z[0] = -100  (bottom)"
   ]
  },
  {
   "cell_type": "code",
   "execution_count": 1039,
   "metadata": {
    "collapsed": true
   },
   "outputs": [],
   "source": [
    "import numpy as np\n",
    "import matplotlib.pylab as plt\n",
    "plt.style.use('ggplot')\n",
    "import time"
   ]
  },
  {
   "cell_type": "code",
   "execution_count": 1040,
   "metadata": {
    "collapsed": true
   },
   "outputs": [],
   "source": [
    "%matplotlib inline"
   ]
  },
  {
   "cell_type": "code",
   "execution_count": 1041,
   "metadata": {
    "code_folding": [],
    "collapsed": true
   },
   "outputs": [],
   "source": [
    "def vanGenuchten(h,phi) :\n",
    "    alpha   = phi[0]\n",
    "    theta_S = phi[1]\n",
    "    theta_R = phi[2]\n",
    "    n       = phi[3]\n",
    "    m       = phi[4]\n",
    "    Ksat    = phi[5] \n",
    "    # Compute the volumetric moisture content\n",
    "    theta = (theta_S - theta_R)/(1 + (alpha*abs(h))**n)**m + theta_R; \n",
    "    ## Compute the effective saturation\n",
    "    Se = ((theta - theta_R)/(theta_S - theta_R)); \n",
    "    # Compute the hydraulic conductivity\n",
    "    K = Ksat*Se**(1./2)*(1 - (1 - Se**(1./m))**m)**2; \n",
    "    # Compute the specific moisture storage\n",
    "    C =  -alpha*n*np.sign(h)*(1./n - 1)*(alpha*abs(h))**(n - 1)*(theta_R - \n",
    "         theta_S)*((alpha*abs(h))**n + 1)**(1/n - 2);\n",
    "    try:\n",
    "        for i in range(len(h)):\n",
    "            if h[i] > 0:\n",
    "                K[i] = Ksat\n",
    "                C[i] = 0.\n",
    "                theta[i] = theta_S\n",
    "    except TypeError:\n",
    "        if h > 0:\n",
    "            K = Ksat\n",
    "            C = 0.\n",
    "            theta = theta_S\n",
    "    return [C,K,theta]"
   ]
  },
  {
   "cell_type": "code",
   "execution_count": 1042,
   "metadata": {
    "collapsed": true
   },
   "outputs": [],
   "source": [
    "# Define van Genuchten parameters\n",
    "alpha   = 0.0335\n",
    "theta_S = 0.368;\n",
    "theta_R = 0.102;\n",
    "lambdA  = 0.25\n",
    "n       = lambdA + 1\n",
    "m       = lambdA/n\n",
    "Ksat    = 0.09\n",
    "\n",
    "# Store van Genuchten parameters in array\n",
    "phi = np.zeros(6)\n",
    "phi[0] = alpha\n",
    "phi[1] = theta_S\n",
    "phi[2] = theta_R\n",
    "phi[3] = n\n",
    "phi[4] = m\n",
    "phi[5] = Ksat"
   ]
  },
  {
   "cell_type": "code",
   "execution_count": 1046,
   "metadata": {
    "code_folding": [],
    "collapsed": false
   },
   "outputs": [],
   "source": [
    "# set up grid \n",
    "dz = 1.; # [cm]\n",
    "zmin = 0.; # [cm]\n",
    "zmax = 100.; # [cm]\n",
    "z = np.arange(zmin, zmax+1, dz)\n",
    "nz   =  z.shape[0]"
   ]
  },
  {
   "cell_type": "code",
   "execution_count": 1047,
   "metadata": {
    "collapsed": false
   },
   "outputs": [
    {
     "data": {
      "text/plain": [
       "101"
      ]
     },
     "execution_count": 1047,
     "metadata": {},
     "output_type": "execute_result"
    }
   ],
   "source": [
    "nz"
   ]
  },
  {
   "cell_type": "code",
   "execution_count": 1048,
   "metadata": {
    "code_folding": [],
    "collapsed": false
   },
   "outputs": [],
   "source": [
    "# Define matrices that we'll need in solution\n",
    "BottomBoundCon = 1  # 0 = constant head, 1 = free drainage\n",
    "DeltaPlus  = np.diag(-np.ones(nz)) + np.diag(np.ones(nz-1), 1)\n",
    "DeltaPlus[0,:] = 0\n",
    "DeltaPlus[nz-1,:] = 0\n",
    "\n",
    "DeltaMinus = np.diag(np.ones(nz)) + np.diag(-np.ones(nz-1),-1);\n",
    "DeltaMinus[0,:] = 0\n",
    "DeltaMinus[nz-1,:] = 0\n",
    "\n",
    "MPlus = np.diag(np.ones(nz))+np.diag(np.ones(nz-1),1)\n",
    "MPlus[0,0] = 2\n",
    "MPlus[0,1:nz-1] = 0\n",
    "MPlus[nz-1,nz-1] = 2\n",
    "MPlus[nz-1,:nz-1] = 0  # not needed\n",
    "\n",
    "MMinus = np.diag(np.ones(nz)) + np.diag(np.ones(nz-1),-1)\n",
    "MMinus[0,0] = 2\n",
    "MMinus[0,1:nz-1] = 0  # not needed\n",
    "MMinus[nz-1,nz-1] = 2\n",
    "MMinus[nz-1,:nz-1] = 0 "
   ]
  },
  {
   "cell_type": "code",
   "execution_count": 1129,
   "metadata": {
    "code_folding": [],
    "collapsed": false
   },
   "outputs": [],
   "source": [
    "case = 'drain'\n",
    "\n",
    "if case == 'drain':\n",
    "    setflux = 1\n",
    "    flux = 0.0\n",
    "    hinit = -2.*np.ones(nz)\n",
    "    fmtstr = 'dt={0}, tol={1}'.format(dt, stop_tol)\n",
    "    \n",
    "if case == 'rain':\n",
    "    setflux = 1\n",
    "    flux = -.001\n",
    "    hinit = -300*np.ones(nz)\n",
    "    fmtstr = 'dt={0}, tol={1}, p={2:.0e}'.format(dt, stop_tol, -flux)\n",
    "    \n",
    "\n",
    "if case == 'fixed_H':\n",
    "    setflux = 0\n",
    "    hinit = -1000*np.ones(nz)\n",
    "    htop = -30.\n",
    "    hinit[-1] = htop\n",
    "    fmtstr = 'dt={0}, tol={1}, htop={2}'.format(dt, stop_tol, htop)\n",
    "\n",
    "\n",
    "# if case == 'potential_infl':\n",
    "#     setflux = 0\n",
    "#     hinit = - np.arange(nz)/2 - 100\n",
    "#     htop = -1.\n",
    "#     hinit[-1] = htop \n",
    "    \n",
    "if case == 'equil':  \n",
    "    # need to also adjust bottom boundary conditions to no flux for equilibrium\n",
    "    setflux = 1\n",
    "    flux = 0\n",
    "    hinit = - np.arange(nz)/2 - 500\n",
    "    htop = h[-1]\n",
    "    fmtstr = 'dt={0}, tol={1}, htop={2}'.format(dt, stop_tol, htop)\n",
    "    \n"
   ]
  },
  {
   "cell_type": "code",
   "execution_count": 1130,
   "metadata": {
    "collapsed": true
   },
   "outputs": [],
   "source": [
    "if setflux == 1:\n",
    "    [Cinit,Kinit,thetainit] = vanGenuchten(hinit,phi) \n",
    "    kt = (Kinit[-1] + Kinit[-2])/2.\n",
    "    hinit[-1] = hinit[-2] - dz - flux*dz/kt\n",
    "\n",
    "# use output from previous run?\n",
    "# hinit = hnp1mp1"
   ]
  },
  {
   "cell_type": "code",
   "execution_count": 1131,
   "metadata": {
    "code_folding": [],
    "collapsed": false
   },
   "outputs": [],
   "source": [
    "# Define time variables\n",
    "stop_tol = 1e-9  # Stopping tolerance [cm]\n",
    "dt  = 1 # [s]\n",
    "tmin = 0. # [s]\n",
    "tmax = 100 # [s]\n",
    "\n",
    "t = np.arange(tmin, tmax + dt, dt)\n",
    "nt = t.shape[0]\n",
    "\n",
    "# Define a storage container to store the pressure heads and soil moistures\n",
    "[Ctop,Ktop,thetatop] = vanGenuchten(htop,phi)\n",
    "[Cinit,Kinit,thetainit] = vanGenuchten(hinit,phi) \n",
    "H = np.zeros([nz,nt])\n",
    "K = np.zeros([nz,nt])\n",
    "C = np.zeros([nz,nt])\n",
    "H[:,0] = hinit\n",
    "K[:,0] = Kinit\n",
    "C[:,0] = Cinit\n",
    "\n",
    "THETA = np.zeros([nz,nt])\n",
    "THETA[:,0] = thetainit\n",
    "ktop = np.zeros([ nt])\n",
    "kbot = np.zeros([ nt])\n",
    "error = np.zeros([nt])\n"
   ]
  },
  {
   "cell_type": "markdown",
   "metadata": {},
   "source": [
    "Inputs:  hnp1m  --->  hnp1m\n",
    "         thetan  "
   ]
  },
  {
   "cell_type": "code",
   "execution_count": null,
   "metadata": {
    "code_folding": [],
    "collapsed": false,
    "scrolled": false
   },
   "outputs": [
    {
     "name": "stdout",
     "output_type": "stream",
     "text": [
      "10 20 30 40 50 60 70 80 90 100 --- 2.98176789284 seconds ---\n"
     ]
    }
   ],
   "source": [
    "start_time = time.time()\n",
    "iterations = np.zeros([nt-1,1]);  # Define array for iteration counter\n",
    "\n",
    "for i in range(1, nt):   # Initialize the Picard iteration solver\n",
    "    if np.mod(i,10) == 0:\n",
    "        print i,\n",
    "    hnp1m =  H[:,i-1]  \n",
    "#     knp1m =  K[:,i-1]  \n",
    "    thetan = THETA[:,i-1] \n",
    "    stop_flag = 0\n",
    "    niter = 0\n",
    "    while(stop_flag == 0): # Get C,K,theta\n",
    "        [cnp1m,knp1m,thetanp1m] = vanGenuchten(hnp1m,phi)\n",
    "        Cdiag = np.diag(cnp1m) \n",
    "        kbarplus = (1/2.)*MPlus.dot(knp1m)\n",
    "        Kbarplus = np.diag(kbarplus)\n",
    "        kbarminus = (1/2.)*MMinus.dot(knp1m)\n",
    "        Kbarminus = np.diag(kbarminus)\n",
    "        A = (1./dt)*Cdiag - 1./((dz)**2)*(Kbarplus.dot(DeltaPlus) - \n",
    "                                          Kbarminus.dot(DeltaMinus)) \n",
    "        #  Compute the residual of MPFD (RHS)\n",
    "        R_MPFD = (1./(dz**2))*(Kbarplus.dot(DeltaPlus).dot(hnp1m) - \\\n",
    "                               Kbarminus.dot(DeltaMinus).dot(hnp1m)) + \\\n",
    "             (1./dz)*(kbarplus - kbarminus) - (1./dt)*(thetanp1m - thetan); \n",
    "        # Compute deltam for iteration level m+1\n",
    "        deltam = np.linalg.pinv(A).dot(R_MPFD)\n",
    "        # Increment iteration counter and display number of iterations\n",
    "        niter = niter + 1;\n",
    "        if (max(abs(deltam[1:(nz-1)]))<stop_tol):\n",
    "            stop_flag = 1\n",
    "            hnp1mp1 = hnp1m + deltam \n",
    "            hnp1mp1[0] = hnp1mp1[1]  # free drainage BC\n",
    "            if setflux == 1:\n",
    "                [cnp1m,knp1m,thetanp1m] = vanGenuchten(hnp1mp1,phi);\n",
    "                kt = (knp1m[-1] + knp1m[-2])/2.\n",
    "                hnp1mp1[-1] =  hnp1mp1[-2] - dz - flux*dz/kt\n",
    "            else:\n",
    "                hnp1mp1[-1] = htop\n",
    "            [cnp1m,knp1m,thetanp1m] = vanGenuchten(hnp1mp1,phi);\n",
    "            thetanp1mp1 = thetanp1m;\n",
    "            knp1mp1 = knp1m\n",
    "            cnp1mp1 = cnp1m            \n",
    "            hnp1m = hnp1mp1; \n",
    "        else:\n",
    "            hnp1mp1 = hnp1m + deltam;\n",
    "            hnp1m = hnp1mp1\n",
    "            hnp1m[0] = hnp1m[1]  # free drainage BC\n",
    "            if setflux == 1:\n",
    "                [cnp1m,knp1m,thetanp1m] = vanGenuchten(hnp1m,phi);\n",
    "                kt = (knp1m[-1] + knp1m[-2])/2.\n",
    "                hnp1m[-1] = hnp1m[-2] - dz - flux*dz/kt\n",
    "            else:\n",
    "                hnp1m[-1] = htop\n",
    "    THETA[:,i] = thetanp1mp1\n",
    "    H[:,i] = hnp1mp1\n",
    "    K[:, i]= knp1mp1\n",
    "    C[:,i] = cnp1mp1\n",
    "    kbot[i] =  (K[0, i] + K[1, i])/2.  \n",
    "    ktop[i] =  (K[-1, i] + K[-2, i])/2.  \n",
    "    error[i] =  np.sum(A.dot(deltam))*dt*dz\n",
    "#     error[i] = dz*np.sum(C[:,i]*deltam[:]) +   kbot[i]*(deltam[1] - deltam[0])*dt/dz \\\n",
    "#           ktop[i]*(deltam[-1] - deltam[-2])*dt/dz\n",
    "    iterations[i-1] = niter\n",
    "\n",
    "fluxin =    ktop*((H[-1] - H[-2])/dz + 1.)*dt   # top flux (cm)\n",
    "fluxout = - kbot*((H[1] - H[0])/dz + 1. )*dt # bottom flux (cm)\n",
    "newmass = (THETA[:, 1:] - THETA[:, :-1]).sum(0)   #  change in mass \n",
    "\n",
    "print(\"--- %s seconds ---\" % (time.time() - start_time))"
   ]
  },
  {
   "cell_type": "code",
   "execution_count": null,
   "metadata": {
    "collapsed": false
   },
   "outputs": [
    {
     "ename": "IOError",
     "evalue": "[Errno 2] No such file or directory: 'case_drain/profile dt=1, tol=1e-09.pdf'",
     "output_type": "error",
     "traceback": [
      "\u001b[0;31m---------------------------------------------------------------------------\u001b[0m",
      "\u001b[0;31mIOError\u001b[0m                                   Traceback (most recent call last)",
      "\u001b[0;32m<ipython-input-1133-df514cdee57a>\u001b[0m in \u001b[0;36m<module>\u001b[0;34m()\u001b[0m\n\u001b[1;32m     22\u001b[0m \u001b[0;34m\u001b[0m\u001b[0m\n\u001b[1;32m     23\u001b[0m \u001b[0mplt\u001b[0m\u001b[0;34m.\u001b[0m\u001b[0msuptitle\u001b[0m\u001b[0;34m(\u001b[0m\u001b[0mfmtstr\u001b[0m\u001b[0;34m)\u001b[0m\u001b[0;34m\u001b[0m\u001b[0m\n\u001b[0;32m---> 24\u001b[0;31m \u001b[0mfig\u001b[0m\u001b[0;34m.\u001b[0m\u001b[0msavefig\u001b[0m\u001b[0;34m(\u001b[0m\u001b[0;34m'case_{1}/profile {0}.pdf'\u001b[0m\u001b[0;34m.\u001b[0m\u001b[0mformat\u001b[0m\u001b[0;34m(\u001b[0m\u001b[0mfmtstr\u001b[0m\u001b[0;34m,\u001b[0m \u001b[0mcase\u001b[0m\u001b[0;34m)\u001b[0m\u001b[0;34m)\u001b[0m\u001b[0;34m\u001b[0m\u001b[0m\n\u001b[0m",
      "\u001b[0;32m//anaconda/lib/python2.7/site-packages/matplotlib/figure.pyc\u001b[0m in \u001b[0;36msavefig\u001b[0;34m(self, *args, **kwargs)\u001b[0m\n\u001b[1;32m   1561\u001b[0m             \u001b[0mself\u001b[0m\u001b[0;34m.\u001b[0m\u001b[0mset_frameon\u001b[0m\u001b[0;34m(\u001b[0m\u001b[0mframeon\u001b[0m\u001b[0;34m)\u001b[0m\u001b[0;34m\u001b[0m\u001b[0m\n\u001b[1;32m   1562\u001b[0m \u001b[0;34m\u001b[0m\u001b[0m\n\u001b[0;32m-> 1563\u001b[0;31m         \u001b[0mself\u001b[0m\u001b[0;34m.\u001b[0m\u001b[0mcanvas\u001b[0m\u001b[0;34m.\u001b[0m\u001b[0mprint_figure\u001b[0m\u001b[0;34m(\u001b[0m\u001b[0;34m*\u001b[0m\u001b[0margs\u001b[0m\u001b[0;34m,\u001b[0m \u001b[0;34m**\u001b[0m\u001b[0mkwargs\u001b[0m\u001b[0;34m)\u001b[0m\u001b[0;34m\u001b[0m\u001b[0m\n\u001b[0m\u001b[1;32m   1564\u001b[0m \u001b[0;34m\u001b[0m\u001b[0m\n\u001b[1;32m   1565\u001b[0m         \u001b[0;32mif\u001b[0m \u001b[0mframeon\u001b[0m\u001b[0;34m:\u001b[0m\u001b[0;34m\u001b[0m\u001b[0m\n",
      "\u001b[0;32m//anaconda/lib/python2.7/site-packages/matplotlib/backend_bases.pyc\u001b[0m in \u001b[0;36mprint_figure\u001b[0;34m(self, filename, dpi, facecolor, edgecolor, orientation, format, **kwargs)\u001b[0m\n\u001b[1;32m   2230\u001b[0m                 \u001b[0morientation\u001b[0m\u001b[0;34m=\u001b[0m\u001b[0morientation\u001b[0m\u001b[0;34m,\u001b[0m\u001b[0;34m\u001b[0m\u001b[0m\n\u001b[1;32m   2231\u001b[0m                 \u001b[0mbbox_inches_restore\u001b[0m\u001b[0;34m=\u001b[0m\u001b[0m_bbox_inches_restore\u001b[0m\u001b[0;34m,\u001b[0m\u001b[0;34m\u001b[0m\u001b[0m\n\u001b[0;32m-> 2232\u001b[0;31m                 **kwargs)\n\u001b[0m\u001b[1;32m   2233\u001b[0m         \u001b[0;32mfinally\u001b[0m\u001b[0;34m:\u001b[0m\u001b[0;34m\u001b[0m\u001b[0m\n\u001b[1;32m   2234\u001b[0m             \u001b[0;32mif\u001b[0m \u001b[0mbbox_inches\u001b[0m \u001b[0;32mand\u001b[0m \u001b[0mrestore_bbox\u001b[0m\u001b[0;34m:\u001b[0m\u001b[0;34m\u001b[0m\u001b[0m\n",
      "\u001b[0;32m//anaconda/lib/python2.7/site-packages/matplotlib/backends/backend_pdf.pyc\u001b[0m in \u001b[0;36mprint_pdf\u001b[0;34m(self, filename, **kwargs)\u001b[0m\n\u001b[1;32m   2526\u001b[0m             \u001b[0mfile\u001b[0m \u001b[0;34m=\u001b[0m \u001b[0mfilename\u001b[0m\u001b[0;34m.\u001b[0m\u001b[0m_file\u001b[0m\u001b[0;34m\u001b[0m\u001b[0m\n\u001b[1;32m   2527\u001b[0m         \u001b[0;32melse\u001b[0m\u001b[0;34m:\u001b[0m\u001b[0;34m\u001b[0m\u001b[0m\n\u001b[0;32m-> 2528\u001b[0;31m             \u001b[0mfile\u001b[0m \u001b[0;34m=\u001b[0m \u001b[0mPdfFile\u001b[0m\u001b[0;34m(\u001b[0m\u001b[0mfilename\u001b[0m\u001b[0;34m)\u001b[0m\u001b[0;34m\u001b[0m\u001b[0m\n\u001b[0m\u001b[1;32m   2529\u001b[0m         \u001b[0;32mtry\u001b[0m\u001b[0;34m:\u001b[0m\u001b[0;34m\u001b[0m\u001b[0m\n\u001b[1;32m   2530\u001b[0m             \u001b[0mfile\u001b[0m\u001b[0;34m.\u001b[0m\u001b[0mnewPage\u001b[0m\u001b[0;34m(\u001b[0m\u001b[0mwidth\u001b[0m\u001b[0;34m,\u001b[0m \u001b[0mheight\u001b[0m\u001b[0;34m)\u001b[0m\u001b[0;34m\u001b[0m\u001b[0m\n",
      "\u001b[0;32m//anaconda/lib/python2.7/site-packages/matplotlib/backends/backend_pdf.pyc\u001b[0m in \u001b[0;36m__init__\u001b[0;34m(self, filename)\u001b[0m\n\u001b[1;32m    420\u001b[0m         \u001b[0mself\u001b[0m\u001b[0;34m.\u001b[0m\u001b[0mtell_base\u001b[0m \u001b[0;34m=\u001b[0m \u001b[0;36m0\u001b[0m\u001b[0;34m\u001b[0m\u001b[0m\n\u001b[1;32m    421\u001b[0m         \u001b[0;32mif\u001b[0m \u001b[0mis_string_like\u001b[0m\u001b[0;34m(\u001b[0m\u001b[0mfilename\u001b[0m\u001b[0;34m)\u001b[0m\u001b[0;34m:\u001b[0m\u001b[0;34m\u001b[0m\u001b[0m\n\u001b[0;32m--> 422\u001b[0;31m             \u001b[0mfh\u001b[0m \u001b[0;34m=\u001b[0m \u001b[0mopen\u001b[0m\u001b[0;34m(\u001b[0m\u001b[0mfilename\u001b[0m\u001b[0;34m,\u001b[0m \u001b[0;34m'wb'\u001b[0m\u001b[0;34m)\u001b[0m\u001b[0;34m\u001b[0m\u001b[0m\n\u001b[0m\u001b[1;32m    423\u001b[0m         \u001b[0;32melif\u001b[0m \u001b[0mis_writable_file_like\u001b[0m\u001b[0;34m(\u001b[0m\u001b[0mfilename\u001b[0m\u001b[0;34m)\u001b[0m\u001b[0;34m:\u001b[0m\u001b[0;34m\u001b[0m\u001b[0m\n\u001b[1;32m    424\u001b[0m             \u001b[0;32mtry\u001b[0m\u001b[0;34m:\u001b[0m\u001b[0;34m\u001b[0m\u001b[0m\n",
      "\u001b[0;31mIOError\u001b[0m: [Errno 2] No such file or directory: 'case_drain/profile dt=1, tol=1e-09.pdf'"
     ]
    }
   ],
   "source": [
    "# 1. profile\n",
    "fig = plt.figure(1, figsize = (11,4)); \n",
    "ax = plt.subplot(121)\n",
    "plt.xlabel('Pressure head [cm]',fontsize=  11)\n",
    "plt.ylabel('Depth [cm]',fontsize=  11)\n",
    "plt.xlim( np.min(H)-20,  np.max(H)+20)\n",
    "plt.title('Pressure head vs. depth', fontsize=  11)\n",
    "\n",
    "ax = plt.subplot(122)\n",
    "plt.plot(thetainit,z)\n",
    "plt.xlabel('Soil moisture $cm^3/cm^3$',fontsize=  11)\n",
    "plt.ylabel('Depth [cm]',fontsize=  11)\n",
    "plt.title('Soil moisture vs. depth',fontsize=  11)\n",
    "\n",
    "for i in  range(0, len(t), len(t)/4):\n",
    "    ax = plt.subplot(121)\n",
    "    plt.plot(H[:, i],z, label = '{0:.0f}'.format(t[i]), lw = 1.5)\n",
    "    plt.legend(loc = 'best', fontsize = 10)\n",
    "    ax = plt.subplot(122)\n",
    "    plt.plot(THETA[:, i],z, label = '{0:.0f}'.format(t[i]), lw = 1.5)\n",
    "    plt.legend(loc = 'best', fontsize = 10)\n",
    "    \n",
    "plt.suptitle(fmtstr)\n",
    "fig.savefig('case_{1}/profile {0}.pdf'.format(fmtstr, case))"
   ]
  },
  {
   "cell_type": "code",
   "execution_count": null,
   "metadata": {
    "collapsed": false
   },
   "outputs": [],
   "source": [
    "# 2. flux rates\n",
    "fig = plt.figure(1, figsize = (6,3.7))\n",
    "\n",
    "plt.title('Flux rates ({0})'.format(fmtstr), fontsize = 11)\n",
    "plt.plot(t[1:], fluxout[1:]/dt, label = 'flux out')\n",
    "plt.plot(t[1:], fluxin[1:]/dt, '-.', ms = 4, label = 'flux in')\n",
    "plt.plot(t[1:], error[1:]/dt, '--',  label = 'error')\n",
    "plt.plot(t[1:], newmass/dt, label = 'mass change')\n",
    "plt.legend(loc = 'best', fontsize = 10)\n",
    "plt.xlabel('time [s]') \n",
    "plt.ylabel('rate [cm/s]')\n",
    "fig.savefig('case_{1}/flux rates {0}.pdf'.format(fmtstr, case) )"
   ]
  },
  {
   "cell_type": "code",
   "execution_count": null,
   "metadata": {
    "code_folding": [],
    "collapsed": false
   },
   "outputs": [],
   "source": [
    "# 3.  cumulative error\n",
    "fig = plt.figure(1, figsize = (6,3.7))\n",
    "plt.title('Cumulative mass error ({0})'.format(fmtstr), fontsize = 10)\n",
    "plt.plot(t[1:], np.cumsum(fluxin[1:] - newmass + fluxout[1:] - error[1:] ), label =  '')\n",
    "plt.plot(t[1:], np.cumsum(fluxin[1:] -  newmass +fluxout[1:]  ), label = 'uncorrected')\n",
    "plt.xlabel('time')\n",
    "plt.ylabel('error [cm]')\n",
    "plt.legend(loc = 'best', fontsize = 10)\n",
    "fig.savefig('case_{1}/error {0}.pdf'.format(fmtstr, case))"
   ]
  },
  {
   "cell_type": "code",
   "execution_count": null,
   "metadata": {
    "collapsed": false
   },
   "outputs": [],
   "source": [
    "# 4. Number of iterations\n",
    "fig = plt.figure(1, figsize = (6,3.7))\n",
    "plt.plot(t[1:nt],iterations,'-')\n",
    "plt.xlabel('Time [s]')\n",
    "plt.title('Number of iterations ({0})'.format(fmtstr), fontsize = 11)\n",
    "plt.ylabel('Iterations')\n",
    "fig.savefig('case_{1}/iterations {0}.pdf'.format(fmtstr, case))"
   ]
  },
  {
   "cell_type": "code",
   "execution_count": null,
   "metadata": {
    "collapsed": false
   },
   "outputs": [],
   "source": [
    "fig  = plt.figure(1, figsize = (10,4)); \n",
    "ax = plt.subplot(121)\n",
    "plt.title('Surface h',  fontsize = 11)\n",
    "plt.plot(t[1:], H[-1, 1:], label = 'z={}'.format(z[-1]))\n",
    "plt.plot(t[1:], H[-2, 1:], label = 'z={}'.format(z[-2]))\n",
    "plt.xlabel('t [s]'); plt.ylabel('h [cm]')\n",
    "plt.legend(loc = 'best', fontsize = 10)\n",
    "ax = plt.subplot(122)\n",
    "plt.title('Surface $\\Theta$',  fontsize = 11)\n",
    "plt.plot(t[1:], THETA[-1, 1:], '--', label = 'z={}'.format(z[-1]))\n",
    "plt.plot(t[1:], THETA[-2, 1:], '--', label = 'z={}'.format(z[-2]))\n",
    "plt.legend(loc = 'best', fontsize = 10)\n",
    "plt.xlabel('t [s]'); plt.ylabel('$\\Theta$')\n",
    "plt.suptitle('{}'.format(fmtstr))\n",
    "fig.savefig('case_{1}/surface_{0}.pdf'.format(fmtstr, case))"
   ]
  },
  {
   "cell_type": "code",
   "execution_count": null,
   "metadata": {
    "collapsed": true
   },
   "outputs": [],
   "source": []
  }
 ],
 "metadata": {
  "anaconda-cloud": {},
  "kernelspec": {
   "display_name": "Python [default]",
   "language": "python",
   "name": "python2"
  },
  "language_info": {
   "codemirror_mode": {
    "name": "ipython",
    "version": 2
   },
   "file_extension": ".py",
   "mimetype": "text/x-python",
   "name": "python",
   "nbconvert_exporter": "python",
   "pygments_lexer": "ipython2",
   "version": "2.7.12"
  }
 },
 "nbformat": 4,
 "nbformat_minor": 0
}
