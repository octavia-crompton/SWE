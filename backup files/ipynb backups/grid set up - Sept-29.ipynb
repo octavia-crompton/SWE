{
 "cells": [
  {
   "cell_type": "code",
   "execution_count": 1,
   "metadata": {
    "collapsed": true
   },
   "outputs": [],
   "source": [
    "%matplotlib inline"
   ]
  },
  {
   "cell_type": "code",
   "execution_count": 41,
   "metadata": {
    "collapsed": true
   },
   "outputs": [],
   "source": [
    "import matplotlib.pylab as plt\n",
    "import numpy as np"
   ]
  },
  {
   "cell_type": "code",
   "execution_count": 42,
   "metadata": {
    "collapsed": true
   },
   "outputs": [],
   "source": [
    "# nn = 7000\n",
    "# nx = 410\n",
    "# ny = 110"
   ]
  },
  {
   "cell_type": "code",
   "execution_count": 80,
   "metadata": {
    "collapsed": true
   },
   "outputs": [],
   "source": [
    "grav  = 9.806   \n",
    "dt =  0.15  \n",
    "tmax =  2000.\n",
    "xsplit = 100.\n",
    "xn = 0.05     "
   ]
  },
  {
   "cell_type": "code",
   "execution_count": 43,
   "metadata": {
    "collapsed": true
   },
   "outputs": [],
   "source": [
    "epsh = 0.0025  #  depth tolerence for dry bed problems.\n",
    "beta =  2.0    # \n",
    "xk  =  3.9217e-4  #\n",
    "ainflt =      0.5  \n",
    "binflt =     2.65e-7\n",
    "tc = 6840.\n",
    "cappa = 0.99"
   ]
  },
  {
   "cell_type": "code",
   "execution_count": 235,
   "metadata": {
    "collapsed": true
   },
   "outputs": [],
   "source": [
    "istart = 0   \n",
    "imass  = 0  \n",
    "ifront  = 0 \n",
    "nprt = 10\n",
    "nbcell = 386"
   ]
  },
  {
   "cell_type": "code",
   "execution_count": 236,
   "metadata": {
    "collapsed": true
   },
   "outputs": [],
   "source": [
    "isurf = 1"
   ]
  },
  {
   "cell_type": "code",
   "execution_count": 45,
   "metadata": {
    "collapsed": false
   },
   "outputs": [],
   "source": [
    "i = 0\n",
    "dryin = []\n",
    "for line in open(\"dryin.dat\", 'r'):\n",
    "    i += 1\n",
    "    item = line.rstrip() # strip off newline and any other trailing whitespace\n",
    "    dryin.append(line)"
   ]
  },
  {
   "cell_type": "code",
   "execution_count": 224,
   "metadata": {
    "collapsed": false
   },
   "outputs": [],
   "source": [
    "## Lines 790-793\n",
    "# inum = number of boundary faces in a boundary cell.  inum =2 for corner cells\n",
    "j = []; \n",
    "k = [];\n",
    "nrow = 63\n",
    "ncol = 94\n",
    "inum = np.zeros([ncol+1,nrow+1], dtype = int)\n",
    "itype = np.zeros([ncol+1, nrow+1, 2])    \n",
    "ipos = np.zeros([ncol+1, nrow+1, 2]) \n",
    "\n",
    "for line in range(11, 11+386):\n",
    "    #print dryin[line]\n",
    "    a = dryin[line].strip().split(\" \")\n",
    "    a = [int(x) for x in a if x]\n",
    "    j = a[0] \n",
    "    k = a[1] \n",
    "    inum[j, k] = a[2]\n",
    "    itype[j,k,0]= a[3]\n",
    "    if a[2] == 1:\n",
    "        ipos[j, k,0] = a[4]\n",
    "    elif a[2] > 1:\n",
    "        itype[j,k,1]= a[4]\n",
    "        ipos[j,k,0]= a[5]\n",
    "        ipos[j,k,1] = a[6]  "
   ]
  },
  {
   "cell_type": "code",
   "execution_count": 225,
   "metadata": {
    "collapsed": false
   },
   "outputs": [
    {
     "data": {
      "text/plain": [
       "<matplotlib.colorbar.Colorbar at 0x120582c50>"
      ]
     },
     "execution_count": 225,
     "metadata": {},
     "output_type": "execute_result"
    },
    {
     "data": {
      "image/png": "[encoded data removed]",
      "text/plain": [
       "<matplotlib.figure.Figure at 0x11fb07d50>"
      ]
     },
     "metadata": {},
     "output_type": "display_data"
    }
   ],
   "source": [
    "plt.pcolor(inum[:, :]); \n",
    "plt.colorbar()"
   ]
  },
  {
   "cell_type": "code",
   "execution_count": 226,
   "metadata": {
    "collapsed": false
   },
   "outputs": [],
   "source": [
    "## lines 797-799\n",
    "kbeg = [0]\n",
    "kend = [0]\n",
    "for line in range(400, 399+ncol):\n",
    "    #print dryin[line]\n",
    "    a = dryin[line].strip().split(\" \")\n",
    "    a = [int(x) for x in a if x]\n",
    "    kbeg.append(a[1])\n",
    "    kend.append(a[2])\n",
    "\n",
    "kbeg.append(kbeg[-1])\n",
    "kend.append(kend[-1])"
   ]
  },
  {
   "cell_type": "code",
   "execution_count": 227,
   "metadata": {
    "collapsed": true
   },
   "outputs": [],
   "source": [
    "h0l = 0.\n",
    "u0l = 0. \n",
    "v0l = 0."
   ]
  },
  {
   "cell_type": "code",
   "execution_count": 228,
   "metadata": {
    "collapsed": true
   },
   "outputs": [],
   "source": [
    "h0r = 0.\n",
    "u0r = 0.\n",
    "v0r = 0."
   ]
  },
  {
   "cell_type": "code",
   "execution_count": 229,
   "metadata": {
    "collapsed": true
   },
   "outputs": [],
   "source": [
    "ndir = 3"
   ]
  },
  {
   "cell_type": "code",
   "execution_count": 230,
   "metadata": {
    "collapsed": false
   },
   "outputs": [],
   "source": [
    "dryin[500].strip().split()\n",
    "\n",
    "cols = ['j', 'k' , 'fix_h', 'fix_u',  'fix_v', 'period', 'amplitude']"
   ]
  },
  {
   "cell_type": "code",
   "execution_count": 231,
   "metadata": {
    "collapsed": false
   },
   "outputs": [],
   "source": [
    "fix = np.zeros([ncol+1, nrow+1, 3])\n",
    "\n",
    "for i, line in enumerate(range(501, 501+ ndir)):\n",
    "    a = dryin[line].strip().split(\" \")\n",
    "    a = [float(x.strip().replace(\"d\", \"\")) for x in a if x]\n",
    "    j = int(a[0])\n",
    "    k = int(a[1])\n",
    "    \n",
    "    fix[j, k, 0] = a[2]\n",
    "    fix[j, k, 1] = a[3]    \n",
    "    fix[j, k, 2] = a[4]    \n",
    "    "
   ]
  },
  {
   "cell_type": "code",
   "execution_count": 233,
   "metadata": {
    "collapsed": false
   },
   "outputs": [],
   "source": [
    "# number of monitoring points\n",
    "nmon = 3\n",
    "period = 1."
   ]
  },
  {
   "cell_type": "code",
   "execution_count": 234,
   "metadata": {
    "collapsed": false
   },
   "outputs": [],
   "source": [
    "xmon = np.zeros(3)\n",
    "ymon = np.zeros(3)\n",
    "for i, line in enumerate(range(507, 507+ nmon)):\n",
    "    a = dryin[line].strip().split(\" \")\n",
    "    a = [float(x.strip().replace(\"d\", \"\")) for x in a if x]\n",
    "    i = int(a[0]- 1)\n",
    "    xmon[i] = a[1]\n",
    "    ymon[i] = a[2]"
   ]
  },
  {
   "cell_type": "code",
   "execution_count": 238,
   "metadata": {
    "collapsed": true
   },
   "outputs": [],
   "source": [
    "isurf = 1 # 'enter a 1 to set free surface elevation'\n",
    "#isurf = 2 # 'enter a 2 to set flow depth'\n"
   ]
  },
  {
   "cell_type": "code",
   "execution_count": null,
   "metadata": {
    "collapsed": true
   },
   "outputs": [],
   "source": [
    "ilim = 5 #  for Beta family\n",
    "sw = 0  "
   ]
  },
  {
   "cell_type": "markdown",
   "metadata": {},
   "source": [
    "## Grid subroutine, called from the input subroutine"
   ]
  },
  {
   "cell_type": "code",
   "execution_count": 239,
   "metadata": {
    "collapsed": true
   },
   "outputs": [],
   "source": [
    "i = 0\n",
    "coords = []\n",
    "for line in open(\"coords\", 'r'):\n",
    "    i += 1\n",
    "    item = line.rstrip() # strip off newline and any other trailing whitespace\n",
    "    coords.append(line)"
   ]
  },
  {
   "cell_type": "code",
   "execution_count": 240,
   "metadata": {
    "collapsed": false
   },
   "outputs": [],
   "source": [
    "npt, ne = [int(j) for j in coords[0].split()]"
   ]
  },
  {
   "cell_type": "code",
   "execution_count": 242,
   "metadata": {
    "collapsed": false
   },
   "outputs": [],
   "source": [
    "x = np.arange(float(npt+1))\n",
    "y = np.arange(float(npt+1))\n",
    "z = np.arange(float(npt+1))\n",
    "\n",
    "for i in range(1, npt+1):\n",
    "    x[i], y[i], z[i] = [float(l) for l in coords[i].split()]"
   ]
  },
  {
   "cell_type": "code",
   "execution_count": 113,
   "metadata": {
    "collapsed": false
   },
   "outputs": [],
   "source": [
    "# nopdum = np.zeros([ne, 4] , dtype = int) \n",
    "# for i in range(ne):\n",
    "#     nopdum[i] = [int(l) for l in coords[i+1+npt].split()]"
   ]
  },
  {
   "cell_type": "code",
   "execution_count": 243,
   "metadata": {
    "collapsed": false
   },
   "outputs": [],
   "source": [
    "nop = np.zeros([ncol+1,nrow+1, 4], dtype = int)\n",
    "count = 0\n",
    "for j in range(1, ncol+1):\n",
    "    for k in range(kbeg[j], kend[j]+1):\n",
    "        nop[j, k, :]  = [int(l) for l in coords[count+1+npt].split()]\n",
    "        count += 1"
   ]
  },
  {
   "cell_type": "code",
   "execution_count": 244,
   "metadata": {
    "collapsed": false
   },
   "outputs": [
    {
     "data": {
      "text/plain": [
       "<matplotlib.colorbar.Colorbar at 0x120eed210>"
      ]
     },
     "execution_count": 244,
     "metadata": {},
     "output_type": "execute_result"
    },
    {
     "data": {
      "image/png": "[encoded data removed]",
      "text/plain": [
       "<matplotlib.figure.Figure at 0x11f9b6550>"
      ]
     },
     "metadata": {},
     "output_type": "display_data"
    }
   ],
   "source": [
    "plt.pcolor(nop[:, :, 0])\n",
    "plt.colorbar()"
   ]
  },
  {
   "cell_type": "code",
   "execution_count": 245,
   "metadata": {
    "collapsed": true
   },
   "outputs": [],
   "source": [
    "xc  = np.zeros([ncol+2, nrow+2])\n",
    "yc  = np.zeros([ncol+2, nrow+2])\n",
    "zc  = np.zeros([ncol+2, nrow+2])\n",
    "\n",
    "dxi  = np.zeros([ncol+2, nrow+2, 2])\n",
    "deta  = np.zeros([ncol+2, nrow+2, 2])\n",
    "dz  = np.zeros([ncol+2, nrow+2, 2])\n",
    "\n",
    "area = np.zeros([ncol+2, nrow+2])\n",
    "sx = np.zeros([ncol+2, nrow+2])\n",
    "sy = np.zeros([ncol+2, nrow+2])"
   ]
  },
  {
   "cell_type": "code",
   "execution_count": 246,
   "metadata": {
    "collapsed": false
   },
   "outputs": [],
   "source": [
    "## Compute grid matrics\n",
    "for j in range(1, ncol+1):\n",
    "    for k in range(kbeg[j], kend[j]+1):\n",
    "        n1 = nop[j, k, 0] \n",
    "        n2 = nop[j, k, 1]       \n",
    "        n3 = nop[j, k, 2]        \n",
    "        n4 = nop[j, k, 3]  \n",
    "        xc[j,k] = 0.25*(x[n1] + x[n2] + x[n3] + x[n4])        \n",
    "        #xc[j,k] = 0.25*(x[nop[j, k] - 1]).sum() \n",
    "        yc[j,k] = 0.25*(y[n1] + y[n2] + y[n3] + y[n4])\n",
    "        zc[j,k] = 0.25*(z[n1] + z[n2] + z[n3] + z[n4])\n",
    "        dxdxi = 0.5*(-x[n1]+x[n2] + x[n3] - x[n4])\n",
    "        dxdeta = 0.5*(-x[n1]-x[n2] + x[n3] + x[n4])        \n",
    "        dydxi = 0.5*(-y[n1]+y[n2] + y[n3] - y[n4])\n",
    "        dydeta = 0.5*(-y[n1]-y[n2] + y[n3] + y[n4])        \n",
    "        area[j,k] = dxdxi*dydeta - dxdeta*dydxi\n",
    "        if area[j,k] < 0:\n",
    "            print \"error\"    \n",
    "        dxi[j,k,0] =  dydeta/area[j,k]\n",
    "        deta[j,k,0] = -dydxi/area[j,k]\n",
    "        dxi[j,k,1] =  -dxdeta/area[j,k]\n",
    "        deta[j,k,1] = dxdxi/area[j,k] \n",
    "        sx[j,k] = ((z[n2]-z[n4])*(y[n3]-y[n1])-(z[n3]-z[n1])*(y[n2]-y[n4]))/(2.*area[j,k])\n",
    "        sy[j,k] = ((z[n3]-z[n1])*(y[n2]-y[n4])-(z[n2]-z[n4])*(y[n3]-y[n1]))/(2.*area[j,k])  \n",
    "        dz[j,k,0] = sx[j,k]*dxdxi + sy[j,k]*dydxi\n",
    "        dz[j,k,1] = sx[j,k]*dxdeta+ sy[j,k]*dydeta "
   ]
  },
  {
   "cell_type": "code",
   "execution_count": 195,
   "metadata": {
    "collapsed": false
   },
   "outputs": [],
   "source": [
    "## Compute cell face angles\n",
    "ds  = np.zeros([ncol+2, nrow+2, 2])\n",
    "sn  = np.zeros([ncol+2, nrow+2, 2])\n",
    "cn  = np.zeros([ncol+2, nrow+2, 2])\n",
    "for j in range(1, ncol+1):\n",
    "    for k in range(kbeg[j] , kend[j]+1):\n",
    "        ddx =  x[nop[j,k,1]] - x[nop[j,k,0]] \n",
    "        ddy =  y[nop[j,k,1]] - y[nop[j,k,0]] \n",
    "        ds[j,k,1] = np.sqrt(ddx*ddx + ddy*ddy)\n",
    "        sn[j,k,1] = ddx/ds[j,k,1]\n",
    "        cn[j,k,1] = -ddy/ds[j,k,1]      # Horizontal face.\n",
    "        ddx =  x[nop[j, k, 3]] - x[nop[j, k, 0]] \n",
    "        ddy =  y[nop[j, k, 3]] - y[nop[j, k, 0]]\n",
    "        ds[j,k,0] = np.sqrt(ddx*ddx + ddy*ddy)\n",
    "        sn[j,k,0] = -ddx/ds[j,k,0]\n",
    "        cn[j,k,0] =  ddy/ds[j,k,0]      # Horizontal face.\n",
    "        for i in range(inum[j, k]):\n",
    "            if ipos[j, k, i] == 3:\n",
    "                ddx = x[nop[j,k,2]] - x[nop[j,k,3]]\n",
    "                ddy = y[nop[j,k,2]] - y[nop[j,k,3]]\n",
    "                ds[j,k+1,1] = np.sqrt(ddx*ddx + ddy*ddy)\n",
    "                sn[j,k+1,1] = ddx/ds[j,k+1,1]   # Top (boundary) faces.\n",
    "                cn[j,k+1,1] = -ddy/ds[j,k+1,1]\n",
    "            elif ipos[j, k, i] == 2:\n",
    "                ddx = x[nop[j,k,2]-1] - x[nop[j,k,1]-1]\n",
    "                ddy = y[nop[j,k,2]-1] - y[nop[j,k,1]-1]\n",
    "                ds[j+1,k,0] = np.sqrt(ddx*ddx + ddy*ddy)\n",
    "                sn[j+1,k,0] = -ddx/ds[j+1,k,0]   # Right (boundary) faces.\n",
    "                cn[j,k+1,0] = ddy/ds[j+1,k,0]"
   ]
  },
  {
   "cell_type": "code",
   "execution_count": 247,
   "metadata": {
    "collapsed": false
   },
   "outputs": [
    {
     "data": {
      "text/plain": [
       "<matplotlib.colorbar.Colorbar at 0x121c663d0>"
      ]
     },
     "execution_count": 247,
     "metadata": {},
     "output_type": "execute_result"
    },
    {
     "data": {
      "image/png": "[encoded data removed]",
      "text/plain": [
       "<matplotlib.figure.Figure at 0x121005250>"
      ]
     },
     "metadata": {},
     "output_type": "display_data"
    }
   ],
   "source": [
    "plt.pcolor(area); \n",
    "plt.colorbar()"
   ]
  },
  {
   "cell_type": "code",
   "execution_count": 248,
   "metadata": {
    "collapsed": false
   },
   "outputs": [],
   "source": [
    "def findbc(i, j, k, ipos):\n",
    "    if ipos[j, k, i] == 1:\n",
    "        jj = j\n",
    "        kk = k-1\n",
    "        j2 = j\n",
    "        k2 = k+1\n",
    "    if ipos[j, k, i] == 2:\n",
    "        jj = j+1\n",
    "        kk = k\n",
    "        j2 = j-1\n",
    "        k2 = k\n",
    "    if ipos[j, k, i] == 3:\n",
    "        jj = j\n",
    "        kk = k+1\n",
    "        j2 = j\n",
    "        k2 = k-1\n",
    "    if ipos[j, k, i] == 4:\n",
    "        jj = j-1\n",
    "        kk = k\n",
    "        j2 = j+1\n",
    "        k2 = k        \n",
    "    return  jj, kk, j2, k2"
   ]
  },
  {
   "cell_type": "code",
   "execution_count": 200,
   "metadata": {
    "collapsed": false
   },
   "outputs": [],
   "source": [
    "# plt.imshow(zc);\n",
    "# plt.colorbar()"
   ]
  },
  {
   "cell_type": "code",
   "execution_count": 201,
   "metadata": {
    "collapsed": false
   },
   "outputs": [],
   "source": [
    "## Compute some things in ghost cells\n",
    "for j in range(1, ncol+1):\n",
    "    for k in range(kbeg[j-1] , kend[j-1]+1):\n",
    "        for i in range(inum[j, k]):\n",
    "            jj, kk, j2, k2 = findbc(i, j, k, ipos)\n",
    "            if (jj < 0) or (kk < 0):\n",
    "                print jj, kk\n",
    "            area[jj,kk] = area[j,k]\n",
    "            sx[jj,kk] = sx[j,k]\n",
    "            sy[jj,kk] = sy[j,k]\n",
    "            dxi[jj,kk,0] = dxi[j,k,0]\n",
    "            deta[jj,kk,0] = deta[j,k,0]\n",
    "            dxi[jj,kk,1] = dxi[j,k,1]\n",
    "            deta[jj,kk,1] = deta[j,k,1]\n",
    "            xc[jj,kk] = 2.*xc[j,k] - xc[j2,k2]\n",
    "            yc[jj,kk] = 2.*yc[j,k] - yc[j2,k2]\n",
    "            zc[jj,kk] = 2.*zc[j,k] - zc[j2,k2]"
   ]
  },
  {
   "cell_type": "markdown",
   "metadata": {},
   "source": [
    "## End of the grid subroutine!\n",
    " This subroutine only gets called once, from the input function "
   ]
  },
  {
   "cell_type": "code",
   "execution_count": 286,
   "metadata": {
    "collapsed": true
   },
   "outputs": [],
   "source": [
    "tclip = 0.  ## mystery variable"
   ]
  },
  {
   "cell_type": "code",
   "execution_count": 316,
   "metadata": {
    "collapsed": false
   },
   "outputs": [],
   "source": [
    "## Set the initial conditions\n",
    "h  = np.zeros([ncol+2, nrow+2])\n",
    "hp  = np.zeros([ncol+2, nrow+2])\n",
    "u  = np.zeros([ncol+2, nrow+2])\n",
    "v  = np.zeros([ncol+2, nrow+2])\n",
    "t0  = np.zeros([ncol+2, nrow+2])\n",
    "q  = np.zeros([ncol+2, nrow+2, 3])\n",
    "if istart != 1:\n",
    "    t = 0.\n",
    "    # dt = tmax/dfloat(nt)\n",
    "    for j in range(1, ncol+1):\n",
    "        for k in range(kbeg[j] , kend[j]+1):\n",
    "            n1 = nop[j,k,0]\n",
    "            n2 = nop[j,k,1]\n",
    "            n3 = nop[j,k,2]\n",
    "            n4 = nop[j,k,3]\n",
    "            if xc[j,k] < xsplit:\n",
    "                if isurf == 1:\n",
    "                    h[j,k] = h0l - zc[j,k]\n",
    "                else:\n",
    "                    h[j,k] = h0l\n",
    "                u[j,k] = u0l\n",
    "                v[j,k] = v0l\n",
    "            else:\n",
    "                if isurf == 1:  \n",
    "                    h[j,k] = h0r - zc[j,k]\n",
    "                else:\n",
    "                    h[j,k] = h0r\n",
    "\n",
    "                u[j,k] = u0r\n",
    "                v[j,k] = v0r\n",
    "\n",
    "            if xk > 0. and h[j,k] == 0.:\n",
    "                t0[j,k] = t \n",
    "for j in range(1, ncol+1):\n",
    "    for k in range(kbeg[j] , kend[j]+1):\n",
    "        if h[j,k] < 0.0:\n",
    "            h[j,k] = 0.\n",
    "        q[j,k,0] = h[j,k]\n",
    "        q[j,k,1] = h[j,k]*u[j,k]\n",
    "        q[j,k,2] = h[j,k]*v[j,k]\n",
    "        for i in range(inum[j, k]):\n",
    "            if (itype[j,k,i] ==  5) & (fix[j,k,0] != 0.):  # If solitary wave profile is subcritical and h > 0\n",
    "                    if isurf == 1:    # 1 = set free surface elevation\n",
    "                        hdum = fix[j,k,0] - zc[j,k]\n",
    "                    else:\n",
    "                        hdum = fix[j,k,0]\n",
    "                    if (hdum < 0.0):\n",
    "                        print 'ERROR: depth specification for solitary wave BC is invalid'\n",
    "            if (itype[j,k,i] == 4):   # Specified flow rate (subcritical).\n",
    "                #print  'fixed flux BC is requested in cell ',j,k\n",
    "                jj, kk, j2, k2 = findbc(i,j,k,ipos)\n",
    "                if ipos[j,k,i] == 2 or ipos[j,k,i] ==  4:  # If vertical faces\n",
    "                    qflux = fix[j,k,1]*cn[j,k,0] + fix[j,k,2]*sn[j,k,0]  #  \n",
    "                    dx =   deta[j,k,1]*area[j,k]\n",
    "                    dy = - deta[j,k,0]*area[j,k]\n",
    "                    dss = np.sqrt(dx*dx + dy*dy)\n",
    "                    if h[j,k] < epsh:\n",
    "                        print '  bed adjacent to the boundary is dry'\n",
    "                        if (qflux*dz[j,k,0] < 0.) & (xn > 0.):\n",
    "                            qflux = np.abs(qflux)\n",
    "                            hnorm=(qflux*xn/np.sqrt(np.abs(dz[j,k,0]/dss)))**(3./5.)\n",
    "                            print '\\t normal depth = ', hnorm,' is specified'\n",
    "                            h[jj,kk] = hnorm\n",
    "                            hp[jj,kk] = hnorm\n",
    "                        else:\n",
    "                            print '\\t adverse slope or zero Manning n in cell'\n",
    "                            print '\\t enter initial flow depth at specified'\n",
    "                            print '\\t flux boundary ', j,k,ipos[j,k,i]\n",
    "                            #print h[jj,kk]\n",
    "                            hp[jj,kk] = h[jj,kk]\n",
    "                    qflux = np.abs(qflux)\n",
    "                    tclip1 = (xk*dss/(qflux*(1.0-cappa)))**(1.0/(1.0-ainflt))\n",
    "                    if (tclip1 > tclip):\n",
    "                        tclip = tclip1\n",
    "                elif ipos[j,k,i] == 1 or ipos[j,k,i] ==  3:  # If horizontal areas\n",
    "                    qflux = fix[j,k,1]*cn[j,k,1] + fix[j,k,2]*sn[j,k,1]  #  \n",
    "                    dx = - dxi[j,k,1]*area[j,k]\n",
    "                    dy =  dxi[j,k,0]*area[j,k]\n",
    "                    dss = np.sqrt(dx*dx + dy*dy)\n",
    "                    if h[j,k] < epsh:\n",
    "                        #print  '  bed adjacent to the boundary is dry'\n",
    "                        if (qflux*dz[j,k,1] < 0.) and (xn > 0.0):\n",
    "                            qflux = np.abs(qflux)\n",
    "                            hnorm=(qflux*xn/np.sqrt(np.abs(dz[j,k,1]/dss)))**(3./5.)\n",
    "                            #print '\\t normal depth =', hnorm,' is specified'\n",
    "                            h[jj,kk] = hnorm\n",
    "                            hp[jj,kk] = hnorm\n",
    "                        else:\n",
    "                            #print '\\t adverse slope or zero Manning n in cell'\n",
    "                            #print '\\t enter initial flow depth at specified'\n",
    "                            #print '\\t flux boundary =', j,k,ipos[j,k,i]\n",
    "                            #print '\\t',  h[jj,kk]\n",
    "                            hp[jj,kk] = h[jj,kk]\n",
    "                        qflux = np.abs(qflux)\n",
    "                        tclip2 = (xk*dss/(qflux*(1.0-cappa)))**(1.0/(1.0-ainflt))\n",
    "                        if (tclip2 > tclip):\n",
    "                            tclip = tclip2"
   ]
  },
  {
   "cell_type": "code",
   "execution_count": null,
   "metadata": {
    "collapsed": true
   },
   "outputs": [],
   "source": []
  }
 ],
 "metadata": {
  "kernelspec": {
   "display_name": "Python 2",
   "language": "python",
   "name": "python2"
  },
  "language_info": {
   "codemirror_mode": {
    "name": "ipython",
    "version": 2
   },
   "file_extension": ".py",
   "mimetype": "text/x-python",
   "name": "python",
   "nbconvert_exporter": "python",
   "pygments_lexer": "ipython2",
   "version": "2.7.12"
  }
 },
 "nbformat": 4,
 "nbformat_minor": 0
}
