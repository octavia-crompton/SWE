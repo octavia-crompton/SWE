{
 "cells": [
  {
   "cell_type": "code",
   "execution_count": 70,
   "metadata": {
    "collapsed": true,
    "scrolled": true
   },
   "outputs": [],
   "source": [
    "%matplotlib inline"
   ]
  },
  {
   "cell_type": "code",
   "execution_count": 72,
   "metadata": {
    "collapsed": true,
    "scrolled": true
   },
   "outputs": [],
   "source": [
    "import matplotlib.pylab as plt\n",
    "import numpy as np"
   ]
  },
  {
   "cell_type": "markdown",
   "metadata": {},
   "source": [
    "cells near the inlfow boundary are not uniform or square\n",
    "inflow broundary is 7n wide \n"
   ]
  },
  {
   "cell_type": "markdown",
   "metadata": {},
   "source": [
    "### Call input\n"
   ]
  },
  {
   "cell_type": "code",
   "execution_count": null,
   "metadata": {
    "collapsed": false
   },
   "outputs": [],
   "source": []
  },
  {
   "cell_type": "code",
   "execution_count": 73,
   "metadata": {
    "code_folding": [
     1,
     2,
     55,
     256
    ],
    "collapsed": false,
    "scrolled": true
   },
   "outputs": [],
   "source": [
    "verbose = False\n",
    "def input():\n",
    "    if True:\n",
    "        global grav, dt, tmax, xsplit, xn, epsh, beta, xk\n",
    "        global ainflt, binflt,tc, cappa, istart, imass, ifront, nprt, nbcell\n",
    "        global ncol, nrow, nmon, xmon, ymon\n",
    "        global inum, ipos, itype, ilim\n",
    "        global kbeg, kend, h0l, u0l, v0l, h0r, u0r, v0r\n",
    "        global fix, isurf, t\n",
    "        global h, hp, u, up, v, vp, t0, q, tclip\n",
    "        global dh, du, dv\n",
    "        global f, qsource\n",
    "        global zslope, itest\n",
    "        if verbose: print  \"starting input\"\n",
    "        grav  = 9.806   \n",
    "        dt =  0.15  \n",
    "        tmax =  2000.\n",
    "        xsplit = 100.  #  dividing line for dam break problem\n",
    "        xn = 0.05      # Manning n  \n",
    "        epsh = 0.0025  #  depth tolerence for dry bed problems.\n",
    "        beta =  2.0    # \n",
    "        xk  =  3.9217e-4  #  m/s^a where a 0.5\n",
    "        ainflt =      0.5  \n",
    "        binflt =     2.65e-7\n",
    "        tc = 6840.\n",
    "        cappa = 0.99\n",
    "        istart = 0   #  If imass or ifront = 1 we'lll open a file called 'diag.out'\n",
    "        imass  = 0  \n",
    "        ifront  = 0 \n",
    "        nprt = 10     # print frequency\n",
    "        nbcell = 386  # number of boundary cells\n",
    "    \n",
    "    i = 0;  dryin = []\n",
    "    for line in open(\"dryin.dat\", 'r'):\n",
    "        i += 1\n",
    "        dryin.append(line)\n",
    "        \n",
    "    ## get the number of columns and rows.\n",
    "    nrow = []\n",
    "    ncol = []\n",
    "    for line in range(11, 11+386):\n",
    "        #print dryin[line]\n",
    "        a = dryin[line].strip().split(\" \")\n",
    "        a = [int(x) for x in a if x]\n",
    "        ncol.append(a[0])\n",
    "        nrow.append(a[1])\n",
    "    nrow = len(np.unique(nrow))\n",
    "    ncol = len(np.unique(ncol))\n",
    "    \n",
    "    ## Lines 790-793\n",
    "    # inum = number of boundary faces in a boundary cell.  inum =2 for corner cells\n",
    "    inum = np.zeros([ncol+1,nrow+1], dtype = int)\n",
    "    itype = np.zeros([ncol+1, nrow+1, 2])    \n",
    "    ipos = np.zeros([ncol+1, nrow+1, 2]) \n",
    "\n",
    "    for line in range(11, 11+386):\n",
    "        #print dryin[line]\n",
    "        a = dryin[line].strip().split(\" \")\n",
    "        a = [int(x) for x in a if x]\n",
    "        j = a[0] \n",
    "        k = a[1] \n",
    "        inum[j, k] = a[2]\n",
    "        itype[j,k,0]= a[3]\n",
    "        if a[2] == 1:\n",
    "            ipos[j, k,0] = a[4]\n",
    "        elif a[2] > 1:\n",
    "            itype[j,k,1]= a[4]\n",
    "            ipos[j,k,0]= a[5]\n",
    "            ipos[j,k,1] = a[6]  \n",
    "    ## lines 797-799\n",
    "    kbeg = [0]\n",
    "    kend = [0]\n",
    "    for line in range(400, 399+ncol):\n",
    "        #print dryin[line]\n",
    "        a = dryin[line].strip().split(\" \")\n",
    "        a = [int(x) for x in a if x]\n",
    "        kbeg.append(a[1])\n",
    "        kend.append(a[2])\n",
    "\n",
    "    kbeg.append(kbeg[-1])\n",
    "    kend.append(kend[-1])  \n",
    "\n",
    "    h0l = 0.; u0l = 0.; v0l = 0.\n",
    "    h0r = 0.; u0r = 0.; v0r = 0.\n",
    "    \n",
    "    ndir = 3  # number of fixed bc cells    \n",
    "    fix = np.zeros([ncol+1, nrow+1, 3])\n",
    "    if verbose: print 'j,     k,    h,    u,    v' \n",
    "    for i, line in enumerate(range(501, 501+ ndir)):\n",
    "        a = dryin[line].strip().split(\" \")\n",
    "        a = [float(x.strip().replace(\"d\", \"\")) for x in a if x]\n",
    "        j = int(a[0])\n",
    "        k = int(a[1])\n",
    "    \n",
    "        fix[j, k, 0] = a[2]\n",
    "        fix[j, k, 1] = a[3]    \n",
    "        fix[j, k, 2] = a[4]    \n",
    "        if verbose: print a[:5]\n",
    "    nmon = 3  # number of monitoring points\n",
    "    #period = 1.\n",
    "    xmon = np.zeros(nmon)\n",
    "    ymon = np.zeros(nmon)\n",
    "    for i, line in enumerate(range(507, 507+ nmon)):\n",
    "        a = dryin[line].strip().split(\" \")\n",
    "        a = [float(x.strip().replace(\"d\", \"\")) for x in a if x]\n",
    "        i = int(a[0]- 1)\n",
    "        xmon[i] = a[1]\n",
    "        ymon[i] = a[2]\n",
    "        \n",
    "    ## user input\n",
    "    #isurf = 1 # 'enter a 1 to set free surface elevation'\n",
    "    isurf = 2 # 'enter a 2 to set flow depth'\n",
    "    if verbose: print 'user chooses a scheme:'\n",
    "    if verbose: print '  0 = Upwind, 1 = Lax-Wendroff,   2 = Beam-Warming,'\n",
    "    if verbose: print '  3 = Fromm,  4 = Double Minmod,  5 = Beta Family' \n",
    "    ilim = 5\n",
    "    sw = 0.\n",
    "    if ilim ==0: sw = 1.0\n",
    "    if istart == 1:  # incomplete code here\n",
    "         t = float(raw_input(\"enter restart time: \"))\n",
    "    grid()\n",
    "    if verbose: print 'Setting the initial conditions'        \n",
    "    \n",
    "    h = np.zeros([ncol+2, nrow+2]) \n",
    "    hp = np.zeros([ncol+2, nrow+2])\n",
    "    u = np.zeros([ncol+2, nrow+2])\n",
    "    up = np.zeros([ncol+2, nrow+2])\n",
    "    v = np.zeros([ncol+2, nrow+2])\n",
    "    vp = np.zeros([ncol+2, nrow+2])\n",
    "    t0 = np.zeros([ncol+2, nrow+2])\n",
    "    q  = np.zeros([ncol+2, nrow+2, 3])\n",
    "    tclip = 0.  ## tclip used to determine dt - timestep interval\n",
    "    \n",
    "    dh = np.zeros([ncol+2, nrow+2,2])  # modified by conds, predict, and fluxes functions\n",
    "    du = np.zeros([ncol+2, nrow+2,2])  # same  \n",
    "    dv = np.zeros([ncol+2, nrow+2,2])  # same  \n",
    "    f = np.zeros([ncol+2, nrow+2,3,2])\n",
    "    qsource = np.zeros([ncol+2, nrow+2,3,2])\n",
    "    if istart != 1: \n",
    "        t = 0.   #  set the initial time variable\n",
    "        # dt = tmax/dfloat(nt)\n",
    "        if verbose: print '\\tcomputing initial h, u, v at cell centers'\n",
    "        for j in range(1,ncol+1):\n",
    "            for k in range(kbeg[j], kend[j]+1):\n",
    "                if xc[j,k] < xsplit:\n",
    "                    if isurf == 1:   # if isurf = 1,  subtract z from h0l and h0r to get h\n",
    "                        h[j,k] = h0l - zc[j,k]\n",
    "                    else:     #\n",
    "                        h[j,k] = h0l\n",
    "                    u[j,k] = u0l\n",
    "                    v[j,k] = v0l\n",
    "                else:\n",
    "                    if isurf == 1:  \n",
    "                        h[j,k] = h0r - zc[j,k]\n",
    "                    else:\n",
    "                        h[j,k] = h0r\n",
    "\n",
    "                    u[j,k] = u0r\n",
    "                    v[j,k] = v0r\n",
    "\n",
    "                if xk > 0. and h[j,k] == 0.:  ## set t0 to t in all the cells where h[j,k] = 0\n",
    "                    if verbose: print 'h = 0 at', j, k\n",
    "                    t0[j,k] = t     \n",
    "                    \n",
    "    for j in range(1, ncol+1):\n",
    "        for k in range(kbeg[j] , kend[j]+1):\n",
    "            if h[j,k] < 0.0:   # correct depth < 0\n",
    "                h[j,k] = 0.\n",
    "            q[j,k,0] = h[j,k]\n",
    "            q[j,k,1] = h[j,k]*u[j,k]\n",
    "            q[j,k,2] = h[j,k]*v[j,k]\n",
    "\n",
    "            for i in range(inum[j, k]):\n",
    "                # If solitary wave profile is subcritical and h > 0\n",
    "                if (itype[j,k,i] ==  5) & (fix[j,k,0] != 0.): \n",
    "                        if isurf == 1:    # 1 = set free surface elevation\n",
    "                            hdum = fix[j,k,0] - zc[j,k]\n",
    "                        else:\n",
    "                            hdum = fix[j,k,0]\n",
    "                        if (hdum <= 0.0):\n",
    "                            print 'ERROR: depth specification for solitary wave \\n BC is invalid'\n",
    "                #  For fixed flux BCs, must initialize depth.\n",
    "                if (itype[j,k,i] == 4):   # Specified flow rate (subcritical).\n",
    "                    print  'fixed flux BC is requested in cell ',j,k\n",
    "                    jj, kk, j2, k2 = findbc(i,j,k)\n",
    "                    if ipos[j,k,i] == 2 or ipos[j,k,i] ==  4:  # If vertical faces\n",
    "                        qflux = fix[j,k,1]*cn[j,k,0] + fix[j,k,2]*sn[j,k,0]  #  \n",
    "                        dx =   deta[j,k,1]*area[j,k]\n",
    "                        dy = - deta[j,k,0]*area[j,k]\n",
    "                        dss = np.sqrt(dx*dx + dy*dy)\n",
    "                        if h[j,k] < epsh:\n",
    "                            print '  bed adjacent to the boundary is dry'\n",
    "                             # if qflux_x *dz/dx < 0 and manning N > 0\n",
    "                            if (qflux*dz[j,k,0] < 0.) & (xn > 0.): \n",
    "                                qflux = np.abs(qflux)               # qflux = abs(qflux)\n",
    "                                hnorm=(qflux*xn/np.sqrt(np.abs(dz[j,k,0]/dss)))**(3./5.)\n",
    "                                print '\\t normal depth = ', hnorm,' is specified'\n",
    "                                h[jj,kk] = hnorm\n",
    "                                hp[jj,kk] = hnorm\n",
    "                            else:\n",
    "                                print '\\t adverse slope or zero Manning n in cell'\n",
    "                                print '\\t enter initial flow depth at specified'\n",
    "                                print '\\t flux boundary ', j,k,ipos[j,k,i]\n",
    "                                h[jj,kk] = float(raw_input(\"\"))\n",
    "                                hp[jj,kk] = h[jj,kk]\n",
    "                        qflux = np.abs(qflux)\n",
    "                        tclip1 = (xk*dss/(qflux*(1.0-cappa)))**(1.0/(1.0-ainflt))\n",
    "                        if (tclip1 > tclip):\n",
    "                            tclip = tclip1\n",
    "\n",
    "                    elif ipos[j,k,i] == 1 or ipos[j,k,i] ==  3:  # If horizontal areas\n",
    "                        qflux = fix[j,k,1]*cn[j,k,1] + fix[j,k,2]*sn[j,k,1]  #  \n",
    "                        dx = - dxi[j,k,1]*area[j,k]\n",
    "                        dy =  dxi[j,k,0]*area[j,k]\n",
    "                        dss = np.sqrt(dx*dx + dy*dy)\n",
    "                        if h[j,k] < epsh:\n",
    "                            print  'bed adjacent to the boundary is dry'\n",
    "                            if (qflux*dz[j,k,1] < 0.) and (xn > 0.0):\n",
    "                                qflux = np.abs(qflux)\n",
    "                                hnorm=(qflux*xn/np.sqrt(np.abs(dz[j,k,0]/dss)))**(3./5.)\n",
    "                                print '\\t normal depth =', hnorm,' is specified'\n",
    "                                h[jj,kk] = hnorm\n",
    "                                hp[jj,kk] = hnorm\n",
    "                            else:\n",
    "                                print '\\t adverse slope or zero Manning n in cell'\n",
    "                                print '\\t enter initial flow depth at specified'\n",
    "                                print '\\t flux boundary =', j,k,ipos[j,k,i]\n",
    "                                h[jj,kk] = 1# float(raw_input(\"\"))\n",
    "                                hp[jj,kk] = h[jj,kk]  # set hp outside boundary equal to h inside\n",
    "                            qflux = np.abs(qflux)\n",
    "                            tclip2 = (xk*dss/(qflux*(1.0-cappa)))**(1.0/(1.0-ainflt))\n",
    "                            if (tclip2 > tclip):\n",
    "                                tclip = tclip2\n",
    "                #  For specified free surface BCs.\n",
    "                if (itype[j,k,i] == 3) and (isurf == 1):\n",
    "                        check = fix[j,k,0] - zc[j,k] - amp\n",
    "                        if (check < 0.0): \n",
    "                            print  'WARNING: specified tidal amplitude will'\n",
    "                            print  'result in negative specified depth'\n",
    "                            print  'specified depth will be set to zero'\n",
    "    if xk > 0.0:\n",
    "        if(tclip > 0.0):\n",
    "            zslope = xk*tclip**(ainflt - 1.0)\n",
    "            print ' '\n",
    "            #print '*************************************************'\n",
    "            print 'Kostiakov infiltration formula modified'\n",
    "            print 'fot time less than ', tclip\n",
    "            print 'infiltration slope is ', zslope\n",
    "            #print '*************************************************'\n",
    "        else:\n",
    "            tclip = 0.0\n",
    "    itest = 0\n",
    "    if verbose: print  ' '\n",
    "    if verbose:  print 'initial conditions are set'    \n",
    "    interp(h, u, v)\n",
    "    \n",
    "    for j in range(0,ncol+1):\n",
    "        for k in range(0,nrow+1):\n",
    "            if xc[j, k] == 0:\n",
    "                xc[j, k] = np.mean([xc[j-1,k], xc[j+1,k]])\n",
    "            if yc[j, k] == 0:\n",
    "                yc[j, k] = np.mean([yc[j-1,k], yc[j+1,k]])\n",
    "                \n",
    "    file = open(\"diag_py.out\", \"w\")\n",
    "    file.write('t\\t vol \\t xf  \\n')\n",
    "    file.close\n",
    "    file = open(\"restart_py.out\", \"w\")\n",
    "    file.close\n",
    "    file = open(\"dryout_py.dat\", \"w\")\n",
    "    file.close\n",
    "    file = open(\"movie_py.dat\", \"w\")\n",
    "    file.close"
   ]
  },
  {
   "cell_type": "code",
   "execution_count": 74,
   "metadata": {
    "code_folding": [
     0,
     27
    ],
    "collapsed": true
   },
   "outputs": [],
   "source": [
    "def grid():\n",
    "    \"\"\"\n",
    "    Called from the input function only\n",
    "    Read grid data from file 'coords'.\n",
    "    \"\"\"\n",
    "    global npt, ne, x, y, z, nop\n",
    "    global xc, yc, zc  #  coordinates of cell centers\n",
    "    global dxi, deta, dz, area, sx, sy\n",
    "    global ds, sn, cn  #\n",
    "    if verbose: print \"\\nstarting grid setup\"\n",
    "    i = 0\n",
    "    coords = []\n",
    "    for line in open(\"coords\", 'r'):\n",
    "        i += 1\n",
    "        item = line.rstrip() # strip off newline and any other trailing whitespace\n",
    "        coords.append(line)\n",
    "    npt, ne = [int(j) for j in coords[0].split()]\n",
    "    x = np.arange(float(npt+1))\n",
    "    y = np.arange(float(npt+1))\n",
    "    z = np.arange(float(npt+1))\n",
    "\n",
    "    for i in range(1, npt+1):\n",
    "        x[i], y[i], z[i] = [float(l) for l in coords[i].split()]\n",
    "    if verbose: print '\\t x, y, z are 1 indexed (the x[0] contains a dummy 0)'\n",
    "    \n",
    "    nop = np.zeros([ncol+1,nrow+1, 4], dtype = int)\n",
    "    count = 0\n",
    "    for j in range(1, ncol+1):\n",
    "        for k in range(kbeg[j], kend[j]+1):\n",
    "            nop[j, k, :]  = [int(l) for l in coords[count+1+npt].split()]\n",
    "            count += 1\n",
    "    if verbose: print '\\t nop dimensions : ', nop.shape\n",
    "    if verbose: print '\\t ncol, nrow :', ncol, nrow\n",
    "    if verbose: print '\\t each row of nop contains the node numbers of each cell face, counterclockwise'    \n",
    "\n",
    "    xc  = np.zeros([ncol+2, nrow+2])  #  \n",
    "    yc  = np.zeros([ncol+2, nrow+2])\n",
    "    zc  = np.zeros([ncol+2, nrow+2])\n",
    "    \n",
    "    dxi  = np.zeros([ncol+2, nrow+2, 2])\n",
    "    deta  = np.zeros([ncol+2, nrow+2, 2])\n",
    "    dz  = np.zeros([ncol+2, nrow+2, 2])\n",
    "\n",
    "    area = np.zeros([ncol+2, nrow+2])\n",
    "    sx = np.zeros([ncol+2, nrow+2])  # dz/dx\n",
    "    sy = np.zeros([ncol+2, nrow+2])  # dz/sy\n",
    "    \n",
    "    \n",
    "    ## Compute grid metrics\n",
    "    for j in range(1, ncol+1):\n",
    "        for k in range(kbeg[j], kend[j]+1):\n",
    "            n1 = nop[j, k, 0] \n",
    "            n2 = nop[j, k, 1]       \n",
    "            n3 = nop[j, k, 2]        \n",
    "            n4 = nop[j, k, 3]  \n",
    "            xc[j,k] = 0.25*(x[n1] + x[n2] + x[n3] + x[n4])  \n",
    "            yc[j,k] = 0.25*(y[n1] + y[n2] + y[n3] + y[n4])\n",
    "            zc[j,k] = 0.25*(z[n1] + z[n2] + z[n3] + z[n4])\n",
    "            dxdxi = 0.5*(-x[n1] + x[n2] + x[n3] - x[n4])   # 1\n",
    "            dxdeta = 0.5*(-x[n1] - x[n2] + x[n3] + x[n4])  # 0    \n",
    "            dydxi = 0.5*(-y[n1] + y[n2] + y[n3] - y[n4])   # 0\n",
    "            dydeta = 0.5*(-y[n1] - y[n2] + y[n3] + y[n4])  #       \n",
    "            area[j,k] = dxdxi*dydeta - dxdeta*dydxi\n",
    "            if area[j,k] < 0:\n",
    "                print \"error\"    \n",
    "            dxi[j,k,0] =  dydeta/area[j,k]\n",
    "            deta[j,k,0] = -dydxi/area[j,k]\n",
    "            dxi[j,k,1] =  -dxdeta/area[j,k]\n",
    "            deta[j,k,1] = dxdxi/area[j,k] \n",
    "            sx[j,k] = ((z[n2]-z[n4])*(y[n3]-y[n1])-(z[n3]-z[n1])*(y[n2]-y[n4]))/(2.*area[j,k])\n",
    "            sy[j,k] = ((z[n3]-z[n1])*(x[n2]-x[n4])-(z[n2]-z[n4])*(x[n3]-x[n1]))/(2.*area[j,k])  \n",
    "            dz[j,k,0] = sx[j,k]*dxdxi  + sy[j,k]*dydxi\n",
    "            dz[j,k,1] = sx[j,k]*dxdeta + sy[j,k]*dydeta \n",
    "    ## Compute cell face angles\n",
    "    ds  = np.zeros([ncol+2, nrow+2, 2])\n",
    "    sn  = np.zeros([ncol+2, nrow+2, 2])\n",
    "    cn  = np.zeros([ncol+2, nrow+2, 2])\n",
    "    for j in range(1, ncol+1):\n",
    "        for k in range(kbeg[j] , kend[j]+1):\n",
    "            n1 = nop[j, k, 0] \n",
    "            n2 = nop[j, k, 1]       \n",
    "            n3 = nop[j, k, 2]        \n",
    "            n4 = nop[j, k, 3] \n",
    "            # Horizontal face.\n",
    "            ddx =  x[nop[j,k,1]] - x[nop[j,k,0]]   # x[n2] - x[n1]  = 1\n",
    "            ddy =  y[nop[j,k,1]] - y[nop[j,k,0]]   # y[n2] - y[n1]  = 0\n",
    "            ds[j,k,1] = np.sqrt(ddx*ddx + ddy*ddy)  # = 1 = area\n",
    "            sn[j,k,1] = ddx/ds[j,k,1]  # 1  \n",
    "            cn[j,k,1] = -ddy/ds[j,k,1] # 0    \n",
    "            ## Vertical face\n",
    "            ddx =  x[nop[j,k,3]]-x[nop[j,k,0]]    # x[n4] - x[n1] = 0\n",
    "            ddy =  y[nop[j,k,3]] - y[nop[j,k,0]]  # y[n4] - y[n1]  = 1\n",
    "            ds[j,k,0] = np.sqrt(ddx*ddx + ddy*ddy)  # = 1\n",
    "            sn[j,k,0] = -ddx/ds[j,k,0]  # 0\n",
    "            cn[j,k,0] =  ddy/ds[j,k,0]  # 1    \n",
    "            for i in range(inum[j, k]):\n",
    "                if ipos[j, k, i] == 3:  # Top (boundary) faces.\n",
    "                    ddx = x[nop[j,k,2]] - x[nop[j,k,3]]\n",
    "                    ddy = y[nop[j,k,2]] - y[nop[j,k,3]]\n",
    "                    ds[j,k+1,1] = np.sqrt(ddx*ddx + ddy*ddy)\n",
    "                    sn[j,k+1,1] = ddx/ds[j,k+1,1]   \n",
    "                    cn[j,k+1,1] = -ddy/ds[j,k+1,1]\n",
    "                elif ipos[j, k, i] == 2:   # Right (boundary) faces.\n",
    "                    ddx = x[nop[j,k,2]] - x[nop[j,k,1]]\n",
    "                    ddy = y[nop[j,k,2]] - y[nop[j,k,1]]\n",
    "                    ds[j+1,k,0] = np.sqrt(ddx*ddx + ddy*ddy)\n",
    "                    sn[j+1,k,0] = -ddx/ds[j+1,k,0]  \n",
    "                    cn[j+1,k,0] = ddy/ds[j+1,k,0]\n",
    "                    \n",
    "    ## Compute some things in ghost cells\n",
    "    for j in range(1, ncol+1):\n",
    "        for k in range(kbeg[j], kend[j]+1):\n",
    "            for i in range(inum[j, k]):  # loop over cell faces\n",
    "                ##  jj, kk is the cell immediately across the boundary face i\n",
    "                ##  j2, k2 is the cell on the opposing size of j,k from jj,kk\n",
    "                jj, kk, j2, k2 = findbc(i, j, k,)  \n",
    "                if (jj < 0) or (kk < 0):\n",
    "                    print jj, kk\n",
    "                area[jj,kk] = area[j,k]\n",
    "                sx[jj,kk] = sx[j,k]\n",
    "                sy[jj,kk] = sy[j,k]\n",
    "                dxi[jj,kk,0] = dxi[j,k,0]\n",
    "                deta[jj,kk,0] = deta[j,k,0]\n",
    "                dxi[jj,kk,1] = dxi[j,k,1]\n",
    "                deta[jj,kk,1] = deta[j,k,1]\n",
    "                xc[jj,kk] = 2.*xc[j,k] - xc[j2,k2]\n",
    "                yc[jj,kk] = 2.*yc[j,k] - yc[j2,k2]\n",
    "                zc[jj,kk] = 2.*zc[j,k] - zc[j2,k2]  \n",
    "    if verbose: print \"grid setup complete \\n\"                \n"
   ]
  },
  {
   "cell_type": "code",
   "execution_count": 75,
   "metadata": {
    "code_folding": [
     0,
     8,
     13,
     18,
     23
    ],
    "collapsed": true
   },
   "outputs": [],
   "source": [
    "def findbc(i, j, k):\n",
    "    \"\"\" findbc gets called from the grid function:\n",
    "        :param i:  dummy index for the face number in ipos\n",
    "        :param j:  dummy index for column number (eventually row)\n",
    "        :param k:  dummy index for row number (eventually column)\n",
    "        :return:   (jj,kk): the indices of the ghost cell \n",
    "                   (j2, k2):  indices of the cell opposite the ghost cell\n",
    "        \"\"\"\n",
    "    if ipos[j, k, i] == 1:\n",
    "        jj = j\n",
    "        kk = k-1\n",
    "        j2 = j \n",
    "        k2 = k+1\n",
    "    if ipos[j, k, i] == 2:\n",
    "        jj = j+1\n",
    "        kk = k\n",
    "        j2 = j-1\n",
    "        k2 = k\n",
    "    if ipos[j, k, i] == 3:\n",
    "        jj = j\n",
    "        kk = k+1\n",
    "        j2 = j\n",
    "        k2 = k-1\n",
    "    if ipos[j, k, i] == 4:\n",
    "        jj = j-1\n",
    "        kk = k\n",
    "        j2 = j+1\n",
    "        k2 = k        \n",
    "    return  jj, kk, j2, k2\n"
   ]
  },
  {
   "cell_type": "code",
   "execution_count": 76,
   "metadata": {
    "code_folding": [
     0
    ],
    "collapsed": true
   },
   "outputs": [],
   "source": [
    "def interp(h, u,v):\n",
    "    for j in range(1,ncol+1):\n",
    "        for k in range(kbeg[j], kend[j]+1):\n",
    "            # Extrapolate to corner cells\n",
    "            ibc1 = 0\n",
    "            ibc2 = 0\n",
    "            ibc3 = 0\n",
    "            ibc4 = 0\n",
    "            for i in range(inum[j,k]):\n",
    "                if (ipos[j,k,i] == 1): ibc1 = 1 \n",
    "                if (ipos[j,k,i] == 2): ibc2 = 1\n",
    "                if (ipos[j,k,i] == 3): ibc3 = 1\n",
    "                if (ipos[j,k,i] == 4): ibc4 = 1\n",
    "            if (ibc1 == 1 and ibc4 == 1):\n",
    "                xc[j-1,k-1] = 2.*xc[j,k] - xc[j+1,k+1]\n",
    "                yc[j-1,k-1] = 2.*yc[j,k] - yc[j+1,k+1]\n",
    "                h[j-1,k-1] = 2.*h[j,k] - h[j+1,k+1]\n",
    "                u[j-1,k-1] = 2.*u[j,k] - u[j+1,k+1]\n",
    "                v[j-1,k-1] = 2.*v[j,k] - v[j+1,k+1] \n",
    "            elif (ibc1 == 1 and ibc2 == 1):\n",
    "                xc[j+1,k-1] = 2.*xc[j,k] - xc[j-1,k+1]\n",
    "                yc[j+1,k-1] = 2.*yc[j,k] - yc[j-1,k+1]\n",
    "                h[j+1,k-1] = 2.*h[j,k] - h[j-1,k+1]\n",
    "                u[j+1,k-1] = 2.*u[j,k] - u[j-1,k+1]\n",
    "                v[j+1,k-1] = 2.*v[j,k] - v[j-1,k+1]    \n",
    "            elif (ibc2 == 1 and ibc3 == 1):\n",
    "                xc[j+1,k+1] = 2.*xc[j,k] - xc[j-1,k-1]\n",
    "                yc[j+1,k+1] = 2.*yc[j,k] - yc[j-1,k-1]\n",
    "                h[j+1,k+1] = 2.*h[j,k] - h[j-1,k-1]\n",
    "                u[j+1,k+1] = 2.*u[j,k] - u[j-1,k-1]\n",
    "                v[j+1,k+1] = 2.*v[j,k] - v[j-1,k-1]\n",
    "            elif (ibc3 == 1 and ibc4 == 1):\n",
    "                xc[j-1,k+1] = 2.*xc[j,k]- xc[j+1,k-1]\n",
    "                yc[j-1,k+1] = 2.*yc[j,k] - yc[j+1,k-1]\n",
    "                h[j-1,k+1] = 2.*h[j,k] - h[j+1,k-1]\n",
    "                u[j-1,k+1] = 2.*u[j,k] - u[j+1,k-1]\n",
    "                v[j-1,k+1] = 2.*v[j,k] - v[j+1,k-1]\n",
    "            h, u, v = bconds(j,k,inum, h,u,v, dh, du, dv)\n",
    "        "
   ]
  },
  {
   "cell_type": "code",
   "execution_count": 77,
   "metadata": {
    "code_folding": [
     0
    ],
    "collapsed": true
   },
   "outputs": [],
   "source": [
    "def bconds(j, k, inum,  hdum, udum, vdum, dh, du, dv):\n",
    "    for i in range(inum[j, k]):\n",
    "        if(ipos[j,k,i] == 1):   # front face\n",
    "            jj = j\n",
    "            kk = k-1\n",
    "            jl = j\n",
    "            kl = k \n",
    "            j2 = j\n",
    "            k2 = k+1\n",
    "            io = 1 \n",
    "        elif(ipos[j,k,i] == 2): # right face\n",
    "            jj = j+1\n",
    "            kk = k \n",
    "            jl = j+1 \n",
    "            kl = k  \n",
    "            j2 = j-1\n",
    "            k2 = k\n",
    "            io = 0\n",
    "        elif(ipos[j,k,i] == 3):  # back face\n",
    "            jj = j\n",
    "            kk = k+1\n",
    "            jl = j\n",
    "            kl = k+1\n",
    "            j2 = j\n",
    "            k2 = k-1\n",
    "            io = 1 \n",
    "        elif(ipos[j,k,i] == 4):  # left face\n",
    "            jj = j-1\n",
    "            kk = k \n",
    "            jl = j\n",
    "            kl = k \n",
    "            j2 = j+1\n",
    "            k2 = k  \n",
    "            io = 0  \n",
    "        t0[jj,kk] = t0[j,k]\n",
    "        if(itype[j,k,i] == 0):  ##  This is an open boundary\n",
    "            dh[jj,kk,io] = dh[j,k,io]\n",
    "            du[jj,kk,io] = du[j,k,io]\n",
    "            dv[jj,kk,io] = dv[j,k,io]                               \n",
    "            hdum[jj,kk] = 2.0*hdum[j,k] - hdum[j2,k2]\n",
    "            udum[jj,kk] = 2.0*udum[j,k] - udum[j2,k2]\n",
    "            vdum[jj,kk] = 2.0*vdum[j,k] - vdum[j2,k2]\n",
    "    \n",
    "        elif(itype[j,k,i] == 1): ## Wall boundary\n",
    "            dh[jj,kk,io] = dh[j,k,io] \n",
    "            du[jj,kk,io] = du[j,k,io]\n",
    "            dv[jj,kk,io] = dv[j,k,io]                          \n",
    "            hdum[jj,kk] = 2.0*hdum[j,k] - hdum[j2,k2]\n",
    "            udum[jj,kk] = udum[j,k]*(sn[jl,kl,io]*sn[jl,kl,io] - \\\n",
    "                                     cn[jl,kl,io]*cn[jl,kl,io]) - \\\n",
    "                                    2.0*vdum[j,k]*sn[jl,kl,io]*cn[jl,kl,io]\n",
    "            vdum[jj,kk] = vdum[j,k]*(cn[jl,kl,io]*cn[jl,kl,io] - \\\n",
    "                            sn[jl,kl,io]*sn[jl,kl,io]) - \\\n",
    "                            2.0*udum[j,k]*sn[jl,kl,io]*cn[jl,kl,io]\n",
    "                \n",
    "        elif itype[j,k,i] == 2:  # Specified depth and velocity (supercritical)\n",
    "            dh[jj,kk,io] = 0.0\n",
    "            du[jj,kk,io] = 0.0\n",
    "            dv[jj,kk,io] = 0.0                 \n",
    "            hdum[jj,kk] = fix[j,k,0]\n",
    "            udum[jj,kk] = fix[j,k,1]\n",
    "            vdum[jj,kk] = fix[j,k,2]\n",
    "            if isurf == 1:\n",
    "                hdum[jj,kk] = hdum[jj,kk] - zc[j,k]\n",
    "                \n",
    "        elif itype[j,k,i] == 3: #Tidal (subcritical)\n",
    "            dh[jj,kk,io] = 0.0\n",
    "            du[jj,kk,io] = 0.0\n",
    "            dv[jj,kk,io] = 0.0                               \n",
    "            hdum[jj,kk] = fix[j,k,0] + amp*dcos(-6.283185*t/period)\n",
    "            udum[jj,kk] = udum[j,k]\n",
    "            vdum[jj,kk] = vdum[j,k] \n",
    "            if(isurf == 1):\n",
    "                hdum[jj,kk] = hdum[jj,kk] - zc[j,k]\n",
    "\n",
    "        elif itype[j,k,i] == 4:  # Specified flow rate (subcritical)\n",
    "            du[jj,kk,io] =  0.0\n",
    "            dv[jj,kk,io] =  0.0 \n",
    "            if hdum[j,k] > epsh:\n",
    "                hdum[jj,kk] = hdum[j,k]\n",
    "                dh[jj,kk,io] =  0.0\n",
    "            elif hdum[j,k]*hdum[j2,k2] > epsh:\n",
    "                hdum[jj,kk] = 2.0*hdum[j,k] - hdum[j2,k2]\n",
    "                dh[jj,kk,io] = dh[j,k,io]\n",
    "\n",
    "            if hdum[jj,kk] > epsh:\n",
    "                udum[jj,kk] = fix[j,k,1]/hdum[jj,kk]\n",
    "                vdum[jj,kk] = fix[j,k,2]/hdum[jj,kk]\n",
    "            else:\n",
    "                udum[jj,kk] = 0.0\n",
    "                vdum[jj,kk] = 0.0   \n",
    "                \n",
    "        elif itype(j,k,i) == 5: # Solitary wave profile (subcritical).\n",
    "            dh[jj,kk,io] = 0.0\n",
    "            du[jj,kk,io] = 0.0\n",
    "            dv[jj,kk,io] = 0.0 \n",
    "            dum = period - t\n",
    "            if(dum < -36.0): \n",
    "                dum = -36.0\n",
    "            hdum[jj,kk] = fix[j,k,1] + 2.0*amp/(np.cosh(dum)*np.cosh(dum))\n",
    "            udum[jj,kk] = u[j,k]\n",
    "            vdum[jj,kk] = v[j,k] \n",
    "            if isurf ==1:\n",
    "                hdum[jj,kk] = hdum[jj,kk] - zc[j,k]\n",
    "            if hdum[jj,kk] < 0.0:\n",
    "                hdum[jj,kk] = 0.0\n",
    "            if hdum[jj,kk] < epsh:\n",
    "                udum[jj,kk] = 0.0\n",
    "                vdum[jj,kk] = 0.0\n",
    "    return hdum, udum, vdum"
   ]
  },
  {
   "cell_type": "code",
   "execution_count": 78,
   "metadata": {
    "collapsed": false,
    "scrolled": true
   },
   "outputs": [
    {
     "name": "stdout",
     "output_type": "stream",
     "text": [
      "fixed flux BC is requested in cell  43 63\n",
      "bed adjacent to the boundary is dry\n",
      "\t adverse slope or zero Manning n in cell\n",
      "\t enter initial flow depth at specified\n",
      "\t flux boundary = 43 63 3.0\n",
      "fixed flux BC is requested in cell  44 63\n",
      "bed adjacent to the boundary is dry\n",
      "\t adverse slope or zero Manning n in cell\n",
      "\t enter initial flow depth at specified\n",
      "\t flux boundary = 44 63 3.0\n",
      "fixed flux BC is requested in cell  45 63\n",
      "bed adjacent to the boundary is dry\n",
      "\t adverse slope or zero Manning n in cell\n",
      "\t enter initial flow depth at specified\n",
      "\t flux boundary = 45 63 3.0\n",
      " \n",
      "Kostiakov infiltration formula modified\n",
      "fot time less than  2.31065668419\n",
      "infiltration slope is  0.000257992247946\n"
     ]
    }
   ],
   "source": [
    "input()"
   ]
  },
  {
   "cell_type": "code",
   "execution_count": 79,
   "metadata": {
    "collapsed": false,
    "scrolled": true
   },
   "outputs": [
    {
     "data": {
      "text/plain": [
       "<matplotlib.colorbar.Colorbar at 0x1107dc5d0>"
      ]
     },
     "execution_count": 79,
     "metadata": {},
     "output_type": "execute_result"
    },
    {
     "data": {
      "image/png": "[encoded data removed]",
      "text/plain": [
       "<matplotlib.figure.Figure at 0x10cf08910>"
      ]
     },
     "metadata": {},
     "output_type": "display_data"
    }
   ],
   "source": [
    "ZC = zc[:]; zc[zc < 10 ] = np.nan\n",
    "plt.imshow(ZC)\n",
    "plt.colorbar()"
   ]
  },
  {
   "cell_type": "code",
   "execution_count": 127,
   "metadata": {
    "code_folding": [
     12,
     26,
     35,
     38,
     43,
     48,
     53,
     58
    ],
    "collapsed": false,
    "scrolled": true
   },
   "outputs": [],
   "source": [
    "def transform():\n",
    "    global j1, k1, w1, w2, w3, w4\n",
    "    j1 = np.zeros(npt+1, dtype = int)\n",
    "    k1 = np.zeros(npt+1, dtype = int)\n",
    "    w1 = np.zeros(npt+1, dtype = float)\n",
    "    w2 = np.zeros(npt+1, dtype = float)\n",
    "    w3 = np.zeros(npt+1, dtype = float)\n",
    "    w4 = np.zeros(npt+1, dtype = float)\n",
    "    # bracket sampling location  \n",
    "    for i in  range(1, 10+1):\n",
    "        xdum = x[i] \n",
    "        ydum = y[i]     \n",
    "        for j in range(1, ncol+1):\n",
    "            for k in range(kbeg[j],kend[j]+2):\n",
    "                if (xdum >= xc[j-1,k] and xdum < xc[j,k]):\n",
    "                    if (ydum >= yc[j,k-1] and ydum < yc[j,k]):\n",
    "                        j1[i] = j\n",
    "                        k1[i] = k\n",
    "                        lb = xc[j-1,k]; ub =xc[j,k]\n",
    "                        break\n",
    "                elif (xdum >= xc[j,k]) and (xdum <= xc[j+1,k]):\n",
    "                    if (ydum >= yc[j,k-1] and ydum <= yc[j,k]):\n",
    "                        j1[i] = j+1\n",
    "                        k1[i] = k \n",
    "                        lb = xc[j,k]; ub =  xc[j+1,k]\n",
    "                        break                        \n",
    "        if (j1[i] == 0) or (k1[i] == 0):\n",
    "            print 'error', xdum, ydum\n",
    "        # Compute interpolation distances.      \n",
    "        d1 = np.sqrt((xdum - xc[j1[i],k1[i]])**2 + (ydum - yc[j1[i],k1[i]])**2)\n",
    "        d2 = np.sqrt((xdum - xc[j1[i]-1,k1[i]])**2 + (ydum - yc[j1[i]-1,k1[i]])**2)\n",
    "        d3 = np.sqrt((xdum - xc[j1[i]-1,k1[i]-1])**2 + (ydum - yc[j1[i]-1,k1[i]-1])**2)\n",
    "        d4 = np.sqrt((xdum - xc[j1[i],k1[i]-1])**2 + (ydum - yc[j1[i],k1[i]-1])**2)\n",
    "        # Compute weights as distance inverses.\n",
    "        # Tecplot states that the 3.5 exponent yields the smoothest results.\n",
    "        if (d1 > 10) or (d2 > 10) or (d3 > 10) or (d4 > 10):\n",
    "            print xdum, ydum\n",
    "            #print j, k, \"\\t\", lb, xdum, ub, \"\\t\", ydum, yc[j1[i], k1[i]]# d1, d2, d3,d4\n",
    "        if (d1 == 0.):\n",
    "            w1[i] = 1.\n",
    "            w2[i] = 0.\n",
    "            w3[i] = 0.\n",
    "            w4[i] = 0.\n",
    "        elif (d2 == 0.):\n",
    "            w1[i] = 0.\n",
    "            w2[i] = 1.\n",
    "            w3[i] = 0.\n",
    "            w4[i] = 0.\n",
    "        elif (d3 == 0.):\n",
    "            w1[i] = 0.\n",
    "            w2[i] = 0.\n",
    "            w3[i] = 1.\n",
    "            w4[i] = 0.  \n",
    "        elif (d4 == 0.):\n",
    "            w1[i] = 0.\n",
    "            w2[i] = 0.\n",
    "            w3[i] = 0.\n",
    "            w4[i] = 1.          \n",
    "        else:\n",
    "            w1[i] = d1**(-3.5)  \n",
    "            w2[i] = d2**(-3.5)\n",
    "            w3[i] = d3**(-3.5)\n",
    "            w4[i] = d4**(-3.5) \n",
    "        "
   ]
  },
  {
   "cell_type": "code",
   "execution_count": 128,
   "metadata": {
    "collapsed": false
   },
   "outputs": [],
   "source": [
    "transform()"
   ]
  },
  {
   "cell_type": "code",
   "execution_count": 202,
   "metadata": {
    "collapsed": true
   },
   "outputs": [],
   "source": [
    "def get_weights():\n",
    "    global j1, k1, w1, w2, w3, w4, weights\n",
    "    weights = [[0, 0, 0, 0, 0, 0, 0]]; \n",
    "    for line in open(\"weights.out\", 'r'):\n",
    "        weights.append([x for x in line.strip().split(\", \")])\n",
    "    weights = np.asarray(weights)\n",
    "    j1 = weights[:, 1].astype(int)\n",
    "    k1 = weights[:, 2].astype(int)\n",
    "    w1 = weights[:, 3].astype(float)\n",
    "    w2 = weights[:, 4].astype(float)\n",
    "    w3 = weights[:, 5].astype(float)\n",
    "    w4 = weights[:, 6].astype(float)"
   ]
  },
  {
   "cell_type": "code",
   "execution_count": 203,
   "metadata": {
    "collapsed": false
   },
   "outputs": [
    {
     "name": "stdout",
     "output_type": "stream",
     "text": [
      "getting weights\n"
     ]
    }
   ],
   "source": [
    "try:\n",
    "    get_weights()\n",
    "    print 'getting weights'\n",
    "except IOError:\n",
    "    transform()\n",
    "# iprt = 0\n",
    "# it = 0"
   ]
  },
  {
   "cell_type": "code",
   "execution_count": 207,
   "metadata": {
    "collapsed": false
   },
   "outputs": [
    {
     "data": {
      "text/plain": [
       "0.0"
      ]
     },
     "execution_count": 207,
     "metadata": {},
     "output_type": "execute_result"
    }
   ],
   "source": [
    "(w1[i]*h[j1[i],k1[i]] + w2[i]*h[j1[i]-1,k1[i]] + \n",
    "                w3[i]*h[j1[i]-1,k1[i]-1] + w4[i]*h[j1[i],k1[i]-1])/sumw"
   ]
  },
  {
   "cell_type": "code",
   "execution_count": 17,
   "metadata": {
    "code_folding": [],
    "collapsed": false,
    "scrolled": true
   },
   "outputs": [],
   "source": [
    "def movie():\n",
    "    global hn, un, vn\n",
    "    hn = np.zeros(npt+1)\n",
    "    un = np.zeros(npt+1)\n",
    "    vn = np.zeros(npt+1)\n",
    "    \n",
    "    for i in  range(1, npt+1):\n",
    "        # Interpolate data\n",
    "        sumw = w1[i] + w2[i] + w3[i] + w4[i]\n",
    "        hn[i] = (w1[i]*h[j1[i],k1[i]] + w2[i]*h[j1[i]-1,k1[i]] + \n",
    "                w3[i]*h[j1[i]-1,k1[i]-1] + w4[i]*h[j1[i],k1[i]-1])/sumw\n",
    "        un[i] = (w1[i]*u[j1[i],k1[i]] + w2[i]*u[j1[i]-1,k1[i]] + \n",
    "                w3[i]*u[j1[i]-1,k1[i]-1] + w4[i]*u[j1[i],k1[i]-1])/sumw\n",
    "        vn[i] = (w1[i]*v[j1[i],k1[i]] + w2[i]*v[j1[i]-1,k1[i]] + \n",
    "                w3[i]*v[j1[i]-1,k1[i]-1] + w4[i]*v[j1[i],k1[i]-1])/sumw\n",
    "        \n",
    "        #z[i] = (w1[i]*zc[j1[i],k1[i]] + w2[i]*zc[j1[i]-1,k1[i]] + \n",
    "        #         w3[i]*zc[j1[i]-1,k1[i]-1] + w4[i]*zc[j1[i],k1[i]-1])/sumw\n",
    "        \n",
    "\n",
    "    if t ==0.:\n",
    "        file = open(\"movie_python.dat\", \"w\")\n",
    "        file.write('VARIABLES = \"X\", \"Y\", \"Z\", \"H\", \"D\"\\n')\n",
    "        file.write('ZONE N=%i, E=%i, F=FEPOINT,  ET=QUADRILATERAL \\n' %(npt, ne))\n",
    "        for n in range(1,npt+1):\n",
    "            file.write('%e %e %e %e %e \\n' %(x[n],y[n],z[n],z[n],z[n]))\n",
    "        for j in range(1, ncol+1):\n",
    "            for k in range(kbeg[j],kend[j]+1):\n",
    "                file.write('  '.join(['%i'%nop[j,k,i] for i in range(4)]))\n",
    "                file.write('\\n')\n",
    "        file.close()\n",
    "    elif np.mod(it,30)==0:\n",
    "        file = open(\"movie_python.dat\", \"a\")\n",
    "        file.write('VARIABLES = \"X\", \"Y\", \"Z\", \"H\", \"D\"\\n')\n",
    "        file.write('ZONE N=   %i E=   %i F=FEPOINT,  ET=QUADRILATERAL  D=(FECONNECT,1,2,3)\\n' %(npt, ne))\n",
    "        for n in range(1,npt+1):\n",
    "            file.write(''.join(['%f'%(hn[n]+z[n]),', %f'%hn[n]]))\n",
    "            file.write('\\n')\n",
    "        file.close()"
   ]
  },
  {
   "cell_type": "code",
   "execution_count": 18,
   "metadata": {
    "code_folding": [
     0,
     3,
     44,
     47,
     51,
     56,
     59
    ],
    "collapsed": false,
    "scrolled": true
   },
   "outputs": [],
   "source": [
    "def predict(ilim, j, k, inum, h, u, v, dh, du, dv):\n",
    "    if(ilim > 0):\n",
    "        ## loop over coord. directons.  confusing variable use\n",
    "        for kk in range(2):                  \n",
    "            if(kk == 1):\n",
    "                jr = j + 1\n",
    "                jl = j - 1\n",
    "                kr = k\n",
    "                kl = k\n",
    "            else:\n",
    "                jr = j\n",
    "                jl = j\n",
    "                kr = k + 1\n",
    "                kl = k - 1\n",
    "            # Compute gradients only in wet cells.\n",
    "            if(h[j,k] >= epsh): \n",
    "                # Limit free surface elevation to reduce dissipation..\n",
    "                dh1 = h[j,k] + zc[j,k] - h[jl,kl] - zc[jl,kl]\n",
    "                dh2 = h[jr,kr] + zc[jr,kr] - h[j,k] - zc[j,k]\n",
    "                if(h[jl,kl] < epsh):\n",
    "                    dh1 = 2.*dh1\n",
    "                if(h[jr,kr] < epsh):\n",
    "                    dh2 = 2.*dh2\n",
    "                dhh = limitr(ilim,beta,dh1,dh2)\n",
    "                dh[j,k,kk] = dhh - dz[j,k,kk]\t\n",
    "                # U velocity.            \n",
    "                du1 = u[j,k] - u[jl,kl]\n",
    "                du2 = u[jr,kr] - u[j,k]\n",
    "                duu = limitr(ilim,beta,du1,du2)\n",
    "                du[j,k,kk] = duu    \n",
    "                # V velocity.\n",
    "                dv1 = v[j,k] - v[jl,kl]\n",
    "                dv2 = v[jr,kr] - v[j,k]\n",
    "                dvv = limitr(ilim,beta,dv1,dv2)\n",
    "                dv[j,k,kk] = dvv \n",
    "            else:\n",
    "                dh[j,k,kk] = 0.\n",
    "                du[j,k,kk] = 0.\n",
    "                dv[j,k,kk] = 0.\n",
    "        # Generalized velocities.\n",
    "        uxi = u[j,k]*dxi[j,k,0] + v[j,k]*dxi[j,k,1]\n",
    "        ueta = u[j,k]*deta[j,k,0] + v[j,k]*deta[j,k,1]            \n",
    "        # predictor\n",
    "        qs = source(j, k, h[j,k], u[j,k], v[j,k])\n",
    "        if (h[j,k] >= epsh**(0.75)):\n",
    "            qs[1] = qs[1]/h[j,k]\n",
    "            qs[2] = qs[2]/h[j,k]\n",
    "        else:\n",
    "            qs[0] = 0.\n",
    "            qs[1] = 0.\n",
    "            qs[2] = 0.\n",
    "        hp[j,k] = h[j,k] - 0.50*dt*(\n",
    "                uxi*dh[j,k,0] +  h[j,k]*(dxi[j,k,0]*du[j,k,0]  + \n",
    "                                         dxi[j,k,1]*dv[j,k,0]) +  \n",
    "                ueta*dh[j,k,1] + h[j,k]*(deta[j,k,0]*du[j,k,1] +  \n",
    "                     deta[j,k,1]*dv[j,k,1]) + qs[0])   \n",
    "        up[j,k] = u[j,k] - 0.5*dt*(\n",
    "                    grav*dxi[j,k,0]*dh[j,k,0] + uxi*du[j,k,0] + \n",
    "                    grav*deta[j,k,0]*dh[j,k,1] + ueta*du[j,k,1] + qs[1]) \n",
    "        vp[j,k] = v[j,k] - 0.5*dt*(\n",
    "                    grav*dxi[j,k,1]*dh[j,k,0] + uxi*dv[j,k,0] +\n",
    "                    grav*deta[j,k,1]*dh[j,k,1] + ueta*dv[j,k,1] + qs[2])\n",
    "        # First order solution.\n",
    "        else:\n",
    "            hp[j,k] = h[j,k]\n",
    "            up[j,k] = u[j,k]\n",
    "            vp[j,k] = v[j,k]\n",
    "        if hp[j,k] < 0.0:  # Correct any negative depths.\n",
    "            hp[j,k] = 0.0\n",
    "            dh[j,k,0] = 0.0\n",
    "            dh[j,k,1] = 0.0\n",
    "        if hp[j,k] <= 0.:  #  Neglect momentum in nearly dry cells.\n",
    "            up[j,k] = 0.\n",
    "            vp[j,k] = 0.\n",
    "            for i in range(2):\n",
    "                du[j,k,i] = 0.\n",
    "                dv[j,k,i] = 0.\n",
    "        return hp, up, vp, dh, du, dv"
   ]
  },
  {
   "cell_type": "code",
   "execution_count": 19,
   "metadata": {
    "code_folding": [
     0
    ],
    "collapsed": false,
    "scrolled": true
   },
   "outputs": [],
   "source": [
    "def source(j, k, hdum,udum, vdum):`\n",
    "    ## global variables here are: t, t0, tclip, tc, ainflt, binflt, xk\n",
    "    qs= np.zeros(3)\n",
    "    if(hdum >= epsh): \n",
    "        tnew = max(0.0, t - t0[j,k])\n",
    "        if (tnew <= 0.0):\n",
    "            znew = 0.\n",
    "        elif (tnew > 0. and tnew <= tclip):\n",
    "            znew = zslope*tnew\n",
    "        elif (tnew > tclip and tnew <= tc): \n",
    "            znew = xk*tnew**ainflt \n",
    "        elif (tnew > tc):\n",
    "            znew = xk*tc**ainflt + binflt*(tnew - tc)\n",
    "        told = max(0.0, t - t0[j,k] - dt)\n",
    "        if (told <= 0.0): \n",
    "            zold = 0.0\n",
    "        elif (told > 0.0 and told <= tclip):\n",
    "            zold = zslope*told\n",
    "        elif (told > tclip and told <= tc):\n",
    "            zold = xk*told**ainflt\n",
    "        elif (told > tc):\n",
    "            zold = xk*tc**ainflt + binflt*(told - tc)\n",
    "        winflt = (zold - znew)/dt\n",
    "        vmag = np.sqrt(udum*udum + vdum*vdum)\n",
    "        fricx = grav*xn*xn*udum*vmag/hdum**(1./3.)\n",
    "        fricy = grav*xn*xn*vdum*vmag/hdum**(1./3.)\n",
    "        qs[0] = winflt\n",
    "        qs[1] = 0.5*udum*winflt - fricx - grav*hdum*sx[j,k]\n",
    "        qs[2] = 0.5*vdum*winflt - fricy - grav*hdum*sy[j,k]\n",
    "    else:\n",
    "        qs[0] = 0.\n",
    "        qs[1] = 0.\n",
    "        qs[2] = 0.\n",
    "    return qs"
   ]
  },
  {
   "cell_type": "code",
   "execution_count": 20,
   "metadata": {
    "code_folding": [
     0
    ],
    "collapsed": false,
    "scrolled": true
   },
   "outputs": [],
   "source": [
    "def limitr(i, beta, dq1, dq2):\n",
    "    if(i == 1):  #  Lax-Wendroff.   \n",
    "        dq = dq2 \n",
    "    elif i == 2.:   # Beam-Warming.\n",
    "        dq = dq1 \n",
    "    elif(i == 3):   # Fromm\n",
    "        dq = 0.5*(dq1 + dq2)   \n",
    "    elif(i == 4):   # Double minmod.\n",
    "        a = 0.5*(dq1 + dq2)  \n",
    "        b = 2.0*dq1\n",
    "        c = 2.0*dq2\n",
    "        if (a*b > 0.0 and b*c > 0.0):\n",
    "            dq = min(a, b, c)  \n",
    "        else:\n",
    "            dq = 0\n",
    "    else:\n",
    "        if(dq1*dq2 < 0.0): \n",
    "            dq = 0.0\n",
    "        else:\n",
    "            dq = min(max(dq1, dq2), beta*min(dq1, dq2))\n",
    "    return dq"
   ]
  },
  {
   "cell_type": "code",
   "execution_count": 21,
   "metadata": {
    "code_folding": [
     0
    ],
    "collapsed": false,
    "scrolled": true
   },
   "outputs": [],
   "source": [
    "def fluxes(jl,jr,kl,kr,i1, f, qsource):\n",
    "    # MUSCL extrapolation at cell interface.\n",
    "    #import pdb; pdb.set_trace()\n",
    "    global iflag\n",
    "    hl = hp[jl,kl] + 0.5*dh[jl,kl,i1]\n",
    "    ul = up[jl,kl] + 0.5*du[jl,kl,i1]\n",
    "    vl = vp[jl,kl] + 0.5*dv[jl,kl,i1]\n",
    "    hr = hp[jr,kr] - 0.5*dh[jr,kr,i1]\n",
    "    ur = up[jr,kr] - 0.5*du[jr,kr,i1]\n",
    "    vr = vp[jr,kr] - 0.5*dv[jr,kr,i1]\n",
    "    snn = sn[jr,kr,i1]\n",
    "    cnn = cn[jr,kr,i1]\n",
    "    if(i1 == 0): \n",
    "        dx =  deta[jr,kr,1]*area[jr,kr]\n",
    "        dy = -deta[jr,kr,0]*area[jr,kr]\n",
    "    else:\n",
    "        dx = -dxi[jr,kr,1]*area[jr,kr]\n",
    "        dy =  dxi[jr,kr,0]*area[jr,kr]\n",
    "    # Needed for dry bed problems.\n",
    "    if(hl < 0.):\n",
    "        hl = 0.\n",
    "    if(hr < 0.): \n",
    "        hr = 0.\n",
    "    # Compute arithmatic averages for source terms.\n",
    "    havg = 0.5*(hl + hr)  \n",
    "    uavg = 0.5*(ul + ur)\n",
    "    vavg = 0.5*(vl + vr)   \n",
    "    # Prevent leakage into cells with higher bed elevation.\n",
    "    etal = hp[jl,kl] + zc[jl,kl]\n",
    "    etar = hp[jr,kr] + zc[jr,kr]\n",
    "    iflag = 0\n",
    "    if(ilim == 0): \n",
    "        sdumx = 0.5*(sx[jl,kl] + sx[jr,kr])\n",
    "        sdumy = 0.5*(sy[jl,kl] + sy[jr,kr])\n",
    "        if hp[jl,kl] >= epsh and hp[jr,kr] < epsh:\n",
    "            if(etal <= zc[jr,kr]):\n",
    "                iflag = 1\n",
    "        if hp[jr,kr] >= epsh and hp[jl,kl] < epsh:\n",
    "            if(etar <= zc[jl,kl]):\n",
    "                iflag = 1\n",
    "        # C Bed infiltration, bottom drag.\n",
    "        if(havg < epsh):\n",
    "            qsource[jr,kr,0,i1] = 0.\n",
    "            qsource[jr,kr,1,i1] = -0.5*(grav*havg*sdumx)*dx*cnn\n",
    "            qsource[jr,kr,2,i1] = -0.5*(grav*havg*sdumy)*dy*snn\n",
    "        else:\n",
    "            tavg = 0.5*(t0[jl,kl] + t0[jr,kr]) \n",
    "            topp = t - tavg\n",
    "            if(topp > 0.):\n",
    "                if(topp <= tc):\n",
    "                    zinflt = xk*topp**ainflt \n",
    "                else:\n",
    "                    zinflt = binflt\n",
    "            else:\n",
    "                zinflt = 0.0\n",
    "\n",
    "            vmag = np.sqrt(uavg*uavg + vavg*vavg)\n",
    "            fricx = grav*xn*xn*uavg*vmag/havg**(1./3.)\n",
    "            fricy = grav*xn*xn*vavg*vmag/havg**(1./3.)\n",
    "            \n",
    "            qsource[jr,kr,0,i1] = -0.25*winflt*(cnn*dx + snn*dy)\n",
    "            qsource[jr,kr,1,i1] = 0.5*(0.5*uavg*winflt - fricx - \n",
    "                                       grav*havg*sdumx)*dx*cnn\n",
    "            qsource[jr,kr,2,i1] = 0.5*(0.5*vavg*winflt - fricy -\n",
    "                                       grav*havg*sdumy)*dy*snn\n",
    "    if havg <= 0 or iflag == 1:\n",
    "        for i in range(3): \n",
    "            f[jr,kr,i,i1] = 0.\n",
    "            qsource[jr,kr,i,i1] = 0.\n",
    "    else: \n",
    "        fdum = solver(hl,hr,ul,ur,vl,vr,snn,cnn,dx,dy)\n",
    "        for i in range(3):\n",
    "            f[jr,kr,i,i1] = fdum[i]\n",
    "    return f, qsource"
   ]
  },
  {
   "cell_type": "code",
   "execution_count": 22,
   "metadata": {
    "code_folding": [
     0
    ],
    "collapsed": false,
    "scrolled": true
   },
   "outputs": [],
   "source": [
    "def solver(hl,hr,ul,ur,vl,vr,sn,cn,dx,dy,sw=0,winflt= 0):\n",
    "    # Compute Roe averages at cell face.\n",
    "    duml  = np.sqrt(hl)\n",
    "    dumr  = np.sqrt(hr)\n",
    "    hhat  = duml*dumr\n",
    "    uhat  = (duml*ul + dumr*ur)/(duml + dumr)\n",
    "    vhat  = (duml*vl + dumr*vr)/(duml + dumr)\n",
    "    chat  = np.sqrt(0.5*grav*(hl + hr))\n",
    "    uperp = uhat*cn + vhat*sn\n",
    "    # Compute eigenvalues.\n",
    "    a = np.array([uperp - chat, uperp, uperp + chat])\n",
    "    # Compute approximate wave strengths.\n",
    "    dh    = hr - hl\n",
    "    du    = ur - ul\n",
    "    dv    = vr - vl\n",
    "    dupar = -du*sn + dv*cn\n",
    "    duperp=  du*cn + dv*sn\n",
    "    ws = np.array([0.5*(dh - hhat*duperp/chat), \n",
    "                   hhat*dupar,\n",
    "                   0.5*(dh + hhat*duperp/chat)])\n",
    "    e = np.zeros([3,3])\n",
    "    e[0,0] = 1.\n",
    "    e[1,0] = uhat - chat*cn\n",
    "    e[2,0] = vhat - chat*sn\n",
    "    e[0,1] = 0.\n",
    "    e[1,1] = -sn\n",
    "    e[2,1] =  cn\n",
    "    e[0,2] = 1.\n",
    "    e[1,2] = uhat + chat*cn\n",
    "    e[2,2] = vhat + chat*sn\n",
    "    # Compute approximate source terms for upwind method only.\n",
    "    z = np.zeros(3)\n",
    "    if sw > 0.:\n",
    "        if hhat > epsh: \n",
    "            vmag = np.sqrt(uhat*uhat + vhat*vhat)\n",
    "            fricx = grav*xn*xn*uhat*vmag/hhat**(1./3.)\n",
    "            fricy = grav*xn*xn*vhat*vmag/hhat**(1./3.)\n",
    "        else:\n",
    "            fricx = 0.\n",
    "            fricy = 0.\n",
    "        q1 = - winflt\n",
    "        q2 = - 0.5*cn*(chat*chat*sx + fricx - 0.5*uhat*winflt)*dx*cn\n",
    "        q3 = - 0.5*sn*(chat*chat*sy + fricy - 0.5*vhat*winflt)*dy*sn\n",
    "        z[0] = np.abs(a[0])/a[0]*(a[2]*q1 - cn*q2 - sn*q3)/(2.*chat)\n",
    "        if (np.abs(sn*a[1]) > 1e-8):\n",
    "            z[1] = np.abs(a[1])/a[1]*((uhat-uperp*cn)*q1 + \n",
    "                    sn*sn*q2 - sn*cn*q3)/sn                          \n",
    "        else:\n",
    "            z[1] = 0.\n",
    "        z[2] = np.abs(a[2])/a[2]*(-a[0]*q1 + cn*q2 + sn*q3)/(2.*chat)                          \n",
    "    # Entropy flux:\n",
    "    dl = np.sqrt(dx*dx + dy*dy)\n",
    "    cl = np.sqrt(grav*hl)\n",
    "    cr = np.sqrt(grav*hr)\n",
    "    uperpl = ul*cn + vl*sn\n",
    "    uperpr = ur*cn + vr*sn\n",
    "    al1 = uperpl - cl\n",
    "    al3 = uperpl + cl\n",
    "    ar1 = uperpr - cr\n",
    "    ar3 = uperpr + cr\n",
    "    da = np.zeros(3)\n",
    "    da[0] = max(0., 4.*(ar1 - al1))\n",
    "    da[1] = 0.\n",
    "    da[2] = max(0., 4.*(ar3 - al3))\n",
    "    astar = np.zeros(3)\n",
    "    amax = 0\n",
    "    for i in range(3):\n",
    "        if (np.abs(a[i]) < 0.5*da[i]):\n",
    "            astar[i] = a[i]*a[i]/da[i] + 0.25*da[i]\n",
    "        else:\n",
    "            astar[i] = np.abs(a[i])\n",
    "        if (astar[i]/dl > amax):\n",
    "            amax = astar[i]/dl\n",
    "    dum = np.zeros(3)\n",
    "    for i in range(3):\n",
    "        dum[i] = 0\n",
    "        for l in range(3):\n",
    "            dum[i] = dum[i] + (astar[l]*ws[l] - sw*z[l])*e[i,l]\n",
    "    f = np.zeros(3)\n",
    "    f[0] = 0.5*(f1(hl,uperpl) + f1(hr,uperpr) - dum[0])\n",
    "    f[1] = 0.5*(f2(hl,ul,uperpl,cn) \n",
    "                  + f2(hr,ur,uperpr,cn) - dum[1])\n",
    "    f[2] = 0.5*(f3(hl,vl,uperpl,sn)   \n",
    "                  + f3(hr,vr,uperpr,sn) - dum[2])\n",
    "    return f"
   ]
  },
  {
   "cell_type": "code",
   "execution_count": 23,
   "metadata": {
    "code_folding": [
     0
    ],
    "collapsed": true,
    "scrolled": true
   },
   "outputs": [],
   "source": [
    "def f1(h, up):\n",
    "    f1 = h*up\n",
    "    return f1"
   ]
  },
  {
   "cell_type": "code",
   "execution_count": 24,
   "metadata": {
    "code_folding": [
     0
    ],
    "collapsed": true,
    "scrolled": true
   },
   "outputs": [],
   "source": [
    "def f2(h,u,up,cn):\n",
    "    f2 = h*u*up + 0.5*grav*h*h*cn\n",
    "    return f2\n"
   ]
  },
  {
   "cell_type": "code",
   "execution_count": 25,
   "metadata": {
    "code_folding": [
     0
    ],
    "collapsed": false,
    "scrolled": true
   },
   "outputs": [],
   "source": [
    "def f3(h,v,up,sn):\n",
    "    f3 = h*v*up + 0.5*grav*h*h*sn\n",
    "    return f3"
   ]
  },
  {
   "cell_type": "code",
   "execution_count": 13,
   "metadata": {
    "collapsed": false
   },
   "outputs": [
    {
     "name": "stdout",
     "output_type": "stream",
     "text": [
      "fixed flux BC is requested in cell  43 63\n",
      "bed adjacent to the boundary is dry\n",
      "\t adverse slope or zero Manning n in cell\n",
      "\t enter initial flow depth at specified\n",
      "\t flux boundary = 43 63 3.0\n",
      "fixed flux BC is requested in cell  44 63\n",
      "bed adjacent to the boundary is dry\n",
      "\t adverse slope or zero Manning n in cell\n",
      "\t enter initial flow depth at specified\n",
      "\t flux boundary = 44 63 3.0\n",
      "fixed flux BC is requested in cell  45 63\n",
      "bed adjacent to the boundary is dry\n",
      "\t adverse slope or zero Manning n in cell\n",
      "\t enter initial flow depth at specified\n",
      "\t flux boundary = 45 63 3.0\n",
      " \n",
      "Kostiakov infiltration formula modified\n",
      "fot time less than  2.31065668419\n",
      "infiltration slope is  0.000257992247946\n"
     ]
    }
   ],
   "source": [
    "verbose = False\n",
    "input()\n",
    "iprt = 0\n",
    "it = 0\n",
    "#transform() "
   ]
  },
  {
   "cell_type": "code",
   "execution_count": 21,
   "metadata": {
    "code_folding": [],
    "collapsed": true,
    "scrolled": true
   },
   "outputs": [],
   "source": [
    "for dummy in range(5):\n",
    "    ## begin time loop here : \n",
    "    it=it+1\n",
    "    if t > 60.:\n",
    "        dt=0.5\n",
    "    elif t > 6960.:\n",
    "        dt=1.0\n",
    "\n",
    "    # save every step for a movie     \n",
    "    movie()\n",
    "    t = t + dt\n",
    "    amax = 0.0\n",
    "    for j in range(1, ncol+1):\n",
    "        for k in range(kbeg[j], kend[nrow+1]+1):\n",
    "            h, u, v = bconds(j, k, inum, h, u, v, dh, du, dv)  \n",
    "            hp,up,vp,dh,du,dv = predict(ilim,j,k,inum,h,u,v,dh,du,dv)\n",
    "\n",
    "\n",
    "    ## Loop over cells to compute fluxes\n",
    "    for j in range(1, ncol+1):\n",
    "        for k in range(kbeg[j], kend[nrow+1]+1):\n",
    "            hp, up, vp = bconds(j, k, inum, hp, up, vp, dh, du, dv)  \n",
    "            f, qsource = fluxes(j-1,j,k,k,0, f, qsource)  # vertical faces\n",
    "            f, qsource = fluxes(j,j,k-1,k,1, f, qsource)  # horizontal faces\n",
    "            for i in range(inum[j, k]):\n",
    "                if(ipos[j,k,i] == 3):\n",
    "                    f, qsource = fluxes(j,j,k,k+1,1, f, qsource)  # top boundaries\n",
    "                elif(ipos[j,k,i] == 2):\n",
    "                    f, qsource = fluxes(j,j+1,k,k,0, f, qsource)  # right boundaries\n",
    "\n",
    "    # Compute corrector solution.\n",
    "    if (ilim == 0):\n",
    "        for j in range(1,ncol+1):\n",
    "            for k in range(kbeg[j],kend[j]+1):\n",
    "                for l in range(3):\n",
    "                    q[j,k,l] = q[j,k,l] + dt/area[j,k]*( \n",
    "                          (qsource[j,k,l,1] + f[j,k,l,1])*ds[j,k,1] +\n",
    "                          (qsource[j,k,l,0] + f[j,k,l,0])*ds[j,k,0] +\n",
    "                          (qsource[j+1,k,l,0] - f[j+1,k,l,0])*ds[j+1,k,0] +\n",
    "                          (qsource[j,k+1,l,1] - f[j,k+1,l,1])*ds[j,k+1,1])\n",
    "\n",
    "    else:\n",
    "        for j in range(1,ncol+1):\n",
    "            for k in range(kbeg[j],kend[j]+1):\n",
    "                qs = source(j,k,hp[j,k],up[j,k],vp[j,k])\n",
    "                for l in range(3):\n",
    "                    q[j,k,l] = q[j,k,l] + dt/area[j,k]*(\n",
    "                                f[j,k,l,1]*ds[j,k,1] + f[j,k,l,0]*ds[j,k,0] -\n",
    "                                f[j+1,k,l,0]*ds[j+1,k,0] - f[j,k+1,l,1]*ds[j,k+1,1]) + \\\n",
    "                                dt*qs[l]\n",
    "\n",
    "    #  Store solution. \n",
    "    #  Solve continuity equation even in all cells, but \n",
    "    #  solve momentum equations in wet cells only.\n",
    "\n",
    "    for j in range(1,ncol+1):\n",
    "        for k in range(kbeg[j],kend[j]+1):\n",
    "    # Check for negative depth.\n",
    "            if(q[j,k,0] > 0.):\n",
    "                h[j,k] = q[j,k,0]\n",
    "            else:\n",
    "                q[j,k,0] = 0.\n",
    "                h[j,k] = 0.\n",
    "    # Neglect momentum in nearly dry cells.\n",
    "            if (h[j,k] < epsh):\n",
    "                u[j,k] = 0.\n",
    "                v[j,k] = 0.\n",
    "                t0[j,k] = t \n",
    "                for l in [1, 2]:\n",
    "                    q[j,k,1] = 0.\n",
    "            elif h[j,k] >= epsh:\n",
    "                u[j,k] = q[j,k,1]/h[j,k]\n",
    "                v[j,k] = q[j,k,2]/h[j,k]\n",
    "\n",
    "\n",
    "    iprt = iprt + 1\n",
    "\n",
    "    imass = 1\n",
    "\n",
    "    if(iprt == nprt):\n",
    "        iprt=0\n",
    "    ##  Check volume error.\n",
    "        if(imass == 1):\n",
    "            vol = 0.   #  volume = 0\n",
    "            for j in range(1, ncol+1):\n",
    "                for k in range(kbeg[j],kend[j]+1):\n",
    "                    vol = vol + h[j,k]*area[j,k]\n",
    "    ## Find location of wetting front for plotting.   \n",
    "        if(ifront == 1):  ## front tracking in x-direction\n",
    "            xf = 0.\n",
    "            for j in range(1, ncol+1):\n",
    "                for k in range(kbeg[j],kend[j]+1):\n",
    "                    n2 = nop[j,k,1]\n",
    "                    n3 = nop[j,k,2]\n",
    "                    xdum = max(x[n2],x[n3])\n",
    "                    if (h[j,k] >= epsh and xdum > xf):\n",
    "                        xf = xdum\n",
    "        #for i in range(nmon):\n",
    "        #    sample(0,i,xmon[i],ymon[i],h[i],un[i],vn[i])\n",
    "        #itest = 1\n",
    "        if(ifront == 1 or imass == 1):\n",
    "            file = open('diag_py.out', 'a')\n",
    "            file.write(\"%f %f %f\\n\" %(t, vol, xf))\n",
    "            file.close()"
   ]
  },
  {
   "cell_type": "code",
   "execution_count": 49,
   "metadata": {
    "collapsed": false,
    "scrolled": true
   },
   "outputs": [
    {
     "data": {
      "text/plain": [
       "<matplotlib.collections.QuadMesh at 0x10a971a50>"
      ]
     },
     "execution_count": 49,
     "metadata": {},
     "output_type": "execute_result"
    },
    {
     "data": {
      "image/png": "[encoded data removed]",
      "text/plain": [
       "<matplotlib.figure.Figure at 0x10a81ecd0>"
      ]
     },
     "metadata": {},
     "output_type": "display_data"
    }
   ],
   "source": [
    "plt.pcolormesh(h[:, :])"
   ]
  },
  {
   "cell_type": "code",
   "execution_count": 52,
   "metadata": {
    "collapsed": false,
    "scrolled": true
   },
   "outputs": [
    {
     "data": {
      "text/plain": [
       "(96, 65)"
      ]
     },
     "execution_count": 52,
     "metadata": {},
     "output_type": "execute_result"
    }
   ],
   "source": [
    "h.shape"
   ]
  },
  {
   "cell_type": "code",
   "execution_count": 50,
   "metadata": {
    "collapsed": false,
    "scrolled": true
   },
   "outputs": [
    {
     "data": {
      "text/plain": [
       "<matplotlib.collections.QuadMesh at 0x10ac12d50>"
      ]
     },
     "execution_count": 50,
     "metadata": {},
     "output_type": "execute_result"
    },
    {
     "data": {
      "image/png": "[encoded data removed]",
      "text/plain": [
       "<matplotlib.figure.Figure at 0x10a9bc8d0>"
      ]
     },
     "metadata": {},
     "output_type": "display_data"
    }
   ],
   "source": [
    "plt.pcolormesh(h[40:50, 55:])"
   ]
  },
  {
   "cell_type": "code",
   "execution_count": 68,
   "metadata": {
    "collapsed": false,
    "scrolled": true
   },
   "outputs": [],
   "source": [
    "def output(verbose = True):\n",
    "    global iout\n",
    "    file = open(\"restart_py.out\", \"a\")\n",
    "    for j in range(1, ncol+1):\n",
    "        for k in range(kbeg[j], kend[j]+1):\n",
    "            file.write(\"%i %i %.3f %.3f %.3f %.3f\\n\"%(j, k, h[j, k], u[j, k], v[j, k], t0[j,k]))\n",
    "    file.close            \n",
    "    interp()\n",
    "    if verbose: print 'Output options: enter 1 to plot depth,'\n",
    "    if verbose: print  '2 to plot bed, 3 to plot free surface'\n",
    "    iout = float(raw_input(\"enter output option: \"))\n",
    "    if iout == 1:\n",
    "        print 'VARIABLES = \"X\", \"Y\", \"H\", \"U\", \"V\", \"Z\", \"Fr\"'\n",
    "        print 'ZONE N=',npt,' E=',ne,' F=FEPOINT', ' ET=QUADRILATERAL'\n",
    "        for n in range(1, npt+1):\n",
    "            if hn[n]> 0:\n",
    "                fr = np.sqrt(un[n]*un[n] + vn[n]*vn[n])"
   ]
  },
  {
   "cell_type": "code",
   "execution_count": 63,
   "metadata": {
    "collapsed": false,
    "scrolled": true
   },
   "outputs": [],
   "source": [
    "interp(h=h, u=u, v=v)"
   ]
  },
  {
   "cell_type": "code",
   "execution_count": 118,
   "metadata": {
    "collapsed": false,
    "scrolled": true
   },
   "outputs": [],
   "source": [
    "grid()"
   ]
  },
  {
   "cell_type": "code",
   "execution_count": null,
   "metadata": {
    "collapsed": true,
    "scrolled": true
   },
   "outputs": [],
   "source": []
  },
  {
   "cell_type": "code",
   "execution_count": 121,
   "metadata": {
    "collapsed": false,
    "scrolled": true
   },
   "outputs": [],
   "source": []
  },
  {
   "cell_type": "code",
   "execution_count": 122,
   "metadata": {
    "collapsed": false,
    "scrolled": true
   },
   "outputs": [],
   "source": [
    "interp()"
   ]
  },
  {
   "cell_type": "code",
   "execution_count": 717,
   "metadata": {
    "collapsed": false,
    "scrolled": true
   },
   "outputs": [
    {
     "name": "stdout",
     "output_type": "stream",
     "text": [
      "[0 1 2 3 4 5 6 7 8 9]\n"
     ]
    }
   ],
   "source": [
    "print x\n",
    "x = np.arange(10)"
   ]
  },
  {
   "cell_type": "code",
   "execution_count": 720,
   "metadata": {
    "collapsed": true,
    "scrolled": true
   },
   "outputs": [],
   "source": [
    "def testfxn():\n",
    "    x[5] = x[6]+5\n",
    "    "
   ]
  },
  {
   "cell_type": "code",
   "execution_count": 721,
   "metadata": {
    "collapsed": false,
    "scrolled": true
   },
   "outputs": [],
   "source": [
    "testfxn()"
   ]
  },
  {
   "cell_type": "code",
   "execution_count": 723,
   "metadata": {
    "collapsed": false,
    "scrolled": true
   },
   "outputs": [
    {
     "data": {
      "text/plain": [
       "array([ 0,  1,  2,  3,  4, 11,  6,  7,  8,  9])"
      ]
     },
     "execution_count": 723,
     "metadata": {},
     "output_type": "execute_result"
    }
   ],
   "source": [
    "x"
   ]
  },
  {
   "cell_type": "code",
   "execution_count": 29,
   "metadata": {
    "collapsed": false,
    "scrolled": true
   },
   "outputs": [
    {
     "data": {
      "text/plain": [
       "'1.0, 2.0, 3.0'"
      ]
     },
     "execution_count": 29,
     "metadata": {},
     "output_type": "execute_result"
    }
   ],
   "source": [
    "'{0}, {1}, {2}'.format(, 2., 3.)\n"
   ]
  },
  {
   "cell_type": "code",
   "execution_count": 31,
   "metadata": {
    "collapsed": false
   },
   "outputs": [
    {
     "data": {
      "text/plain": [
       "(95, 64, 4)"
      ]
     },
     "execution_count": 31,
     "metadata": {},
     "output_type": "execute_result"
    }
   ],
   "source": [
    "nop.shape"
   ]
  },
  {
   "cell_type": "code",
   "execution_count": 32,
   "metadata": {
    "collapsed": false
   },
   "outputs": [
    {
     "data": {
      "text/plain": [
       "63"
      ]
     },
     "execution_count": 32,
     "metadata": {},
     "output_type": "execute_result"
    }
   ],
   "source": [
    "nrow"
   ]
  },
  {
   "cell_type": "code",
   "execution_count": null,
   "metadata": {
    "collapsed": true
   },
   "outputs": [],
   "source": []
  }
 ],
 "metadata": {
  "anaconda-cloud": {},
  "kernelspec": {
   "display_name": "Python [default]",
   "language": "python",
   "name": "python2"
  }
 },
 "nbformat": 4,
 "nbformat_minor": 0
}
