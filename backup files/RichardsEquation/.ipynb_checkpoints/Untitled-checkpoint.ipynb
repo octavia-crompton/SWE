{
 "cells": [
  {
   "cell_type": "markdown",
   "metadata": {},
   "source": [
    "\n",
    "The model is based on the model developed by Bradford and Katopodes (1999) for turbidity currents and utilizes two-\n",
    "step time integration for second order temporal accuracy. A predictor is computed at time level $n + 1/2$ by solving the primitive equations in generalized coordinates and a corrector is computed at the $n + 1$ time level by solving the integral equations. \n",
    "\n",
    "The primitive equations are transformed to a curvilinear coordinate system in which $\\xi$ and $\\eta$ are in the directions of contiguous j and k indices, respectively, while   $\\xi_x$,  $\\xi_y$,  $\\eta_x$,  $\\eta_y$  denote the grid transformation metrics from the mapping of x and y onto $\\xi$  and $eta$, which are assumed to vary from 0 to 1 in each cell. Specifically, the equations are"
   ]
  },
  {
   "cell_type": "code",
   "execution_count": null,
   "metadata": {
    "collapsed": true
   },
   "outputs": [],
   "source": []
  }
 ],
 "metadata": {
  "anaconda-cloud": {},
  "kernelspec": {
   "display_name": "Python [default]",
   "language": "python",
   "name": "python2"
  },
  "language_info": {
   "codemirror_mode": {
    "name": "ipython",
    "version": 2
   },
   "file_extension": ".py",
   "mimetype": "text/x-python",
   "name": "python",
   "nbconvert_exporter": "python",
   "pygments_lexer": "ipython2",
   "version": "2.7.12"
  }
 },
 "nbformat": 4,
 "nbformat_minor": 0
}
