{
 "cells": [
  {
   "cell_type": "markdown",
   "metadata": {},
   "source": [
    "Introduction\n",
    "- Spatial autocorrelation : non-random pattern of attribute values over a set of spatial units. \n",
    "- Autocorrelation arises when the observed spatial pattern is different from what would be expected under a random process operating in space.\n",
    "\n",
    "- Global autocorrelation analysis involves the study of the entire map pattern and generally asks the question as to whether the pattern displays clustering or not. \n",
    "- Local autocorrelation, on the other hand, shifts the focus to explore within the global pattern to identify clusters or so called hot spots that may be either driving the overall clustering pattern, or that reflect heterogeneities that depart from global pattern.\n",
    "\n",
    "\n",
    "__ Gamma Index__ of spatial autocorrelation consists of the application of the principle behind a general cross-product statistic to measuring spatial autocorrelation. \n",
    "- The idea is to assess whether two similarity matrices for n objects, i.e., n by n matrices A and B measure the same type of similarity. This is reflected in a so-called Gamma Index $$\\Gamma = \\sum_i \\sum_j a_{ij}\\cdot b_{ij}$$\n",
    "\n",
    "The statistic consists of the sum over all cross-products of matching elements (i,j) in the two matrices.\n",
    "\n",
    "first similarity matrix :   a measure of attribute similarity.\n",
    "any reasonable measure of attribute similarity or dissimilarity, such as a cross-product, squared difference or absolute difference.\n",
    "\n",
    "\n",
    "second matrix : a measure of locational similarity. \n",
    "a spatial weight matrix. "
   ]
  },
  {
   "cell_type": "markdown",
   "metadata": {},
   "source": [
    "\n",
    "$$ \\Gamma = \\sum_i \\sum_j a_{ij}\\cdot w_{ij}$$\n",
    "\n",
    "where the $w_{ij}$ are the elements of the weights matrix and $a_{ij}$  are corresponding measures of attribute similarity.\n",
    "\n",
    "Inference for this statistic is based on a permutation approach in which the values are shuffled around among the locations and the statistic is recomputed each time. \n",
    "This creates a reference distribution for the statistic under the null hypothesis of spatial randomness. \n",
    "The observed statistic is then compared to this reference distribution and a pseudo-significance computed as\n",
    "$$p = (m + 1) / (n + 1)$$\n",
    "where $m$ is the  number of values from the reference distribution that are equal to or greater than the observed joint count and $n$ is the number of permutations."
   ]
  },
  {
   "cell_type": "markdown",
   "metadata": {},
   "source": [
    "The Gamma test is a two-sided test in the sense that both extremely high values (e.g., larger than any value in the reference distribution) and extremely low values (e.g., smaller than any value in the reference distribution) can be considered to be significant. \n",
    "\n",
    "Depending on how the measure of *attribute similarity* is defined, a *high value* will indicate positive or negative spatial autocorrelation, and vice versa. \n",
    "For example, for a *cross-product measure of attribute similarity*, high values indicate positive spatial autocorrelation and low values negative spatial autocorrelation. \n",
    "For a squared difference measure, it is the reverse. This is similar to the interpretation of the Moran’s I statistic and Geary’s C statistic respectively.\n",
    "\n"
   ]
  },
  {
   "cell_type": "code",
   "execution_count": 13,
   "metadata": {
    "collapsed": true
   },
   "outputs": [],
   "source": [
    "% matplotlib inline"
   ]
  },
  {
   "cell_type": "code",
   "execution_count": 9,
   "metadata": {
    "collapsed": false
   },
   "outputs": [],
   "source": [
    "import pysal\n",
    "import numpy as np\n",
    "import matplotlib.pylab as plt"
   ]
  },
  {
   "cell_type": "code",
   "execution_count": 14,
   "metadata": {
    "collapsed": true
   },
   "outputs": [],
   "source": [
    "f = pysal.open(pysal.examples.get_path(\"stl_hom.txt\"))"
   ]
  },
  {
   "cell_type": "code",
   "execution_count": 18,
   "metadata": {
    "collapsed": false
   },
   "outputs": [],
   "source": [
    "y = np.array(f.by_col['HR8893'])"
   ]
  },
  {
   "cell_type": "code",
   "execution_count": 19,
   "metadata": {
    "collapsed": true
   },
   "outputs": [],
   "source": [
    "w = pysal.open(pysal.examples.get_path(\"stl.gal\")).read()"
   ]
  },
  {
   "cell_type": "code",
   "execution_count": 22,
   "metadata": {
    "collapsed": false
   },
   "outputs": [],
   "source": [
    "mi = pysal.Moran(y, w, two_tailed=False)"
   ]
  },
  {
   "cell_type": "code",
   "execution_count": 23,
   "metadata": {
    "collapsed": false,
    "scrolled": true
   },
   "outputs": [
    {
     "data": {
      "text/plain": [
       "(78,)"
      ]
     },
     "execution_count": 23,
     "metadata": {},
     "output_type": "execute_result"
    },
    {
     "data": {
      "image/png": "[encoded data removed]",
      "text/plain": [
       "<matplotlib.figure.Figure at 0x11bf913d0>"
      ]
     },
     "metadata": {},
     "output_type": "display_data"
    }
   ],
   "source": [
    "plt.plot(y)\n",
    "y.shape"
   ]
  },
  {
   "cell_type": "code",
   "execution_count": 24,
   "metadata": {
    "collapsed": true
   },
   "outputs": [],
   "source": [
    "mi = pysal.Moran(y, w, two_tailed=False)"
   ]
  },
  {
   "cell_type": "code",
   "execution_count": 31,
   "metadata": {
    "collapsed": false
   },
   "outputs": [
    {
     "data": {
      "text/plain": [
       "0.24365582621771695"
      ]
     },
     "execution_count": 31,
     "metadata": {},
     "output_type": "execute_result"
    }
   ],
   "source": [
    "mi.I"
   ]
  },
  {
   "cell_type": "code",
   "execution_count": 32,
   "metadata": {
    "collapsed": true
   },
   "outputs": [],
   "source": [
    "np.random.seed(10)\n",
    "mir = pysal.Moran(y, w, permutations = 9999)"
   ]
  },
  {
   "cell_type": "code",
   "execution_count": 35,
   "metadata": {
    "collapsed": false
   },
   "outputs": [
    {
     "data": {
      "text/plain": [
       "0.0022000000000000001"
      ]
     },
     "execution_count": 35,
     "metadata": {},
     "output_type": "execute_result"
    }
   ],
   "source": [
    "mir.p_sim"
   ]
  },
  {
   "cell_type": "code",
   "execution_count": 37,
   "metadata": {
    "collapsed": false
   },
   "outputs": [
    {
     "name": "stdout",
     "output_type": "stream",
     "text": [
      "78\n",
      "78\n"
     ]
    }
   ],
   "source": [
    "f = pysal.open(pysal.examples.get_path(\"stl_hom.txt\"))\n",
    "y = np.array(f.by_col['HR8893'])\n",
    "w = pysal.open(pysal.examples.get_path(\"stl.gal\")).read()\n",
    "np.random.seed(12345)\n",
    "lm = pysal.Moran_Local(y,w)\n",
    "print lm.n\n",
    "print len(lm.Is)\n"
   ]
  },
  {
   "cell_type": "code",
   "execution_count": 60,
   "metadata": {
    "collapsed": false
   },
   "outputs": [
    {
     "data": {
      "text/plain": [
       "[<matplotlib.lines.Line2D at 0x11d150d90>]"
      ]
     },
     "execution_count": 60,
     "metadata": {},
     "output_type": "execute_result"
    },
    {
     "data": {
      "image/png": "[encoded data removed]",
      "text/plain": [
       "<matplotlib.figure.Figure at 0x11cfde350>"
      ]
     },
     "metadata": {},
     "output_type": "display_data"
    }
   ],
   "source": [
    "x = np.arange(np.size(sig))[sig]\n",
    "plt.plot(y)\n",
    "plt.plot(lm.Is)\n",
    "plt.plot(x, lm.Is[sig], '.')"
   ]
  },
  {
   "cell_type": "code",
   "execution_count": 54,
   "metadata": {
    "collapsed": false
   },
   "outputs": [],
   "source": [
    "sig = lm.p_sim<0.05\n",
    "sig = lm.p_sim<0.05"
   ]
  },
  {
   "cell_type": "code",
   "execution_count": null,
   "metadata": {
    "collapsed": true
   },
   "outputs": [],
   "source": []
  }
 ],
 "metadata": {
  "kernelspec": {
   "display_name": "Python [conda root]",
   "language": "python",
   "name": "conda-root-py"
  },
  "language_info": {
   "codemirror_mode": {
    "name": "ipython",
    "version": 2
   },
   "file_extension": ".py",
   "mimetype": "text/x-python",
   "name": "python",
   "nbconvert_exporter": "python",
   "pygments_lexer": "ipython2",
   "version": "2.7.12"
  }
 },
 "nbformat": 4,
 "nbformat_minor": 1
}
