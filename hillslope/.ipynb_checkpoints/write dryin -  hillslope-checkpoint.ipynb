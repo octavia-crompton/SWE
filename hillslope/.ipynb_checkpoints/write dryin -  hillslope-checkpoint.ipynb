{
 "cells": [
  {
   "cell_type": "markdown",
   "metadata": {},
   "source": [
    "### writes 'dryin.dat' for open boundary case\n",
    "\n",
    "-  Differences:  no monitoring points. \n",
    "-   'dryin.dat' input to dryin.f   -  modified to avoid station points\n",
    "\n",
    "file format:  \n",
    "- define constants\n",
    "- loop over cells: write j,k, inum, itype, ipos\n",
    "- ncol = 94\n",
    "- define kbeg and kend ( always 1 and 63)\n",
    "- initial h, u, v\n",
    "- initial fixed points\n",
    "\n",
    "ipos, inum, itype should match those in 'grid set up - topo', without the inlet"
   ]
  },
  {
   "cell_type": "code",
   "execution_count": 20,
   "metadata": {
    "collapsed": true,
    "scrolled": true
   },
   "outputs": [],
   "source": [
    "%matplotlib inline"
   ]
  },
  {
   "cell_type": "code",
   "execution_count": 21,
   "metadata": {
    "collapsed": true,
    "scrolled": true
   },
   "outputs": [],
   "source": [
    "import matplotlib.pylab as plt\n",
    "import numpy as np"
   ]
  },
  {
   "cell_type": "code",
   "execution_count": 22,
   "metadata": {
    "collapsed": true
   },
   "outputs": [],
   "source": [
    "ncol = 99\n",
    "nrow = 64"
   ]
  },
  {
   "cell_type": "code",
   "execution_count": 23,
   "metadata": {
    "collapsed": true
   },
   "outputs": [],
   "source": [
    "npt =(ncol+1)*(nrow+1)\n",
    "ne = nrow*ncol\n",
    "nbcell = 2*ncol + 2*nrow - 4"
   ]
  },
  {
   "cell_type": "code",
   "execution_count": 24,
   "metadata": {
    "collapsed": false
   },
   "outputs": [],
   "source": [
    "# plt.pcolormesh(x)\n",
    "# plt.pcolormesh(y)"
   ]
  },
  {
   "cell_type": "code",
   "execution_count": 25,
   "metadata": {
    "collapsed": true
   },
   "outputs": [],
   "source": [
    "inum = np.zeros([ncol+1, nrow+1], dtype = int)\n",
    "inum[1:, 1] = 1\n",
    "inum[1:, -1]= 1\n",
    "inum[1, 1:] = 1\n",
    "inum[-1, 1:] = 1\n",
    "inum[1, 1] = 2\n",
    "inum[1, -1] = 2\n",
    "inum[-1, -1] = 2\n",
    "inum[-1, 1] = 2"
   ]
  },
  {
   "cell_type": "code",
   "execution_count": 26,
   "metadata": {
    "collapsed": false
   },
   "outputs": [],
   "source": [
    "ipos = np.zeros( [ncol+1, nrow+1, 2], dtype = int)\n",
    "# bottom boundary\n",
    "ipos[2:-1, 1,0] = 1\n",
    "ipos[1, 1,1] = 1\n",
    "ipos[-1, 1,1] = 1\n",
    "\n",
    "# right boundary\n",
    "ipos[-1, 1:-1, 0] = 2\n",
    "ipos[-1, -1,1] = 2\n",
    "\n",
    "# left boundary\n",
    "ipos[1, 1:, 0] = 4\n",
    "\n",
    "# top boundary\n",
    "ipos[2:, -1,0] = 3\n",
    "ipos[1, -1,1] = 3"
   ]
  },
  {
   "cell_type": "code",
   "execution_count": 27,
   "metadata": {
    "collapsed": false
   },
   "outputs": [],
   "source": [
    "itype = np.zeros([ncol+1, nrow+1, 2], dtype = int)\n",
    "# bottom boundary\n",
    "itype[2:-1, 1,0] = 0\n",
    "itype[1, 1,1] = 0\n",
    "itype[-1, 1,1] = 0\n",
    "\n",
    "# right boundary\n",
    "itype[-1, 1:-1, 0] = 1\n",
    "itype[-1, -1,1] = 1\n",
    "\n",
    "# left boundary\n",
    "itype[1, 1:,0] = 1\n",
    "\n",
    "# top boundary\n",
    "itype[2:, -1,0] = 1\n",
    "itype[1, -1,1] = 1\n",
    "# itype[43:46,-1,0] = 4"
   ]
  },
  {
   "cell_type": "code",
   "execution_count": 28,
   "metadata": {
    "collapsed": false
   },
   "outputs": [
    {
     "data": {
      "text/plain": [
       "<matplotlib.collections.PolyCollection at 0x110bab1d0>"
      ]
     },
     "execution_count": 28,
     "metadata": {},
     "output_type": "execute_result"
    },
    {
     "data": {
      "image/png": "[encoded data removed]",
      "text/plain": [
       "<matplotlib.figure.Figure at 0x1101bd150>"
      ]
     },
     "metadata": {},
     "output_type": "display_data"
    }
   ],
   "source": [
    "# Bottom boundary is open\n",
    "plt.pcolor(itype[:, :, 0].T, cmap = 'Blues')"
   ]
  },
  {
   "cell_type": "code",
   "execution_count": 29,
   "metadata": {
    "collapsed": false
   },
   "outputs": [],
   "source": [
    "f = open('dryin.dat', 'w')\n",
    "f.write('gravity     dt        tmax      xsplit      Manning n    \\n')\n",
    "f.write('9.806d0    0.02       2000.     100.d0       0.05d0      \\n')\n",
    "f.write(' epsh       beta   \\n')  \n",
    "f.write('0.0025d0    2.d0   \\n')\n",
    "f.write('xk          ainflt       binflt           tc           cappa \\n')\n",
    "f.write('3.9217d-4    0.5d0       2.65d-7         0.d0        0.99d0 \\n')\n",
    "f.write('istart     imass      ifront         print interval  \\n')\n",
    "f.write(' 0         1          1               100 \\n')\n",
    "f.write('number of boundary cell \\n') \n",
    "f.write('  {0} \\n'.format(nbcell))\n",
    "f.write(' j    k          inum    itype             ipos \\n')\n",
    "# f.write(' j \\t k \\tinum    itype \\t\\t ipos')\n",
    "j = 1\n",
    "for k in range(1, nrow+1):\n",
    "    if inum[j, k] == 2:\n",
    "        f.write( '{0:<5} {1:<13} {2:<7} {3:<8} {4:<9} {5:<8} {6:<6} \\n'.format(\n",
    "                    j, k, inum[j, k], itype[j, k, 0], itype[j, k, 1], \n",
    "                     ipos[j, k, 0], ipos[j, k, 1]))\n",
    "    else:\n",
    "        f.write( '{0:<5} {1:<13} {2:<7} {3:<18} {4:<10}   \\n'.format(\n",
    "                     j, k, inum[j, k],  itype[j, k, 0],  ipos[j, k, 0], ))\n",
    "f.close()"
   ]
  },
  {
   "cell_type": "code",
   "execution_count": 30,
   "metadata": {
    "collapsed": true
   },
   "outputs": [],
   "source": [
    "f = open('dryin.dat', 'a')\n",
    "for j in range(2, ncol+1):\n",
    "    if inum[j, k] == 2:\n",
    "        f.write( '{0:<5} {1:<13} {2:<7} {3:<8} {4:<9} {5:<8} {6:<6} \\n'.format(\n",
    "                    j, k, inum[j, k], itype[j, k, 0], itype[j, k, 1], \n",
    "                     ipos[j, k, 0], ipos[j, k, 1]))\n",
    "    else:\n",
    "        f.write( '{0:<5} {1:<13} {2:<7} {3:<18} {4:<10}   \\n'.format(\n",
    "                     j, k, inum[j, k],  itype[j, k, 0],  ipos[j, k, 0], ))\n",
    "f.close()"
   ]
  },
  {
   "cell_type": "code",
   "execution_count": 31,
   "metadata": {
    "code_folding": [
     1,
     7
    ],
    "collapsed": true
   },
   "outputs": [],
   "source": [
    "f = open('dryin.dat', 'a')\n",
    "for k in range(nrow-1,0,-1):\n",
    "    if inum[j, k] == 2:\n",
    "        f.write( '{0:<5} {1:<13} {2:<7} {3:<8} {4:<9} {5:<8} {6:<6} \\n'.format(\n",
    "                    j, k, inum[j, k], itype[j, k, 0], itype[j, k, 1], \n",
    "                     ipos[j, k, 0], ipos[j, k, 1]))\n",
    "    else:\n",
    "        f.write( '{0:<5} {1:<13} {2:<7} {3:<18} {4:<10}   \\n'.format(\n",
    "                     j, k, inum[j, k],  itype[j, k, 0],  ipos[j, k, 0], ))\n",
    "\n",
    "f.close()"
   ]
  },
  {
   "cell_type": "code",
   "execution_count": 32,
   "metadata": {
    "code_folding": [],
    "collapsed": true
   },
   "outputs": [],
   "source": [
    "f = open('dryin.dat', 'a')\n",
    "for j in range(ncol-1,1,-1):\n",
    "    if inum[j, k] == 2:\n",
    "        f.write( '{0:<5} {1:<13} {2:<7} {3:<8} {4:<9} {5:<8} {6:<6} \\n'.format(\n",
    "                    j, k, inum[j, k], itype[j, k, 0], itype[j, k, 1], \n",
    "                     ipos[j, k, 0], ipos[j, k, 1]))\n",
    "    else:\n",
    "        f.write( '{0:<5} {1:<13} {2:<7} {3:<18} {4:<10}   \\n'.format(\n",
    "                     j, k, inum[j, k],  itype[j, k, 0],  ipos[j, k, 0], ))\n",
    "f.close()\n",
    "\n"
   ]
  },
  {
   "cell_type": "code",
   "execution_count": 33,
   "metadata": {
    "collapsed": false
   },
   "outputs": [],
   "source": [
    "kbeg = np.ones(ncol+1, dtype = int)\n",
    "kend = np.ones(ncol+1, dtype = int)*63"
   ]
  },
  {
   "cell_type": "code",
   "execution_count": 34,
   "metadata": {
    "collapsed": false
   },
   "outputs": [],
   "source": [
    "f = open('dryin.dat', 'a')\n",
    "f.write('ncol\\n')\n",
    "f.write(\"{0}\\n\".format(ncol))\n",
    "f.write('j     kbeg          kend \\n')\n",
    "for j in range(1, ncol+1):\n",
    "    f.write( '{0:>5}  {1:>5} {2:>13}   \\n'.format(\n",
    "                j, kbeg[j],kend[k] ))\n",
    "f.close()"
   ]
  },
  {
   "cell_type": "code",
   "execution_count": 35,
   "metadata": {
    "collapsed": false
   },
   "outputs": [],
   "source": [
    "\n",
    "f = open('dryin.dat', 'a')\n",
    "f.write('h0l      u0l    v0l   \\n ')\n",
    "f.write('0.d0     0.0    0.0  \\n ')\n",
    "f.write('h0r      u0r    v0r  \\n ')\n",
    "f.write('0.d0     0.0    0.0  \\n ')\n",
    "f.close()"
   ]
  },
  {
   "cell_type": "code",
   "execution_count": 36,
   "metadata": {
    "collapsed": true
   },
   "outputs": [],
   "source": [
    "f = open('dryin.dat', 'a')\n",
    "f.write('number of fixed bc cells, ndir       \\n ')\n",
    "f.write('3\\n ')\n",
    "f.write('j     k    fix h    fix u    fix v        period    amplitude\\n ')\n",
    "f.write('43   63    0.d0     0.d0      -0.052d0     0.d0       0.d0\\n ')\n",
    "f.write('44   63    0.d0     0.d0      -0.052d0     0.d0       0.d0\\n ')\n",
    "f.write('45   63    0.d0     0.d0      -0.052d0     0.d0       0.d0\\n ')\n",
    "f.close()"
   ]
  },
  {
   "cell_type": "markdown",
   "metadata": {},
   "source": [
    " use cells below to print (j,k, inum, itype, ipos)  section without funny formatting"
   ]
  },
  {
   "cell_type": "raw",
   "metadata": {},
   "source": [
    "for j in range(ncol-1,0,-1):\n",
    "    if inum[j,k] == 2:\n",
    "            print j, ' \\t', k, '\\t', inum[j, k], '\\t',  \\\n",
    "            '{0} \\t {1} \\t'.format(itype[j, k, 0], itype[j, k, 1]), \\\n",
    "            '{0} \\t {1}'.format(ipos[j, k, 0], ipos[j, k, 1])\n",
    "    else:\n",
    "        print j, '\\t', k, '\\t', inum[j, k], '\\t',  \\\n",
    "            '{0} \\t \\t'.format(itype[j, k, 0], ipos[j, k, 1]), \\\n",
    "            '{0} \\t \\t'.format(ipos[j, k, 0])\n"
   ]
  },
  {
   "cell_type": "raw",
   "metadata": {},
   "source": [
    "for k in range(nrow-1,0,-1):\n",
    "    if inum[j,k] == 2:\n",
    "            print j, ' \\t', k, '\\t', inum[j, k], '\\t',  \\\n",
    "            '{0} \\t {1} \\t'.format(itype[j, k, 0], itype[j, k, 1]), \\\n",
    "            '{0} \\t {1}'.format(ipos[j, k, 0], ipos[j, k, 1])\n",
    "    else:\n",
    "        print j, '\\t', k, '\\t', inum[j, k], '\\t',  \\\n",
    "            '{0} \\t \\t'.format(itype[j, k, 0], ipos[j, k, 1]), \\\n",
    "            '{0} \\t \\t'.format(ipos[j, k, 0])\n"
   ]
  },
  {
   "cell_type": "raw",
   "metadata": {},
   "source": [
    "for j in range(2, ncol+1):\n",
    "    if inum[j,k] == 2:\n",
    "            print j, ' \\t', k, '\\t', inum[j, k], '\\t',  \\\n",
    "            '{0} \\t {1} \\t'.format(itype[j, k, 0], itype[j, k, 1]), \\\n",
    "            '{0} \\t {1}'.format(ipos[j, k, 0], ipos[j, k, 1])\n",
    "    else:\n",
    "        print j, '\\t', k, '\\t', inum[j, k], '\\t',  \\\n",
    "            '{0} \\t \\t'.format(itype[j, k, 0], ipos[j, k, 1]), \\\n",
    "            '{0} \\t \\t'.format(ipos[j, k, 0])\n"
   ]
  },
  {
   "cell_type": "raw",
   "metadata": {},
   "source": [
    "print(' j \\t  k      inum    itype            ipos')\n",
    "for k in range(1, nrow+1):\n",
    "    if inum[1, k] == 2:\n",
    "        print 1, '\\t', k, '\\t', inum[1, k], '\\t',  \\\n",
    "            '{0} \\t {1} \\t'.format(itype[1, k, 0], itype[1, k, 1]), \\\n",
    "            '{0} \\t {1}'.format(ipos[1, k, 0], ipos[1, k, 1])\n",
    "    else:\n",
    "        print 1, '\\t', k, '\\t', inum[1, k], '\\t',  \\\n",
    "            '{0} \\t \\t'.format(itype[1, k, 0], ipos[1, k, 1]), \\\n",
    "            '{0} \\t \\t'.format(ipos[1, k, 0])"
   ]
  },
  {
   "cell_type": "code",
   "execution_count": 61,
   "metadata": {
    "collapsed": false
   },
   "outputs": [
    {
     "data": {
      "text/plain": [
       "<matplotlib.colorbar.Colorbar at 0x111f60890>"
      ]
     },
     "execution_count": 61,
     "metadata": {},
     "output_type": "execute_result"
    },
    {
     "data": {
      "image/png": "[encoded data removed]",
      "text/plain": [
       "<matplotlib.figure.Figure at 0x10f8bed90>"
      ]
     },
     "metadata": {},
     "output_type": "display_data"
    }
   ],
   "source": [
    "#plt.pcolor(itype[1:, 1:, 0], cmap = \"rainbow\")\n",
    "plt.pcolor(itype[:,:, 0], cmap = \"rainbow\")\n",
    "plt.colorbar()\n"
   ]
  },
  {
   "cell_type": "markdown",
   "metadata": {
    "collapsed": true
   },
   "source": [
    "## maybe useful for future open set up"
   ]
  },
  {
   "cell_type": "code",
   "execution_count": 62,
   "metadata": {
    "collapsed": true
   },
   "outputs": [],
   "source": [
    "\n",
    "xc = np.arange(1,ncol+2)\n",
    "yc = np.arange(1,nrow+2)\n",
    "zc = np.arange(1,nrow+2)\n",
    "yc, xc = np.meshgrid(yc, xc)\n"
   ]
  },
  {
   "cell_type": "code",
   "execution_count": 63,
   "metadata": {
    "collapsed": false
   },
   "outputs": [],
   "source": [
    "\n",
    "nbcell = ncol*2+nrow*2 -4\n",
    "xdum = np.arange(10.125, 199.125, 2 )\n",
    "ydum = np.arange(9, 137, 2)\n",
    "\n",
    "ydum, xdum = np.meshgrid(ydum, xdum)\n",
    "\n",
    "x = np.zeros(npt + 1)\n",
    "y = np.zeros(npt + 1)\n",
    "z = np.zeros(npt + 1)\n",
    "x[1:] = xdum.ravel()\n",
    "y[1:] = ydum.ravel()\n",
    "z[1:] = (1-ydum/64.).ravel()"
   ]
  },
  {
   "cell_type": "code",
   "execution_count": 64,
   "metadata": {
    "collapsed": false
   },
   "outputs": [
    {
     "data": {
      "text/plain": [
       "array([[   1,    2,    3, ...,   62,   63,   64],\n",
       "       [  65,   66,   67, ...,  126,  127,  128],\n",
       "       [ 129,  130,  131, ...,  190,  191,  192],\n",
       "       ..., \n",
       "       [5889, 5890, 5891, ..., 5950, 5951, 5952],\n",
       "       [5953, 5954, 5955, ..., 6014, 6015, 6016],\n",
       "       [6017, 6018, 6019, ..., 6078, 6079, 6080]])"
      ]
     },
     "execution_count": 64,
     "metadata": {},
     "output_type": "execute_result"
    }
   ],
   "source": [
    "nodes = np.arange(1, npt+1).reshape([ncol+1, nrow+1])\n",
    "nodes"
   ]
  },
  {
   "cell_type": "code",
   "execution_count": 65,
   "metadata": {
    "collapsed": true
   },
   "outputs": [],
   "source": [
    "nop = np.zeros([ncol+1, nrow+1, 4])\n",
    "for j in range(ncol):\n",
    "    for k in range(nrow):\n",
    "        nop[j+1, k+1] =  nodes[j,k], nodes[j+1, k], nodes[j+1,k+1], nodes[j,k+1]\n",
    "    "
   ]
  },
  {
   "cell_type": "code",
   "execution_count": 66,
   "metadata": {
    "collapsed": false
   },
   "outputs": [
    {
     "data": {
      "text/plain": [
       "<matplotlib.colorbar.Colorbar at 0x112b4be90>"
      ]
     },
     "execution_count": 66,
     "metadata": {},
     "output_type": "execute_result"
    },
    {
     "data": {
      "image/png": "[encoded data removed]",
      "text/plain": [
       "<matplotlib.figure.Figure at 0x111701b50>"
      ]
     },
     "metadata": {},
     "output_type": "display_data"
    }
   ],
   "source": [
    "plt.pcolor(yc.T)\n",
    "plt.colorbar()"
   ]
  },
  {
   "cell_type": "code",
   "execution_count": null,
   "metadata": {
    "collapsed": true
   },
   "outputs": [],
   "source": []
  },
  {
   "cell_type": "code",
   "execution_count": null,
   "metadata": {
    "collapsed": true
   },
   "outputs": [],
   "source": []
  }
 ],
 "metadata": {
  "anaconda-cloud": {},
  "kernelspec": {
   "display_name": "Python [default]",
   "language": "python",
   "name": "python2"
  },
  "language_info": {
   "codemirror_mode": {
    "name": "ipython",
    "version": 2
   },
   "file_extension": ".py",
   "mimetype": "text/x-python",
   "name": "python",
   "nbconvert_exporter": "python",
   "pygments_lexer": "ipython2",
   "version": "2.7.12"
  }
 },
 "nbformat": 4,
 "nbformat_minor": 0
}
