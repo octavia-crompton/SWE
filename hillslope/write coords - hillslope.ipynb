{
 "cells": [
  {
   "cell_type": "markdown",
   "metadata": {},
   "source": [
    "### writes 'coords'  for open boundary case\n",
    "-  Differences:  regular grid, no wall\n",
    "\n",
    "file format:  \n",
    "-  npt, ne  (number of points, number of edges)\n",
    "-  for i in npt:  x(i), y(i), z(i)   \n",
    "-  loop over cells (j,k):  \n",
    "     write node numbers surrounding cell, counterclockwise from lower left"
   ]
  },
  {
   "cell_type": "code",
   "execution_count": 379,
   "metadata": {
    "collapsed": true,
    "scrolled": true
   },
   "outputs": [],
   "source": [
    "%matplotlib inline"
   ]
  },
  {
   "cell_type": "code",
   "execution_count": 380,
   "metadata": {
    "collapsed": true,
    "scrolled": true
   },
   "outputs": [],
   "source": [
    "import matplotlib.pylab as plt\n",
    "import numpy as np\n",
    "import scipy as sp\n",
    "\n",
    "from osgeo import gdal\n",
    "import osr\n"
   ]
  },
  {
   "cell_type": "code",
   "execution_count": 389,
   "metadata": {
    "collapsed": false
   },
   "outputs": [],
   "source": [
    "# interpolate DEM to veg \n",
    "from scipy import interpolate\n",
    "# from scipy.interpolate import griddata\n",
    "\n",
    "# get DEM coords\n",
    "ds = gdal.Open(\"/Users/octavia/deesse/dem files/HillslopeDEM.tif\")\n",
    "dem = np.array(ds.GetRasterBand(1).ReadAsArray())\n",
    "dem[dem < -1e5] = np.nan\n",
    "\n",
    "nrows, ncols = dem.shape\n",
    "y0, dy , dydx, x0, dxdy, dx= ds.GetGeoTransform()\n",
    "x = np.arange(0,  -dx*nrows, -dx)\n",
    "y  = np.arange(0, dy*ncols, dy )\n",
    "X, Y = np.meshgrid(x, y)\n",
    "\n",
    "# points = np.vstack((X.ravel(), Y.ravel())).T\n",
    "# points = points[ ~np.isnan(dem.ravel())]\n",
    "# dempoints = dem.ravel()[~np.isnan(dem.ravel())]\n",
    "# slopepoints = slope.ravel()[~np.isnan(slope.ravel())]"
   ]
  },
  {
   "cell_type": "code",
   "execution_count": 390,
   "metadata": {
    "collapsed": false
   },
   "outputs": [
    {
     "data": {
      "text/plain": [
       "(798,)"
      ]
     },
     "execution_count": 390,
     "metadata": {},
     "output_type": "execute_result"
    }
   ],
   "source": [
    "x.shape"
   ]
  },
  {
   "cell_type": "code",
   "execution_count": 391,
   "metadata": {
    "collapsed": false
   },
   "outputs": [
    {
     "data": {
      "text/plain": [
       "(798, 785)"
      ]
     },
     "execution_count": 391,
     "metadata": {},
     "output_type": "execute_result"
    }
   ],
   "source": [
    "dem.shape"
   ]
  },
  {
   "cell_type": "code",
   "execution_count": 392,
   "metadata": {
    "collapsed": false
   },
   "outputs": [
    {
     "data": {
      "text/plain": [
       "<matplotlib.colorbar.Colorbar at 0x130017350>"
      ]
     },
     "execution_count": 392,
     "metadata": {},
     "output_type": "execute_result"
    },
    {
     "data": {
      "image/png": "[encoded data removed]",
      "text/plain": [
       "<matplotlib.figure.Figure at 0x12e7ef990>"
      ]
     },
     "metadata": {},
     "output_type": "display_data"
    }
   ],
   "source": [
    "dx = 65\n",
    "dy = 100\n",
    "xi = 545; xf = xi + dx\n",
    "yi = 400; yf = yi + dy\n",
    "\n",
    "# print SLOPE[yi:yf,xi:xf].mean(), '+/-', SLOPE[yi:yf,xi:xf].var() \n",
    "plt.figure(figsize = (7, 4))\n",
    "plt.imshow(dem[xi:xf, yi:yf], cmap='gist_earth', interpolation = 'none',\n",
    "           aspect = 'auto')\n",
    "plt.colorbar()"
   ]
  },
  {
   "cell_type": "code",
   "execution_count": 427,
   "metadata": {
    "collapsed": true
   },
   "outputs": [],
   "source": [
    "xdum = x[xi:xf]\n",
    "ydum = y[yi:yf]\n",
    "ydum, xdum = np.meshgrid(ydum, xdum)\n",
    "zdum = dem[ xi:xf,yi:yf]"
   ]
  },
  {
   "cell_type": "code",
   "execution_count": 428,
   "metadata": {
    "collapsed": false
   },
   "outputs": [],
   "source": [
    "ncol = len(x[xi:xf])-1\n",
    "nrow = len(y[yi:yf])-1"
   ]
  },
  {
   "cell_type": "code",
   "execution_count": 429,
   "metadata": {
    "collapsed": false
   },
   "outputs": [
    {
     "data": {
      "text/plain": [
       "(65, 100)"
      ]
     },
     "execution_count": 429,
     "metadata": {},
     "output_type": "execute_result"
    }
   ],
   "source": [
    "zdum.shape"
   ]
  },
  {
   "cell_type": "code",
   "execution_count": null,
   "metadata": {
    "collapsed": true
   },
   "outputs": [],
   "source": []
  },
  {
   "cell_type": "code",
   "execution_count": 430,
   "metadata": {
    "collapsed": false
   },
   "outputs": [
    {
     "data": {
      "text/plain": [
       "(65, 100)"
      ]
     },
     "execution_count": 430,
     "metadata": {},
     "output_type": "execute_result"
    }
   ],
   "source": [
    "ydum.shape"
   ]
  },
  {
   "cell_type": "code",
   "execution_count": 431,
   "metadata": {
    "collapsed": true
   },
   "outputs": [],
   "source": [
    "npt = (ncol+1)*(nrow+1)\n",
    "ne = nrow*ncol"
   ]
  },
  {
   "cell_type": "code",
   "execution_count": 432,
   "metadata": {
    "collapsed": false
   },
   "outputs": [],
   "source": [
    "x = np.zeros(npt + 1)\n",
    "y = np.zeros(npt + 1)\n",
    "z = np.zeros(npt + 1)\n",
    "x[1:] = xdum.ravel()\n",
    "y[1:] = ydum.ravel()\n",
    "z[1:] = zdum.ravel()"
   ]
  },
  {
   "cell_type": "code",
   "execution_count": 433,
   "metadata": {
    "collapsed": false
   },
   "outputs": [],
   "source": [
    "# N = sp.randn(nrow+1)/10.\n",
    "# from  scipy.ndimage.filters import gaussian_filter\n",
    "# gz =  gaussian_filter(N, 5, order=1, output=None, cval=0.0, truncate=20.0)\n",
    "# gz = gz + np.linspace(0, 0.3, nrow+1)"
   ]
  },
  {
   "cell_type": "code",
   "execution_count": 434,
   "metadata": {
    "collapsed": false
   },
   "outputs": [],
   "source": [
    "nodes = np.arange(1, npt+1, dtype = int).reshape([ ncol+1,nrow+1])"
   ]
  },
  {
   "cell_type": "code",
   "execution_count": 435,
   "metadata": {
    "collapsed": false
   },
   "outputs": [
    {
     "data": {
      "text/plain": [
       "<matplotlib.colorbar.Colorbar at 0x13192c3d0>"
      ]
     },
     "execution_count": 435,
     "metadata": {},
     "output_type": "execute_result"
    },
    {
     "data": {
      "image/png": "[encoded data removed]",
      "text/plain": [
       "<matplotlib.figure.Figure at 0x13040b190>"
      ]
     },
     "metadata": {},
     "output_type": "display_data"
    }
   ],
   "source": [
    "plt.imshow(nodes)\n",
    "plt.colorbar()"
   ]
  },
  {
   "cell_type": "code",
   "execution_count": 436,
   "metadata": {
    "collapsed": false
   },
   "outputs": [],
   "source": [
    "nop = np.zeros([ ncol+1, nrow+1, 4], dtype = int)\n",
    "for j in range(ncol):\n",
    "    for k in range(nrow):\n",
    "        nop[j+1, k+1] =  nodes[j,k], nodes[j+1, k], nodes[j+1,k+1], nodes[j,k+1]"
   ]
  },
  {
   "cell_type": "code",
   "execution_count": 437,
   "metadata": {
    "collapsed": false
   },
   "outputs": [],
   "source": [
    "# dry_py.f needs an input file.  this file creates it.\n",
    "f = open('coords', 'w')\n",
    "f.write('{0:<13}   {1:<13}\\n'.format(npt, ne))\n",
    "\n",
    "# write x, y, z\n",
    "for n in range(1, npt+1):\n",
    "    f.write('{0:<13.6f} {1:<13.6f} {2:<13.6f}\\n'.format(x[n],y[n],z[n])) \n",
    "    \n",
    "# write node numbers  \n",
    "for j in range(1, ncol+1):\n",
    "    for k in range(1, nrow+1):\n",
    "        n1 = nop[j, k, 0] \n",
    "        n2 = nop[j, k, 1]       \n",
    "        n3 = nop[j, k, 2]        \n",
    "        n4 = nop[j, k, 3] \n",
    "        f.write('{0:<10} {1:<10}  {2:<10} {3:<10}\\n'.format(n1, n2, n3, n4)) \n",
    "f.close()"
   ]
  },
  {
   "cell_type": "code",
   "execution_count": 438,
   "metadata": {
    "collapsed": false
   },
   "outputs": [
    {
     "data": {
      "text/plain": [
       "<matplotlib.colorbar.Colorbar at 0x131b8d290>"
      ]
     },
     "execution_count": 438,
     "metadata": {},
     "output_type": "execute_result"
    },
    {
     "data": {
      "image/png": "[encoded data removed]",
      "text/plain": [
       "<matplotlib.figure.Figure at 0x1319d93d0>"
      ]
     },
     "metadata": {},
     "output_type": "display_data"
    }
   ],
   "source": [
    "## get cell center values:\n",
    "xcc  = np.zeros([ncol+2, nrow+2])    \n",
    "ycc  = np.zeros([ncol+2, nrow+2])\n",
    "zcc  = np.zeros([ncol+2, nrow+2])\n",
    "\n",
    "for j in range(ncol+1):\n",
    "    for k in range( nrow+1):\n",
    "        n1 = nop[j, k, 0] \n",
    "        n2 = nop[j, k, 1]       \n",
    "        n3 = nop[j, k, 2]        \n",
    "        n4 = nop[j, k, 3]  \n",
    "        xcc[j,k] = 0.25*(x[n1] + x[n2] + x[n3] + x[n4])  \n",
    "        ycc[j,k] = 0.25*(y[n1] + y[n2] + y[n3] + y[n4])\n",
    "        zcc[j,k] = 0.25*(z[n1] + z[n2] + z[n3] + z[n4])        \n",
    "        \n",
    "plt.imshow(zcc[1:-1, 1:-1], cmap = \"Blues\", origin = \"lower\",\n",
    "           interpolation='none')\n",
    "plt.colorbar()\n"
   ]
  }
 ],
 "metadata": {
  "anaconda-cloud": {},
  "kernelspec": {
   "display_name": "Python [default]",
   "language": "python",
   "name": "python2"
  },
  "language_info": {
   "codemirror_mode": {
    "name": "ipython",
    "version": 2
   },
   "file_extension": ".py",
   "mimetype": "text/x-python",
   "name": "python",
   "nbconvert_exporter": "python",
   "pygments_lexer": "ipython2",
   "version": "2.7.12"
  }
 },
 "nbformat": 4,
 "nbformat_minor": 0
}
