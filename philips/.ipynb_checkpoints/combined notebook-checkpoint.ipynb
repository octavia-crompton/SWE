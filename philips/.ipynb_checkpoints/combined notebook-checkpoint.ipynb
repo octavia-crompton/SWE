{
 "cells": [
  {
   "cell_type": "code",
   "execution_count": 27,
   "metadata": {
    "collapsed": true,
    "scrolled": false
   },
   "outputs": [],
   "source": [
    "%matplotlib inline"
   ]
  },
  {
   "cell_type": "code",
   "execution_count": 28,
   "metadata": {
    "code_folding": [],
    "collapsed": false,
    "scrolled": false
   },
   "outputs": [],
   "source": [
    "# load packages\n",
    "import matplotlib.pylab as plt\n",
    "import numpy as np\n",
    "\n",
    "def myfloat(b):\n",
    "    try: \n",
    "        b = float(b)\n",
    "    except ValueError:\n",
    "        b = [b for b in b.split('-').split('+') if b]\n",
    "        b = float(b[0])*10**(-float(b[1]))\n",
    "    return b\n"
   ]
  },
  {
   "cell_type": "code",
   "execution_count": 29,
   "metadata": {
    "collapsed": false
   },
   "outputs": [],
   "source": [
    "ncol = 20\n",
    "nrow = 100\n",
    "dt = 0.05\n",
    "tmax = 2000\n",
    "nprt = int(tmax/200/dt)\n",
    "slope = 30\n",
    "epsh = 0.005\n",
    "dx = 0.1\n",
    "hinit = 0\n",
    "prate  = 0.07/3600.\n",
    "xni = 0.03  # interspace roughness\n",
    "xnv = 0.1   # vegetation roughness\n",
    "ksati =  0.0 # 0.019/3600.  # interspace ksat\n",
    "Soi = 0.0   # interspace sorptivity (m/s)"
   ]
  },
  {
   "cell_type": "code",
   "execution_count": 30,
   "metadata": {
    "code_folding": [],
    "collapsed": false
   },
   "outputs": [],
   "source": [
    "def write_coords(fname = 'coords', ncol = ncol, nrow = nrow, dx = dx, \n",
    "                 slope = slope, xni = xni, ksati = ksati, Soi = Soi):        \n",
    "    npt = (ncol+1)*(nrow+1)  # number of points\n",
    "    ne = nrow*ncol  # number of edges\n",
    "    nbcell = 2*ncol + 2*nrow - 4  # number of boundary cells\n",
    "\n",
    "    xdum = np.arange(1, (ncol+1)*dx+1 - 1e-10, dx )\n",
    "    ydum = np.arange(1, (nrow+1)*dx+1 - 1e-10, dx )\n",
    "    ydum, xdum = np.meshgrid(ydum, xdum)\n",
    "\n",
    "    zmax = slope/100.*(np.max(ydum) - np.min(ydum))\n",
    "    zdum = np.linspace(0, zmax, nrow+1)\n",
    "    zdum = np.tile(zdum, [ncol+1]).reshape([ncol+1, nrow+1])\n",
    "    \n",
    "    xndum = np.ones_like(zdum)*xni    \n",
    "#     xndum[:, :nrow/2]  = xnv\n",
    "    \n",
    "    ksat_dum = np.ones_like(zdum)*ksati    \n",
    "    Sodum = np.ones_like(zdum)*Soi    \n",
    "    \n",
    "    x = np.zeros(npt + 1)\n",
    "    y = np.zeros(npt + 1)\n",
    "    z = np.zeros(npt + 1)\n",
    "    xn = np.zeros(npt + 1)\n",
    "    satk = np.zeros(npt + 1)\n",
    "    So = np.zeros(npt + 1)\n",
    "    x[1:] = xdum.ravel()\n",
    "    y[1:] = ydum.ravel()\n",
    "    z[1:] = zdum.ravel()\n",
    "    xn[1:] = xndum.ravel()\n",
    "    satk[1:] = ksat_dum.ravel()\n",
    "    So[1:] = Sodum.ravel()\n",
    "\n",
    "#   print (np.max(zdum) - np.min(zdum))/(np.max(ydum) - np.min(ydum))*100\n",
    "    # (ncol+1) by (nrow+1)  -  node numbers\n",
    "    nodes = np.arange(1, npt+1, dtype = int).reshape([ncol+1, nrow+1])\n",
    "\n",
    "    nop = np.zeros([ncol+1, nrow+1, 4], dtype = int)\n",
    "    for j in range(ncol):\n",
    "        for k in range(nrow):\n",
    "            nop[j+1, k+1] =  nodes[j,k], nodes[j+1, k], nodes[j+1,k+1], nodes[j,k+1]\n",
    "            \n",
    "    f = open(fname, 'w')\n",
    "    f.write('{0:<13}   {1:<13}\\n'.format(npt, ne))\n",
    "\n",
    "    # write x, y, z\n",
    "    for n in range(1, npt+1):\n",
    "        f.write('{0:<13.6f} {1:<13.6f} {2:<13.6f} {3:<13.6e} {4:<13.6e} {5:<13.6e} \\n'.format(\n",
    "                    x[n],y[n],z[n],xn[n],satk[n],So[n])) \n",
    "\n",
    "    # write node numbers  \n",
    "    for j in range(1, ncol+1):\n",
    "        for k in range(1, nrow+1):\n",
    "            n1 = nop[j, k, 0] \n",
    "            n2 = nop[j, k, 1]       \n",
    "            n3 = nop[j, k, 2]        \n",
    "            n4 = nop[j, k, 3] \n",
    "            f.write('{0:<10} {1:<10}  {2:<10} {3:<10}\\n'.format(n1, n2, n3, n4)) \n",
    "    f.close()  \n",
    "\n",
    "    # get cell center values:\n",
    "    xcc  = np.zeros([ncol+2, nrow+2])    \n",
    "    ycc  = np.zeros([ncol+2, nrow+2])\n",
    "    zcc  = np.zeros([ncol+2, nrow+2])\n",
    "    xncc  = np.zeros([ncol+2, nrow+2])\n",
    "    satkc = np.zeros([ncol+2, nrow+2])\n",
    "    Soc = np.zeros([ncol+2, nrow+2])    \n",
    "    for j in range(1, ncol+1):\n",
    "        for k in range(1, nrow+1):\n",
    "            n1 = nop[j, k, 0] \n",
    "            n2 = nop[j, k, 1]       \n",
    "            n3 = nop[j, k, 2]        \n",
    "            n4 = nop[j, k, 3]  \n",
    "            xcc[j,k] = 0.25*(x[n1] + x[n2] + x[n3] + x[n4])  \n",
    "            ycc[j,k] = 0.25*(y[n1] + y[n2] + y[n3] + y[n4])\n",
    "            zcc[j,k] = 0.25*(z[n1] + z[n2] + z[n3] + z[n4])   \n",
    "            xncc[j,k] = 0.25*(xn[n1] + xn[n2] + xn[n3] + xn[n4])   \n",
    "            satkc[j,k] = 0.25*(satk[n1] + satk[n2] + satk[n3] + satk[n4])   \n",
    "            Soc[j,k] = 0.25*(So[n1] + So[n2] + So[n3] + So[n4])   \n",
    "    return  nop, x, y, z, xcc, ycc, zcc, xncc, satk, Soc\n"
   ]
  },
  {
   "cell_type": "code",
   "execution_count": 31,
   "metadata": {
    "collapsed": false
   },
   "outputs": [],
   "source": [
    "nop, x, y, z, xc, yc, zc, xnc, satkc, Soc = write_coords(fname='coords')"
   ]
  },
  {
   "cell_type": "code",
   "execution_count": 32,
   "metadata": {
    "collapsed": false
   },
   "outputs": [],
   "source": [
    "area = np.max(y)*np.max(x)"
   ]
  },
  {
   "cell_type": "code",
   "execution_count": 33,
   "metadata": {
    "collapsed": false
   },
   "outputs": [],
   "source": [
    "def write_dryin(fname = 'dryin.dat', ncol = ncol, nrow = nrow, dt = dt, \n",
    "                 tmax = tmax, prate = prate, nprt = nprt, epsh = epsh,\n",
    "                 hinit = hinit):\n",
    "    inum = np.zeros([ncol+1, nrow+1], dtype = int)\n",
    "    inum[1:, 1] = 1\n",
    "    inum[1:, -1]= 1\n",
    "    inum[1, 1:] = 1\n",
    "    inum[-1, 1:] = 1\n",
    "    inum[1, 1] = 2\n",
    "    inum[1, -1] = 2\n",
    "    inum[-1, -1] = 2\n",
    "    inum[-1, 1] = 2\n",
    "    \n",
    "    ipos = np.zeros( [ncol+1, nrow+1, 2], dtype = int)\n",
    "    # bottom boundary\n",
    "    ipos[2:-1, 1,0] = 1\n",
    "    ipos[1, 1,1] = 1\n",
    "    ipos[-1, 1,1] = 1\n",
    "\n",
    "    # right boundary\n",
    "    ipos[-1, 1:-1, 0] = 2\n",
    "    ipos[-1, -1,1] = 2\n",
    "\n",
    "    # left boundary\n",
    "    ipos[1, 1:, 0] = 4\n",
    "\n",
    "    # top boundary\n",
    "    ipos[2:, -1,0] = 3\n",
    "    ipos[1, -1,1] = 3\n",
    "    \n",
    "    itype = np.zeros([ncol+1, nrow+1, 2], dtype = int)\n",
    "    # bottom boundary\n",
    "    itype[2:-1, 1,0] = 0\n",
    "    itype[1, 1,1] = 0\n",
    "    itype[-1, 1,1] = 0\n",
    "\n",
    "    # right boundary\n",
    "    itype[-1, 1:-1, 0] = 1\n",
    "    itype[-1, -1,1] = 1\n",
    "\n",
    "    # left boundary\n",
    "    itype[1, 1:,0] = 1\n",
    "\n",
    "    # top boundary\n",
    "    itype[2:, -1,0] = 1\n",
    "    itype[1, -1,1] = 1\n",
    "    \n",
    "    npt = (ncol+1)*(nrow+1)  # number of points\n",
    "    ne = nrow*ncol  # number of edges\n",
    "    nbcell = 2*ncol + 2*nrow - 4  # number of boundary cells\n",
    "\n",
    "    f = open(fname, 'w')\n",
    "    f.write('gravity     dt        tmax      xsplit   \\n')\n",
    "    f.write('9.806d0     {0}       {1}     100.d0   \\n'.format(dt, tmax))\n",
    "    f.write(' epsh        beta       prate \\n')  \n",
    "    f.write('{0}d0     2.d0       {1:6e}  \\n'.format(epsh, prate))\n",
    "    #     f.write('0.0025d0    2.d0   {0}d0 \\n'.format(prate))\n",
    "    f.write('xk          ainflt       binflt           tc           cappa \\n')\n",
    "    # xk = 3.9217d-4\n",
    "    f.write('3.9217d-4   0.5d0       2.65d-7          0.d0        0.99d0 \\n')\n",
    "    f.write('istart     imass      ifront         print interval  \\n')\n",
    "    f.write(' 0         1          1               {0} \\n'.format(nprt))\n",
    "    f.write('number of boundary cell \\n') \n",
    "    f.write('  {0} \\n'.format(nbcell))\n",
    "    f.write(' j    k          inum    itype             ipos \\n')\n",
    "    # f.write(' j \\t k \\tinum    itype \\t\\t ipos')\n",
    "    j = 1\n",
    "    for k in range(1, nrow+1):\n",
    "        if inum[j, k] == 2:\n",
    "            f.write( '{0:<5} {1:<13} {2:<7} {3:<8} {4:<9} {5:<8} {6:<6} \\n'.format(\n",
    "                        j, k, inum[j, k], itype[j, k, 0], itype[j, k, 1], \n",
    "                         ipos[j, k, 0], ipos[j, k, 1]))\n",
    "        else:\n",
    "            f.write( '{0:<5} {1:<13} {2:<7} {3:<18} {4:<10}   \\n'.format(\n",
    "                         j, k, inum[j, k],  itype[j, k, 0],  ipos[j, k, 0], ))\n",
    "\n",
    "    for j in range(2, ncol+1):\n",
    "        if inum[j, k] == 2:\n",
    "            f.write( '{0:<5} {1:<13} {2:<7} {3:<8} {4:<9} {5:<8} {6:<6} \\n'.format(\n",
    "                        j, k, inum[j, k], itype[j, k, 0], itype[j, k, 1], \n",
    "                         ipos[j, k, 0], ipos[j, k, 1]))\n",
    "        else:\n",
    "            f.write( '{0:<5} {1:<13} {2:<7} {3:<18} {4:<10}   \\n'.format(\n",
    "                         j, k, inum[j, k],  itype[j, k, 0],  ipos[j, k, 0], ))\n",
    "\n",
    "    for k in range(nrow-1,0,-1):\n",
    "        if inum[j, k] == 2:\n",
    "            f.write( '{0:<5} {1:<13} {2:<7} {3:<8} {4:<9} {5:<8} {6:<6} \\n'.format(\n",
    "                        j, k, inum[j, k], itype[j, k, 0], itype[j, k, 1], \n",
    "                         ipos[j, k, 0], ipos[j, k, 1]))\n",
    "        else:\n",
    "            f.write( '{0:<5} {1:<13} {2:<7} {3:<18} {4:<10}   \\n'.format(\n",
    "                         j, k, inum[j, k],  itype[j, k, 0],  ipos[j, k, 0], ))\n",
    "            \n",
    "    for j in range(ncol-1,1,-1):\n",
    "        if inum[j, k] == 2:\n",
    "            f.write( '{0:<5} {1:<13} {2:<7} {3:<8} {4:<9} {5:<8} {6:<6} \\n'.format(\n",
    "                        j, k, inum[j, k], itype[j, k, 0], itype[j, k, 1], \n",
    "                         ipos[j, k, 0], ipos[j, k, 1]))\n",
    "        else:\n",
    "            f.write( '{0:<5} {1:<13} {2:<7} {3:<18} {4:<10}   \\n'.format(\n",
    "                         j, k, inum[j, k],  itype[j, k, 0],  ipos[j, k, 0], ))\n",
    "\n",
    "    kbeg = np.ones(ncol+1, dtype = int)\n",
    "    kend = np.ones(ncol+1, dtype = int)*nrow\n",
    "   \n",
    "    f.write('ncol\\n')\n",
    "    f.write(\"{0}\\n\".format(ncol))\n",
    "    f.write('j     kbeg          kend \\n')\n",
    "    for j in range(1, ncol+1):\n",
    "        f.write( '{0:>5}  {1:>5} {2:>13}   \\n'.format(\n",
    "                    j, kbeg[j],kend[k] ))\n",
    "\n",
    "    f.write('h0l      u0l    v0l   \\n ')\n",
    "    f.write('{0}d0     0.0    0.0  \\n '.format(hinit))\n",
    "    f.write('h0r      u0r    v0r  \\n ')\n",
    "    f.write('{0}d0     0.0    0.0  \\n '.format(hinit))\n",
    "    f.close()\n",
    "    return inum, ipos, itype"
   ]
  },
  {
   "cell_type": "code",
   "execution_count": 34,
   "metadata": {
    "collapsed": true
   },
   "outputs": [],
   "source": [
    "inum, ipos, itype = write_dryin(fname = 'dryin.dat')"
   ]
  },
  {
   "cell_type": "code",
   "execution_count": 35,
   "metadata": {
    "collapsed": false
   },
   "outputs": [
    {
     "data": {
      "text/plain": [
       "''"
      ]
     },
     "execution_count": 35,
     "metadata": {},
     "output_type": "execute_result"
    }
   ],
   "source": [
    "from commands import getoutput as cmd\n",
    "cmd(\"gfortran dry.for\")"
   ]
  },
  {
   "cell_type": "code",
   "execution_count": null,
   "metadata": {
    "collapsed": false
   },
   "outputs": [],
   "source": [
    "a = cmd(\"./a.out\")"
   ]
  },
  {
   "cell_type": "markdown",
   "metadata": {},
   "source": [
    "## Output below this point"
   ]
  },
  {
   "cell_type": "code",
   "execution_count": null,
   "metadata": {
    "collapsed": false
   },
   "outputs": [],
   "source": [
    "# read time output\n",
    "t = []\n",
    "itp = []  #  print step\n",
    "it = []   #  time step\n",
    "f =  open(\"output/time.out\", 'r')\n",
    "f.next()\n",
    "for line in f:\n",
    "    a = (line.strip().split(\" \"))\n",
    "    a = [b for b in a if b]\n",
    "    t.append(float(a[0]))\n",
    "    itp.append(int(a[1]))\n",
    "    it.append(int(a[2]))\n",
    "ntstep = len(itp)\n",
    "tmax = t[-1]\n",
    "t = np.array(t)"
   ]
  },
  {
   "cell_type": "code",
   "execution_count": null,
   "metadata": {
    "collapsed": false
   },
   "outputs": [],
   "source": [
    "fldrstr = \"slope={1:.1f} prate={2:.1f} dx={3} dt={0:.1f}\".format( dt, slope,prate*100, dx)\n",
    "fmtstr = \"epsh={0} \".format(epsh)\n",
    "print fmtstr, fldrstr"
   ]
  },
  {
   "cell_type": "code",
   "execution_count": null,
   "metadata": {
    "collapsed": false
   },
   "outputs": [],
   "source": [
    "f =  open(\"output/cfl.out\", 'r')\n",
    "cfl = []\n",
    "ta = []\n",
    "for line in f:\n",
    "    a = line.strip().split(\" \")\n",
    "    a = [np.float(b) for b in a if b]\n",
    "    ta.append(a[0])\n",
    "    cfl.append(a[1])\n",
    "cfl =  np.array(cfl)\n",
    "\n",
    "f =plt.figure()\n",
    "yy = np.arange(nrow)\n",
    "plt.plot(ta[:],  cfl[:], '.', ms = 1, label = fmtstr)\n",
    "plt.legend(loc = 'best', fontsize = 10)\n",
    "plt.title('CFL number vs. time')\n",
    "plt.xlabel('time (s)')\n",
    "f.savefig('plots/CFL {0}.pdf'.format(fmtstr))"
   ]
  },
  {
   "cell_type": "code",
   "execution_count": null,
   "metadata": {
    "collapsed": false
   },
   "outputs": [],
   "source": [
    "h = []\n",
    "hdum =  np.zeros([ncol+2, nrow+2])\n",
    "\n",
    "for line in open(\"output/h.out\", 'r'):\n",
    "    a = (line.strip().split(\" \"))\n",
    "    a = [float(b) for b in a if b]\n",
    "    try:\n",
    "        j = int(a[0])\n",
    "        k = int(a[1])\n",
    "        hdum[j, k] = a[2]\n",
    "\n",
    "    except IndexError:\n",
    "        dumt = int(a[0])\n",
    "        h.append(hdum.copy())\n",
    "\n",
    "h = np.array(h)\n",
    "\n",
    "if len(h)!= ntstep:\n",
    "    print \"wrong shape\""
   ]
  },
  {
   "cell_type": "code",
   "execution_count": null,
   "metadata": {
    "collapsed": false
   },
   "outputs": [],
   "source": [
    "col = 5\n",
    "yy = yc[col,1:-1 ]\n",
    "\n",
    "f = plt.figure(figsize= (7,3))\n",
    "plt.plot(yy, zc[col, 1:-1], 'k-.',  label = 'elevation')\n",
    "plt.plot(yy, (zc + h[-1])[col, 1:-1], '-', label = 't={0:.0f}'.format(t[-1]) )\n",
    "plt.legend(loc = 'best', fontsize = 10)\n",
    "plt.xlabel('y'); plt.xlim(yc[col,1],yc[col,-2 ] )\n",
    "plt.title('final profile')\n",
    "f.savefig('plots/height {0}.pdf'.format(fmtstr))\n",
    "\n",
    "f = plt.figure(figsize= (7,3))\n",
    "yy = yc[col,1:-1 ]\n",
    "plt.plot(yy, ( h[0])[col, 1:-1], '-.', label = 't={0:.0f}'.format(t[0]) )\n",
    "plt.plot(yy, ( h[-1])[col, 1:-1], '--', label = 't={0:.0f}'.format(t[-1]) )\n",
    "plt.legend(loc = 'best', fontsize = 10)\n",
    "plt.xlabel('y'); plt.xlim(yc[col,1],yc[col,-2 ] ); \n",
    "# plt.xlabel('height (m)'); plt.ylim(np.min(h[:,1:-1,1:-1]-.1),np.max(h) +.1); \n",
    "plt.title('Water height')\n",
    "f.savefig('plots/profile {0}.pdf'.format(fmtstr))"
   ]
  },
  {
   "cell_type": "code",
   "execution_count": null,
   "metadata": {
    "collapsed": false
   },
   "outputs": [],
   "source": [
    "fig = plt.figure(figsize= (7,3.5))\n",
    "yy = np.arange(nrow)\n",
    "plt.plot(t,  h[:,col, 1], '-', label = 'y={0:.0f}'.format(yc[col, 1]))\n",
    "plt.plot(t,  h[:,col, nrow], '-', label = 'y={0:.0f}'.format(yc[col, nrow]))\n",
    "# plt.plot(t, 1 - Soi*t**.5 - ksati*t, '.')\n",
    "plt.legend(loc = 'best', fontsize = 10)\n",
    "plt.title('water height vs. time')\n",
    "plt.xlabel('time (s)')\n",
    "# f.savefig('plots/h {0}.pdf'.format(fmtstr))"
   ]
  },
  {
   "cell_type": "code",
   "execution_count": null,
   "metadata": {
    "collapsed": false
   },
   "outputs": [],
   "source": [
    "ta = []\n",
    "dvol = []\n",
    "infl = [] \n",
    "flux = []\n",
    "dts = []\n",
    "f = open('output/dvol.out', 'r'); \n",
    "for line in f:\n",
    "    a = (line.strip().split(\" \"))\n",
    "    a = [myfloat(b) for b in a if b]\n",
    "    ta.append(a[0])\n",
    "    dvol.append(a[1])\n",
    "    flux.append(a[2])\n",
    "    infl.append(a[3])\n",
    "    dts.append(a[4])\n",
    "ta = np.array(ta)\n",
    "dvol = np.array(dvol)\n",
    "flux = np.array(flux)\n",
    "infl = np.array(infl)\n",
    "total = dvol  - flux - infl"
   ]
  },
  {
   "cell_type": "code",
   "execution_count": null,
   "metadata": {
    "code_folding": [],
    "collapsed": true,
    "scrolled": false
   },
   "outputs": [],
   "source": [
    "def get_dvol(fname):\n",
    "    ta = []\n",
    "    dvol = []\n",
    "    infl = [] \n",
    "    flux = []\n",
    "    dts = []\n",
    "    f = open(fname, 'r'); \n",
    "    for line in f:\n",
    "        a = (line.strip().split(\" \"))\n",
    "        a = [myfloat(b) for b in a if b]\n",
    "        ta.append(a[0])\n",
    "        dvol.append(a[1])\n",
    "        flux.append(a[2])\n",
    "        infl.append(a[3])\n",
    "        dts.append(a[4])\n",
    "    ta = np.array(ta)\n",
    "    dvol = np.array(dvol)\n",
    "    flux = np.array(flux)\n",
    "    infl = np.array(infl)\n",
    "    total = dvol  - flux - infl\n",
    "    return ta, dvol, flux, infl, dts, total"
   ]
  },
  {
   "cell_type": "code",
   "execution_count": null,
   "metadata": {
    "collapsed": false,
    "scrolled": false
   },
   "outputs": [],
   "source": [
    "# if prate > 0:\n",
    "#     infl = infl - prate\n",
    "#     precip = prate*np.ones(infl.shape)"
   ]
  },
  {
   "cell_type": "code",
   "execution_count": null,
   "metadata": {
    "collapsed": false,
    "scrolled": false
   },
   "outputs": [],
   "source": [
    "ta, dvol, flux, infl, dt_array, total  = get_dvol('output/dvol.out')\n",
    "\n",
    "ti = 0; tf =len(ta)-1;  nprt = 10\n",
    "\n",
    "f = plt.figure(figsize= (9,5.5))\n",
    "plt.subplot(211)\n",
    "plt.plot(ta[ti:tf:nprt], dvol[ti:tf:nprt] - flux[ti:tf:nprt] - infl[ti:tf:nprt], '.', ms = 2)\n",
    "plt.title('mass balance (dV - fluxes - infiltration)', fontsize = 10)\n",
    "plt.ylabel('volume (m$^3$)'); plt.xlim([ta[ti], ta[tf]])\n",
    "plt.subplot(212)\n",
    "plt.plot(ta[ti:tf:nprt],np.cumsum(total)[ti:tf:nprt], '.', ms = 2)\n",
    "plt.title('cumulative mass balance', fontsize = 10)\n",
    "plt.xlabel('time (s)'); plt.ylabel('volume (m$^3$)');\n",
    "plt.xlim([ta[ti], ta[tf]])\n",
    "plt.suptitle('{0}'.format(fmtstr  ))\n",
    "f.savefig('plots/dV {0}.pdf'.format(fmtstr))"
   ]
  },
  {
   "cell_type": "code",
   "execution_count": null,
   "metadata": {
    "collapsed": true,
    "scrolled": false
   },
   "outputs": [],
   "source": [
    "def allfluxes():\n",
    "    flux1 = [];\n",
    "    flux2 = [];\n",
    "    flux3 = [];\n",
    "    flux4 = [];    \n",
    "    f = open(\"output/allfluxes.out\", 'r'); \n",
    "    for line in f:\n",
    "        a = (line.strip().split(\" \"))\n",
    "        a = [myfloat(b) for b in a if b]\n",
    "        flux1.append(a[0])\n",
    "        flux2.append(a[1])\n",
    "        flux3.append(a[2])\n",
    "        flux4.append(a[3])\n",
    "    flux1 = np.array(flux1)\n",
    "    flux2 = np.array(flux2)\n",
    "    flux3 = np.array(flux3)\n",
    "    flux4 = np.array(flux4)    \n",
    "    return flux1, flux2, flux3, flux4"
   ]
  },
  {
   "cell_type": "code",
   "execution_count": null,
   "metadata": {
    "collapsed": false,
    "scrolled": false
   },
   "outputs": [],
   "source": [
    "flux1, flux2, flux3, flux4 = allfluxes()"
   ]
  },
  {
   "cell_type": "code",
   "execution_count": null,
   "metadata": {
    "code_folding": [],
    "collapsed": false
   },
   "outputs": [],
   "source": [
    "## all fluxes\n",
    "# precip - positive, infl - negative\n",
    "ta, dvol, flux, infl, dts, total  = get_dvol('output/dvol.out')\n",
    "\n",
    "ti =1; tf = len(ta)+1;  nprt = 1\n",
    "\n",
    "f = plt.figure(figsize= (7.5, 3))\n",
    "plt.plot(ta[ti:tf:nprt], dvol[ti:tf:nprt]/dts[ti:tf:nprt], '.', ms = 1, label = 'dV')\n",
    "plt.plot(ta[ti:tf:nprt], flux[ti:tf:nprt]/dts[ti:tf:nprt],'.', ms = 1, label = 'fluxes')\n",
    "plt.plot(ta[ti:tf:nprt], infl[ti:tf:nprt]/dts[ti:tf:nprt],'.', ms = 1, label = 'infl+precip')\n",
    "plt.title('Time step flux components ', fontsize = 11)\n",
    "plt.ylabel('volume (m$^3$)')\n",
    "plt.legend(loc = 'best', fontsize= 11)\n",
    "\n",
    "f = plt.figure(figsize= (7.5, 3))\n",
    "plt.plot(ta[ti:tf:nprt], np.cumsum(dvol)[ti:tf:nprt], '.', ms = 1, label = 'volume')\n",
    "plt.plot(ta[ti:tf:nprt], np.cumsum(flux)[ti:tf:nprt], '.', ms = 1, label = 'fluxes')\n",
    "plt.plot(ta[ti:tf:nprt], np.cumsum(infl)[ti:tf:nprt], '-', ms = 1, label = 'infl +precip')\n",
    "plt.legend(loc = 'best', fontsize= 11)\n",
    "plt.title('cumulative flux components', fontsize = 11)\n",
    "plt.ylabel('volume (m$^3$)'); plt.xlabel('time (s)')\n",
    "f.savefig('plots/fluxes {0}.pdf'.format(fmtstr))"
   ]
  },
  {
   "cell_type": "code",
   "execution_count": null,
   "metadata": {
    "collapsed": false,
    "scrolled": true
   },
   "outputs": [],
   "source": [
    "flux1 = []\n",
    "# ts = []\n",
    "fdum = np.zeros([95 ]) \n",
    "\n",
    "for line in open(\"output/fluxes.out\", 'r'):\n",
    "    a = (line.strip().split(\" \"))\n",
    "    try:\n",
    "        a = [str(b) for b in a if b]        \n",
    "        j = int(a[0])\n",
    "        k = int(a[1])\n",
    "        fdum[j] = a[2]   \n",
    "    except ValueError:\n",
    "        dumt = int(a[0])\n",
    "#       ts.append(float(a[1]))\n",
    "        flux1.append(fdum.copy())\n",
    "        fdum = np.zeros([95 ]) \n",
    "flux1 = np.array(flux1)\n",
    "nfstep = len(flux1)      "
   ]
  },
  {
   "cell_type": "code",
   "execution_count": null,
   "metadata": {
    "collapsed": false,
    "scrolled": false
   },
   "outputs": [],
   "source": [
    "#  check influx again?\n",
    "fig = plt.figure()\n",
    "plt.plot(t,flux1.sum(1), '.', ms = 3)\n",
    "plt.title('Flux out; {0}'.format( fmtstr))\n",
    "plt.xlabel('time'); plt.ylabel('m')\n",
    "fig.savefig('plots/outflux_{0}.pdf'.format(fmtstr))"
   ]
  },
  {
   "cell_type": "code",
   "execution_count": 26,
   "metadata": {
    "collapsed": false,
    "scrolled": false
   },
   "outputs": [],
   "source": [
    "# f = open('total_fluxes.out\\n', 'a')\n",
    "# f.write('cumulative infiltration = {0}\\n'.format(np.cumsum(infl)[-1]))\n",
    "# f.write('cumulative volume change = {0}\\n'.format(np.cumsum(dvol)[-1]))\n",
    "# f.write('cumulative volume change = {0}\\n'.format(-np.cumsum(flux)[-1]))\n",
    "# f.close()"
   ]
  }
 ],
 "metadata": {
  "anaconda-cloud": {},
  "kernelspec": {
   "display_name": "Python [default]",
   "language": "python",
   "name": "python2"
  },
  "language_info": {
   "codemirror_mode": {
    "name": "ipython",
    "version": 2
   },
   "file_extension": ".py",
   "mimetype": "text/x-python",
   "name": "python",
   "nbconvert_exporter": "python",
   "pygments_lexer": "ipython2",
   "version": "2.7.12"
  }
 },
 "nbformat": 4,
 "nbformat_minor": 0
}
