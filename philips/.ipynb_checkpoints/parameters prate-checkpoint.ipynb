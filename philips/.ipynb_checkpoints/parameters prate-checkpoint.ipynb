{
 "cells": [
  {
   "cell_type": "code",
   "execution_count": 1,
   "metadata": {
    "collapsed": true,
    "scrolled": false
   },
   "outputs": [],
   "source": [
    "%matplotlib inline"
   ]
  },
  {
   "cell_type": "code",
   "execution_count": 2,
   "metadata": {
    "code_folding": [],
    "collapsed": false,
    "scrolled": false
   },
   "outputs": [],
   "source": [
    "# load packages\n",
    "import matplotlib.pylab as plt\n",
    "import numpy as np\n",
    "import time\n",
    "def myfloat(b):\n",
    "    try: \n",
    "        b = float(b)\n",
    "    except ValueError:\n",
    "        b = [b for b in b.split('-').split('+') if b]\n",
    "        b = float(b[0])*10**(-float(b[1]))\n",
    "    return b\n"
   ]
  },
  {
   "cell_type": "code",
   "execution_count": 5,
   "metadata": {
    "collapsed": false
   },
   "outputs": [],
   "source": [
    "ncol = 20\n",
    "nrow = 100\n",
    "tmax = 100.\n",
    "dt = .05\n",
    "nprt =  int(tmax/100/dt)\n",
    "slope = 30.\n",
    "epsh = 0.005\n",
    "dx = .1\n",
    "hinit = 0\n",
    "prate  = 0.07/3600.\n",
    "xni = 0.03  # interspace roughness\n",
    "ksati =  0.0 #0.019/3600.  # interspace ksat\n",
    "Soi = .0   # interspace sorptivity (m/s)"
   ]
  },
  {
   "cell_type": "code",
   "execution_count": 6,
   "metadata": {
    "code_folding": [
     0
    ],
    "collapsed": false
   },
   "outputs": [],
   "source": [
    "def write_coords(fname = 'coords', ncol = ncol, nrow = nrow, dx = dx, \n",
    "                 slope = slope, xni = xni, ksati = ksati, Soi = Soi):        \n",
    "    npt = (ncol+1)*(nrow+1)  # number of points\n",
    "    ne = nrow*ncol  # number of edges\n",
    "    nbcell = 2*ncol + 2*nrow - 4  # number of boundary cells\n",
    "\n",
    "    xdum = np.arange(1, (ncol+1)*dx+1 - 1e-10, dx )\n",
    "    ydum = np.arange(1, (nrow+1)*dx+1 - 1e-10, dx )\n",
    "    ydum, xdum = np.meshgrid(ydum, xdum)\n",
    "\n",
    "    zmax = slope/100.*(np.max(ydum) - np.min(ydum))\n",
    "    zdum = np.linspace(0, zmax, nrow+1)\n",
    "    zdum = np.tile(zdum, [ncol+1]).reshape([ncol+1, nrow+1])\n",
    "    \n",
    "    xndum = np.ones_like(zdum)*xni    \n",
    "    # xndum[:, :40]  = 0.1\n",
    "    \n",
    "    ksat_dum = np.ones_like(zdum)*ksati    \n",
    "    Sodum = np.ones_like(zdum)*Soi    \n",
    "    \n",
    "    x = np.zeros(npt + 1)\n",
    "    y = np.zeros(npt + 1)\n",
    "    z = np.zeros(npt + 1)\n",
    "    xn = np.zeros(npt + 1)\n",
    "    satk = np.zeros(npt + 1)\n",
    "    So = np.zeros(npt + 1)\n",
    "    x[1:] = xdum.ravel()\n",
    "    y[1:] = ydum.ravel()\n",
    "    z[1:] = zdum.ravel()\n",
    "    xn[1:] = xndum.ravel()\n",
    "    satk[1:] = ksat_dum.ravel()\n",
    "    So[1:] = Sodum.ravel()\n",
    "\n",
    "    # print (np.max(zdum) - np.min(zdum))/(np.max(ydum) - np.min(ydum))*100\n",
    "    # (ncol+1) by (nrow+1)  -  node numbers\n",
    "    nodes = np.arange(1, npt+1, dtype = int).reshape([ncol+1, nrow+1])\n",
    "\n",
    "    nop = np.zeros([ncol+1, nrow+1, 4], dtype = int)\n",
    "    for j in range(ncol):\n",
    "        for k in range(nrow):\n",
    "            nop[j+1, k+1] =  nodes[j,k], nodes[j+1, k], nodes[j+1,k+1], nodes[j,k+1]\n",
    "            \n",
    "    f = open(fname, 'w')\n",
    "    f.write('{0:<13}   {1:<13}\\n'.format(npt, ne))\n",
    "\n",
    "    # write x, y, z\n",
    "    for n in range(1, npt+1):\n",
    "        f.write('{0:<13.6f} {1:<13.6f} {2:<13.6f} {3:<13.6e} {4:<13.6e} {5:<13.6e} \\n'.format(\n",
    "                    x[n],y[n],z[n],xn[n],satk[n],So[n])) \n",
    "\n",
    "    # write node numbers  \n",
    "    for j in range(1, ncol+1):\n",
    "        for k in range(1, nrow+1):\n",
    "            n1 = nop[j, k, 0] \n",
    "            n2 = nop[j, k, 1]       \n",
    "            n3 = nop[j, k, 2]        \n",
    "            n4 = nop[j, k, 3] \n",
    "            f.write('{0:<10} {1:<10}  {2:<10} {3:<10}\\n'.format(n1, n2, n3, n4)) \n",
    "    f.close()  \n",
    "\n",
    "    # get cell center values:\n",
    "    xcc  = np.zeros([ncol+2, nrow+2])    \n",
    "    ycc  = np.zeros([ncol+2, nrow+2])\n",
    "    zcc  = np.zeros([ncol+2, nrow+2])\n",
    "    xncc  = np.zeros([ncol+2, nrow+2])\n",
    "    satkc = np.zeros([ncol+2, nrow+2])\n",
    "    Soc = np.zeros([ncol+2, nrow+2])    \n",
    "    for j in range(1, ncol+1):\n",
    "        for k in range(1, nrow+1):\n",
    "            n1 = nop[j, k, 0] \n",
    "            n2 = nop[j, k, 1]       \n",
    "            n3 = nop[j, k, 2]        \n",
    "            n4 = nop[j, k, 3]  \n",
    "            xcc[j,k] = 0.25*(x[n1] + x[n2] + x[n3] + x[n4])  \n",
    "            ycc[j,k] = 0.25*(y[n1] + y[n2] + y[n3] + y[n4])\n",
    "            zcc[j,k] = 0.25*(z[n1] + z[n2] + z[n3] + z[n4])   \n",
    "            xncc[j,k] = 0.25*(xn[n1] + xn[n2] + xn[n3] + xn[n4])   \n",
    "            satkc[j,k] = 0.25*(satk[n1] + satk[n2] + satk[n3] + satk[n4])   \n",
    "            Soc[j,k] = 0.25*(So[n1] + So[n2] + So[n3] + So[n4])   \n",
    "    return  nop, x, y, z, xcc, ycc, zcc, xncc, satk, Soc\n"
   ]
  },
  {
   "cell_type": "code",
   "execution_count": 7,
   "metadata": {
    "code_folding": [
     0
    ],
    "collapsed": false
   },
   "outputs": [],
   "source": [
    "def write_dryin(fname = 'dryin.dat', ncol = ncol, nrow = nrow, dt = dt, \n",
    "                 tmax = tmax, prate = prate, nprt = nprt, epsh = epsh,\n",
    "                 hinit = hinit):\n",
    "    inum = np.zeros([ncol+1, nrow+1], dtype = int)\n",
    "    inum[1:, 1] = 1\n",
    "    inum[1:, -1]= 1\n",
    "    inum[1, 1:] = 1\n",
    "    inum[-1, 1:] = 1\n",
    "    inum[1, 1] = 2\n",
    "    inum[1, -1] = 2\n",
    "    inum[-1, -1] = 2\n",
    "    inum[-1, 1] = 2\n",
    "    \n",
    "    ipos = np.zeros( [ncol+1, nrow+1, 2], dtype = int)\n",
    "    # bottom boundary\n",
    "    ipos[2:-1, 1,0] = 1\n",
    "    ipos[1, 1,1] = 1\n",
    "    ipos[-1, 1,1] = 1\n",
    "\n",
    "    # right boundary\n",
    "    ipos[-1, 1:-1, 0] = 2\n",
    "    ipos[-1, -1,1] = 2\n",
    "\n",
    "    # left boundary\n",
    "    ipos[1, 1:, 0] = 4\n",
    "\n",
    "    # top boundary\n",
    "    ipos[2:, -1,0] = 3\n",
    "    ipos[1, -1,1] = 3\n",
    "    \n",
    "    itype = np.zeros([ncol+1, nrow+1, 2], dtype = int)\n",
    "    # bottom boundary\n",
    "    itype[2:-1, 1,0] = 0\n",
    "    itype[1, 1,1] = 0\n",
    "    itype[-1, 1,1] = 0\n",
    "\n",
    "    # right boundary\n",
    "    itype[-1, 1:-1, 0] = 1\n",
    "    itype[-1, -1,1] = 1\n",
    "\n",
    "    # left boundary\n",
    "    itype[1, 1:,0] = 1\n",
    "\n",
    "    # top boundary\n",
    "    itype[2:, -1,0] = 1\n",
    "    itype[1, -1,1] = 1\n",
    "    \n",
    "    npt = (ncol+1)*(nrow+1)  # number of points\n",
    "    ne = nrow*ncol  # number of edges\n",
    "    nbcell = 2*ncol + 2*nrow - 4  # number of boundary cells\n",
    "\n",
    "    f = open(fname, 'w')\n",
    "    f.write('gravity     dt        tmax      xsplit   \\n')\n",
    "    f.write('9.806d0     {0}       {1}     100.d0   \\n'.format(dt, tmax))\n",
    "    f.write(' epsh        beta       prate \\n')  \n",
    "    f.write('{0}d0     2.d0       {1:6e}  \\n'.format(epsh, prate))\n",
    "    #     f.write('0.0025d0    2.d0   {0}d0 \\n'.format(prate))\n",
    "    f.write('xk          ainflt       binflt           tc           cappa \\n')\n",
    "    # xk = 3.9217d-4\n",
    "    f.write('3.9217d-4   0.5d0       2.65d-7          0.d0        0.99d0 \\n')\n",
    "    f.write('istart     imass      ifront         print interval  \\n')\n",
    "    f.write(' 0         1          1               {0} \\n'.format(nprt))\n",
    "    f.write('number of boundary cell \\n') \n",
    "    f.write('  {0} \\n'.format(nbcell))\n",
    "    f.write(' j    k          inum    itype             ipos \\n')\n",
    "    # f.write(' j \\t k \\tinum    itype \\t\\t ipos')\n",
    "    j = 1\n",
    "    for k in range(1, nrow+1):\n",
    "        if inum[j, k] == 2:\n",
    "            f.write( '{0:<5} {1:<13} {2:<7} {3:<8} {4:<9} {5:<8} {6:<6} \\n'.format(\n",
    "                        j, k, inum[j, k], itype[j, k, 0], itype[j, k, 1], \n",
    "                         ipos[j, k, 0], ipos[j, k, 1]))\n",
    "        else:\n",
    "            f.write( '{0:<5} {1:<13} {2:<7} {3:<18} {4:<10}   \\n'.format(\n",
    "                         j, k, inum[j, k],  itype[j, k, 0],  ipos[j, k, 0], ))\n",
    "\n",
    "    for j in range(2, ncol+1):\n",
    "        if inum[j, k] == 2:\n",
    "            f.write( '{0:<5} {1:<13} {2:<7} {3:<8} {4:<9} {5:<8} {6:<6} \\n'.format(\n",
    "                        j, k, inum[j, k], itype[j, k, 0], itype[j, k, 1], \n",
    "                         ipos[j, k, 0], ipos[j, k, 1]))\n",
    "        else:\n",
    "            f.write( '{0:<5} {1:<13} {2:<7} {3:<18} {4:<10}   \\n'.format(\n",
    "                         j, k, inum[j, k],  itype[j, k, 0],  ipos[j, k, 0], ))\n",
    "\n",
    "    for k in range(nrow-1,0,-1):\n",
    "        if inum[j, k] == 2:\n",
    "            f.write( '{0:<5} {1:<13} {2:<7} {3:<8} {4:<9} {5:<8} {6:<6} \\n'.format(\n",
    "                        j, k, inum[j, k], itype[j, k, 0], itype[j, k, 1], \n",
    "                         ipos[j, k, 0], ipos[j, k, 1]))\n",
    "        else:\n",
    "            f.write( '{0:<5} {1:<13} {2:<7} {3:<18} {4:<10}   \\n'.format(\n",
    "                         j, k, inum[j, k],  itype[j, k, 0],  ipos[j, k, 0], ))\n",
    "            \n",
    "    for j in range(ncol-1,1,-1):\n",
    "        if inum[j, k] == 2:\n",
    "            f.write( '{0:<5} {1:<13} {2:<7} {3:<8} {4:<9} {5:<8} {6:<6} \\n'.format(\n",
    "                        j, k, inum[j, k], itype[j, k, 0], itype[j, k, 1], \n",
    "                         ipos[j, k, 0], ipos[j, k, 1]))\n",
    "        else:\n",
    "            f.write( '{0:<5} {1:<13} {2:<7} {3:<18} {4:<10}   \\n'.format(\n",
    "                         j, k, inum[j, k],  itype[j, k, 0],  ipos[j, k, 0], ))\n",
    "\n",
    "    kbeg = np.ones(ncol+1, dtype = int)\n",
    "    kend = np.ones(ncol+1, dtype = int)*nrow\n",
    "   \n",
    "    f.write('ncol\\n')\n",
    "    f.write(\"{0}\\n\".format(ncol))\n",
    "    f.write('j     kbeg          kend \\n')\n",
    "    for j in range(1, ncol+1):\n",
    "        f.write( '{0:>5}  {1:>5} {2:>13}   \\n'.format(\n",
    "                    j, kbeg[j],kend[k] ))\n",
    "\n",
    "    f.write('h0l      u0l    v0l   \\n ')\n",
    "    f.write('{0}d0     0.0    0.0  \\n '.format(hinit))\n",
    "    f.write('h0r      u0r    v0r  \\n ')\n",
    "    f.write('{0}d0     0.0    0.0  \\n '.format(hinit))\n",
    "    f.close()\n",
    "    return inum, ipos, itype"
   ]
  },
  {
   "cell_type": "code",
   "execution_count": 8,
   "metadata": {
    "collapsed": false
   },
   "outputs": [
    {
     "data": {
      "text/plain": [
       "''"
      ]
     },
     "execution_count": 8,
     "metadata": {},
     "output_type": "execute_result"
    }
   ],
   "source": [
    "from commands import getoutput as cmd\n",
    "cmd(\"gfortran dryt.for\")"
   ]
  },
  {
   "cell_type": "code",
   "execution_count": 18,
   "metadata": {
    "collapsed": false
   },
   "outputs": [
    {
     "name": "stdout",
     "output_type": "stream",
     "text": [
      "100.05 100.05 100.05 100.05\n"
     ]
    }
   ],
   "source": [
    "tmax = 100.\n",
    "\n",
    "prates  = [0.01/3600, 0.03/3600, 0.07/3600, 0.10/3600]\n",
    "\n",
    "tmaxes = []\n",
    "cfls = []\n",
    "runtimes = []\n",
    "\n",
    "for p, prate in enumerate(prates):\n",
    "    start_time = time.time()\n",
    "    inum, ipos, itype = write_dryin(fname = 'dryin.dat', \n",
    "                                    epsh = epsh, hinit = .001)\n",
    "    nop, x, y, z, xc, yc, zc, xnc, satkc, Soc = write_coords(\n",
    "        fname='coords', slope = slope)\n",
    "    a = cmd(\"./a.out\")\n",
    "    t = []\n",
    "    f =  open(\"output/time.out\", 'r')\n",
    "    f.next()\n",
    "    for line in f:\n",
    "        a = (line.strip().split(\" \"))\n",
    "        a = [b for b in a if b]\n",
    "        t.append(float(a[0]))\n",
    "\n",
    "    tmaxes.append(t[-1])\n",
    "    \n",
    "    f =  open(\"output/cfl.out\", 'r')\n",
    "    cfl = []\n",
    "    ta = []\n",
    "    for line in f:\n",
    "        a = line.strip().split(\" \")\n",
    "        a = [np.float(b) for b in a if b]\n",
    "        ta.append(a[0])\n",
    "        cfl.append(a[1])\n",
    "\n",
    "    cfls.append(np.max(np.array(cfl)))\n",
    "    runtimes.append( (time.time() - start_time))\n",
    "    print t[-1], "
   ]
  },
  {
   "cell_type": "code",
   "execution_count": 19,
   "metadata": {
    "collapsed": false
   },
   "outputs": [],
   "source": [
    "import pandas as pd\n",
    "cols = pd.Series(['{0:.2f} '.format(dum*3600) for dum in prates], name = 'prate')\n",
    "\n",
    "df = pd.DataFrame({'tmax': ['{0:.1f}'.format(dum) for dum in tmaxes],  \n",
    "              'runtime': ['{0:.2f}'.format(dum) for dum in runtimes],\n",
    "              'CFL': ['{0:.2f}'.format(dum) for dum in cfls]},\n",
    "               index = cols).T"
   ]
  },
  {
   "cell_type": "code",
   "execution_count": 21,
   "metadata": {
    "collapsed": false
   },
   "outputs": [
    {
     "name": "stdout",
     "output_type": "stream",
     "text": [
      "slope=30.00 prate=2.8e-03 dx=0.1 dt=0.05 xn=0.03\n"
     ]
    },
    {
     "data": {
      "text/html": [
       "<div>\n",
       "<table border=\"1\" class=\"dataframe\">\n",
       "  <thead>\n",
       "    <tr style=\"text-align: right;\">\n",
       "      <th>prate</th>\n",
       "      <th>0.01</th>\n",
       "      <th>0.03</th>\n",
       "      <th>0.07</th>\n",
       "      <th>0.10</th>\n",
       "    </tr>\n",
       "  </thead>\n",
       "  <tbody>\n",
       "    <tr>\n",
       "      <th>CFL</th>\n",
       "      <td>0.08</td>\n",
       "      <td>0.08</td>\n",
       "      <td>0.08</td>\n",
       "      <td>0.08</td>\n",
       "    </tr>\n",
       "    <tr>\n",
       "      <th>runtime</th>\n",
       "      <td>2.78</td>\n",
       "      <td>2.88</td>\n",
       "      <td>2.88</td>\n",
       "      <td>2.73</td>\n",
       "    </tr>\n",
       "    <tr>\n",
       "      <th>tmax</th>\n",
       "      <td>100.0</td>\n",
       "      <td>100.0</td>\n",
       "      <td>100.0</td>\n",
       "      <td>100.0</td>\n",
       "    </tr>\n",
       "  </tbody>\n",
       "</table>\n",
       "</div>"
      ],
      "text/plain": [
       "prate    0.01   0.03   0.07   0.10 \n",
       "CFL       0.08   0.08   0.08   0.08\n",
       "runtime   2.78   2.88   2.88   2.73\n",
       "tmax     100.0  100.0  100.0  100.0"
      ]
     },
     "execution_count": 21,
     "metadata": {},
     "output_type": "execute_result"
    }
   ],
   "source": [
    "fldrstr = \"slope={1:.2f} prate={2:.1e} dx={3:.1} dt={0:.2f}\".format( dt, slope,prate*100, dx)\n",
    "fmtstr = \"xn={1}\".format( epsh, xni)\n",
    "print  fldrstr, fmtstr\n",
    "df"
   ]
  },
  {
   "cell_type": "code",
   "execution_count": null,
   "metadata": {
    "collapsed": true
   },
   "outputs": [],
   "source": []
  }
 ],
 "metadata": {
  "anaconda-cloud": {},
  "kernelspec": {
   "display_name": "Python [default]",
   "language": "python",
   "name": "python2"
  },
  "language_info": {
   "codemirror_mode": {
    "name": "ipython",
    "version": 2
   },
   "file_extension": ".py",
   "mimetype": "text/x-python",
   "name": "python",
   "nbconvert_exporter": "python",
   "pygments_lexer": "ipython2",
   "version": "2.7.12"
  }
 },
 "nbformat": 4,
 "nbformat_minor": 0
}
